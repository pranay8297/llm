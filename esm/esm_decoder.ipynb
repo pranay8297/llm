{
  "nbformat": 4,
  "nbformat_minor": 0,
  "metadata": {
    "colab": {
      "provenance": [],
      "collapsed_sections": [
        "_K1abCY5l_W3",
        "YH9JZxpwoP9l"
      ],
      "machine_shape": "hm",
      "gpuType": "T4",
      "authorship_tag": "ABX9TyPMbuBQjPAz/HOsO/AWyaMM",
      "include_colab_link": true
    },
    "kernelspec": {
      "name": "python3",
      "display_name": "Python 3"
    },
    "language_info": {
      "name": "python"
    },
    "widgets": {
      "application/vnd.jupyter.widget-state+json": {
        "9e5be38da76d4a4d958c1408fe05a398": {
          "model_module": "@jupyter-widgets/controls",
          "model_name": "VBoxModel",
          "model_module_version": "1.5.0",
          "state": {
            "_dom_classes": [],
            "_model_module": "@jupyter-widgets/controls",
            "_model_module_version": "1.5.0",
            "_model_name": "VBoxModel",
            "_view_count": null,
            "_view_module": "@jupyter-widgets/controls",
            "_view_module_version": "1.5.0",
            "_view_name": "VBoxView",
            "box_style": "",
            "children": [
              "IPY_MODEL_9f8761045ab445c8bd2238dd67a87d55",
              "IPY_MODEL_98cb79109b004306b081e9fd5d344e86",
              "IPY_MODEL_4c9c6d2a051a45ffb4cc0a215730a65c",
              "IPY_MODEL_ac6410438b1c47d9938558095b4d76da"
            ],
            "layout": "IPY_MODEL_ed33d5a063954c67b6f9ccc586612987"
          }
        },
        "88accbab8e1641e38253a937c6baa3f6": {
          "model_module": "@jupyter-widgets/controls",
          "model_name": "HTMLModel",
          "model_module_version": "1.5.0",
          "state": {
            "_dom_classes": [],
            "_model_module": "@jupyter-widgets/controls",
            "_model_module_version": "1.5.0",
            "_model_name": "HTMLModel",
            "_view_count": null,
            "_view_module": "@jupyter-widgets/controls",
            "_view_module_version": "1.5.0",
            "_view_name": "HTMLView",
            "description": "",
            "description_tooltip": null,
            "layout": "IPY_MODEL_df18ee117eb145f3b67d12e0be3a5ce7",
            "placeholder": "​",
            "style": "IPY_MODEL_e92c80b2a74e44cb8b07eef84c3dcc68",
            "value": "<center> <img\nsrc=https://huggingface.co/front/assets/huggingface_logo-noborder.svg\nalt='Hugging Face'> <br> Copy a token from <a\nhref=\"https://huggingface.co/settings/tokens\" target=\"_blank\">your Hugging Face\ntokens page</a> and paste it below. <br> Immediately click login after copying\nyour token or it might be stored in plain text in this notebook file. </center>"
          }
        },
        "3d02153dc6da4ca0bb0679bb0abab91a": {
          "model_module": "@jupyter-widgets/controls",
          "model_name": "PasswordModel",
          "model_module_version": "1.5.0",
          "state": {
            "_dom_classes": [],
            "_model_module": "@jupyter-widgets/controls",
            "_model_module_version": "1.5.0",
            "_model_name": "PasswordModel",
            "_view_count": null,
            "_view_module": "@jupyter-widgets/controls",
            "_view_module_version": "1.5.0",
            "_view_name": "PasswordView",
            "continuous_update": true,
            "description": "Token:",
            "description_tooltip": null,
            "disabled": false,
            "layout": "IPY_MODEL_640a45533e764c70bd1ca66810baf33b",
            "placeholder": "​",
            "style": "IPY_MODEL_3109124d1f1947b8b5861cc0cacfca7b",
            "value": ""
          }
        },
        "97a1ab6d0117438388b6136440836dc1": {
          "model_module": "@jupyter-widgets/controls",
          "model_name": "CheckboxModel",
          "model_module_version": "1.5.0",
          "state": {
            "_dom_classes": [],
            "_model_module": "@jupyter-widgets/controls",
            "_model_module_version": "1.5.0",
            "_model_name": "CheckboxModel",
            "_view_count": null,
            "_view_module": "@jupyter-widgets/controls",
            "_view_module_version": "1.5.0",
            "_view_name": "CheckboxView",
            "description": "Add token as git credential?",
            "description_tooltip": null,
            "disabled": false,
            "indent": true,
            "layout": "IPY_MODEL_b24f9b74ca1b4c7d804a0ddbed4834f5",
            "style": "IPY_MODEL_e0136850593942898edf1f4bbf181245",
            "value": true
          }
        },
        "e3a9b2c42ed441c3a3258a5651442239": {
          "model_module": "@jupyter-widgets/controls",
          "model_name": "ButtonModel",
          "model_module_version": "1.5.0",
          "state": {
            "_dom_classes": [],
            "_model_module": "@jupyter-widgets/controls",
            "_model_module_version": "1.5.0",
            "_model_name": "ButtonModel",
            "_view_count": null,
            "_view_module": "@jupyter-widgets/controls",
            "_view_module_version": "1.5.0",
            "_view_name": "ButtonView",
            "button_style": "",
            "description": "Login",
            "disabled": false,
            "icon": "",
            "layout": "IPY_MODEL_dab0935474884fd3908a8f24fc97430c",
            "style": "IPY_MODEL_228be51e933e405491a6afd80f4e32de",
            "tooltip": ""
          }
        },
        "f4b282e072344952bf4e8e0c8ed19a7d": {
          "model_module": "@jupyter-widgets/controls",
          "model_name": "HTMLModel",
          "model_module_version": "1.5.0",
          "state": {
            "_dom_classes": [],
            "_model_module": "@jupyter-widgets/controls",
            "_model_module_version": "1.5.0",
            "_model_name": "HTMLModel",
            "_view_count": null,
            "_view_module": "@jupyter-widgets/controls",
            "_view_module_version": "1.5.0",
            "_view_name": "HTMLView",
            "description": "",
            "description_tooltip": null,
            "layout": "IPY_MODEL_50e2d6f860594fc9a947ea306aa5b203",
            "placeholder": "​",
            "style": "IPY_MODEL_c3c7481c56894711915b26a43594f82b",
            "value": "\n<b>Pro Tip:</b> If you don't already have one, you can create a dedicated\n'notebooks' token with 'write' access, that you can then easily reuse for all\nnotebooks. </center>"
          }
        },
        "ed33d5a063954c67b6f9ccc586612987": {
          "model_module": "@jupyter-widgets/base",
          "model_name": "LayoutModel",
          "model_module_version": "1.2.0",
          "state": {
            "_model_module": "@jupyter-widgets/base",
            "_model_module_version": "1.2.0",
            "_model_name": "LayoutModel",
            "_view_count": null,
            "_view_module": "@jupyter-widgets/base",
            "_view_module_version": "1.2.0",
            "_view_name": "LayoutView",
            "align_content": null,
            "align_items": "center",
            "align_self": null,
            "border": null,
            "bottom": null,
            "display": "flex",
            "flex": null,
            "flex_flow": "column",
            "grid_area": null,
            "grid_auto_columns": null,
            "grid_auto_flow": null,
            "grid_auto_rows": null,
            "grid_column": null,
            "grid_gap": null,
            "grid_row": null,
            "grid_template_areas": null,
            "grid_template_columns": null,
            "grid_template_rows": null,
            "height": null,
            "justify_content": null,
            "justify_items": null,
            "left": null,
            "margin": null,
            "max_height": null,
            "max_width": null,
            "min_height": null,
            "min_width": null,
            "object_fit": null,
            "object_position": null,
            "order": null,
            "overflow": null,
            "overflow_x": null,
            "overflow_y": null,
            "padding": null,
            "right": null,
            "top": null,
            "visibility": null,
            "width": "50%"
          }
        },
        "df18ee117eb145f3b67d12e0be3a5ce7": {
          "model_module": "@jupyter-widgets/base",
          "model_name": "LayoutModel",
          "model_module_version": "1.2.0",
          "state": {
            "_model_module": "@jupyter-widgets/base",
            "_model_module_version": "1.2.0",
            "_model_name": "LayoutModel",
            "_view_count": null,
            "_view_module": "@jupyter-widgets/base",
            "_view_module_version": "1.2.0",
            "_view_name": "LayoutView",
            "align_content": null,
            "align_items": null,
            "align_self": null,
            "border": null,
            "bottom": null,
            "display": null,
            "flex": null,
            "flex_flow": null,
            "grid_area": null,
            "grid_auto_columns": null,
            "grid_auto_flow": null,
            "grid_auto_rows": null,
            "grid_column": null,
            "grid_gap": null,
            "grid_row": null,
            "grid_template_areas": null,
            "grid_template_columns": null,
            "grid_template_rows": null,
            "height": null,
            "justify_content": null,
            "justify_items": null,
            "left": null,
            "margin": null,
            "max_height": null,
            "max_width": null,
            "min_height": null,
            "min_width": null,
            "object_fit": null,
            "object_position": null,
            "order": null,
            "overflow": null,
            "overflow_x": null,
            "overflow_y": null,
            "padding": null,
            "right": null,
            "top": null,
            "visibility": null,
            "width": null
          }
        },
        "e92c80b2a74e44cb8b07eef84c3dcc68": {
          "model_module": "@jupyter-widgets/controls",
          "model_name": "DescriptionStyleModel",
          "model_module_version": "1.5.0",
          "state": {
            "_model_module": "@jupyter-widgets/controls",
            "_model_module_version": "1.5.0",
            "_model_name": "DescriptionStyleModel",
            "_view_count": null,
            "_view_module": "@jupyter-widgets/base",
            "_view_module_version": "1.2.0",
            "_view_name": "StyleView",
            "description_width": ""
          }
        },
        "640a45533e764c70bd1ca66810baf33b": {
          "model_module": "@jupyter-widgets/base",
          "model_name": "LayoutModel",
          "model_module_version": "1.2.0",
          "state": {
            "_model_module": "@jupyter-widgets/base",
            "_model_module_version": "1.2.0",
            "_model_name": "LayoutModel",
            "_view_count": null,
            "_view_module": "@jupyter-widgets/base",
            "_view_module_version": "1.2.0",
            "_view_name": "LayoutView",
            "align_content": null,
            "align_items": null,
            "align_self": null,
            "border": null,
            "bottom": null,
            "display": null,
            "flex": null,
            "flex_flow": null,
            "grid_area": null,
            "grid_auto_columns": null,
            "grid_auto_flow": null,
            "grid_auto_rows": null,
            "grid_column": null,
            "grid_gap": null,
            "grid_row": null,
            "grid_template_areas": null,
            "grid_template_columns": null,
            "grid_template_rows": null,
            "height": null,
            "justify_content": null,
            "justify_items": null,
            "left": null,
            "margin": null,
            "max_height": null,
            "max_width": null,
            "min_height": null,
            "min_width": null,
            "object_fit": null,
            "object_position": null,
            "order": null,
            "overflow": null,
            "overflow_x": null,
            "overflow_y": null,
            "padding": null,
            "right": null,
            "top": null,
            "visibility": null,
            "width": null
          }
        },
        "3109124d1f1947b8b5861cc0cacfca7b": {
          "model_module": "@jupyter-widgets/controls",
          "model_name": "DescriptionStyleModel",
          "model_module_version": "1.5.0",
          "state": {
            "_model_module": "@jupyter-widgets/controls",
            "_model_module_version": "1.5.0",
            "_model_name": "DescriptionStyleModel",
            "_view_count": null,
            "_view_module": "@jupyter-widgets/base",
            "_view_module_version": "1.2.0",
            "_view_name": "StyleView",
            "description_width": ""
          }
        },
        "b24f9b74ca1b4c7d804a0ddbed4834f5": {
          "model_module": "@jupyter-widgets/base",
          "model_name": "LayoutModel",
          "model_module_version": "1.2.0",
          "state": {
            "_model_module": "@jupyter-widgets/base",
            "_model_module_version": "1.2.0",
            "_model_name": "LayoutModel",
            "_view_count": null,
            "_view_module": "@jupyter-widgets/base",
            "_view_module_version": "1.2.0",
            "_view_name": "LayoutView",
            "align_content": null,
            "align_items": null,
            "align_self": null,
            "border": null,
            "bottom": null,
            "display": null,
            "flex": null,
            "flex_flow": null,
            "grid_area": null,
            "grid_auto_columns": null,
            "grid_auto_flow": null,
            "grid_auto_rows": null,
            "grid_column": null,
            "grid_gap": null,
            "grid_row": null,
            "grid_template_areas": null,
            "grid_template_columns": null,
            "grid_template_rows": null,
            "height": null,
            "justify_content": null,
            "justify_items": null,
            "left": null,
            "margin": null,
            "max_height": null,
            "max_width": null,
            "min_height": null,
            "min_width": null,
            "object_fit": null,
            "object_position": null,
            "order": null,
            "overflow": null,
            "overflow_x": null,
            "overflow_y": null,
            "padding": null,
            "right": null,
            "top": null,
            "visibility": null,
            "width": null
          }
        },
        "e0136850593942898edf1f4bbf181245": {
          "model_module": "@jupyter-widgets/controls",
          "model_name": "DescriptionStyleModel",
          "model_module_version": "1.5.0",
          "state": {
            "_model_module": "@jupyter-widgets/controls",
            "_model_module_version": "1.5.0",
            "_model_name": "DescriptionStyleModel",
            "_view_count": null,
            "_view_module": "@jupyter-widgets/base",
            "_view_module_version": "1.2.0",
            "_view_name": "StyleView",
            "description_width": ""
          }
        },
        "dab0935474884fd3908a8f24fc97430c": {
          "model_module": "@jupyter-widgets/base",
          "model_name": "LayoutModel",
          "model_module_version": "1.2.0",
          "state": {
            "_model_module": "@jupyter-widgets/base",
            "_model_module_version": "1.2.0",
            "_model_name": "LayoutModel",
            "_view_count": null,
            "_view_module": "@jupyter-widgets/base",
            "_view_module_version": "1.2.0",
            "_view_name": "LayoutView",
            "align_content": null,
            "align_items": null,
            "align_self": null,
            "border": null,
            "bottom": null,
            "display": null,
            "flex": null,
            "flex_flow": null,
            "grid_area": null,
            "grid_auto_columns": null,
            "grid_auto_flow": null,
            "grid_auto_rows": null,
            "grid_column": null,
            "grid_gap": null,
            "grid_row": null,
            "grid_template_areas": null,
            "grid_template_columns": null,
            "grid_template_rows": null,
            "height": null,
            "justify_content": null,
            "justify_items": null,
            "left": null,
            "margin": null,
            "max_height": null,
            "max_width": null,
            "min_height": null,
            "min_width": null,
            "object_fit": null,
            "object_position": null,
            "order": null,
            "overflow": null,
            "overflow_x": null,
            "overflow_y": null,
            "padding": null,
            "right": null,
            "top": null,
            "visibility": null,
            "width": null
          }
        },
        "228be51e933e405491a6afd80f4e32de": {
          "model_module": "@jupyter-widgets/controls",
          "model_name": "ButtonStyleModel",
          "model_module_version": "1.5.0",
          "state": {
            "_model_module": "@jupyter-widgets/controls",
            "_model_module_version": "1.5.0",
            "_model_name": "ButtonStyleModel",
            "_view_count": null,
            "_view_module": "@jupyter-widgets/base",
            "_view_module_version": "1.2.0",
            "_view_name": "StyleView",
            "button_color": null,
            "font_weight": ""
          }
        },
        "50e2d6f860594fc9a947ea306aa5b203": {
          "model_module": "@jupyter-widgets/base",
          "model_name": "LayoutModel",
          "model_module_version": "1.2.0",
          "state": {
            "_model_module": "@jupyter-widgets/base",
            "_model_module_version": "1.2.0",
            "_model_name": "LayoutModel",
            "_view_count": null,
            "_view_module": "@jupyter-widgets/base",
            "_view_module_version": "1.2.0",
            "_view_name": "LayoutView",
            "align_content": null,
            "align_items": null,
            "align_self": null,
            "border": null,
            "bottom": null,
            "display": null,
            "flex": null,
            "flex_flow": null,
            "grid_area": null,
            "grid_auto_columns": null,
            "grid_auto_flow": null,
            "grid_auto_rows": null,
            "grid_column": null,
            "grid_gap": null,
            "grid_row": null,
            "grid_template_areas": null,
            "grid_template_columns": null,
            "grid_template_rows": null,
            "height": null,
            "justify_content": null,
            "justify_items": null,
            "left": null,
            "margin": null,
            "max_height": null,
            "max_width": null,
            "min_height": null,
            "min_width": null,
            "object_fit": null,
            "object_position": null,
            "order": null,
            "overflow": null,
            "overflow_x": null,
            "overflow_y": null,
            "padding": null,
            "right": null,
            "top": null,
            "visibility": null,
            "width": null
          }
        },
        "c3c7481c56894711915b26a43594f82b": {
          "model_module": "@jupyter-widgets/controls",
          "model_name": "DescriptionStyleModel",
          "model_module_version": "1.5.0",
          "state": {
            "_model_module": "@jupyter-widgets/controls",
            "_model_module_version": "1.5.0",
            "_model_name": "DescriptionStyleModel",
            "_view_count": null,
            "_view_module": "@jupyter-widgets/base",
            "_view_module_version": "1.2.0",
            "_view_name": "StyleView",
            "description_width": ""
          }
        },
        "ead5a2bfbb6a4927b525c3bf8d568543": {
          "model_module": "@jupyter-widgets/controls",
          "model_name": "LabelModel",
          "model_module_version": "1.5.0",
          "state": {
            "_dom_classes": [],
            "_model_module": "@jupyter-widgets/controls",
            "_model_module_version": "1.5.0",
            "_model_name": "LabelModel",
            "_view_count": null,
            "_view_module": "@jupyter-widgets/controls",
            "_view_module_version": "1.5.0",
            "_view_name": "LabelView",
            "description": "",
            "description_tooltip": null,
            "layout": "IPY_MODEL_e523f2b3d5d5429293455475a9ddb76e",
            "placeholder": "​",
            "style": "IPY_MODEL_64a6618b98be48ddbe890d9e0976b9cb",
            "value": "Connecting..."
          }
        },
        "e523f2b3d5d5429293455475a9ddb76e": {
          "model_module": "@jupyter-widgets/base",
          "model_name": "LayoutModel",
          "model_module_version": "1.2.0",
          "state": {
            "_model_module": "@jupyter-widgets/base",
            "_model_module_version": "1.2.0",
            "_model_name": "LayoutModel",
            "_view_count": null,
            "_view_module": "@jupyter-widgets/base",
            "_view_module_version": "1.2.0",
            "_view_name": "LayoutView",
            "align_content": null,
            "align_items": null,
            "align_self": null,
            "border": null,
            "bottom": null,
            "display": null,
            "flex": null,
            "flex_flow": null,
            "grid_area": null,
            "grid_auto_columns": null,
            "grid_auto_flow": null,
            "grid_auto_rows": null,
            "grid_column": null,
            "grid_gap": null,
            "grid_row": null,
            "grid_template_areas": null,
            "grid_template_columns": null,
            "grid_template_rows": null,
            "height": null,
            "justify_content": null,
            "justify_items": null,
            "left": null,
            "margin": null,
            "max_height": null,
            "max_width": null,
            "min_height": null,
            "min_width": null,
            "object_fit": null,
            "object_position": null,
            "order": null,
            "overflow": null,
            "overflow_x": null,
            "overflow_y": null,
            "padding": null,
            "right": null,
            "top": null,
            "visibility": null,
            "width": null
          }
        },
        "64a6618b98be48ddbe890d9e0976b9cb": {
          "model_module": "@jupyter-widgets/controls",
          "model_name": "DescriptionStyleModel",
          "model_module_version": "1.5.0",
          "state": {
            "_model_module": "@jupyter-widgets/controls",
            "_model_module_version": "1.5.0",
            "_model_name": "DescriptionStyleModel",
            "_view_count": null,
            "_view_module": "@jupyter-widgets/base",
            "_view_module_version": "1.2.0",
            "_view_name": "StyleView",
            "description_width": ""
          }
        },
        "9f8761045ab445c8bd2238dd67a87d55": {
          "model_module": "@jupyter-widgets/controls",
          "model_name": "LabelModel",
          "model_module_version": "1.5.0",
          "state": {
            "_dom_classes": [],
            "_model_module": "@jupyter-widgets/controls",
            "_model_module_version": "1.5.0",
            "_model_name": "LabelModel",
            "_view_count": null,
            "_view_module": "@jupyter-widgets/controls",
            "_view_module_version": "1.5.0",
            "_view_name": "LabelView",
            "description": "",
            "description_tooltip": null,
            "layout": "IPY_MODEL_86354de86a704feb80fca44525887251",
            "placeholder": "​",
            "style": "IPY_MODEL_ac76eb21e1b74a2bb474b29f0c82d722",
            "value": "Token is valid (permission: fineGrained)."
          }
        },
        "98cb79109b004306b081e9fd5d344e86": {
          "model_module": "@jupyter-widgets/controls",
          "model_name": "LabelModel",
          "model_module_version": "1.5.0",
          "state": {
            "_dom_classes": [],
            "_model_module": "@jupyter-widgets/controls",
            "_model_module_version": "1.5.0",
            "_model_name": "LabelModel",
            "_view_count": null,
            "_view_module": "@jupyter-widgets/controls",
            "_view_module_version": "1.5.0",
            "_view_name": "LabelView",
            "description": "",
            "description_tooltip": null,
            "layout": "IPY_MODEL_309cfe0c668f4ca39e09561064ed893a",
            "placeholder": "​",
            "style": "IPY_MODEL_95cedeb9516e407f855adce88c899dbd",
            "value": "Your token has been saved in your configured git credential helpers (store)."
          }
        },
        "4c9c6d2a051a45ffb4cc0a215730a65c": {
          "model_module": "@jupyter-widgets/controls",
          "model_name": "LabelModel",
          "model_module_version": "1.5.0",
          "state": {
            "_dom_classes": [],
            "_model_module": "@jupyter-widgets/controls",
            "_model_module_version": "1.5.0",
            "_model_name": "LabelModel",
            "_view_count": null,
            "_view_module": "@jupyter-widgets/controls",
            "_view_module_version": "1.5.0",
            "_view_name": "LabelView",
            "description": "",
            "description_tooltip": null,
            "layout": "IPY_MODEL_9eec0170c3f1414eb4aea755e79dd97b",
            "placeholder": "​",
            "style": "IPY_MODEL_730b2fcdc355498c9ea51e25e9ab86c4",
            "value": "Your token has been saved to /root/.cache/huggingface/token"
          }
        },
        "ac6410438b1c47d9938558095b4d76da": {
          "model_module": "@jupyter-widgets/controls",
          "model_name": "LabelModel",
          "model_module_version": "1.5.0",
          "state": {
            "_dom_classes": [],
            "_model_module": "@jupyter-widgets/controls",
            "_model_module_version": "1.5.0",
            "_model_name": "LabelModel",
            "_view_count": null,
            "_view_module": "@jupyter-widgets/controls",
            "_view_module_version": "1.5.0",
            "_view_name": "LabelView",
            "description": "",
            "description_tooltip": null,
            "layout": "IPY_MODEL_436b1e30216e43fba558cb5123eb4b6b",
            "placeholder": "​",
            "style": "IPY_MODEL_e939d0e8e8f5457f8e815d52e410441b",
            "value": "Login successful"
          }
        },
        "86354de86a704feb80fca44525887251": {
          "model_module": "@jupyter-widgets/base",
          "model_name": "LayoutModel",
          "model_module_version": "1.2.0",
          "state": {
            "_model_module": "@jupyter-widgets/base",
            "_model_module_version": "1.2.0",
            "_model_name": "LayoutModel",
            "_view_count": null,
            "_view_module": "@jupyter-widgets/base",
            "_view_module_version": "1.2.0",
            "_view_name": "LayoutView",
            "align_content": null,
            "align_items": null,
            "align_self": null,
            "border": null,
            "bottom": null,
            "display": null,
            "flex": null,
            "flex_flow": null,
            "grid_area": null,
            "grid_auto_columns": null,
            "grid_auto_flow": null,
            "grid_auto_rows": null,
            "grid_column": null,
            "grid_gap": null,
            "grid_row": null,
            "grid_template_areas": null,
            "grid_template_columns": null,
            "grid_template_rows": null,
            "height": null,
            "justify_content": null,
            "justify_items": null,
            "left": null,
            "margin": null,
            "max_height": null,
            "max_width": null,
            "min_height": null,
            "min_width": null,
            "object_fit": null,
            "object_position": null,
            "order": null,
            "overflow": null,
            "overflow_x": null,
            "overflow_y": null,
            "padding": null,
            "right": null,
            "top": null,
            "visibility": null,
            "width": null
          }
        },
        "ac76eb21e1b74a2bb474b29f0c82d722": {
          "model_module": "@jupyter-widgets/controls",
          "model_name": "DescriptionStyleModel",
          "model_module_version": "1.5.0",
          "state": {
            "_model_module": "@jupyter-widgets/controls",
            "_model_module_version": "1.5.0",
            "_model_name": "DescriptionStyleModel",
            "_view_count": null,
            "_view_module": "@jupyter-widgets/base",
            "_view_module_version": "1.2.0",
            "_view_name": "StyleView",
            "description_width": ""
          }
        },
        "309cfe0c668f4ca39e09561064ed893a": {
          "model_module": "@jupyter-widgets/base",
          "model_name": "LayoutModel",
          "model_module_version": "1.2.0",
          "state": {
            "_model_module": "@jupyter-widgets/base",
            "_model_module_version": "1.2.0",
            "_model_name": "LayoutModel",
            "_view_count": null,
            "_view_module": "@jupyter-widgets/base",
            "_view_module_version": "1.2.0",
            "_view_name": "LayoutView",
            "align_content": null,
            "align_items": null,
            "align_self": null,
            "border": null,
            "bottom": null,
            "display": null,
            "flex": null,
            "flex_flow": null,
            "grid_area": null,
            "grid_auto_columns": null,
            "grid_auto_flow": null,
            "grid_auto_rows": null,
            "grid_column": null,
            "grid_gap": null,
            "grid_row": null,
            "grid_template_areas": null,
            "grid_template_columns": null,
            "grid_template_rows": null,
            "height": null,
            "justify_content": null,
            "justify_items": null,
            "left": null,
            "margin": null,
            "max_height": null,
            "max_width": null,
            "min_height": null,
            "min_width": null,
            "object_fit": null,
            "object_position": null,
            "order": null,
            "overflow": null,
            "overflow_x": null,
            "overflow_y": null,
            "padding": null,
            "right": null,
            "top": null,
            "visibility": null,
            "width": null
          }
        },
        "95cedeb9516e407f855adce88c899dbd": {
          "model_module": "@jupyter-widgets/controls",
          "model_name": "DescriptionStyleModel",
          "model_module_version": "1.5.0",
          "state": {
            "_model_module": "@jupyter-widgets/controls",
            "_model_module_version": "1.5.0",
            "_model_name": "DescriptionStyleModel",
            "_view_count": null,
            "_view_module": "@jupyter-widgets/base",
            "_view_module_version": "1.2.0",
            "_view_name": "StyleView",
            "description_width": ""
          }
        },
        "9eec0170c3f1414eb4aea755e79dd97b": {
          "model_module": "@jupyter-widgets/base",
          "model_name": "LayoutModel",
          "model_module_version": "1.2.0",
          "state": {
            "_model_module": "@jupyter-widgets/base",
            "_model_module_version": "1.2.0",
            "_model_name": "LayoutModel",
            "_view_count": null,
            "_view_module": "@jupyter-widgets/base",
            "_view_module_version": "1.2.0",
            "_view_name": "LayoutView",
            "align_content": null,
            "align_items": null,
            "align_self": null,
            "border": null,
            "bottom": null,
            "display": null,
            "flex": null,
            "flex_flow": null,
            "grid_area": null,
            "grid_auto_columns": null,
            "grid_auto_flow": null,
            "grid_auto_rows": null,
            "grid_column": null,
            "grid_gap": null,
            "grid_row": null,
            "grid_template_areas": null,
            "grid_template_columns": null,
            "grid_template_rows": null,
            "height": null,
            "justify_content": null,
            "justify_items": null,
            "left": null,
            "margin": null,
            "max_height": null,
            "max_width": null,
            "min_height": null,
            "min_width": null,
            "object_fit": null,
            "object_position": null,
            "order": null,
            "overflow": null,
            "overflow_x": null,
            "overflow_y": null,
            "padding": null,
            "right": null,
            "top": null,
            "visibility": null,
            "width": null
          }
        },
        "730b2fcdc355498c9ea51e25e9ab86c4": {
          "model_module": "@jupyter-widgets/controls",
          "model_name": "DescriptionStyleModel",
          "model_module_version": "1.5.0",
          "state": {
            "_model_module": "@jupyter-widgets/controls",
            "_model_module_version": "1.5.0",
            "_model_name": "DescriptionStyleModel",
            "_view_count": null,
            "_view_module": "@jupyter-widgets/base",
            "_view_module_version": "1.2.0",
            "_view_name": "StyleView",
            "description_width": ""
          }
        },
        "436b1e30216e43fba558cb5123eb4b6b": {
          "model_module": "@jupyter-widgets/base",
          "model_name": "LayoutModel",
          "model_module_version": "1.2.0",
          "state": {
            "_model_module": "@jupyter-widgets/base",
            "_model_module_version": "1.2.0",
            "_model_name": "LayoutModel",
            "_view_count": null,
            "_view_module": "@jupyter-widgets/base",
            "_view_module_version": "1.2.0",
            "_view_name": "LayoutView",
            "align_content": null,
            "align_items": null,
            "align_self": null,
            "border": null,
            "bottom": null,
            "display": null,
            "flex": null,
            "flex_flow": null,
            "grid_area": null,
            "grid_auto_columns": null,
            "grid_auto_flow": null,
            "grid_auto_rows": null,
            "grid_column": null,
            "grid_gap": null,
            "grid_row": null,
            "grid_template_areas": null,
            "grid_template_columns": null,
            "grid_template_rows": null,
            "height": null,
            "justify_content": null,
            "justify_items": null,
            "left": null,
            "margin": null,
            "max_height": null,
            "max_width": null,
            "min_height": null,
            "min_width": null,
            "object_fit": null,
            "object_position": null,
            "order": null,
            "overflow": null,
            "overflow_x": null,
            "overflow_y": null,
            "padding": null,
            "right": null,
            "top": null,
            "visibility": null,
            "width": null
          }
        },
        "e939d0e8e8f5457f8e815d52e410441b": {
          "model_module": "@jupyter-widgets/controls",
          "model_name": "DescriptionStyleModel",
          "model_module_version": "1.5.0",
          "state": {
            "_model_module": "@jupyter-widgets/controls",
            "_model_module_version": "1.5.0",
            "_model_name": "DescriptionStyleModel",
            "_view_count": null,
            "_view_module": "@jupyter-widgets/base",
            "_view_module_version": "1.2.0",
            "_view_name": "StyleView",
            "description_width": ""
          }
        },
        "98cc2178a8de42aa9bc04cf3935f0e9d": {
          "model_module": "@jupyter-widgets/controls",
          "model_name": "VBoxModel",
          "model_module_version": "1.5.0",
          "state": {
            "_dom_classes": [],
            "_model_module": "@jupyter-widgets/controls",
            "_model_module_version": "1.5.0",
            "_model_name": "VBoxModel",
            "_view_count": null,
            "_view_module": "@jupyter-widgets/controls",
            "_view_module_version": "1.5.0",
            "_view_name": "VBoxView",
            "box_style": "",
            "children": [
              "IPY_MODEL_c666e6a535854d0f9708b10d46ca78ea",
              "IPY_MODEL_ae46cc2c5678422ab2ca12c321d81139",
              "IPY_MODEL_ebf8f804c8b34800a7df20c8f5f312d6",
              "IPY_MODEL_0d83fb07c91c458a98f816972390cf6a"
            ],
            "layout": "IPY_MODEL_36fef305a1a24221a0b5e516f1a69793"
          }
        },
        "1b759bca79834b7e9343dafe9a6150a1": {
          "model_module": "@jupyter-widgets/controls",
          "model_name": "HTMLModel",
          "model_module_version": "1.5.0",
          "state": {
            "_dom_classes": [],
            "_model_module": "@jupyter-widgets/controls",
            "_model_module_version": "1.5.0",
            "_model_name": "HTMLModel",
            "_view_count": null,
            "_view_module": "@jupyter-widgets/controls",
            "_view_module_version": "1.5.0",
            "_view_name": "HTMLView",
            "description": "",
            "description_tooltip": null,
            "layout": "IPY_MODEL_4e49083c53f14fde8d1428bd4b1bb8e8",
            "placeholder": "​",
            "style": "IPY_MODEL_aa8128315fae4443baa3fe5fe937d8ba",
            "value": "<center> <img\nsrc=https://huggingface.co/front/assets/huggingface_logo-noborder.svg\nalt='Hugging Face'> <br> Copy a token from <a\nhref=\"https://huggingface.co/settings/tokens\" target=\"_blank\">your Hugging Face\ntokens page</a> and paste it below. <br> Immediately click login after copying\nyour token or it might be stored in plain text in this notebook file. </center>"
          }
        },
        "aaedc0e4c47a4fc2aafe18f4eb4cbee2": {
          "model_module": "@jupyter-widgets/controls",
          "model_name": "PasswordModel",
          "model_module_version": "1.5.0",
          "state": {
            "_dom_classes": [],
            "_model_module": "@jupyter-widgets/controls",
            "_model_module_version": "1.5.0",
            "_model_name": "PasswordModel",
            "_view_count": null,
            "_view_module": "@jupyter-widgets/controls",
            "_view_module_version": "1.5.0",
            "_view_name": "PasswordView",
            "continuous_update": true,
            "description": "Token:",
            "description_tooltip": null,
            "disabled": false,
            "layout": "IPY_MODEL_c7a131c1e0da47b790b8321afdd6c4d7",
            "placeholder": "​",
            "style": "IPY_MODEL_bf2ebc91716043c0bf4c201d4f5176a0",
            "value": ""
          }
        },
        "2b5c4a2e9cef4e85aa0648e588cc114d": {
          "model_module": "@jupyter-widgets/controls",
          "model_name": "CheckboxModel",
          "model_module_version": "1.5.0",
          "state": {
            "_dom_classes": [],
            "_model_module": "@jupyter-widgets/controls",
            "_model_module_version": "1.5.0",
            "_model_name": "CheckboxModel",
            "_view_count": null,
            "_view_module": "@jupyter-widgets/controls",
            "_view_module_version": "1.5.0",
            "_view_name": "CheckboxView",
            "description": "Add token as git credential?",
            "description_tooltip": null,
            "disabled": false,
            "indent": true,
            "layout": "IPY_MODEL_524170358e6f4eb39d19fa804655282b",
            "style": "IPY_MODEL_f1f5573d8799486bae2ad37a62aecb7f",
            "value": true
          }
        },
        "246312f1ed0c4d8fb6398bc94c9e731a": {
          "model_module": "@jupyter-widgets/controls",
          "model_name": "ButtonModel",
          "model_module_version": "1.5.0",
          "state": {
            "_dom_classes": [],
            "_model_module": "@jupyter-widgets/controls",
            "_model_module_version": "1.5.0",
            "_model_name": "ButtonModel",
            "_view_count": null,
            "_view_module": "@jupyter-widgets/controls",
            "_view_module_version": "1.5.0",
            "_view_name": "ButtonView",
            "button_style": "",
            "description": "Login",
            "disabled": false,
            "icon": "",
            "layout": "IPY_MODEL_931b0d76298444beb543785de34fdac9",
            "style": "IPY_MODEL_16049807f48749d6b1c2e5d1a837a763",
            "tooltip": ""
          }
        },
        "40c4399e515b49599018d5681e19e506": {
          "model_module": "@jupyter-widgets/controls",
          "model_name": "HTMLModel",
          "model_module_version": "1.5.0",
          "state": {
            "_dom_classes": [],
            "_model_module": "@jupyter-widgets/controls",
            "_model_module_version": "1.5.0",
            "_model_name": "HTMLModel",
            "_view_count": null,
            "_view_module": "@jupyter-widgets/controls",
            "_view_module_version": "1.5.0",
            "_view_name": "HTMLView",
            "description": "",
            "description_tooltip": null,
            "layout": "IPY_MODEL_c930120b5785430da4e781b8ca04c0ec",
            "placeholder": "​",
            "style": "IPY_MODEL_c7b314df2c36407da7a71c9b922446d9",
            "value": "\n<b>Pro Tip:</b> If you don't already have one, you can create a dedicated\n'notebooks' token with 'write' access, that you can then easily reuse for all\nnotebooks. </center>"
          }
        },
        "36fef305a1a24221a0b5e516f1a69793": {
          "model_module": "@jupyter-widgets/base",
          "model_name": "LayoutModel",
          "model_module_version": "1.2.0",
          "state": {
            "_model_module": "@jupyter-widgets/base",
            "_model_module_version": "1.2.0",
            "_model_name": "LayoutModel",
            "_view_count": null,
            "_view_module": "@jupyter-widgets/base",
            "_view_module_version": "1.2.0",
            "_view_name": "LayoutView",
            "align_content": null,
            "align_items": "center",
            "align_self": null,
            "border": null,
            "bottom": null,
            "display": "flex",
            "flex": null,
            "flex_flow": "column",
            "grid_area": null,
            "grid_auto_columns": null,
            "grid_auto_flow": null,
            "grid_auto_rows": null,
            "grid_column": null,
            "grid_gap": null,
            "grid_row": null,
            "grid_template_areas": null,
            "grid_template_columns": null,
            "grid_template_rows": null,
            "height": null,
            "justify_content": null,
            "justify_items": null,
            "left": null,
            "margin": null,
            "max_height": null,
            "max_width": null,
            "min_height": null,
            "min_width": null,
            "object_fit": null,
            "object_position": null,
            "order": null,
            "overflow": null,
            "overflow_x": null,
            "overflow_y": null,
            "padding": null,
            "right": null,
            "top": null,
            "visibility": null,
            "width": "50%"
          }
        },
        "4e49083c53f14fde8d1428bd4b1bb8e8": {
          "model_module": "@jupyter-widgets/base",
          "model_name": "LayoutModel",
          "model_module_version": "1.2.0",
          "state": {
            "_model_module": "@jupyter-widgets/base",
            "_model_module_version": "1.2.0",
            "_model_name": "LayoutModel",
            "_view_count": null,
            "_view_module": "@jupyter-widgets/base",
            "_view_module_version": "1.2.0",
            "_view_name": "LayoutView",
            "align_content": null,
            "align_items": null,
            "align_self": null,
            "border": null,
            "bottom": null,
            "display": null,
            "flex": null,
            "flex_flow": null,
            "grid_area": null,
            "grid_auto_columns": null,
            "grid_auto_flow": null,
            "grid_auto_rows": null,
            "grid_column": null,
            "grid_gap": null,
            "grid_row": null,
            "grid_template_areas": null,
            "grid_template_columns": null,
            "grid_template_rows": null,
            "height": null,
            "justify_content": null,
            "justify_items": null,
            "left": null,
            "margin": null,
            "max_height": null,
            "max_width": null,
            "min_height": null,
            "min_width": null,
            "object_fit": null,
            "object_position": null,
            "order": null,
            "overflow": null,
            "overflow_x": null,
            "overflow_y": null,
            "padding": null,
            "right": null,
            "top": null,
            "visibility": null,
            "width": null
          }
        },
        "aa8128315fae4443baa3fe5fe937d8ba": {
          "model_module": "@jupyter-widgets/controls",
          "model_name": "DescriptionStyleModel",
          "model_module_version": "1.5.0",
          "state": {
            "_model_module": "@jupyter-widgets/controls",
            "_model_module_version": "1.5.0",
            "_model_name": "DescriptionStyleModel",
            "_view_count": null,
            "_view_module": "@jupyter-widgets/base",
            "_view_module_version": "1.2.0",
            "_view_name": "StyleView",
            "description_width": ""
          }
        },
        "c7a131c1e0da47b790b8321afdd6c4d7": {
          "model_module": "@jupyter-widgets/base",
          "model_name": "LayoutModel",
          "model_module_version": "1.2.0",
          "state": {
            "_model_module": "@jupyter-widgets/base",
            "_model_module_version": "1.2.0",
            "_model_name": "LayoutModel",
            "_view_count": null,
            "_view_module": "@jupyter-widgets/base",
            "_view_module_version": "1.2.0",
            "_view_name": "LayoutView",
            "align_content": null,
            "align_items": null,
            "align_self": null,
            "border": null,
            "bottom": null,
            "display": null,
            "flex": null,
            "flex_flow": null,
            "grid_area": null,
            "grid_auto_columns": null,
            "grid_auto_flow": null,
            "grid_auto_rows": null,
            "grid_column": null,
            "grid_gap": null,
            "grid_row": null,
            "grid_template_areas": null,
            "grid_template_columns": null,
            "grid_template_rows": null,
            "height": null,
            "justify_content": null,
            "justify_items": null,
            "left": null,
            "margin": null,
            "max_height": null,
            "max_width": null,
            "min_height": null,
            "min_width": null,
            "object_fit": null,
            "object_position": null,
            "order": null,
            "overflow": null,
            "overflow_x": null,
            "overflow_y": null,
            "padding": null,
            "right": null,
            "top": null,
            "visibility": null,
            "width": null
          }
        },
        "bf2ebc91716043c0bf4c201d4f5176a0": {
          "model_module": "@jupyter-widgets/controls",
          "model_name": "DescriptionStyleModel",
          "model_module_version": "1.5.0",
          "state": {
            "_model_module": "@jupyter-widgets/controls",
            "_model_module_version": "1.5.0",
            "_model_name": "DescriptionStyleModel",
            "_view_count": null,
            "_view_module": "@jupyter-widgets/base",
            "_view_module_version": "1.2.0",
            "_view_name": "StyleView",
            "description_width": ""
          }
        },
        "524170358e6f4eb39d19fa804655282b": {
          "model_module": "@jupyter-widgets/base",
          "model_name": "LayoutModel",
          "model_module_version": "1.2.0",
          "state": {
            "_model_module": "@jupyter-widgets/base",
            "_model_module_version": "1.2.0",
            "_model_name": "LayoutModel",
            "_view_count": null,
            "_view_module": "@jupyter-widgets/base",
            "_view_module_version": "1.2.0",
            "_view_name": "LayoutView",
            "align_content": null,
            "align_items": null,
            "align_self": null,
            "border": null,
            "bottom": null,
            "display": null,
            "flex": null,
            "flex_flow": null,
            "grid_area": null,
            "grid_auto_columns": null,
            "grid_auto_flow": null,
            "grid_auto_rows": null,
            "grid_column": null,
            "grid_gap": null,
            "grid_row": null,
            "grid_template_areas": null,
            "grid_template_columns": null,
            "grid_template_rows": null,
            "height": null,
            "justify_content": null,
            "justify_items": null,
            "left": null,
            "margin": null,
            "max_height": null,
            "max_width": null,
            "min_height": null,
            "min_width": null,
            "object_fit": null,
            "object_position": null,
            "order": null,
            "overflow": null,
            "overflow_x": null,
            "overflow_y": null,
            "padding": null,
            "right": null,
            "top": null,
            "visibility": null,
            "width": null
          }
        },
        "f1f5573d8799486bae2ad37a62aecb7f": {
          "model_module": "@jupyter-widgets/controls",
          "model_name": "DescriptionStyleModel",
          "model_module_version": "1.5.0",
          "state": {
            "_model_module": "@jupyter-widgets/controls",
            "_model_module_version": "1.5.0",
            "_model_name": "DescriptionStyleModel",
            "_view_count": null,
            "_view_module": "@jupyter-widgets/base",
            "_view_module_version": "1.2.0",
            "_view_name": "StyleView",
            "description_width": ""
          }
        },
        "931b0d76298444beb543785de34fdac9": {
          "model_module": "@jupyter-widgets/base",
          "model_name": "LayoutModel",
          "model_module_version": "1.2.0",
          "state": {
            "_model_module": "@jupyter-widgets/base",
            "_model_module_version": "1.2.0",
            "_model_name": "LayoutModel",
            "_view_count": null,
            "_view_module": "@jupyter-widgets/base",
            "_view_module_version": "1.2.0",
            "_view_name": "LayoutView",
            "align_content": null,
            "align_items": null,
            "align_self": null,
            "border": null,
            "bottom": null,
            "display": null,
            "flex": null,
            "flex_flow": null,
            "grid_area": null,
            "grid_auto_columns": null,
            "grid_auto_flow": null,
            "grid_auto_rows": null,
            "grid_column": null,
            "grid_gap": null,
            "grid_row": null,
            "grid_template_areas": null,
            "grid_template_columns": null,
            "grid_template_rows": null,
            "height": null,
            "justify_content": null,
            "justify_items": null,
            "left": null,
            "margin": null,
            "max_height": null,
            "max_width": null,
            "min_height": null,
            "min_width": null,
            "object_fit": null,
            "object_position": null,
            "order": null,
            "overflow": null,
            "overflow_x": null,
            "overflow_y": null,
            "padding": null,
            "right": null,
            "top": null,
            "visibility": null,
            "width": null
          }
        },
        "16049807f48749d6b1c2e5d1a837a763": {
          "model_module": "@jupyter-widgets/controls",
          "model_name": "ButtonStyleModel",
          "model_module_version": "1.5.0",
          "state": {
            "_model_module": "@jupyter-widgets/controls",
            "_model_module_version": "1.5.0",
            "_model_name": "ButtonStyleModel",
            "_view_count": null,
            "_view_module": "@jupyter-widgets/base",
            "_view_module_version": "1.2.0",
            "_view_name": "StyleView",
            "button_color": null,
            "font_weight": ""
          }
        },
        "c930120b5785430da4e781b8ca04c0ec": {
          "model_module": "@jupyter-widgets/base",
          "model_name": "LayoutModel",
          "model_module_version": "1.2.0",
          "state": {
            "_model_module": "@jupyter-widgets/base",
            "_model_module_version": "1.2.0",
            "_model_name": "LayoutModel",
            "_view_count": null,
            "_view_module": "@jupyter-widgets/base",
            "_view_module_version": "1.2.0",
            "_view_name": "LayoutView",
            "align_content": null,
            "align_items": null,
            "align_self": null,
            "border": null,
            "bottom": null,
            "display": null,
            "flex": null,
            "flex_flow": null,
            "grid_area": null,
            "grid_auto_columns": null,
            "grid_auto_flow": null,
            "grid_auto_rows": null,
            "grid_column": null,
            "grid_gap": null,
            "grid_row": null,
            "grid_template_areas": null,
            "grid_template_columns": null,
            "grid_template_rows": null,
            "height": null,
            "justify_content": null,
            "justify_items": null,
            "left": null,
            "margin": null,
            "max_height": null,
            "max_width": null,
            "min_height": null,
            "min_width": null,
            "object_fit": null,
            "object_position": null,
            "order": null,
            "overflow": null,
            "overflow_x": null,
            "overflow_y": null,
            "padding": null,
            "right": null,
            "top": null,
            "visibility": null,
            "width": null
          }
        },
        "c7b314df2c36407da7a71c9b922446d9": {
          "model_module": "@jupyter-widgets/controls",
          "model_name": "DescriptionStyleModel",
          "model_module_version": "1.5.0",
          "state": {
            "_model_module": "@jupyter-widgets/controls",
            "_model_module_version": "1.5.0",
            "_model_name": "DescriptionStyleModel",
            "_view_count": null,
            "_view_module": "@jupyter-widgets/base",
            "_view_module_version": "1.2.0",
            "_view_name": "StyleView",
            "description_width": ""
          }
        },
        "56243ff99a334779a92a07ae3bd6f3dc": {
          "model_module": "@jupyter-widgets/controls",
          "model_name": "LabelModel",
          "model_module_version": "1.5.0",
          "state": {
            "_dom_classes": [],
            "_model_module": "@jupyter-widgets/controls",
            "_model_module_version": "1.5.0",
            "_model_name": "LabelModel",
            "_view_count": null,
            "_view_module": "@jupyter-widgets/controls",
            "_view_module_version": "1.5.0",
            "_view_name": "LabelView",
            "description": "",
            "description_tooltip": null,
            "layout": "IPY_MODEL_27bbd4d84ebe48839de93626f8bba5aa",
            "placeholder": "​",
            "style": "IPY_MODEL_1d941f184d8744d28158c645e210ac4d",
            "value": "Connecting..."
          }
        },
        "27bbd4d84ebe48839de93626f8bba5aa": {
          "model_module": "@jupyter-widgets/base",
          "model_name": "LayoutModel",
          "model_module_version": "1.2.0",
          "state": {
            "_model_module": "@jupyter-widgets/base",
            "_model_module_version": "1.2.0",
            "_model_name": "LayoutModel",
            "_view_count": null,
            "_view_module": "@jupyter-widgets/base",
            "_view_module_version": "1.2.0",
            "_view_name": "LayoutView",
            "align_content": null,
            "align_items": null,
            "align_self": null,
            "border": null,
            "bottom": null,
            "display": null,
            "flex": null,
            "flex_flow": null,
            "grid_area": null,
            "grid_auto_columns": null,
            "grid_auto_flow": null,
            "grid_auto_rows": null,
            "grid_column": null,
            "grid_gap": null,
            "grid_row": null,
            "grid_template_areas": null,
            "grid_template_columns": null,
            "grid_template_rows": null,
            "height": null,
            "justify_content": null,
            "justify_items": null,
            "left": null,
            "margin": null,
            "max_height": null,
            "max_width": null,
            "min_height": null,
            "min_width": null,
            "object_fit": null,
            "object_position": null,
            "order": null,
            "overflow": null,
            "overflow_x": null,
            "overflow_y": null,
            "padding": null,
            "right": null,
            "top": null,
            "visibility": null,
            "width": null
          }
        },
        "1d941f184d8744d28158c645e210ac4d": {
          "model_module": "@jupyter-widgets/controls",
          "model_name": "DescriptionStyleModel",
          "model_module_version": "1.5.0",
          "state": {
            "_model_module": "@jupyter-widgets/controls",
            "_model_module_version": "1.5.0",
            "_model_name": "DescriptionStyleModel",
            "_view_count": null,
            "_view_module": "@jupyter-widgets/base",
            "_view_module_version": "1.2.0",
            "_view_name": "StyleView",
            "description_width": ""
          }
        },
        "c666e6a535854d0f9708b10d46ca78ea": {
          "model_module": "@jupyter-widgets/controls",
          "model_name": "LabelModel",
          "model_module_version": "1.5.0",
          "state": {
            "_dom_classes": [],
            "_model_module": "@jupyter-widgets/controls",
            "_model_module_version": "1.5.0",
            "_model_name": "LabelModel",
            "_view_count": null,
            "_view_module": "@jupyter-widgets/controls",
            "_view_module_version": "1.5.0",
            "_view_name": "LabelView",
            "description": "",
            "description_tooltip": null,
            "layout": "IPY_MODEL_feac7c891e2d4677b8dd3e93673c7bf9",
            "placeholder": "​",
            "style": "IPY_MODEL_cdb0c93b134a417c90a132cde08b7a71",
            "value": "Token is valid (permission: fineGrained)."
          }
        },
        "ae46cc2c5678422ab2ca12c321d81139": {
          "model_module": "@jupyter-widgets/controls",
          "model_name": "LabelModel",
          "model_module_version": "1.5.0",
          "state": {
            "_dom_classes": [],
            "_model_module": "@jupyter-widgets/controls",
            "_model_module_version": "1.5.0",
            "_model_name": "LabelModel",
            "_view_count": null,
            "_view_module": "@jupyter-widgets/controls",
            "_view_module_version": "1.5.0",
            "_view_name": "LabelView",
            "description": "",
            "description_tooltip": null,
            "layout": "IPY_MODEL_c5fe431956d341e69ee4331395aa0e0c",
            "placeholder": "​",
            "style": "IPY_MODEL_3e98b0e8cc9e4ed88d67259f0b3f3e64",
            "value": "Your token has been saved in your configured git credential helpers (store)."
          }
        },
        "ebf8f804c8b34800a7df20c8f5f312d6": {
          "model_module": "@jupyter-widgets/controls",
          "model_name": "LabelModel",
          "model_module_version": "1.5.0",
          "state": {
            "_dom_classes": [],
            "_model_module": "@jupyter-widgets/controls",
            "_model_module_version": "1.5.0",
            "_model_name": "LabelModel",
            "_view_count": null,
            "_view_module": "@jupyter-widgets/controls",
            "_view_module_version": "1.5.0",
            "_view_name": "LabelView",
            "description": "",
            "description_tooltip": null,
            "layout": "IPY_MODEL_c1a6ccaa84be4062863dada552f88295",
            "placeholder": "​",
            "style": "IPY_MODEL_dfbfadc50def40d6bfdc1ee605cf3c97",
            "value": "Your token has been saved to /root/.cache/huggingface/token"
          }
        },
        "0d83fb07c91c458a98f816972390cf6a": {
          "model_module": "@jupyter-widgets/controls",
          "model_name": "LabelModel",
          "model_module_version": "1.5.0",
          "state": {
            "_dom_classes": [],
            "_model_module": "@jupyter-widgets/controls",
            "_model_module_version": "1.5.0",
            "_model_name": "LabelModel",
            "_view_count": null,
            "_view_module": "@jupyter-widgets/controls",
            "_view_module_version": "1.5.0",
            "_view_name": "LabelView",
            "description": "",
            "description_tooltip": null,
            "layout": "IPY_MODEL_5a578ba094bf4ac89c82d3fe8751ab12",
            "placeholder": "​",
            "style": "IPY_MODEL_7ff48ebb0eea4f06b0cfbaddbc1884cf",
            "value": "Login successful"
          }
        },
        "feac7c891e2d4677b8dd3e93673c7bf9": {
          "model_module": "@jupyter-widgets/base",
          "model_name": "LayoutModel",
          "model_module_version": "1.2.0",
          "state": {
            "_model_module": "@jupyter-widgets/base",
            "_model_module_version": "1.2.0",
            "_model_name": "LayoutModel",
            "_view_count": null,
            "_view_module": "@jupyter-widgets/base",
            "_view_module_version": "1.2.0",
            "_view_name": "LayoutView",
            "align_content": null,
            "align_items": null,
            "align_self": null,
            "border": null,
            "bottom": null,
            "display": null,
            "flex": null,
            "flex_flow": null,
            "grid_area": null,
            "grid_auto_columns": null,
            "grid_auto_flow": null,
            "grid_auto_rows": null,
            "grid_column": null,
            "grid_gap": null,
            "grid_row": null,
            "grid_template_areas": null,
            "grid_template_columns": null,
            "grid_template_rows": null,
            "height": null,
            "justify_content": null,
            "justify_items": null,
            "left": null,
            "margin": null,
            "max_height": null,
            "max_width": null,
            "min_height": null,
            "min_width": null,
            "object_fit": null,
            "object_position": null,
            "order": null,
            "overflow": null,
            "overflow_x": null,
            "overflow_y": null,
            "padding": null,
            "right": null,
            "top": null,
            "visibility": null,
            "width": null
          }
        },
        "cdb0c93b134a417c90a132cde08b7a71": {
          "model_module": "@jupyter-widgets/controls",
          "model_name": "DescriptionStyleModel",
          "model_module_version": "1.5.0",
          "state": {
            "_model_module": "@jupyter-widgets/controls",
            "_model_module_version": "1.5.0",
            "_model_name": "DescriptionStyleModel",
            "_view_count": null,
            "_view_module": "@jupyter-widgets/base",
            "_view_module_version": "1.2.0",
            "_view_name": "StyleView",
            "description_width": ""
          }
        },
        "c5fe431956d341e69ee4331395aa0e0c": {
          "model_module": "@jupyter-widgets/base",
          "model_name": "LayoutModel",
          "model_module_version": "1.2.0",
          "state": {
            "_model_module": "@jupyter-widgets/base",
            "_model_module_version": "1.2.0",
            "_model_name": "LayoutModel",
            "_view_count": null,
            "_view_module": "@jupyter-widgets/base",
            "_view_module_version": "1.2.0",
            "_view_name": "LayoutView",
            "align_content": null,
            "align_items": null,
            "align_self": null,
            "border": null,
            "bottom": null,
            "display": null,
            "flex": null,
            "flex_flow": null,
            "grid_area": null,
            "grid_auto_columns": null,
            "grid_auto_flow": null,
            "grid_auto_rows": null,
            "grid_column": null,
            "grid_gap": null,
            "grid_row": null,
            "grid_template_areas": null,
            "grid_template_columns": null,
            "grid_template_rows": null,
            "height": null,
            "justify_content": null,
            "justify_items": null,
            "left": null,
            "margin": null,
            "max_height": null,
            "max_width": null,
            "min_height": null,
            "min_width": null,
            "object_fit": null,
            "object_position": null,
            "order": null,
            "overflow": null,
            "overflow_x": null,
            "overflow_y": null,
            "padding": null,
            "right": null,
            "top": null,
            "visibility": null,
            "width": null
          }
        },
        "3e98b0e8cc9e4ed88d67259f0b3f3e64": {
          "model_module": "@jupyter-widgets/controls",
          "model_name": "DescriptionStyleModel",
          "model_module_version": "1.5.0",
          "state": {
            "_model_module": "@jupyter-widgets/controls",
            "_model_module_version": "1.5.0",
            "_model_name": "DescriptionStyleModel",
            "_view_count": null,
            "_view_module": "@jupyter-widgets/base",
            "_view_module_version": "1.2.0",
            "_view_name": "StyleView",
            "description_width": ""
          }
        },
        "c1a6ccaa84be4062863dada552f88295": {
          "model_module": "@jupyter-widgets/base",
          "model_name": "LayoutModel",
          "model_module_version": "1.2.0",
          "state": {
            "_model_module": "@jupyter-widgets/base",
            "_model_module_version": "1.2.0",
            "_model_name": "LayoutModel",
            "_view_count": null,
            "_view_module": "@jupyter-widgets/base",
            "_view_module_version": "1.2.0",
            "_view_name": "LayoutView",
            "align_content": null,
            "align_items": null,
            "align_self": null,
            "border": null,
            "bottom": null,
            "display": null,
            "flex": null,
            "flex_flow": null,
            "grid_area": null,
            "grid_auto_columns": null,
            "grid_auto_flow": null,
            "grid_auto_rows": null,
            "grid_column": null,
            "grid_gap": null,
            "grid_row": null,
            "grid_template_areas": null,
            "grid_template_columns": null,
            "grid_template_rows": null,
            "height": null,
            "justify_content": null,
            "justify_items": null,
            "left": null,
            "margin": null,
            "max_height": null,
            "max_width": null,
            "min_height": null,
            "min_width": null,
            "object_fit": null,
            "object_position": null,
            "order": null,
            "overflow": null,
            "overflow_x": null,
            "overflow_y": null,
            "padding": null,
            "right": null,
            "top": null,
            "visibility": null,
            "width": null
          }
        },
        "dfbfadc50def40d6bfdc1ee605cf3c97": {
          "model_module": "@jupyter-widgets/controls",
          "model_name": "DescriptionStyleModel",
          "model_module_version": "1.5.0",
          "state": {
            "_model_module": "@jupyter-widgets/controls",
            "_model_module_version": "1.5.0",
            "_model_name": "DescriptionStyleModel",
            "_view_count": null,
            "_view_module": "@jupyter-widgets/base",
            "_view_module_version": "1.2.0",
            "_view_name": "StyleView",
            "description_width": ""
          }
        },
        "5a578ba094bf4ac89c82d3fe8751ab12": {
          "model_module": "@jupyter-widgets/base",
          "model_name": "LayoutModel",
          "model_module_version": "1.2.0",
          "state": {
            "_model_module": "@jupyter-widgets/base",
            "_model_module_version": "1.2.0",
            "_model_name": "LayoutModel",
            "_view_count": null,
            "_view_module": "@jupyter-widgets/base",
            "_view_module_version": "1.2.0",
            "_view_name": "LayoutView",
            "align_content": null,
            "align_items": null,
            "align_self": null,
            "border": null,
            "bottom": null,
            "display": null,
            "flex": null,
            "flex_flow": null,
            "grid_area": null,
            "grid_auto_columns": null,
            "grid_auto_flow": null,
            "grid_auto_rows": null,
            "grid_column": null,
            "grid_gap": null,
            "grid_row": null,
            "grid_template_areas": null,
            "grid_template_columns": null,
            "grid_template_rows": null,
            "height": null,
            "justify_content": null,
            "justify_items": null,
            "left": null,
            "margin": null,
            "max_height": null,
            "max_width": null,
            "min_height": null,
            "min_width": null,
            "object_fit": null,
            "object_position": null,
            "order": null,
            "overflow": null,
            "overflow_x": null,
            "overflow_y": null,
            "padding": null,
            "right": null,
            "top": null,
            "visibility": null,
            "width": null
          }
        },
        "7ff48ebb0eea4f06b0cfbaddbc1884cf": {
          "model_module": "@jupyter-widgets/controls",
          "model_name": "DescriptionStyleModel",
          "model_module_version": "1.5.0",
          "state": {
            "_model_module": "@jupyter-widgets/controls",
            "_model_module_version": "1.5.0",
            "_model_name": "DescriptionStyleModel",
            "_view_count": null,
            "_view_module": "@jupyter-widgets/base",
            "_view_module_version": "1.2.0",
            "_view_name": "StyleView",
            "description_width": ""
          }
        },
        "a02b2176c331439b8600af9ca02192c4": {
          "model_module": "@jupyter-widgets/controls",
          "model_name": "HBoxModel",
          "model_module_version": "1.5.0",
          "state": {
            "_dom_classes": [],
            "_model_module": "@jupyter-widgets/controls",
            "_model_module_version": "1.5.0",
            "_model_name": "HBoxModel",
            "_view_count": null,
            "_view_module": "@jupyter-widgets/controls",
            "_view_module_version": "1.5.0",
            "_view_name": "HBoxView",
            "box_style": "",
            "children": [
              "IPY_MODEL_174fb683750149f095cf7ab07e2b9319",
              "IPY_MODEL_fe9d294fda884458938ab2ce04577cfb",
              "IPY_MODEL_9a0edc184fa14815b65bb6858a07333c"
            ],
            "layout": "IPY_MODEL_39aeabc4120e4172b1e9fb0bc8d23db5"
          }
        },
        "174fb683750149f095cf7ab07e2b9319": {
          "model_module": "@jupyter-widgets/controls",
          "model_name": "HTMLModel",
          "model_module_version": "1.5.0",
          "state": {
            "_dom_classes": [],
            "_model_module": "@jupyter-widgets/controls",
            "_model_module_version": "1.5.0",
            "_model_name": "HTMLModel",
            "_view_count": null,
            "_view_module": "@jupyter-widgets/controls",
            "_view_module_version": "1.5.0",
            "_view_name": "HTMLView",
            "description": "",
            "description_tooltip": null,
            "layout": "IPY_MODEL_13169a37e01a48089361ddec28db014b",
            "placeholder": "​",
            "style": "IPY_MODEL_956a2d574c584861972b629c8c1da90b",
            "value": "Loading checkpoint shards: 100%"
          }
        },
        "fe9d294fda884458938ab2ce04577cfb": {
          "model_module": "@jupyter-widgets/controls",
          "model_name": "FloatProgressModel",
          "model_module_version": "1.5.0",
          "state": {
            "_dom_classes": [],
            "_model_module": "@jupyter-widgets/controls",
            "_model_module_version": "1.5.0",
            "_model_name": "FloatProgressModel",
            "_view_count": null,
            "_view_module": "@jupyter-widgets/controls",
            "_view_module_version": "1.5.0",
            "_view_name": "ProgressView",
            "bar_style": "success",
            "description": "",
            "description_tooltip": null,
            "layout": "IPY_MODEL_b9ac6543aa4545898d8b7d269a05369d",
            "max": 2,
            "min": 0,
            "orientation": "horizontal",
            "style": "IPY_MODEL_b865fc3c2f3f4970be7eeb2c89700afa",
            "value": 2
          }
        },
        "9a0edc184fa14815b65bb6858a07333c": {
          "model_module": "@jupyter-widgets/controls",
          "model_name": "HTMLModel",
          "model_module_version": "1.5.0",
          "state": {
            "_dom_classes": [],
            "_model_module": "@jupyter-widgets/controls",
            "_model_module_version": "1.5.0",
            "_model_name": "HTMLModel",
            "_view_count": null,
            "_view_module": "@jupyter-widgets/controls",
            "_view_module_version": "1.5.0",
            "_view_name": "HTMLView",
            "description": "",
            "description_tooltip": null,
            "layout": "IPY_MODEL_a0ba48a70a0b448fb8ee3475b3ab2e26",
            "placeholder": "​",
            "style": "IPY_MODEL_35de7a83deaa4f67bb7de2d7e729d31b",
            "value": " 2/2 [00:03&lt;00:00,  1.67s/it]"
          }
        },
        "39aeabc4120e4172b1e9fb0bc8d23db5": {
          "model_module": "@jupyter-widgets/base",
          "model_name": "LayoutModel",
          "model_module_version": "1.2.0",
          "state": {
            "_model_module": "@jupyter-widgets/base",
            "_model_module_version": "1.2.0",
            "_model_name": "LayoutModel",
            "_view_count": null,
            "_view_module": "@jupyter-widgets/base",
            "_view_module_version": "1.2.0",
            "_view_name": "LayoutView",
            "align_content": null,
            "align_items": null,
            "align_self": null,
            "border": null,
            "bottom": null,
            "display": null,
            "flex": null,
            "flex_flow": null,
            "grid_area": null,
            "grid_auto_columns": null,
            "grid_auto_flow": null,
            "grid_auto_rows": null,
            "grid_column": null,
            "grid_gap": null,
            "grid_row": null,
            "grid_template_areas": null,
            "grid_template_columns": null,
            "grid_template_rows": null,
            "height": null,
            "justify_content": null,
            "justify_items": null,
            "left": null,
            "margin": null,
            "max_height": null,
            "max_width": null,
            "min_height": null,
            "min_width": null,
            "object_fit": null,
            "object_position": null,
            "order": null,
            "overflow": null,
            "overflow_x": null,
            "overflow_y": null,
            "padding": null,
            "right": null,
            "top": null,
            "visibility": null,
            "width": null
          }
        },
        "13169a37e01a48089361ddec28db014b": {
          "model_module": "@jupyter-widgets/base",
          "model_name": "LayoutModel",
          "model_module_version": "1.2.0",
          "state": {
            "_model_module": "@jupyter-widgets/base",
            "_model_module_version": "1.2.0",
            "_model_name": "LayoutModel",
            "_view_count": null,
            "_view_module": "@jupyter-widgets/base",
            "_view_module_version": "1.2.0",
            "_view_name": "LayoutView",
            "align_content": null,
            "align_items": null,
            "align_self": null,
            "border": null,
            "bottom": null,
            "display": null,
            "flex": null,
            "flex_flow": null,
            "grid_area": null,
            "grid_auto_columns": null,
            "grid_auto_flow": null,
            "grid_auto_rows": null,
            "grid_column": null,
            "grid_gap": null,
            "grid_row": null,
            "grid_template_areas": null,
            "grid_template_columns": null,
            "grid_template_rows": null,
            "height": null,
            "justify_content": null,
            "justify_items": null,
            "left": null,
            "margin": null,
            "max_height": null,
            "max_width": null,
            "min_height": null,
            "min_width": null,
            "object_fit": null,
            "object_position": null,
            "order": null,
            "overflow": null,
            "overflow_x": null,
            "overflow_y": null,
            "padding": null,
            "right": null,
            "top": null,
            "visibility": null,
            "width": null
          }
        },
        "956a2d574c584861972b629c8c1da90b": {
          "model_module": "@jupyter-widgets/controls",
          "model_name": "DescriptionStyleModel",
          "model_module_version": "1.5.0",
          "state": {
            "_model_module": "@jupyter-widgets/controls",
            "_model_module_version": "1.5.0",
            "_model_name": "DescriptionStyleModel",
            "_view_count": null,
            "_view_module": "@jupyter-widgets/base",
            "_view_module_version": "1.2.0",
            "_view_name": "StyleView",
            "description_width": ""
          }
        },
        "b9ac6543aa4545898d8b7d269a05369d": {
          "model_module": "@jupyter-widgets/base",
          "model_name": "LayoutModel",
          "model_module_version": "1.2.0",
          "state": {
            "_model_module": "@jupyter-widgets/base",
            "_model_module_version": "1.2.0",
            "_model_name": "LayoutModel",
            "_view_count": null,
            "_view_module": "@jupyter-widgets/base",
            "_view_module_version": "1.2.0",
            "_view_name": "LayoutView",
            "align_content": null,
            "align_items": null,
            "align_self": null,
            "border": null,
            "bottom": null,
            "display": null,
            "flex": null,
            "flex_flow": null,
            "grid_area": null,
            "grid_auto_columns": null,
            "grid_auto_flow": null,
            "grid_auto_rows": null,
            "grid_column": null,
            "grid_gap": null,
            "grid_row": null,
            "grid_template_areas": null,
            "grid_template_columns": null,
            "grid_template_rows": null,
            "height": null,
            "justify_content": null,
            "justify_items": null,
            "left": null,
            "margin": null,
            "max_height": null,
            "max_width": null,
            "min_height": null,
            "min_width": null,
            "object_fit": null,
            "object_position": null,
            "order": null,
            "overflow": null,
            "overflow_x": null,
            "overflow_y": null,
            "padding": null,
            "right": null,
            "top": null,
            "visibility": null,
            "width": null
          }
        },
        "b865fc3c2f3f4970be7eeb2c89700afa": {
          "model_module": "@jupyter-widgets/controls",
          "model_name": "ProgressStyleModel",
          "model_module_version": "1.5.0",
          "state": {
            "_model_module": "@jupyter-widgets/controls",
            "_model_module_version": "1.5.0",
            "_model_name": "ProgressStyleModel",
            "_view_count": null,
            "_view_module": "@jupyter-widgets/base",
            "_view_module_version": "1.2.0",
            "_view_name": "StyleView",
            "bar_color": null,
            "description_width": ""
          }
        },
        "a0ba48a70a0b448fb8ee3475b3ab2e26": {
          "model_module": "@jupyter-widgets/base",
          "model_name": "LayoutModel",
          "model_module_version": "1.2.0",
          "state": {
            "_model_module": "@jupyter-widgets/base",
            "_model_module_version": "1.2.0",
            "_model_name": "LayoutModel",
            "_view_count": null,
            "_view_module": "@jupyter-widgets/base",
            "_view_module_version": "1.2.0",
            "_view_name": "LayoutView",
            "align_content": null,
            "align_items": null,
            "align_self": null,
            "border": null,
            "bottom": null,
            "display": null,
            "flex": null,
            "flex_flow": null,
            "grid_area": null,
            "grid_auto_columns": null,
            "grid_auto_flow": null,
            "grid_auto_rows": null,
            "grid_column": null,
            "grid_gap": null,
            "grid_row": null,
            "grid_template_areas": null,
            "grid_template_columns": null,
            "grid_template_rows": null,
            "height": null,
            "justify_content": null,
            "justify_items": null,
            "left": null,
            "margin": null,
            "max_height": null,
            "max_width": null,
            "min_height": null,
            "min_width": null,
            "object_fit": null,
            "object_position": null,
            "order": null,
            "overflow": null,
            "overflow_x": null,
            "overflow_y": null,
            "padding": null,
            "right": null,
            "top": null,
            "visibility": null,
            "width": null
          }
        },
        "35de7a83deaa4f67bb7de2d7e729d31b": {
          "model_module": "@jupyter-widgets/controls",
          "model_name": "DescriptionStyleModel",
          "model_module_version": "1.5.0",
          "state": {
            "_model_module": "@jupyter-widgets/controls",
            "_model_module_version": "1.5.0",
            "_model_name": "DescriptionStyleModel",
            "_view_count": null,
            "_view_module": "@jupyter-widgets/base",
            "_view_module_version": "1.2.0",
            "_view_name": "StyleView",
            "description_width": ""
          }
        }
      }
    },
    "accelerator": "GPU"
  },
  "cells": [
    {
      "cell_type": "markdown",
      "metadata": {
        "id": "view-in-github",
        "colab_type": "text"
      },
      "source": [
        "<a href=\"https://colab.research.google.com/github/pranay8297/llm/blob/main/esm_decoder.ipynb\" target=\"_parent\"><img src=\"https://colab.research.google.com/assets/colab-badge.svg\" alt=\"Open In Colab\"/></a>"
      ]
    },
    {
      "cell_type": "code",
      "execution_count": 1,
      "metadata": {
        "colab": {
          "base_uri": "https://localhost:8080/"
        },
        "id": "v3DJoN2tTk42",
        "outputId": "e2b685e0-c81b-4c4d-9517-a7a09bea6275"
      },
      "outputs": [
        {
          "output_type": "stream",
          "name": "stdout",
          "text": [
            "Requirement already satisfied: transformers in /usr/local/lib/python3.10/dist-packages (4.44.2)\n",
            "Collecting evaluate\n",
            "  Downloading evaluate-0.4.3-py3-none-any.whl.metadata (9.2 kB)\n",
            "Collecting datasets\n",
            "  Downloading datasets-3.0.1-py3-none-any.whl.metadata (20 kB)\n",
            "Requirement already satisfied: requests in /usr/local/lib/python3.10/dist-packages (2.32.3)\n",
            "Requirement already satisfied: pandas in /usr/local/lib/python3.10/dist-packages (2.1.4)\n",
            "Collecting sklearn\n",
            "  Downloading sklearn-0.0.post12.tar.gz (2.6 kB)\n",
            "  \u001b[1;31merror\u001b[0m: \u001b[1msubprocess-exited-with-error\u001b[0m\n",
            "  \n",
            "  \u001b[31m×\u001b[0m \u001b[32mpython setup.py egg_info\u001b[0m did not run successfully.\n",
            "  \u001b[31m│\u001b[0m exit code: \u001b[1;36m1\u001b[0m\n",
            "  \u001b[31m╰─>\u001b[0m See above for output.\n",
            "  \n",
            "  \u001b[1;35mnote\u001b[0m: This error originates from a subprocess, and is likely not a problem with pip.\n",
            "  Preparing metadata (setup.py) ... \u001b[?25l\u001b[?25herror\n",
            "\u001b[1;31merror\u001b[0m: \u001b[1mmetadata-generation-failed\u001b[0m\n",
            "\n",
            "\u001b[31m×\u001b[0m Encountered error while generating package metadata.\n",
            "\u001b[31m╰─>\u001b[0m See above for output.\n",
            "\n",
            "\u001b[1;35mnote\u001b[0m: This is an issue with the package mentioned above, not pip.\n",
            "\u001b[1;36mhint\u001b[0m: See above for details.\n",
            "Collecting datasets\n",
            "  Using cached datasets-3.0.1-py3-none-any.whl.metadata (20 kB)\n",
            "Requirement already satisfied: filelock in /usr/local/lib/python3.10/dist-packages (from datasets) (3.16.1)\n",
            "Requirement already satisfied: numpy>=1.17 in /usr/local/lib/python3.10/dist-packages (from datasets) (1.26.4)\n",
            "Collecting pyarrow>=15.0.0 (from datasets)\n",
            "  Downloading pyarrow-17.0.0-cp310-cp310-manylinux_2_28_x86_64.whl.metadata (3.3 kB)\n",
            "Collecting dill<0.3.9,>=0.3.0 (from datasets)\n",
            "  Downloading dill-0.3.8-py3-none-any.whl.metadata (10 kB)\n",
            "Requirement already satisfied: pandas in /usr/local/lib/python3.10/dist-packages (from datasets) (2.1.4)\n",
            "Requirement already satisfied: requests>=2.32.2 in /usr/local/lib/python3.10/dist-packages (from datasets) (2.32.3)\n",
            "Requirement already satisfied: tqdm>=4.66.3 in /usr/local/lib/python3.10/dist-packages (from datasets) (4.66.5)\n",
            "Collecting xxhash (from datasets)\n",
            "  Downloading xxhash-3.5.0-cp310-cp310-manylinux_2_17_x86_64.manylinux2014_x86_64.whl.metadata (12 kB)\n",
            "Collecting multiprocess (from datasets)\n",
            "  Downloading multiprocess-0.70.16-py310-none-any.whl.metadata (7.2 kB)\n",
            "Requirement already satisfied: fsspec<=2024.6.1,>=2023.1.0 in /usr/local/lib/python3.10/dist-packages (from fsspec[http]<=2024.6.1,>=2023.1.0->datasets) (2024.6.1)\n",
            "Requirement already satisfied: aiohttp in /usr/local/lib/python3.10/dist-packages (from datasets) (3.10.5)\n",
            "Requirement already satisfied: huggingface-hub>=0.22.0 in /usr/local/lib/python3.10/dist-packages (from datasets) (0.24.7)\n",
            "Requirement already satisfied: packaging in /usr/local/lib/python3.10/dist-packages (from datasets) (24.1)\n",
            "Requirement already satisfied: pyyaml>=5.1 in /usr/local/lib/python3.10/dist-packages (from datasets) (6.0.2)\n",
            "Requirement already satisfied: aiohappyeyeballs>=2.3.0 in /usr/local/lib/python3.10/dist-packages (from aiohttp->datasets) (2.4.0)\n",
            "Requirement already satisfied: aiosignal>=1.1.2 in /usr/local/lib/python3.10/dist-packages (from aiohttp->datasets) (1.3.1)\n",
            "Requirement already satisfied: attrs>=17.3.0 in /usr/local/lib/python3.10/dist-packages (from aiohttp->datasets) (24.2.0)\n",
            "Requirement already satisfied: frozenlist>=1.1.1 in /usr/local/lib/python3.10/dist-packages (from aiohttp->datasets) (1.4.1)\n",
            "Requirement already satisfied: multidict<7.0,>=4.5 in /usr/local/lib/python3.10/dist-packages (from aiohttp->datasets) (6.1.0)\n",
            "Requirement already satisfied: yarl<2.0,>=1.0 in /usr/local/lib/python3.10/dist-packages (from aiohttp->datasets) (1.11.1)\n",
            "Requirement already satisfied: async-timeout<5.0,>=4.0 in /usr/local/lib/python3.10/dist-packages (from aiohttp->datasets) (4.0.3)\n",
            "Requirement already satisfied: typing-extensions>=3.7.4.3 in /usr/local/lib/python3.10/dist-packages (from huggingface-hub>=0.22.0->datasets) (4.12.2)\n",
            "Requirement already satisfied: charset-normalizer<4,>=2 in /usr/local/lib/python3.10/dist-packages (from requests>=2.32.2->datasets) (3.3.2)\n",
            "Requirement already satisfied: idna<4,>=2.5 in /usr/local/lib/python3.10/dist-packages (from requests>=2.32.2->datasets) (3.10)\n",
            "Requirement already satisfied: urllib3<3,>=1.21.1 in /usr/local/lib/python3.10/dist-packages (from requests>=2.32.2->datasets) (2.2.3)\n",
            "Requirement already satisfied: certifi>=2017.4.17 in /usr/local/lib/python3.10/dist-packages (from requests>=2.32.2->datasets) (2024.8.30)\n",
            "Requirement already satisfied: python-dateutil>=2.8.2 in /usr/local/lib/python3.10/dist-packages (from pandas->datasets) (2.8.2)\n",
            "Requirement already satisfied: pytz>=2020.1 in /usr/local/lib/python3.10/dist-packages (from pandas->datasets) (2024.2)\n",
            "Requirement already satisfied: tzdata>=2022.1 in /usr/local/lib/python3.10/dist-packages (from pandas->datasets) (2024.1)\n",
            "Requirement already satisfied: six>=1.5 in /usr/local/lib/python3.10/dist-packages (from python-dateutil>=2.8.2->pandas->datasets) (1.16.0)\n",
            "Downloading datasets-3.0.1-py3-none-any.whl (471 kB)\n",
            "\u001b[2K   \u001b[90m━━━━━━━━━━━━━━━━━━━━━━━━━━━━━━━━━━━━━━━━\u001b[0m \u001b[32m471.6/471.6 kB\u001b[0m \u001b[31m9.8 MB/s\u001b[0m eta \u001b[36m0:00:00\u001b[0m\n",
            "\u001b[?25hDownloading dill-0.3.8-py3-none-any.whl (116 kB)\n",
            "\u001b[2K   \u001b[90m━━━━━━━━━━━━━━━━━━━━━━━━━━━━━━━━━━━━━━━━\u001b[0m \u001b[32m116.3/116.3 kB\u001b[0m \u001b[31m11.1 MB/s\u001b[0m eta \u001b[36m0:00:00\u001b[0m\n",
            "\u001b[?25hDownloading pyarrow-17.0.0-cp310-cp310-manylinux_2_28_x86_64.whl (39.9 MB)\n",
            "\u001b[2K   \u001b[90m━━━━━━━━━━━━━━━━━━━━━━━━━━━━━━━━━━━━━━━━\u001b[0m \u001b[32m39.9/39.9 MB\u001b[0m \u001b[31m55.9 MB/s\u001b[0m eta \u001b[36m0:00:00\u001b[0m\n",
            "\u001b[?25hDownloading multiprocess-0.70.16-py310-none-any.whl (134 kB)\n",
            "\u001b[2K   \u001b[90m━━━━━━━━━━━━━━━━━━━━━━━━━━━━━━━━━━━━━━━━\u001b[0m \u001b[32m134.8/134.8 kB\u001b[0m \u001b[31m13.1 MB/s\u001b[0m eta \u001b[36m0:00:00\u001b[0m\n",
            "\u001b[?25hDownloading xxhash-3.5.0-cp310-cp310-manylinux_2_17_x86_64.manylinux2014_x86_64.whl (194 kB)\n",
            "\u001b[2K   \u001b[90m━━━━━━━━━━━━━━━━━━━━━━━━━━━━━━━━━━━━━━━━\u001b[0m \u001b[32m194.1/194.1 kB\u001b[0m \u001b[31m17.9 MB/s\u001b[0m eta \u001b[36m0:00:00\u001b[0m\n",
            "\u001b[?25hInstalling collected packages: xxhash, pyarrow, dill, multiprocess, datasets\n",
            "  Attempting uninstall: pyarrow\n",
            "    Found existing installation: pyarrow 14.0.2\n",
            "    Uninstalling pyarrow-14.0.2:\n",
            "      Successfully uninstalled pyarrow-14.0.2\n",
            "\u001b[31mERROR: pip's dependency resolver does not currently take into account all the packages that are installed. This behaviour is the source of the following dependency conflicts.\n",
            "cudf-cu12 24.4.1 requires pyarrow<15.0.0a0,>=14.0.1, but you have pyarrow 17.0.0 which is incompatible.\u001b[0m\u001b[31m\n",
            "\u001b[0mSuccessfully installed datasets-3.0.1 dill-0.3.8 multiprocess-0.70.16 pyarrow-17.0.0 xxhash-3.5.0\n",
            "Collecting evaluate\n",
            "  Using cached evaluate-0.4.3-py3-none-any.whl.metadata (9.2 kB)\n",
            "Requirement already satisfied: datasets>=2.0.0 in /usr/local/lib/python3.10/dist-packages (from evaluate) (3.0.1)\n",
            "Requirement already satisfied: numpy>=1.17 in /usr/local/lib/python3.10/dist-packages (from evaluate) (1.26.4)\n",
            "Requirement already satisfied: dill in /usr/local/lib/python3.10/dist-packages (from evaluate) (0.3.8)\n",
            "Requirement already satisfied: pandas in /usr/local/lib/python3.10/dist-packages (from evaluate) (2.1.4)\n",
            "Requirement already satisfied: requests>=2.19.0 in /usr/local/lib/python3.10/dist-packages (from evaluate) (2.32.3)\n",
            "Requirement already satisfied: tqdm>=4.62.1 in /usr/local/lib/python3.10/dist-packages (from evaluate) (4.66.5)\n",
            "Requirement already satisfied: xxhash in /usr/local/lib/python3.10/dist-packages (from evaluate) (3.5.0)\n",
            "Requirement already satisfied: multiprocess in /usr/local/lib/python3.10/dist-packages (from evaluate) (0.70.16)\n",
            "Requirement already satisfied: fsspec>=2021.05.0 in /usr/local/lib/python3.10/dist-packages (from fsspec[http]>=2021.05.0->evaluate) (2024.6.1)\n",
            "Requirement already satisfied: huggingface-hub>=0.7.0 in /usr/local/lib/python3.10/dist-packages (from evaluate) (0.24.7)\n",
            "Requirement already satisfied: packaging in /usr/local/lib/python3.10/dist-packages (from evaluate) (24.1)\n",
            "Requirement already satisfied: filelock in /usr/local/lib/python3.10/dist-packages (from datasets>=2.0.0->evaluate) (3.16.1)\n",
            "Requirement already satisfied: pyarrow>=15.0.0 in /usr/local/lib/python3.10/dist-packages (from datasets>=2.0.0->evaluate) (17.0.0)\n",
            "Requirement already satisfied: aiohttp in /usr/local/lib/python3.10/dist-packages (from datasets>=2.0.0->evaluate) (3.10.5)\n",
            "Requirement already satisfied: pyyaml>=5.1 in /usr/local/lib/python3.10/dist-packages (from datasets>=2.0.0->evaluate) (6.0.2)\n",
            "Requirement already satisfied: typing-extensions>=3.7.4.3 in /usr/local/lib/python3.10/dist-packages (from huggingface-hub>=0.7.0->evaluate) (4.12.2)\n",
            "Requirement already satisfied: charset-normalizer<4,>=2 in /usr/local/lib/python3.10/dist-packages (from requests>=2.19.0->evaluate) (3.3.2)\n",
            "Requirement already satisfied: idna<4,>=2.5 in /usr/local/lib/python3.10/dist-packages (from requests>=2.19.0->evaluate) (3.10)\n",
            "Requirement already satisfied: urllib3<3,>=1.21.1 in /usr/local/lib/python3.10/dist-packages (from requests>=2.19.0->evaluate) (2.2.3)\n",
            "Requirement already satisfied: certifi>=2017.4.17 in /usr/local/lib/python3.10/dist-packages (from requests>=2.19.0->evaluate) (2024.8.30)\n",
            "Requirement already satisfied: python-dateutil>=2.8.2 in /usr/local/lib/python3.10/dist-packages (from pandas->evaluate) (2.8.2)\n",
            "Requirement already satisfied: pytz>=2020.1 in /usr/local/lib/python3.10/dist-packages (from pandas->evaluate) (2024.2)\n",
            "Requirement already satisfied: tzdata>=2022.1 in /usr/local/lib/python3.10/dist-packages (from pandas->evaluate) (2024.1)\n",
            "Requirement already satisfied: aiohappyeyeballs>=2.3.0 in /usr/local/lib/python3.10/dist-packages (from aiohttp->datasets>=2.0.0->evaluate) (2.4.0)\n",
            "Requirement already satisfied: aiosignal>=1.1.2 in /usr/local/lib/python3.10/dist-packages (from aiohttp->datasets>=2.0.0->evaluate) (1.3.1)\n",
            "Requirement already satisfied: attrs>=17.3.0 in /usr/local/lib/python3.10/dist-packages (from aiohttp->datasets>=2.0.0->evaluate) (24.2.0)\n",
            "Requirement already satisfied: frozenlist>=1.1.1 in /usr/local/lib/python3.10/dist-packages (from aiohttp->datasets>=2.0.0->evaluate) (1.4.1)\n",
            "Requirement already satisfied: multidict<7.0,>=4.5 in /usr/local/lib/python3.10/dist-packages (from aiohttp->datasets>=2.0.0->evaluate) (6.1.0)\n",
            "Requirement already satisfied: yarl<2.0,>=1.0 in /usr/local/lib/python3.10/dist-packages (from aiohttp->datasets>=2.0.0->evaluate) (1.11.1)\n",
            "Requirement already satisfied: async-timeout<5.0,>=4.0 in /usr/local/lib/python3.10/dist-packages (from aiohttp->datasets>=2.0.0->evaluate) (4.0.3)\n",
            "Requirement already satisfied: six>=1.5 in /usr/local/lib/python3.10/dist-packages (from python-dateutil>=2.8.2->pandas->evaluate) (1.16.0)\n",
            "Downloading evaluate-0.4.3-py3-none-any.whl (84 kB)\n",
            "\u001b[2K   \u001b[90m━━━━━━━━━━━━━━━━━━━━━━━━━━━━━━━━━━━━━━━━\u001b[0m \u001b[32m84.0/84.0 kB\u001b[0m \u001b[31m5.6 MB/s\u001b[0m eta \u001b[36m0:00:00\u001b[0m\n",
            "\u001b[?25hInstalling collected packages: evaluate\n",
            "Successfully installed evaluate-0.4.3\n"
          ]
        }
      ],
      "source": [
        "! pip install transformers evaluate datasets requests pandas sklearn\n",
        "! pip install datasets\n",
        "! pip install evaluate"
      ]
    },
    {
      "cell_type": "code",
      "source": [
        "import torch\n",
        "from huggingface_hub import notebook_login\n",
        "\n",
        "torch.manual_seed(42)\n",
        "if torch.cuda.is_available():\n",
        "    torch.cuda.manual_seed(42)\n",
        "\n",
        "notebook_login()"
      ],
      "metadata": {
        "colab": {
          "base_uri": "https://localhost:8080/",
          "height": 145,
          "referenced_widgets": [
            "9e5be38da76d4a4d958c1408fe05a398",
            "88accbab8e1641e38253a937c6baa3f6",
            "3d02153dc6da4ca0bb0679bb0abab91a",
            "97a1ab6d0117438388b6136440836dc1",
            "e3a9b2c42ed441c3a3258a5651442239",
            "f4b282e072344952bf4e8e0c8ed19a7d",
            "ed33d5a063954c67b6f9ccc586612987",
            "df18ee117eb145f3b67d12e0be3a5ce7",
            "e92c80b2a74e44cb8b07eef84c3dcc68",
            "640a45533e764c70bd1ca66810baf33b",
            "3109124d1f1947b8b5861cc0cacfca7b",
            "b24f9b74ca1b4c7d804a0ddbed4834f5",
            "e0136850593942898edf1f4bbf181245",
            "dab0935474884fd3908a8f24fc97430c",
            "228be51e933e405491a6afd80f4e32de",
            "50e2d6f860594fc9a947ea306aa5b203",
            "c3c7481c56894711915b26a43594f82b",
            "ead5a2bfbb6a4927b525c3bf8d568543",
            "e523f2b3d5d5429293455475a9ddb76e",
            "64a6618b98be48ddbe890d9e0976b9cb",
            "9f8761045ab445c8bd2238dd67a87d55",
            "98cb79109b004306b081e9fd5d344e86",
            "4c9c6d2a051a45ffb4cc0a215730a65c",
            "ac6410438b1c47d9938558095b4d76da",
            "86354de86a704feb80fca44525887251",
            "ac76eb21e1b74a2bb474b29f0c82d722",
            "309cfe0c668f4ca39e09561064ed893a",
            "95cedeb9516e407f855adce88c899dbd",
            "9eec0170c3f1414eb4aea755e79dd97b",
            "730b2fcdc355498c9ea51e25e9ab86c4",
            "436b1e30216e43fba558cb5123eb4b6b",
            "e939d0e8e8f5457f8e815d52e410441b"
          ]
        },
        "id": "vyD1rc52Elyn",
        "outputId": "beb8fc82-11a0-40b7-87de-3a5af13d3ec8"
      },
      "execution_count": 1,
      "outputs": [
        {
          "output_type": "display_data",
          "data": {
            "text/plain": [
              "VBox(children=(HTML(value='<center> <img\\nsrc=https://huggingface.co/front/assets/huggingface_logo-noborder.sv…"
            ],
            "application/vnd.jupyter.widget-view+json": {
              "version_major": 2,
              "version_minor": 0,
              "model_id": "9e5be38da76d4a4d958c1408fe05a398"
            }
          },
          "metadata": {}
        }
      ]
    },
    {
      "cell_type": "markdown",
      "source": [
        "# Playground - 1"
      ],
      "metadata": {
        "id": "_K1abCY5l_W3"
      }
    },
    {
      "cell_type": "code",
      "source": [],
      "metadata": {
        "colab": {
          "base_uri": "https://localhost:8080/",
          "height": 145,
          "referenced_widgets": [
            "98cc2178a8de42aa9bc04cf3935f0e9d",
            "1b759bca79834b7e9343dafe9a6150a1",
            "aaedc0e4c47a4fc2aafe18f4eb4cbee2",
            "2b5c4a2e9cef4e85aa0648e588cc114d",
            "246312f1ed0c4d8fb6398bc94c9e731a",
            "40c4399e515b49599018d5681e19e506",
            "36fef305a1a24221a0b5e516f1a69793",
            "4e49083c53f14fde8d1428bd4b1bb8e8",
            "aa8128315fae4443baa3fe5fe937d8ba",
            "c7a131c1e0da47b790b8321afdd6c4d7",
            "bf2ebc91716043c0bf4c201d4f5176a0",
            "524170358e6f4eb39d19fa804655282b",
            "f1f5573d8799486bae2ad37a62aecb7f",
            "931b0d76298444beb543785de34fdac9",
            "16049807f48749d6b1c2e5d1a837a763",
            "c930120b5785430da4e781b8ca04c0ec",
            "c7b314df2c36407da7a71c9b922446d9",
            "56243ff99a334779a92a07ae3bd6f3dc",
            "27bbd4d84ebe48839de93626f8bba5aa",
            "1d941f184d8744d28158c645e210ac4d",
            "c666e6a535854d0f9708b10d46ca78ea",
            "ae46cc2c5678422ab2ca12c321d81139",
            "ebf8f804c8b34800a7df20c8f5f312d6",
            "0d83fb07c91c458a98f816972390cf6a",
            "feac7c891e2d4677b8dd3e93673c7bf9",
            "cdb0c93b134a417c90a132cde08b7a71",
            "c5fe431956d341e69ee4331395aa0e0c",
            "3e98b0e8cc9e4ed88d67259f0b3f3e64",
            "c1a6ccaa84be4062863dada552f88295",
            "dfbfadc50def40d6bfdc1ee605cf3c97",
            "5a578ba094bf4ac89c82d3fe8751ab12",
            "7ff48ebb0eea4f06b0cfbaddbc1884cf"
          ]
        },
        "id": "K6FBzd5HTpRD",
        "outputId": "4ecd6558-9e3e-449c-fb00-01619b8b05c6"
      },
      "execution_count": 12,
      "outputs": [
        {
          "output_type": "display_data",
          "data": {
            "text/plain": [
              "VBox(children=(HTML(value='<center> <img\\nsrc=https://huggingface.co/front/assets/huggingface_logo-noborder.sv…"
            ],
            "application/vnd.jupyter.widget-view+json": {
              "version_major": 2,
              "version_minor": 0,
              "model_id": "98cc2178a8de42aa9bc04cf3935f0e9d"
            }
          },
          "metadata": {}
        }
      ]
    },
    {
      "cell_type": "code",
      "source": [
        "!apt install git-lfs"
      ],
      "metadata": {
        "colab": {
          "base_uri": "https://localhost:8080/"
        },
        "id": "YOQCHxohTrga",
        "outputId": "4d90206c-98f2-4f90-a835-13c1a103de10"
      },
      "execution_count": 3,
      "outputs": [
        {
          "output_type": "stream",
          "name": "stdout",
          "text": [
            "Reading package lists... Done\n",
            "Building dependency tree... Done\n",
            "Reading state information... Done\n",
            "git-lfs is already the newest version (3.0.2-1ubuntu0.2).\n",
            "0 upgraded, 0 newly installed, 0 to remove and 49 not upgraded.\n"
          ]
        }
      ]
    },
    {
      "cell_type": "code",
      "source": [
        "model_checkpoint = \"facebook/esm2_t30_150M_UR50D\""
      ],
      "metadata": {
        "id": "UGwIQBxNUhJ3"
      },
      "execution_count": 4,
      "outputs": []
    },
    {
      "cell_type": "code",
      "source": [
        "from transformers import AutoModelForSequenceClassification, TrainingArguments, Trainer\n",
        "\n",
        "model_checkpoint = \"facebook/esm2_t36_3B_UR50D\"\n",
        "train_labels = 100; test_labels = 20\n",
        "num_labels = 120  # Add 1 since 0 can be a label\n",
        "hf_model = AutoModelForSequenceClassification.from_pretrained(model_checkpoint, num_labels=num_labels)"
      ],
      "metadata": {
        "colab": {
          "base_uri": "https://localhost:8080/",
          "height": 105,
          "referenced_widgets": [
            "a02b2176c331439b8600af9ca02192c4",
            "174fb683750149f095cf7ab07e2b9319",
            "fe9d294fda884458938ab2ce04577cfb",
            "9a0edc184fa14815b65bb6858a07333c",
            "39aeabc4120e4172b1e9fb0bc8d23db5",
            "13169a37e01a48089361ddec28db014b",
            "956a2d574c584861972b629c8c1da90b",
            "b9ac6543aa4545898d8b7d269a05369d",
            "b865fc3c2f3f4970be7eeb2c89700afa",
            "a0ba48a70a0b448fb8ee3475b3ab2e26",
            "35de7a83deaa4f67bb7de2d7e729d31b"
          ]
        },
        "id": "pcEKc5BeUqAD",
        "outputId": "6473c8b0-3a96-4327-c40d-dcb11ae795dd"
      },
      "execution_count": 88,
      "outputs": [
        {
          "output_type": "display_data",
          "data": {
            "text/plain": [
              "Loading checkpoint shards:   0%|          | 0/2 [00:00<?, ?it/s]"
            ],
            "application/vnd.jupyter.widget-view+json": {
              "version_major": 2,
              "version_minor": 0,
              "model_id": "a02b2176c331439b8600af9ca02192c4"
            }
          },
          "metadata": {}
        },
        {
          "output_type": "stream",
          "name": "stderr",
          "text": [
            "Some weights of EsmForSequenceClassification were not initialized from the model checkpoint at facebook/esm2_t36_3B_UR50D and are newly initialized: ['classifier.dense.bias', 'classifier.dense.weight', 'classifier.out_proj.bias', 'classifier.out_proj.weight']\n",
            "You should probably TRAIN this model on a down-stream task to be able to use it for predictions and inference.\n"
          ]
        }
      ]
    },
    {
      "cell_type": "code",
      "source": [
        "hf_model.esm.encoder.layer[0].attention.self.attention_head_size"
      ],
      "metadata": {
        "colab": {
          "base_uri": "https://localhost:8080/"
        },
        "id": "rXP4pBIs6vrw",
        "outputId": "26ab1129-dd67-4c6c-bfb6-13c53fa30f08"
      },
      "execution_count": 89,
      "outputs": [
        {
          "output_type": "execute_result",
          "data": {
            "text/plain": [
              "64"
            ]
          },
          "metadata": {},
          "execution_count": 89
        }
      ]
    },
    {
      "cell_type": "code",
      "source": [
        "model_sd = model.state_dict()\n",
        "for k, v in model_sd.items(): break"
      ],
      "metadata": {
        "id": "1ztx2igjpmkm"
      },
      "execution_count": 14,
      "outputs": []
    },
    {
      "cell_type": "code",
      "source": [
        "k, v"
      ],
      "metadata": {
        "colab": {
          "base_uri": "https://localhost:8080/"
        },
        "id": "lelnAy-KpxZq",
        "outputId": "5ab454ce-8d3b-454b-85a2-4a523d7c4c68"
      },
      "execution_count": 17,
      "outputs": [
        {
          "output_type": "execute_result",
          "data": {
            "text/plain": [
              "('esm.embeddings.word_embeddings.weight',\n",
              " tensor([[ 0.1686,  0.0169, -0.0477,  ..., -0.1536,  0.1710,  0.1385],\n",
              "         [ 0.0445,  0.0205, -0.1031,  ..., -0.0916, -0.0045, -0.0030],\n",
              "         [ 0.1497, -0.0624, -0.2800,  ..., -0.2927,  0.2073,  0.1564],\n",
              "         ...,\n",
              "         [ 0.0188,  0.1002, -0.1085,  ..., -0.0238, -0.1433,  0.0057],\n",
              "         [-0.0223, -0.0260, -0.0794,  ..., -0.0039, -0.1411, -0.0453],\n",
              "         [ 0.0449,  0.0241, -0.0987,  ..., -0.0847,  0.0028, -0.0046]]))"
            ]
          },
          "metadata": {},
          "execution_count": 17
        }
      ]
    },
    {
      "cell_type": "code",
      "source": [
        "import math\n",
        "import torch\n",
        "import time\n",
        "\n",
        "from torch import nn\n",
        "from torch.nn import functional as F\n",
        "from dataclasses import dataclass\n",
        "\n",
        "@dataclass\n",
        "class ESMConfig():\n",
        "    block_size: int = 1024\n",
        "    vocab_size: int = 50257\n",
        "    n_layer: int = 12\n",
        "    n_head: int = 12\n",
        "    n_embd: int = 768\n",
        "    hidden_size: int = 4096 # 4 * block_size\n",
        "    dropout: float = 0.0\n",
        "\n",
        "class ESMLinearLayers(nn.Module):\n",
        "    def __init__(self, nin, nout):\n",
        "        super().__init__()\n",
        "        self.dense = nn.Linear(nin, nout)\n",
        "        self.dropout = nn.Dropout(getattr(config, \"hidden_dropout_prob\", 0))\n",
        "\n",
        "    def forward(self, hidden_states, input_tensor):\n",
        "        hidden_states = self.dense(hidden_states)\n",
        "        hidden_states = self.dropout(hidden_states)\n",
        "        hidden_states = hidden_states + input_tensor\n",
        "        return hidden_states\n",
        "\n",
        "class ESMSelfAttn(nn.Module):\n",
        "\n",
        "    def __init__(self, config):\n",
        "        super().__init__()\n",
        "        self.query = nn.Linear(config.n_embd, config.n_embd)\n",
        "        self.key = nn.Linear(config.n_embd, config.n_embd)\n",
        "        self.value = nn.Linear(config.n_embd, config.n_embd)\n",
        "\n",
        "        # Add a rotary embeddings here\n",
        "\n",
        "        self.n_head = config.n_head\n",
        "        assert config.n_embd % config.n_head == 0\n",
        "\n",
        "        self.register_buffer('bias', torch.tril(\n",
        "            torch.ones(config.block_size, config.block_size)).view(1, 1, config.block_size, config.block_size))\n",
        "\n",
        "    def forward(self, x): pass\n",
        "\n",
        "class ESMAttn(nn.Module):\n",
        "\n",
        "    def __init__(self, config):\n",
        "        super().__init__()\n",
        "        self.self = ESMSelfAttn(config)\n",
        "        self.output = nn.ModuleDict(dict(dense = nn.Linear(config.n_embd, config.n_embd),\n",
        "                                         dropout = nn.Dropout(p = config.dropout)))\n",
        "\n",
        "        self.LayerNorm = nn.LayerNorm(config.n_embd)\n",
        "\n",
        "    def forward(self, x): pass\n",
        "\n",
        "class ESMLayers(nn.Module):\n",
        "\n",
        "    def __init__(self, config):\n",
        "        super().__init__()\n",
        "        self.attention = ESMAttn(config)\n",
        "        self.intermediate = ESMLinearLayers(config.n_embd, config.hidden_size)\n",
        "        self.output = ESMLinearLayers(config.hidden_size, config.n_embd)\n",
        "        self.LayerNorm = nn.LayerNorm(config.n_embd)\n",
        "\n",
        "    def forward(self, x): pass\n",
        "\n",
        "class ESMEncoder(nn.Module):\n",
        "\n",
        "    def __init__(self, config):\n",
        "        super().__init__()\n",
        "        self.layer = nn.ModuleList([ESMLayers(config) for _ in range(config.n_layer)])\n",
        "        self.emb_layer_norm_after = nn.LayerNorm(config.n_embd)\n",
        "\n",
        "    def forward(self, x): pass\n",
        "\n",
        "class ESM(nn.Module):\n",
        "\n",
        "    def __init__(self, config):\n",
        "\n",
        "        super().__init__()\n",
        "        self.config = config\n",
        "        self.esm = nn.ModuleDict(dict(\n",
        "            embeddings = nn.ModuleDict(dict(\n",
        "                word_embeddings = nn.Embedding(config.vocab_size, config.n_embd),\n",
        "                position_embeddings = nn.Embedding(config.block_size, config.n_embd)\n",
        "            )),\n",
        "            encoder = ESMEncoder(config),\n",
        "            final_layer = nn.Linear(config.n_embd, config.vocab_size)\n",
        "        ))\n",
        "        self.esm.final_layer.weight = self.esm.embeddings.word_embeddings.weight\n",
        "\n",
        "    @classmethod\n",
        "    def get_pretrained_config(cls, model_type = 'esm2_t33_650M_UR50D'):\n",
        "\n",
        "        '''\n",
        "        name                n_layers    n_params\n",
        "        esm2_t48_15B_UR50D\t48\t        15B\n",
        "        esm2_t36_3B_UR50D\t36\t        3B\n",
        "        esm2_t33_650M_UR50D\t33\t        650M\n",
        "        esm2_t30_150M_UR50D\t30\t        150M\n",
        "        esm2_t12_35M_UR50D\t12\t        35M\n",
        "        esm2_t6_8M_UR50D\n",
        "        '''\n",
        "\n",
        "        assert model_type in {'esm2_t36_3B_UR50D', 'esm2_t33_650M_UR50D', 'esm2_t30_150M_UR50D'}\n",
        "\n",
        "        config_args = {\n",
        "            'esm2_t36_3B_UR50D': dict(n_layer=36, n_head = 64, n_embd=2560, hidden_size=10240), # 3B params\n",
        "            'esm2_t33_650M_UR50D': dict(n_layer=33, n_head = 32, n_embd=1280, hidden_size=5120), # 650M params\n",
        "            'esm2_t30_150M_UR50D': dict(n_layer=30, n_head = 16, n_embd=640, hidden_size=2560), # 150M params\n",
        "        }[model_type]\n",
        "\n",
        "        config_args['vocab_size'] = 33 # always 33 for ESM Models\n",
        "        config_args['block_size'] = 1026 # Always constant for ESM Models\n",
        "        config = ESMConfig(**config_args)\n",
        "        return config\n",
        "\n",
        "\n",
        "    @classmethod\n",
        "    def load_pretrained(cls, model_type = 'esm2_t33_650M_UR50D'):\n",
        "\n",
        "        config = cls.get_pretrained_config(model_type)\n",
        "        print(\"loading weights from pretrained gpt: %s\" % model_type)\n",
        "\n",
        "        # create a from-scratch initialized minGPT model\n",
        "        model = cls(config)\n",
        "        sd = model.state_dict()\n",
        "        sd_keys = sd.keys()\n",
        "        sd_keys = [k for k in sd_keys if not k.endswith('.attn.bias')] # discard this mask / buffer, not a param\n",
        "\n",
        "        # init a huggingface/transformers model\n",
        "        from transformers import AutoModelForSequenceClassification\n",
        "\n",
        "        model_checkpoint = f\"facebook/{model_type}\"\n",
        "        num_labels = 33\n",
        "        model_hf = AutoModelForSequenceClassification.from_pretrained(model_checkpoint, num_labels=num_labels)\n",
        "        sd_hf = model_hf.state_dict()\n",
        "\n",
        "        # copy while ensuring all of the parameters are aligned and match in names and shapes\n",
        "        sd_keys_hf = sd_hf.keys()\n",
        "        sd_keys_hf = [k for k in sd_keys_hf if not k.endswith('.attn.masked_bias')] # ignore these, just a buffer\n",
        "        sd_keys_hf = [k for k in sd_keys_hf if not k.endswith('.attn.bias')] # same, just the mask (buffer)\n",
        "        sd_keys_hf = [k for k in sd_keys_hf if 'inv_freq' not in k]\n",
        "        sd_keys_hf = [k for k in sd_keys_hf if 'classifier' not in k]\n",
        "\n",
        "        ignore_keys = ['esm.contact_head.regression.weight', 'esm.contact_head.regression.bias']\n",
        "        for k in sd_keys_hf:\n",
        "\n",
        "            if k in ignore_keys: continue\n",
        "\n",
        "            # vanilla copy over the other parameters\n",
        "            try: assert sd_hf[k].shape == sd[k].shape\n",
        "            except Exception as e: print(f\"Mismatch in the shape of tensor while loading weights - Key: {k}, expected shape: {sd_hf[k].shape}, actual shape: {sd[k].shape}\")\n",
        "\n",
        "            with torch.no_grad():\n",
        "                sd[k].copy_(sd_hf[k])\n",
        "\n",
        "        # Set the final layers bias as 0 so that it does not affect weight tying scheme\n",
        "        with torch.no_grad():\n",
        "            model.esm.final_layer.bias.zero_()\n",
        "\n",
        "        # Freeze the model\n",
        "        for param in model.parameters():\n",
        "            param.requires_grad = False\n",
        "\n",
        "        return model\n",
        "\n",
        "    def forward(self, x): pass"
      ],
      "metadata": {
        "id": "3KRMouzzojmF"
      },
      "execution_count": 59,
      "outputs": []
    },
    {
      "cell_type": "code",
      "source": [
        "model = ESM.load_pretrained(model_type = 'esm2_t30_150M_UR50D')"
      ],
      "metadata": {
        "colab": {
          "base_uri": "https://localhost:8080/"
        },
        "id": "aLyH6dMTvdMd",
        "outputId": "a59b9d98-16ea-4431-c480-7245c347cce2"
      },
      "execution_count": 64,
      "outputs": [
        {
          "output_type": "stream",
          "name": "stdout",
          "text": [
            "esm2_t30_150M_UR50D\n",
            "loading weights from pretrained gpt: esm2_t30_150M_UR50D\n"
          ]
        },
        {
          "output_type": "stream",
          "name": "stderr",
          "text": [
            "Some weights of EsmForSequenceClassification were not initialized from the model checkpoint at facebook/esm2_t30_150M_UR50D and are newly initialized: ['classifier.dense.bias', 'classifier.dense.weight', 'classifier.out_proj.bias', 'classifier.out_proj.weight']\n",
            "You should probably TRAIN this model on a down-stream task to be able to use it for predictions and inference.\n"
          ]
        }
      ]
    },
    {
      "cell_type": "code",
      "source": [
        "config = ESM.get_pretrained_config(\"esm2_t30_150M_UR50D\")\n",
        "model = ESM(config)"
      ],
      "metadata": {
        "colab": {
          "base_uri": "https://localhost:8080/"
        },
        "id": "TO-Z6kH9yzXx",
        "outputId": "2c44fe32-9c97-4653-8e36-dede8a397ca5"
      },
      "execution_count": 62,
      "outputs": [
        {
          "output_type": "stream",
          "name": "stdout",
          "text": [
            "esm2_t30_150M_UR50D\n"
          ]
        }
      ]
    },
    {
      "cell_type": "code",
      "source": [
        "with torch.no_grad():\n",
        "    model.esm.final_layer.bias.zero_()\n",
        "model.esm.final_layer.bias.requires_grad = False"
      ],
      "metadata": {
        "id": "TSXVt4NKAjXY"
      },
      "execution_count": 72,
      "outputs": []
    },
    {
      "cell_type": "code",
      "source": [],
      "metadata": {
        "id": "TkybWPn9Al-n"
      },
      "execution_count": null,
      "outputs": []
    },
    {
      "cell_type": "markdown",
      "source": [
        "# Data Shit"
      ],
      "metadata": {
        "id": "YH9JZxpwoP9l"
      }
    },
    {
      "cell_type": "code",
      "source": [
        "# Load Data\n",
        "import requests\n",
        "\n",
        "query_url =\"https://rest.uniprot.org/uniprotkb/stream?compressed=true&fields=accession%2Csequence%2Ccc_subcellular_location&format=tsv&query=%28%28organism_id%3A9606%29%20AND%20%28reviewed%3Atrue%29%20AND%20%28length%3A%5B80%20TO%20500%5D%29%29\"\n",
        "uniprot_request = requests.get(query_url)\n",
        "\n",
        "from io import BytesIO\n",
        "import pandas\n",
        "\n",
        "bio = BytesIO(uniprot_request.content)\n",
        "\n",
        "df = pandas.read_csv(bio, compression='gzip', sep='\\t')\n",
        "df.head()\n",
        "\n",
        "df = df.dropna()\n",
        "cytosolic = df['Subcellular location [CC]'].str.contains(\"Cytosol\") | df['Subcellular location [CC]'].str.contains(\"Cytoplasm\")\n",
        "membrane = df['Subcellular location [CC]'].str.contains(\"Membrane\") | df['Subcellular location [CC]'].str.contains(\"Cell membrane\")\n",
        "cytosolic_df = df[cytosolic & ~membrane]\n",
        "cytosolic_df.head()\n",
        "\n",
        "membrane_df = df[membrane & ~cytosolic]\n",
        "membrane_df.head()\n",
        "\n",
        "cytosolic_sequences = cytosolic_df[\"Sequence\"].tolist()\n",
        "cytosolic_labels = [0 for protein in cytosolic_sequences]\n",
        "membrane_sequences = membrane_df[\"Sequence\"].tolist()\n",
        "membrane_labels = [1 for protein in membrane_sequences]\n",
        "sequences = cytosolic_sequences + membrane_sequences\n",
        "labels = cytosolic_labels + membrane_labels\n",
        "\n",
        "# Quick check to make sure we got it right\n",
        "assert len(sequences) == len(labels)"
      ],
      "metadata": {
        "id": "Mytsmh9dmrjB"
      },
      "execution_count": 2,
      "outputs": []
    },
    {
      "cell_type": "code",
      "source": [
        "model_checkpoint = 'facebook/esm2_t30_150M_UR50D'\n",
        "from sklearn.model_selection import train_test_split\n",
        "\n",
        "train_sequences, test_sequences, train_labels, test_labels = train_test_split(sequences, labels, test_size=0.25, shuffle=True)\n",
        "from transformers import AutoTokenizer\n",
        "tokenizer = AutoTokenizer.from_pretrained(model_checkpoint, padding='max_length', max_length=1026)\n",
        "tokenizer(train_sequences[0])\n",
        "\n",
        "from datasets import Dataset\n",
        "\n",
        "train_tokenized = tokenizer(train_sequences)\n",
        "test_tokenized = tokenizer(test_sequences)\n",
        "\n",
        "padded_train_tokenized = tokenizer.pad(train_tokenized, padding = 'max_length', max_length= 1026)\n",
        "padded_test_tokenized = tokenizer.pad(test_tokenized, padding = 'max_length', max_length= 1026)\n",
        "\n",
        "padded_train_dataset = Dataset.from_dict(padded_train_tokenized)\n",
        "padded_train_dataset = padded_train_dataset.add_column(\"labels\", train_labels)\n",
        "\n",
        "padded_test_dataset = Dataset.from_dict(padded_test_tokenized)\n",
        "padded_test_dataset = padded_test_dataset.add_column(\"labels\", test_labels)\n",
        "print(len(padded_train_dataset[0]['input_ids']), len(padded_train_dataset[1]['input_ids']), len(padded_test_dataset[0]['input_ids']), len(padded_test_dataset[1]['input_ids']))"
      ],
      "metadata": {
        "colab": {
          "base_uri": "https://localhost:8080/"
        },
        "id": "u6FhU60enwco",
        "outputId": "6eee9859-65f8-44ce-85f9-e3e0db13b40b"
      },
      "execution_count": 3,
      "outputs": [
        {
          "output_type": "stream",
          "name": "stderr",
          "text": [
            "/usr/local/lib/python3.10/dist-packages/huggingface_hub/utils/_token.py:89: UserWarning: \n",
            "The secret `HF_TOKEN` does not exist in your Colab secrets.\n",
            "To authenticate with the Hugging Face Hub, create a token in your settings tab (https://huggingface.co/settings/tokens), set it as secret in your Google Colab and restart your session.\n",
            "You will be able to reuse this secret in all of your notebooks.\n",
            "Please note that authentication is recommended but still optional to access public models or datasets.\n",
            "  warnings.warn(\n",
            "/usr/local/lib/python3.10/dist-packages/transformers/tokenization_utils_base.py:1601: FutureWarning: `clean_up_tokenization_spaces` was not set. It will be set to `True` by default. This behavior will be depracted in transformers v4.45, and will be then set to `False` by default. For more details check this issue: https://github.com/huggingface/transformers/issues/31884\n",
            "  warnings.warn(\n"
          ]
        },
        {
          "output_type": "stream",
          "name": "stdout",
          "text": [
            "1026 1026 1026 1026\n"
          ]
        }
      ]
    },
    {
      "cell_type": "code",
      "source": [
        "from transformers import AutoModelForSequenceClassification, TrainingArguments, Trainer\n",
        "\n",
        "num_labels = max(train_labels + test_labels) + 1  # Add 1 since 0 can be a label\n",
        "hf_model = AutoModelForSequenceClassification.from_pretrained(model_checkpoint, num_labels=num_labels)\n",
        "\n",
        "model_name = model_checkpoint.split(\"/\")[-1]\n",
        "batch_size = 8\n",
        "\n",
        "args = TrainingArguments(\n",
        "    f\"{model_name}-finetuned-localization\",\n",
        "    evaluation_strategy = \"epoch\",\n",
        "    save_strategy = \"epoch\",\n",
        "    learning_rate=2e-5,\n",
        "    per_device_train_batch_size=batch_size,\n",
        "    per_device_eval_batch_size=batch_size,\n",
        "    num_train_epochs=3,\n",
        "    weight_decay=0.01,\n",
        "    load_best_model_at_end=True,\n",
        "    metric_for_best_model=\"accuracy\",\n",
        "    push_to_hub=True,\n",
        ")\n",
        "\n",
        "from evaluate import load\n",
        "import numpy as np\n",
        "\n",
        "metric = load(\"accuracy\")\n",
        "\n",
        "def compute_metrics(eval_pred):\n",
        "    predictions, labels = eval_pred\n",
        "    predictions = np.argmax(predictions, axis=1)\n",
        "    return metric.compute(predictions=predictions, references=labels)\n",
        "\n",
        "from torch.utils.data import DataLoader\n",
        "class MyTrainer(Trainer):\n",
        "\n",
        "    def get_train_dataloader(self, batch_size = 2):\n",
        "        if self.train_dataset is None:\n",
        "            raise ValueError(\"Trainer: training requires a train_dataset.\")\n",
        "        train_sampler = self._get_train_sampler()\n",
        "\n",
        "        return DataLoader(\n",
        "            self.train_dataset,\n",
        "            batch_size=batch_size,\n",
        "            sampler=train_sampler,\n",
        "            collate_fn=self.data_collator,\n",
        "            drop_last=self.args.dataloader_drop_last,\n",
        "        )\n",
        "\n",
        "trainer = MyTrainer(\n",
        "    hf_model,\n",
        "    args,\n",
        "    train_dataset = padded_train_dataset,\n",
        "    eval_dataset = padded_test_dataset,\n",
        "    tokenizer=tokenizer,\n",
        "    compute_metrics=compute_metrics,\n",
        ")\n",
        "\n",
        "train_dl = trainer.get_train_dataloader(2)\n",
        "batch = next(iter(train_dl))"
      ],
      "metadata": {
        "colab": {
          "base_uri": "https://localhost:8080/"
        },
        "id": "ecPZBwkiqocr",
        "outputId": "ea0b56a1-4db1-4077-8c4f-c4918599c5e3"
      },
      "execution_count": 4,
      "outputs": [
        {
          "output_type": "stream",
          "name": "stderr",
          "text": [
            "Some weights of EsmForSequenceClassification were not initialized from the model checkpoint at facebook/esm2_t30_150M_UR50D and are newly initialized: ['classifier.dense.bias', 'classifier.dense.weight', 'classifier.out_proj.bias', 'classifier.out_proj.weight']\n",
            "You should probably TRAIN this model on a down-stream task to be able to use it for predictions and inference.\n",
            "/usr/local/lib/python3.10/dist-packages/transformers/training_args.py:1525: FutureWarning: `evaluation_strategy` is deprecated and will be removed in version 4.46 of 🤗 Transformers. Use `eval_strategy` instead\n",
            "  warnings.warn(\n"
          ]
        }
      ]
    },
    {
      "cell_type": "markdown",
      "source": [
        "# Playground - 2"
      ],
      "metadata": {
        "id": "N66aKBO9mC41"
      }
    },
    {
      "cell_type": "code",
      "source": [
        "import math\n",
        "import torch\n",
        "\n",
        "from torch import nn\n",
        "from torch.nn import functional as F\n",
        "from dataclasses import dataclass\n",
        "from einops import rearrange, repeat\n",
        "\n",
        "\n",
        "def rotate_half(x):\n",
        "    x1, x2 = x.chunk(2, dim=-1)\n",
        "    return torch.cat((-x2, x1), dim=-1)\n",
        "\n",
        "\n",
        "def apply_rotary_pos_emb(x, cos, sin):\n",
        "    cos = cos[:, :, : x.shape[-2], :]\n",
        "    sin = sin[:, :, : x.shape[-2], :]\n",
        "\n",
        "    return (x * cos) + (rotate_half(x) * sin)\n",
        "\n",
        "class RotaryEmbedding(torch.nn.Module):\n",
        "    \"\"\"\n",
        "    Rotary position embeddings based on those in\n",
        "    [RoFormer](https://huggingface.co/docs/transformers/model_doc/roformer). Query and keys are transformed by rotation\n",
        "    matrices which depend on their relative positions.\n",
        "    \"\"\"\n",
        "\n",
        "    def __init__(self, dim: int):\n",
        "        super().__init__()\n",
        "        # Generate and save the inverse frequency buffer (non trainable)\n",
        "        inv_freq = 1.0 / (10000 ** (torch.arange(0, dim, 2, dtype=torch.int64).float() / dim))\n",
        "        inv_freq = inv_freq\n",
        "        self.register_buffer(\"inv_freq\", inv_freq)\n",
        "\n",
        "        self._seq_len_cached = None\n",
        "        self._cos_cached = None\n",
        "        self._sin_cached = None\n",
        "\n",
        "    def _update_cos_sin_tables(self, x, seq_dimension=2):\n",
        "        seq_len = x.shape[seq_dimension]\n",
        "\n",
        "        # Reset the tables if the sequence length has changed,\n",
        "        # or if we're on a new device (possibly due to tracing for instance)\n",
        "        if seq_len != self._seq_len_cached or self._cos_cached.device != x.device:\n",
        "            self._seq_len_cached = seq_len\n",
        "            t = torch.arange(x.shape[seq_dimension], device=x.device).type_as(self.inv_freq)\n",
        "            freqs = torch.outer(t, self.inv_freq)\n",
        "            emb = torch.cat((freqs, freqs), dim=-1).to(x.device)\n",
        "\n",
        "            self._cos_cached = emb.cos()[None, None, :, :]\n",
        "            self._sin_cached = emb.sin()[None, None, :, :]\n",
        "\n",
        "        return self._cos_cached, self._sin_cached\n",
        "\n",
        "    def forward(self, q: torch.Tensor, k: torch.Tensor) -> tuple[torch.Tensor, torch.Tensor]:\n",
        "        self._cos_cached, self._sin_cached = self._update_cos_sin_tables(k, seq_dimension=-2)\n",
        "\n",
        "        return (\n",
        "            apply_rotary_pos_emb(q, self._cos_cached, self._sin_cached),\n",
        "            apply_rotary_pos_emb(k, self._cos_cached, self._sin_cached)\n",
        "        )\n",
        "\n",
        "@dataclass\n",
        "class ESMConfig():\n",
        "    block_size: int = 1024\n",
        "    vocab_size: int = 50257\n",
        "    n_layer: int = 12\n",
        "    n_head: int = 12\n",
        "    n_embd: int = 768\n",
        "    hidden_size: int = 4096 # 4 * block_size\n",
        "    dropout: float = 0.0\n",
        "\n",
        "class ESMIntermediateLayer(nn.Module):\n",
        "    def __init__(self, nin, nout, dropout = 0.0):\n",
        "        super().__init__()\n",
        "        self.dense = nn.Linear(nin, nout)\n",
        "        self.act = nn.GELU(approximate = 'tanh')\n",
        "\n",
        "    def forward(self, x):\n",
        "        return self.act(self.dense(x))\n",
        "\n",
        "class ESMOutLayer(nn.Module):\n",
        "    def __init__(self, nin, nout, dropout = 0.0):\n",
        "        super().__init__()\n",
        "        self.dense = nn.Linear(nin, nout)\n",
        "        self.dropout = nn.Dropout(dropout)\n",
        "\n",
        "    def forward(self, x, attn_scores):\n",
        "        x = self.dense(x)\n",
        "        x = self.dropout(x)\n",
        "        x = x + attn_scores\n",
        "        return x\n",
        "\n",
        "class ESMSelfAttn(nn.Module): # Verified\n",
        "\n",
        "    def __init__(self, config):\n",
        "        super().__init__()\n",
        "\n",
        "        assert config.n_embd % config.n_head == 0\n",
        "\n",
        "        self.query = nn.Linear(config.n_embd, config.n_embd)\n",
        "        self.key = nn.Linear(config.n_embd, config.n_embd)\n",
        "        self.value = nn.Linear(config.n_embd, config.n_embd)\n",
        "\n",
        "        self.n_head = config.n_head\n",
        "        attention_head_size = config.n_embd//config.n_head\n",
        "        # Add a rotary embeddings here\n",
        "        self.rotary_embeddings = RotaryEmbedding(dim = attention_head_size)\n",
        "\n",
        "    def forward(self, x, attention_mask):\n",
        "\n",
        "        # x -> (b, s, e) -> (b s, h, e/h)\n",
        "        k, q, v = self.key(x), self.query(x), self.value(x)\n",
        "\n",
        "        k = rearrange(k, 'b s (h e) -> b h s e', h = self.n_head)\n",
        "        q = rearrange(q, 'b s (h e) -> b h s e', h = self.n_head)\n",
        "        v = rearrange(v, 'b s (h e) -> b h s e', h = self.n_head)\n",
        "\n",
        "        # Add rotary embeddings here for k and q tensors\n",
        "        q, k = self.rotary_embeddings(q, k)\n",
        "\n",
        "        # Attention claculation - # TODO: make is_casual true in case of finetuning - Very important\n",
        "        y = F.scaled_dot_product_attention(q, k, v, attn_mask = attention_mask, is_causal=False) # flash attention\n",
        "        y = rearrange(y, 'b h s e -> b s (h e)', h = self.n_head)\n",
        "        return y\n",
        "\n",
        "class ESMAttn(nn.Module): # Verified\n",
        "\n",
        "    def __init__(self, config):\n",
        "        super().__init__() # No activation function at this level\n",
        "        self.self = ESMSelfAttn(config)\n",
        "        self.output = ESMOutLayer(config.n_embd, config.n_embd, dropout = getattr(config, 'dropout', 0.))\n",
        "        self.LayerNorm = nn.LayerNorm(config.n_embd)\n",
        "\n",
        "    def forward(self, x, attention_mask):\n",
        "        inter_x = self.LayerNorm(x)\n",
        "        attn = self.self(inter_x, attention_mask)\n",
        "        out = self.output(attn, x)\n",
        "        return out\n",
        "\n",
        "class ESMLayers(nn.Module): # Both Init and Forward Verified - Done and Dusted\n",
        "\n",
        "    def __init__(self, config):\n",
        "        super().__init__()\n",
        "        self.attention = ESMAttn(config)\n",
        "        self.intermediate = ESMIntermediateLayer(config.n_embd, config.hidden_size) #\n",
        "        self.output = ESMOutLayer(config.hidden_size, config.n_embd) #\n",
        "        self.LayerNorm = nn.LayerNorm(config.n_embd)\n",
        "\n",
        "    def forward(self, x, attention_mask):\n",
        "        attention_op = self.attention(x, attention_mask)\n",
        "        attention_op_ln = self.LayerNorm(attention_op)\n",
        "        inter = self.intermediate(attention_op_ln)\n",
        "        out = self.output(inter, attention_op)\n",
        "        return out\n",
        "\n",
        "class ESMEncoder(nn.Module):\n",
        "\n",
        "    def __init__(self, config):\n",
        "        super().__init__()\n",
        "\n",
        "        # No activation functions here as well\n",
        "\n",
        "        self.layer = nn.ModuleList([ESMLayers(config) for _ in range(config.n_layer)])\n",
        "        self.emb_layer_norm_after = nn.LayerNorm(config.n_embd)\n",
        "\n",
        "    def forward(self, x, attention_mask = None):\n",
        "\n",
        "        for layer in self.layer:\n",
        "            x = layer(x, attention_mask)\n",
        "\n",
        "        return self.emb_layer_norm_after(x)\n",
        "\n",
        "class ESM(nn.Module):\n",
        "\n",
        "    def __init__(self, config):\n",
        "\n",
        "        super().__init__()\n",
        "        self.config = config\n",
        "        self.esm = nn.ModuleDict(dict(\n",
        "            embeddings = nn.ModuleDict(dict( # No activation needed - for both the embeddings - done - forward done\n",
        "                word_embeddings = nn.Embedding(config.vocab_size, config.n_embd),\n",
        "                position_embeddings = nn.Embedding(config.block_size, config.n_embd)\n",
        "            )),\n",
        "            encoder = ESMEncoder(config), # Done, forward - here\n",
        "            final_layer = nn.Linear(config.n_embd, config.vocab_size)\n",
        "        ))\n",
        "        self.esm.final_layer.weight = self.esm.embeddings.word_embeddings.weight\n",
        "\n",
        "    @classmethod\n",
        "    def get_pretrained_config(cls, model_type = 'esm2_t33_650M_UR50D'):\n",
        "\n",
        "        '''\n",
        "        name                n_layers    n_params\n",
        "        esm2_t48_15B_UR50D\t48\t        15B\n",
        "        esm2_t36_3B_UR50D\t36\t        3B\n",
        "        esm2_t33_650M_UR50D\t33\t        650M\n",
        "        esm2_t30_150M_UR50D\t30\t        150M\n",
        "        esm2_t12_35M_UR50D\t12\t        35M\n",
        "        esm2_t6_8M_UR50D\n",
        "        '''\n",
        "\n",
        "        assert model_type in {'esm2_t36_3B_UR50D', 'esm2_t33_650M_UR50D', 'esm2_t30_150M_UR50D'}\n",
        "\n",
        "        config_args = {\n",
        "            'esm2_t36_3B_UR50D': dict(n_layer=36, n_head = 40, n_embd=2560, hidden_size=10240), # 3B params\n",
        "            'esm2_t33_650M_UR50D': dict(n_layer=33, n_head = 20, n_embd=1280, hidden_size=5120), # 650M params\n",
        "            'esm2_t30_150M_UR50D': dict(n_layer=30, n_head = 20, n_embd=640, hidden_size=2560), # 150M params\n",
        "        }[model_type]\n",
        "\n",
        "        config_args['vocab_size'] = 33 # always 33 for ESM Models\n",
        "        config_args['block_size'] = 1026 # Always constant for ESM Models\n",
        "        config = ESMConfig(**config_args)\n",
        "        return config\n",
        "\n",
        "\n",
        "    @classmethod\n",
        "    def load_pretrained(cls, model_type = 'esm2_t33_650M_UR50D'):\n",
        "\n",
        "        config = cls.get_pretrained_config(model_type)\n",
        "        print(\"loading weights from pretrained gpt: %s\" % model_type)\n",
        "\n",
        "        # create a from-scratch initialized minGPT model\n",
        "        model = cls(config)\n",
        "        sd = model.state_dict()\n",
        "        sd_keys = sd.keys()\n",
        "        sd_keys = [k for k in sd_keys if not k.endswith('.attn.bias')] # discard this mask / buffer, not a param\n",
        "\n",
        "        # init a huggingface/transformers model\n",
        "        from transformers import AutoModelForSequenceClassification\n",
        "\n",
        "        model_checkpoint = f\"facebook/{model_type}\"\n",
        "        num_labels = 33\n",
        "        model_hf = AutoModelForSequenceClassification.from_pretrained(model_checkpoint, num_labels=num_labels)\n",
        "        sd_hf = model_hf.state_dict()\n",
        "\n",
        "        # copy while ensuring all of the parameters are aligned and match in names and shapes\n",
        "        sd_keys_hf = sd_hf.keys()\n",
        "        sd_keys_hf = [k for k in sd_keys_hf if not k.endswith('.attn.masked_bias')] # ignore these, just a buffer\n",
        "        sd_keys_hf = [k for k in sd_keys_hf if not k.endswith('.attn.bias')] # same, just the mask (buffer)\n",
        "        sd_keys_hf = [k for k in sd_keys_hf if 'inv_freq' not in k]\n",
        "        sd_keys_hf = [k for k in sd_keys_hf if 'classifier' not in k]\n",
        "\n",
        "        ignore_keys = ['esm.contact_head.regression.weight', 'esm.contact_head.regression.bias']\n",
        "        for k in sd_keys_hf:\n",
        "\n",
        "            if k in ignore_keys: continue\n",
        "\n",
        "            # vanilla copy over the other parameters\n",
        "            try: assert sd_hf[k].shape == sd[k].shape\n",
        "            except Exception as e: print(f\"Mismatch in the shape of tensor while loading weights - Key: {k}, expected shape: {sd_hf[k].shape}, actual shape: {sd[k].shape}\")\n",
        "\n",
        "            with torch.no_grad():\n",
        "                sd[k].copy_(sd_hf[k])\n",
        "\n",
        "        # Set the final layers bias as 0 so that it does not affect weight tying scheme\n",
        "        with torch.no_grad():\n",
        "            model.esm.final_layer.bias.zero_()\n",
        "\n",
        "        # Freeze the model\n",
        "        for param in model.parameters():\n",
        "            param.requires_grad = False\n",
        "\n",
        "        return model\n",
        "\n",
        "    def get_embs(self, x, attention_mask = None):\n",
        "        token_embs = self.esm.embeddings.word_embeddings(x)\n",
        "        # Not required as we are use rotary embeddings - Hence we do not require absolute position embeddings\n",
        "        # position_embs = self.esm.embeddings.position_embeddings(torch.arange(0, x.shape[1], 1, dtype = torch.long))\n",
        "\n",
        "        if attention_mask is not None:\n",
        "            token_embs = (token_embs * attention_mask.unsqueeze(-1)).to(token_embs.dtype)\n",
        "\n",
        "        return token_embs\n",
        "\n",
        "    def get_extended_attn_mask(self, attention_mask, input_shape):\n",
        "\n",
        "        if attention_mask == None: return None\n",
        "        b, s = attention_mask.shape\n",
        "        # Make the attention mask braodcastable for [batch_size, n_heads, seq_len, seq_len]\n",
        "        attention_mask = attention_mask[:, None, None, :]\n",
        "\n",
        "        # Now make sure that it has negetive infinity for all the padded tokens and\n",
        "        # 0 for all attention tokens as we add this mask to attention scores\n",
        "        attn_mask = attention_mask.to(torch.float32)\n",
        "        attn_mask = (1 - attn_mask) * (torch.finfo(torch.float32).min)\n",
        "        attn_mask = attn_mask.expand(b, 1, s, s)\n",
        "        return attn_mask\n",
        "\n",
        "    def forward(self, x, y = None, attention_mask = None, output_encoder = True):\n",
        "\n",
        "        # Calculate Embeddings\n",
        "        x = self.get_embs(x, attention_mask) # Verified\n",
        "\n",
        "        # compute attention_mask for attention scores\n",
        "        attention_mask = self.get_extended_attn_mask(attention_mask, x.shape)\n",
        "\n",
        "        #Do the forward pass\n",
        "        x = self.esm.encoder(x, attention_mask = attention_mask)\n",
        "        if not output_encoder:\n",
        "            return self.esm.final_layer(x)\n",
        "        else:\n",
        "            return self.esm.final_layer(x), x\n",
        "\n",
        "model = ESM.load_pretrained(\"esm2_t30_150M_UR50D\") # load the pretrained frozen model\n",
        "print('Models created')\n",
        "print(model)"
      ],
      "metadata": {
        "colab": {
          "base_uri": "https://localhost:8080/"
        },
        "id": "9gU8IVUjmDfd",
        "outputId": "d77fa1dc-c79c-4522-e3e8-613521b04b10"
      },
      "execution_count": 5,
      "outputs": [
        {
          "output_type": "stream",
          "name": "stdout",
          "text": [
            "loading weights from pretrained gpt: esm2_t30_150M_UR50D\n"
          ]
        },
        {
          "output_type": "stream",
          "name": "stderr",
          "text": [
            "Some weights of EsmForSequenceClassification were not initialized from the model checkpoint at facebook/esm2_t30_150M_UR50D and are newly initialized: ['classifier.dense.bias', 'classifier.dense.weight', 'classifier.out_proj.bias', 'classifier.out_proj.weight']\n",
            "You should probably TRAIN this model on a down-stream task to be able to use it for predictions and inference.\n"
          ]
        },
        {
          "output_type": "stream",
          "name": "stdout",
          "text": [
            "Models created\n",
            "ESM(\n",
            "  (esm): ModuleDict(\n",
            "    (embeddings): ModuleDict(\n",
            "      (word_embeddings): Embedding(33, 640)\n",
            "      (position_embeddings): Embedding(1026, 640)\n",
            "    )\n",
            "    (encoder): ESMEncoder(\n",
            "      (layer): ModuleList(\n",
            "        (0-29): 30 x ESMLayers(\n",
            "          (attention): ESMAttn(\n",
            "            (self): ESMSelfAttn(\n",
            "              (query): Linear(in_features=640, out_features=640, bias=True)\n",
            "              (key): Linear(in_features=640, out_features=640, bias=True)\n",
            "              (value): Linear(in_features=640, out_features=640, bias=True)\n",
            "              (rotary_embeddings): RotaryEmbedding()\n",
            "            )\n",
            "            (output): ESMOutLayer(\n",
            "              (dense): Linear(in_features=640, out_features=640, bias=True)\n",
            "              (dropout): Dropout(p=0.0, inplace=False)\n",
            "            )\n",
            "            (LayerNorm): LayerNorm((640,), eps=1e-05, elementwise_affine=True)\n",
            "          )\n",
            "          (intermediate): ESMIntermediateLayer(\n",
            "            (dense): Linear(in_features=640, out_features=2560, bias=True)\n",
            "            (act): GELU(approximate='tanh')\n",
            "          )\n",
            "          (output): ESMOutLayer(\n",
            "            (dense): Linear(in_features=2560, out_features=640, bias=True)\n",
            "            (dropout): Dropout(p=0.0, inplace=False)\n",
            "          )\n",
            "          (LayerNorm): LayerNorm((640,), eps=1e-05, elementwise_affine=True)\n",
            "        )\n",
            "      )\n",
            "      (emb_layer_norm_after): LayerNorm((640,), eps=1e-05, elementwise_affine=True)\n",
            "    )\n",
            "    (final_layer): Linear(in_features=640, out_features=33, bias=True)\n",
            "  )\n",
            ")\n"
          ]
        }
      ]
    },
    {
      "cell_type": "markdown",
      "source": [
        "# Verification of the model equivalence - Done\n",
        "\n",
        "`The encoder outputs are verified and margin of error is less than 1%`"
      ],
      "metadata": {
        "id": "f5IA6CH4eCAa"
      }
    },
    {
      "cell_type": "code",
      "source": [
        "device = torch.device('cuda' if torch.cuda.is_available() else 'cpu')"
      ],
      "metadata": {
        "id": "xgjQkM5qcHUT"
      },
      "execution_count": 6,
      "outputs": []
    },
    {
      "cell_type": "code",
      "source": [
        "hf_model = AutoModelForSequenceClassification.from_pretrained(model_checkpoint, num_labels=num_labels).to(device)"
      ],
      "metadata": {
        "colab": {
          "base_uri": "https://localhost:8080/"
        },
        "id": "z6VqCxI6xslX",
        "outputId": "19a8ce14-b408-4f4d-9d3d-caa45428fb8d"
      },
      "execution_count": 7,
      "outputs": [
        {
          "output_type": "stream",
          "name": "stderr",
          "text": [
            "Some weights of EsmForSequenceClassification were not initialized from the model checkpoint at facebook/esm2_t30_150M_UR50D and are newly initialized: ['classifier.dense.bias', 'classifier.dense.weight', 'classifier.out_proj.bias', 'classifier.out_proj.weight']\n",
            "You should probably TRAIN this model on a down-stream task to be able to use it for predictions and inference.\n"
          ]
        }
      ]
    },
    {
      "cell_type": "code",
      "source": [
        "# hf_model.esm.encoder.layer = nn.ModuleList([hf_model.esm.encoder.layer[0]])\n",
        "# model.esm.encoder.layer = nn.ModuleList([model.esm.encoder.layer[0]])"
      ],
      "metadata": {
        "id": "p1bnKieHYmRt"
      },
      "execution_count": 105,
      "outputs": []
    },
    {
      "cell_type": "code",
      "source": [
        "hf_model = hf_model.to(device)\n",
        "hf_model = hf_model.eval()\n",
        "hf_model.esm.embeddings.token_dropout = False\n",
        "batch['input_ids'], batch['attention_mask'] = batch['input_ids'].to(device), batch['attention_mask'].to(device)"
      ],
      "metadata": {
        "id": "EdcfJyRTcUMs"
      },
      "execution_count": 8,
      "outputs": []
    },
    {
      "cell_type": "code",
      "source": [
        "class Hook:\n",
        "    def __init__(self, module):\n",
        "\n",
        "        self.output = None\n",
        "        self.input = None\n",
        "\n",
        "        def hook_fn(module, input, output, hook_obj = self):\n",
        "            hook_obj.output = output\n",
        "            hook_obj.input = input\n",
        "\n",
        "        self.h = module.register_forward_hook(hook_fn)\n",
        "\n",
        "\n",
        "hook_obj = Hook(hf_model.esm.encoder)"
      ],
      "metadata": {
        "id": "cT7dryfzZleo"
      },
      "execution_count": 111,
      "outputs": []
    },
    {
      "cell_type": "code",
      "source": [
        "out = hf_model(batch['input_ids'], batch['attention_mask'])"
      ],
      "metadata": {
        "id": "x469WWsXVp_N"
      },
      "execution_count": 108,
      "outputs": []
    },
    {
      "cell_type": "code",
      "source": [
        "batch['attention_mask'][:, None, None, :].shape"
      ],
      "metadata": {
        "colab": {
          "base_uri": "https://localhost:8080/"
        },
        "id": "NlODibuFzmbR",
        "outputId": "ea0df7a0-133f-4f38-f84f-16b9c231c186"
      },
      "execution_count": 13,
      "outputs": [
        {
          "output_type": "execute_result",
          "data": {
            "text/plain": [
              "torch.Size([2, 1, 1, 1026])"
            ]
          },
          "metadata": {},
          "execution_count": 13
        }
      ]
    },
    {
      "cell_type": "code",
      "source": [
        "embs = hf_model.esm.embeddings(batch['input_ids'], attention_mask = batch['attention_mask'])\n",
        "extended_attn_mask = hf_model.esm.get_extended_attention_mask(batch[\"attention_mask\"], batch['input_ids'].shape).to(device)\n",
        "\n",
        "embs.shape, extended_attn_mask.shape"
      ],
      "metadata": {
        "colab": {
          "base_uri": "https://localhost:8080/"
        },
        "id": "CGxFQa51uTMs",
        "outputId": "7351995c-5b1a-47b7-d7aa-70411f1df7be"
      },
      "execution_count": 9,
      "outputs": [
        {
          "output_type": "execute_result",
          "data": {
            "text/plain": [
              "(torch.Size([2, 1026, 640]), torch.Size([2, 1, 1, 1026]))"
            ]
          },
          "metadata": {},
          "execution_count": 9
        }
      ]
    },
    {
      "cell_type": "code",
      "source": [
        "hf_encoder_output = hf_model.esm.encoder(embs, extended_attn_mask)"
      ],
      "metadata": {
        "id": "W7gvd4txwk03"
      },
      "execution_count": 10,
      "outputs": []
    },
    {
      "cell_type": "code",
      "source": [
        "hf_encoder_output.last_hidden_state.shape"
      ],
      "metadata": {
        "colab": {
          "base_uri": "https://localhost:8080/"
        },
        "id": "vyNVME290I6s",
        "outputId": "8cdc0f03-4e76-4e49-aa8d-7afb3c0c4ca9"
      },
      "execution_count": 11,
      "outputs": [
        {
          "output_type": "execute_result",
          "data": {
            "text/plain": [
              "torch.Size([2, 1026, 640])"
            ]
          },
          "metadata": {},
          "execution_count": 11
        }
      ]
    },
    {
      "cell_type": "code",
      "source": [],
      "metadata": {
        "id": "eSGf_nkcBr1B"
      },
      "execution_count": 95,
      "outputs": []
    },
    {
      "cell_type": "code",
      "source": [
        "# out = model(batch['input_ids'].cpu(), batch['attention_mask'].cpu())\n",
        "x = model.get_embs(batch['input_ids'].cpu(), batch['attention_mask'].cpu()) # Verified\n",
        "# compute attention_mask for attention scores\n",
        "attention_mask = model.get_extended_attn_mask(batch['attention_mask'].cpu(), x.shape)\n",
        "x.shape, attention_mask.shape"
      ],
      "metadata": {
        "colab": {
          "base_uri": "https://localhost:8080/"
        },
        "id": "MhwCEZO96DJ2",
        "outputId": "4b2991b7-5d94-4e89-bcb1-d0d8158b011f"
      },
      "execution_count": 14,
      "outputs": [
        {
          "output_type": "execute_result",
          "data": {
            "text/plain": [
              "(torch.Size([2, 1026, 640]), torch.Size([2, 1, 1026, 1026]))"
            ]
          },
          "metadata": {},
          "execution_count": 14
        }
      ]
    },
    {
      "cell_type": "code",
      "source": [
        "encoder_output = model.esm.encoder(x, attention_mask)"
      ],
      "metadata": {
        "id": "e0PHkxci-WNY"
      },
      "execution_count": 15,
      "outputs": []
    },
    {
      "cell_type": "code",
      "source": [
        "encoder_output.shape"
      ],
      "metadata": {
        "colab": {
          "base_uri": "https://localhost:8080/"
        },
        "id": "GcbH9CK5-ifP",
        "outputId": "dc3cdb4a-0ea1-47f8-8f4f-31eb92845647"
      },
      "execution_count": 16,
      "outputs": [
        {
          "output_type": "execute_result",
          "data": {
            "text/plain": [
              "torch.Size([2, 1026, 640])"
            ]
          },
          "metadata": {},
          "execution_count": 16
        }
      ]
    },
    {
      "cell_type": "code",
      "source": [
        "diff = hf_encoder_output.last_hidden_state.cpu().detach().abs() - encoder_output.abs()"
      ],
      "metadata": {
        "id": "ZcjNNqiEAoB9"
      },
      "execution_count": 17,
      "outputs": []
    },
    {
      "cell_type": "code",
      "source": [
        "diff.mean(), diff.std()"
      ],
      "metadata": {
        "colab": {
          "base_uri": "https://localhost:8080/"
        },
        "id": "KgDPkIPFAxZ0",
        "outputId": "a90bc2a1-f54d-4bba-aa72-0da204cc2f66"
      },
      "execution_count": 18,
      "outputs": [
        {
          "output_type": "execute_result",
          "data": {
            "text/plain": [
              "(tensor(-8.1190e-05), tensor(0.0045))"
            ]
          },
          "metadata": {},
          "execution_count": 18
        }
      ]
    },
    {
      "cell_type": "code",
      "source": [
        "diff.mean()/hf_encoder_output.last_hidden_state.cpu().detach().abs().mean()"
      ],
      "metadata": {
        "colab": {
          "base_uri": "https://localhost:8080/"
        },
        "id": "j8LVAvhT6l1I",
        "outputId": "44db42c8-717e-4eb5-eb0e-5a06e409807b"
      },
      "execution_count": 20,
      "outputs": [
        {
          "output_type": "execute_result",
          "data": {
            "text/plain": [
              "tensor(-0.0005)"
            ]
          },
          "metadata": {},
          "execution_count": 20
        }
      ]
    },
    {
      "cell_type": "code",
      "source": [
        "model_output = model(batch['input_ids'].cpu(), batch['attention_mask'].cpu())"
      ],
      "metadata": {
        "id": "_CQ6I_w6DNig"
      },
      "execution_count": 21,
      "outputs": []
    },
    {
      "cell_type": "code",
      "source": [
        "type(model_output)"
      ],
      "metadata": {
        "colab": {
          "base_uri": "https://localhost:8080/"
        },
        "id": "fguKNeGuEgji",
        "outputId": "45454fa7-5b8f-4147-b49d-dda2bf8450e0"
      },
      "execution_count": 22,
      "outputs": [
        {
          "output_type": "execute_result",
          "data": {
            "text/plain": [
              "tuple"
            ]
          },
          "metadata": {},
          "execution_count": 22
        }
      ]
    },
    {
      "cell_type": "code",
      "source": [
        "model_output[0].shape"
      ],
      "metadata": {
        "colab": {
          "base_uri": "https://localhost:8080/"
        },
        "id": "ffrfDtAeEiVO",
        "outputId": "eaff44e9-2dbb-4883-c161-88f8b19734af"
      },
      "execution_count": 23,
      "outputs": [
        {
          "output_type": "execute_result",
          "data": {
            "text/plain": [
              "torch.Size([2, 1026, 33])"
            ]
          },
          "metadata": {},
          "execution_count": 23
        }
      ]
    },
    {
      "cell_type": "code",
      "source": [
        "model_output[0][0,:10, :]"
      ],
      "metadata": {
        "colab": {
          "base_uri": "https://localhost:8080/"
        },
        "id": "Io99fpk5Ejri",
        "outputId": "79bfda7a-fd86-4bbf-d027-691ba5ff4712"
      },
      "execution_count": 24,
      "outputs": [
        {
          "output_type": "execute_result",
          "data": {
            "text/plain": [
              "tensor([[-4.8848e-02, -1.3215e+00, -1.8367e+00, -1.3063e+00,  7.3408e-01,\n",
              "         -2.7227e-01,  1.6907e-01, -2.2019e-02, -2.5513e-01, -6.4382e-01,\n",
              "          2.0296e-01, -4.5170e-02, -2.4302e+00, -1.4317e-01,  6.4844e-01,\n",
              "          7.6697e-03, -1.9361e-01,  1.6448e-01, -5.0863e-01, -1.8080e-01,\n",
              "          9.8537e-01, -2.0467e-01, -2.7810e-01, -2.0719e-01,  8.8968e-01,\n",
              "          1.9978e-01, -1.2735e-02, -2.1549e-01, -4.3526e-01, -7.2080e-01,\n",
              "         -8.1883e-02, -1.1430e-01, -1.2763e+00],\n",
              "        [-1.5846e+00, -6.9800e-01, -1.8844e+00, -6.5742e-01,  2.6395e-01,\n",
              "          4.4939e-01, -2.7843e-02, -5.1529e-02,  9.7963e-01, -6.6084e-01,\n",
              "         -1.0287e+00,  2.1330e-01, -1.4997e+00, -2.9639e-01, -5.5355e-01,\n",
              "         -6.7088e-01, -1.0794e+00,  1.4595e+00,  6.1735e-01,  3.6264e-01,\n",
              "          1.3268e+00, -1.0690e+00,  4.9841e-01,  5.2764e-02,  1.2637e+00,\n",
              "          3.4913e-02, -2.6115e-01, -2.1444e-01,  2.9574e-01, -8.1107e-01,\n",
              "         -1.5118e-01, -1.7452e-01, -6.0457e-01],\n",
              "        [-1.1909e+00,  1.1543e-01, -7.8739e-01,  1.0387e-01,  8.1504e-01,\n",
              "         -2.6154e-01, -5.2894e-01, -3.8908e-01,  2.1556e-01, -7.9107e-01,\n",
              "         -1.2130e+00, -1.7189e-01, -1.6985e+00,  8.4512e-01, -6.2110e-01,\n",
              "         -9.0922e-02, -3.9952e-01,  1.7487e+00,  2.1201e-01,  6.3835e-01,\n",
              "          6.8269e-01,  3.8509e-01,  7.9820e-01, -1.6433e-01,  6.0875e-01,\n",
              "          1.7360e-01,  5.5034e-01, -2.7153e-02,  5.9709e-01, -3.4979e-01,\n",
              "          8.4629e-01,  6.4208e-01,  1.5930e-01],\n",
              "        [-2.4648e-01,  1.2363e+00,  1.7936e-01,  1.2421e+00,  3.1674e-01,\n",
              "          1.7532e-01,  1.6033e-01, -5.8470e-01,  3.2932e-01, -8.2166e-01,\n",
              "          6.4179e-04,  3.2486e-01, -1.7354e+00,  7.0295e-01, -4.4187e-01,\n",
              "          2.4168e-01, -4.7931e-01,  1.4402e+00, -4.5589e-01, -1.3995e-01,\n",
              "          6.5185e-01, -2.3071e-01,  3.8736e-01, -3.3613e-01, -5.6814e-01,\n",
              "          7.5064e-01, -1.4508e-01,  1.8589e-01,  4.4441e-01,  6.7449e-02,\n",
              "          3.9169e-01,  2.4355e-01,  1.2642e+00],\n",
              "        [-2.8443e-01, -4.5271e-01, -1.1699e+00, -4.2564e-01,  1.4998e+00,\n",
              "          2.7962e-01, -9.0589e-02, -1.5497e-02,  1.8700e-01, -7.5191e-01,\n",
              "         -4.7570e-01,  2.5564e-01, -1.5608e+00,  1.2052e-01, -1.2385e+00,\n",
              "         -3.4948e-01, -6.9086e-01,  8.9217e-01,  4.4781e-02, -3.8670e-01,\n",
              "          8.4995e-01, -5.4377e-01, -4.9697e-01, -2.5833e-01,  8.9720e-01,\n",
              "         -2.7454e-01, -3.8977e-01, -4.0959e-01,  1.6276e-01, -3.0575e-01,\n",
              "         -1.8248e-02,  2.6370e-01, -4.3965e-01],\n",
              "        [-9.6907e-01, -1.2756e-01, -1.2733e-01, -1.0257e-01,  3.6921e-01,\n",
              "         -9.0063e-02,  7.3024e-01, -3.1882e-01, -1.7724e-01, -4.3828e-01,\n",
              "         -3.1872e-01,  1.4948e-01, -1.9706e+00,  1.3694e+00,  2.0918e-02,\n",
              "          4.9472e-01, -5.8130e-03,  1.4655e+00,  6.0817e-01, -2.2701e-01,\n",
              "         -2.2128e-01,  2.9158e-01, -2.9102e-01,  4.2094e-01,  1.6986e-01,\n",
              "         -1.8879e-01, -3.3231e-01, -5.6036e-01,  1.8798e-01, -5.4979e-01,\n",
              "         -4.6067e-02,  3.5365e-01, -9.9130e-02],\n",
              "        [-1.7257e+00, -1.6191e-01, -4.1179e-01, -1.9217e-01,  1.3537e+00,\n",
              "         -3.4631e-01, -7.4830e-02, -5.1172e-01, -4.7397e-01, -4.4247e-01,\n",
              "         -4.9074e-01,  1.8631e-01, -1.5146e+00,  1.4219e+00, -2.2833e-01,\n",
              "         -3.6098e-03, -2.7081e-01,  1.7402e+00,  5.6053e-01,  1.9706e-01,\n",
              "          3.7654e-01, -1.0926e-01, -3.0722e-01, -7.3450e-01,  1.6509e+00,\n",
              "          6.9616e-01,  1.5552e-01,  3.8806e-01,  4.5607e-01, -2.4909e-02,\n",
              "          1.5550e-01,  1.2771e-01, -1.1812e-01],\n",
              "        [-7.7783e-01,  1.3224e+00, -2.0079e-01,  1.3252e+00,  4.0294e-01,\n",
              "          9.3367e-02,  6.5827e-01, -5.9545e-01,  9.5780e-02, -1.4327e-01,\n",
              "         -3.2620e-01, -5.2924e-02, -1.8661e+00,  7.9209e-01, -1.1644e+00,\n",
              "          1.0107e-01, -1.2179e+00,  1.8287e+00,  5.6452e-01,  4.5897e-01,\n",
              "          4.1428e-01,  5.2670e-02,  4.1140e-01,  3.2395e-01,  7.7573e-01,\n",
              "          3.4319e-01,  1.5617e-01, -2.8689e-02,  6.6475e-01, -3.5870e-01,\n",
              "          2.7934e-01,  2.3650e-01,  1.2828e+00],\n",
              "        [-7.7360e-01, -3.1547e-01,  1.0685e-01, -2.7238e-01,  7.6717e-01,\n",
              "          6.2477e-01,  1.6530e-01, -8.6196e-01, -2.2599e-01, -1.2984e-01,\n",
              "         -3.7534e-01, -2.9315e-01, -2.8544e+00,  1.0811e+00, -2.3337e-01,\n",
              "         -5.3835e-01, -6.1844e-01,  1.8826e+00,  5.5837e-01, -3.3576e-01,\n",
              "          7.9122e-01, -8.3631e-01,  3.8567e-01, -4.7419e-01,  1.1126e-01,\n",
              "         -1.9755e-01, -2.8424e-01, -7.3518e-01,  3.0823e-01, -1.0130e+00,\n",
              "         -2.0419e-01,  3.6466e-02, -2.8599e-01],\n",
              "        [-7.7259e-01, -4.2864e-02, -4.8234e-01, -7.4841e-02,  3.6284e-01,\n",
              "         -2.5865e-01,  9.0721e-01, -3.2425e-01,  4.1841e-01, -8.8630e-01,\n",
              "         -5.7874e-01,  2.4360e-01, -2.0049e+00,  4.8063e-02, -3.4273e-01,\n",
              "         -8.8469e-02, -2.0257e-01,  1.3982e+00,  9.4736e-01,  2.5334e-02,\n",
              "          7.6756e-01, -3.9212e-01,  3.4338e-01,  1.5011e-01,  9.1690e-01,\n",
              "          2.7885e-01,  1.8806e-03, -2.4025e-01,  1.5416e-01, -7.0199e-01,\n",
              "          1.8770e-01,  4.2924e-01, -1.3142e-02]])"
            ]
          },
          "metadata": {},
          "execution_count": 24
        }
      ]
    },
    {
      "cell_type": "code",
      "source": [],
      "metadata": {
        "id": "TPJZXSkaEoZw"
      },
      "execution_count": null,
      "outputs": []
    }
  ]
}