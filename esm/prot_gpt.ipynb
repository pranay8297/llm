{
  "nbformat": 4,
  "nbformat_minor": 0,
  "metadata": {
    "colab": {
      "provenance": [],
      "collapsed_sections": [
        "_K1abCY5l_W3",
        "YH9JZxpwoP9l",
        "f5IA6CH4eCAa",
        "54SsKIXlIhY_",
        "3qeJdYnbLwSH",
        "KwAcw2nPhw-2",
        "UGKQmVuYbkfn"
      ],
      "machine_shape": "hm",
      "gpuType": "T4",
      "authorship_tag": "ABX9TyOlFNobJ3Q1Xue+rR7QB9rv",
      "include_colab_link": true
    },
    "kernelspec": {
      "name": "python3",
      "display_name": "Python 3"
    },
    "language_info": {
      "name": "python"
    },
    "widgets": {
      "application/vnd.jupyter.widget-state+json": {
        "4b167579f4f74fb685b9a5f53f4181b5": {
          "model_module": "@jupyter-widgets/controls",
          "model_name": "VBoxModel",
          "model_module_version": "1.5.0",
          "state": {
            "_dom_classes": [],
            "_model_module": "@jupyter-widgets/controls",
            "_model_module_version": "1.5.0",
            "_model_name": "VBoxModel",
            "_view_count": null,
            "_view_module": "@jupyter-widgets/controls",
            "_view_module_version": "1.5.0",
            "_view_name": "VBoxView",
            "box_style": "",
            "children": [
              "IPY_MODEL_3117b98164624917be947036ae439c5f",
              "IPY_MODEL_5f9dc1884f284c3081c422f3efb7f338",
              "IPY_MODEL_a16e85f7049b47198385c9a64e86b7a6",
              "IPY_MODEL_b0ea229cf8e145c39f06371c8ed694a1",
              "IPY_MODEL_1908120e2e5a44e6949af3dc04e0d428"
            ],
            "layout": "IPY_MODEL_ad804e7ace014398a459580fb4d38caf"
          }
        },
        "3117b98164624917be947036ae439c5f": {
          "model_module": "@jupyter-widgets/controls",
          "model_name": "HTMLModel",
          "model_module_version": "1.5.0",
          "state": {
            "_dom_classes": [],
            "_model_module": "@jupyter-widgets/controls",
            "_model_module_version": "1.5.0",
            "_model_name": "HTMLModel",
            "_view_count": null,
            "_view_module": "@jupyter-widgets/controls",
            "_view_module_version": "1.5.0",
            "_view_name": "HTMLView",
            "description": "",
            "description_tooltip": null,
            "layout": "IPY_MODEL_1ed516f459b94ab391b46a166f857678",
            "placeholder": "​",
            "style": "IPY_MODEL_82acadce934f483784677273b79dcf54",
            "value": "<center> <img\nsrc=https://huggingface.co/front/assets/huggingface_logo-noborder.svg\nalt='Hugging Face'> <br> Copy a token from <a\nhref=\"https://huggingface.co/settings/tokens\" target=\"_blank\">your Hugging Face\ntokens page</a> and paste it below. <br> Immediately click login after copying\nyour token or it might be stored in plain text in this notebook file. </center>"
          }
        },
        "5f9dc1884f284c3081c422f3efb7f338": {
          "model_module": "@jupyter-widgets/controls",
          "model_name": "PasswordModel",
          "model_module_version": "1.5.0",
          "state": {
            "_dom_classes": [],
            "_model_module": "@jupyter-widgets/controls",
            "_model_module_version": "1.5.0",
            "_model_name": "PasswordModel",
            "_view_count": null,
            "_view_module": "@jupyter-widgets/controls",
            "_view_module_version": "1.5.0",
            "_view_name": "PasswordView",
            "continuous_update": true,
            "description": "Token:",
            "description_tooltip": null,
            "disabled": false,
            "layout": "IPY_MODEL_00df1d94f029469e91b7fe6fdaaa5748",
            "placeholder": "​",
            "style": "IPY_MODEL_2529dc80320b4ebab5c96943456a19db",
            "value": ""
          }
        },
        "a16e85f7049b47198385c9a64e86b7a6": {
          "model_module": "@jupyter-widgets/controls",
          "model_name": "CheckboxModel",
          "model_module_version": "1.5.0",
          "state": {
            "_dom_classes": [],
            "_model_module": "@jupyter-widgets/controls",
            "_model_module_version": "1.5.0",
            "_model_name": "CheckboxModel",
            "_view_count": null,
            "_view_module": "@jupyter-widgets/controls",
            "_view_module_version": "1.5.0",
            "_view_name": "CheckboxView",
            "description": "Add token as git credential?",
            "description_tooltip": null,
            "disabled": false,
            "indent": true,
            "layout": "IPY_MODEL_05f56b3beb5348c7811633e0da9933be",
            "style": "IPY_MODEL_80f9cbf3e6374215b89872033ea8c117",
            "value": true
          }
        },
        "b0ea229cf8e145c39f06371c8ed694a1": {
          "model_module": "@jupyter-widgets/controls",
          "model_name": "ButtonModel",
          "model_module_version": "1.5.0",
          "state": {
            "_dom_classes": [],
            "_model_module": "@jupyter-widgets/controls",
            "_model_module_version": "1.5.0",
            "_model_name": "ButtonModel",
            "_view_count": null,
            "_view_module": "@jupyter-widgets/controls",
            "_view_module_version": "1.5.0",
            "_view_name": "ButtonView",
            "button_style": "",
            "description": "Login",
            "disabled": false,
            "icon": "",
            "layout": "IPY_MODEL_b924117b6b9a4e21b89ed7e25f626c94",
            "style": "IPY_MODEL_4fdaab1acbee4562a8c650729b93e046",
            "tooltip": ""
          }
        },
        "1908120e2e5a44e6949af3dc04e0d428": {
          "model_module": "@jupyter-widgets/controls",
          "model_name": "HTMLModel",
          "model_module_version": "1.5.0",
          "state": {
            "_dom_classes": [],
            "_model_module": "@jupyter-widgets/controls",
            "_model_module_version": "1.5.0",
            "_model_name": "HTMLModel",
            "_view_count": null,
            "_view_module": "@jupyter-widgets/controls",
            "_view_module_version": "1.5.0",
            "_view_name": "HTMLView",
            "description": "",
            "description_tooltip": null,
            "layout": "IPY_MODEL_d3c4fbb058de4aa29221e80e721d2fcd",
            "placeholder": "​",
            "style": "IPY_MODEL_a18e3f5573664c36b62c6f7f13c61a20",
            "value": "\n<b>Pro Tip:</b> If you don't already have one, you can create a dedicated\n'notebooks' token with 'write' access, that you can then easily reuse for all\nnotebooks. </center>"
          }
        },
        "ad804e7ace014398a459580fb4d38caf": {
          "model_module": "@jupyter-widgets/base",
          "model_name": "LayoutModel",
          "model_module_version": "1.2.0",
          "state": {
            "_model_module": "@jupyter-widgets/base",
            "_model_module_version": "1.2.0",
            "_model_name": "LayoutModel",
            "_view_count": null,
            "_view_module": "@jupyter-widgets/base",
            "_view_module_version": "1.2.0",
            "_view_name": "LayoutView",
            "align_content": null,
            "align_items": "center",
            "align_self": null,
            "border": null,
            "bottom": null,
            "display": "flex",
            "flex": null,
            "flex_flow": "column",
            "grid_area": null,
            "grid_auto_columns": null,
            "grid_auto_flow": null,
            "grid_auto_rows": null,
            "grid_column": null,
            "grid_gap": null,
            "grid_row": null,
            "grid_template_areas": null,
            "grid_template_columns": null,
            "grid_template_rows": null,
            "height": null,
            "justify_content": null,
            "justify_items": null,
            "left": null,
            "margin": null,
            "max_height": null,
            "max_width": null,
            "min_height": null,
            "min_width": null,
            "object_fit": null,
            "object_position": null,
            "order": null,
            "overflow": null,
            "overflow_x": null,
            "overflow_y": null,
            "padding": null,
            "right": null,
            "top": null,
            "visibility": null,
            "width": "50%"
          }
        },
        "1ed516f459b94ab391b46a166f857678": {
          "model_module": "@jupyter-widgets/base",
          "model_name": "LayoutModel",
          "model_module_version": "1.2.0",
          "state": {
            "_model_module": "@jupyter-widgets/base",
            "_model_module_version": "1.2.0",
            "_model_name": "LayoutModel",
            "_view_count": null,
            "_view_module": "@jupyter-widgets/base",
            "_view_module_version": "1.2.0",
            "_view_name": "LayoutView",
            "align_content": null,
            "align_items": null,
            "align_self": null,
            "border": null,
            "bottom": null,
            "display": null,
            "flex": null,
            "flex_flow": null,
            "grid_area": null,
            "grid_auto_columns": null,
            "grid_auto_flow": null,
            "grid_auto_rows": null,
            "grid_column": null,
            "grid_gap": null,
            "grid_row": null,
            "grid_template_areas": null,
            "grid_template_columns": null,
            "grid_template_rows": null,
            "height": null,
            "justify_content": null,
            "justify_items": null,
            "left": null,
            "margin": null,
            "max_height": null,
            "max_width": null,
            "min_height": null,
            "min_width": null,
            "object_fit": null,
            "object_position": null,
            "order": null,
            "overflow": null,
            "overflow_x": null,
            "overflow_y": null,
            "padding": null,
            "right": null,
            "top": null,
            "visibility": null,
            "width": null
          }
        },
        "82acadce934f483784677273b79dcf54": {
          "model_module": "@jupyter-widgets/controls",
          "model_name": "DescriptionStyleModel",
          "model_module_version": "1.5.0",
          "state": {
            "_model_module": "@jupyter-widgets/controls",
            "_model_module_version": "1.5.0",
            "_model_name": "DescriptionStyleModel",
            "_view_count": null,
            "_view_module": "@jupyter-widgets/base",
            "_view_module_version": "1.2.0",
            "_view_name": "StyleView",
            "description_width": ""
          }
        },
        "00df1d94f029469e91b7fe6fdaaa5748": {
          "model_module": "@jupyter-widgets/base",
          "model_name": "LayoutModel",
          "model_module_version": "1.2.0",
          "state": {
            "_model_module": "@jupyter-widgets/base",
            "_model_module_version": "1.2.0",
            "_model_name": "LayoutModel",
            "_view_count": null,
            "_view_module": "@jupyter-widgets/base",
            "_view_module_version": "1.2.0",
            "_view_name": "LayoutView",
            "align_content": null,
            "align_items": null,
            "align_self": null,
            "border": null,
            "bottom": null,
            "display": null,
            "flex": null,
            "flex_flow": null,
            "grid_area": null,
            "grid_auto_columns": null,
            "grid_auto_flow": null,
            "grid_auto_rows": null,
            "grid_column": null,
            "grid_gap": null,
            "grid_row": null,
            "grid_template_areas": null,
            "grid_template_columns": null,
            "grid_template_rows": null,
            "height": null,
            "justify_content": null,
            "justify_items": null,
            "left": null,
            "margin": null,
            "max_height": null,
            "max_width": null,
            "min_height": null,
            "min_width": null,
            "object_fit": null,
            "object_position": null,
            "order": null,
            "overflow": null,
            "overflow_x": null,
            "overflow_y": null,
            "padding": null,
            "right": null,
            "top": null,
            "visibility": null,
            "width": null
          }
        },
        "2529dc80320b4ebab5c96943456a19db": {
          "model_module": "@jupyter-widgets/controls",
          "model_name": "DescriptionStyleModel",
          "model_module_version": "1.5.0",
          "state": {
            "_model_module": "@jupyter-widgets/controls",
            "_model_module_version": "1.5.0",
            "_model_name": "DescriptionStyleModel",
            "_view_count": null,
            "_view_module": "@jupyter-widgets/base",
            "_view_module_version": "1.2.0",
            "_view_name": "StyleView",
            "description_width": ""
          }
        },
        "05f56b3beb5348c7811633e0da9933be": {
          "model_module": "@jupyter-widgets/base",
          "model_name": "LayoutModel",
          "model_module_version": "1.2.0",
          "state": {
            "_model_module": "@jupyter-widgets/base",
            "_model_module_version": "1.2.0",
            "_model_name": "LayoutModel",
            "_view_count": null,
            "_view_module": "@jupyter-widgets/base",
            "_view_module_version": "1.2.0",
            "_view_name": "LayoutView",
            "align_content": null,
            "align_items": null,
            "align_self": null,
            "border": null,
            "bottom": null,
            "display": null,
            "flex": null,
            "flex_flow": null,
            "grid_area": null,
            "grid_auto_columns": null,
            "grid_auto_flow": null,
            "grid_auto_rows": null,
            "grid_column": null,
            "grid_gap": null,
            "grid_row": null,
            "grid_template_areas": null,
            "grid_template_columns": null,
            "grid_template_rows": null,
            "height": null,
            "justify_content": null,
            "justify_items": null,
            "left": null,
            "margin": null,
            "max_height": null,
            "max_width": null,
            "min_height": null,
            "min_width": null,
            "object_fit": null,
            "object_position": null,
            "order": null,
            "overflow": null,
            "overflow_x": null,
            "overflow_y": null,
            "padding": null,
            "right": null,
            "top": null,
            "visibility": null,
            "width": null
          }
        },
        "80f9cbf3e6374215b89872033ea8c117": {
          "model_module": "@jupyter-widgets/controls",
          "model_name": "DescriptionStyleModel",
          "model_module_version": "1.5.0",
          "state": {
            "_model_module": "@jupyter-widgets/controls",
            "_model_module_version": "1.5.0",
            "_model_name": "DescriptionStyleModel",
            "_view_count": null,
            "_view_module": "@jupyter-widgets/base",
            "_view_module_version": "1.2.0",
            "_view_name": "StyleView",
            "description_width": ""
          }
        },
        "b924117b6b9a4e21b89ed7e25f626c94": {
          "model_module": "@jupyter-widgets/base",
          "model_name": "LayoutModel",
          "model_module_version": "1.2.0",
          "state": {
            "_model_module": "@jupyter-widgets/base",
            "_model_module_version": "1.2.0",
            "_model_name": "LayoutModel",
            "_view_count": null,
            "_view_module": "@jupyter-widgets/base",
            "_view_module_version": "1.2.0",
            "_view_name": "LayoutView",
            "align_content": null,
            "align_items": null,
            "align_self": null,
            "border": null,
            "bottom": null,
            "display": null,
            "flex": null,
            "flex_flow": null,
            "grid_area": null,
            "grid_auto_columns": null,
            "grid_auto_flow": null,
            "grid_auto_rows": null,
            "grid_column": null,
            "grid_gap": null,
            "grid_row": null,
            "grid_template_areas": null,
            "grid_template_columns": null,
            "grid_template_rows": null,
            "height": null,
            "justify_content": null,
            "justify_items": null,
            "left": null,
            "margin": null,
            "max_height": null,
            "max_width": null,
            "min_height": null,
            "min_width": null,
            "object_fit": null,
            "object_position": null,
            "order": null,
            "overflow": null,
            "overflow_x": null,
            "overflow_y": null,
            "padding": null,
            "right": null,
            "top": null,
            "visibility": null,
            "width": null
          }
        },
        "4fdaab1acbee4562a8c650729b93e046": {
          "model_module": "@jupyter-widgets/controls",
          "model_name": "ButtonStyleModel",
          "model_module_version": "1.5.0",
          "state": {
            "_model_module": "@jupyter-widgets/controls",
            "_model_module_version": "1.5.0",
            "_model_name": "ButtonStyleModel",
            "_view_count": null,
            "_view_module": "@jupyter-widgets/base",
            "_view_module_version": "1.2.0",
            "_view_name": "StyleView",
            "button_color": null,
            "font_weight": ""
          }
        },
        "d3c4fbb058de4aa29221e80e721d2fcd": {
          "model_module": "@jupyter-widgets/base",
          "model_name": "LayoutModel",
          "model_module_version": "1.2.0",
          "state": {
            "_model_module": "@jupyter-widgets/base",
            "_model_module_version": "1.2.0",
            "_model_name": "LayoutModel",
            "_view_count": null,
            "_view_module": "@jupyter-widgets/base",
            "_view_module_version": "1.2.0",
            "_view_name": "LayoutView",
            "align_content": null,
            "align_items": null,
            "align_self": null,
            "border": null,
            "bottom": null,
            "display": null,
            "flex": null,
            "flex_flow": null,
            "grid_area": null,
            "grid_auto_columns": null,
            "grid_auto_flow": null,
            "grid_auto_rows": null,
            "grid_column": null,
            "grid_gap": null,
            "grid_row": null,
            "grid_template_areas": null,
            "grid_template_columns": null,
            "grid_template_rows": null,
            "height": null,
            "justify_content": null,
            "justify_items": null,
            "left": null,
            "margin": null,
            "max_height": null,
            "max_width": null,
            "min_height": null,
            "min_width": null,
            "object_fit": null,
            "object_position": null,
            "order": null,
            "overflow": null,
            "overflow_x": null,
            "overflow_y": null,
            "padding": null,
            "right": null,
            "top": null,
            "visibility": null,
            "width": null
          }
        },
        "a18e3f5573664c36b62c6f7f13c61a20": {
          "model_module": "@jupyter-widgets/controls",
          "model_name": "DescriptionStyleModel",
          "model_module_version": "1.5.0",
          "state": {
            "_model_module": "@jupyter-widgets/controls",
            "_model_module_version": "1.5.0",
            "_model_name": "DescriptionStyleModel",
            "_view_count": null,
            "_view_module": "@jupyter-widgets/base",
            "_view_module_version": "1.2.0",
            "_view_name": "StyleView",
            "description_width": ""
          }
        },
        "c2f1d8a27c5b434597f11181bc312205": {
          "model_module": "@jupyter-widgets/controls",
          "model_name": "HBoxModel",
          "model_module_version": "1.5.0",
          "state": {
            "_dom_classes": [],
            "_model_module": "@jupyter-widgets/controls",
            "_model_module_version": "1.5.0",
            "_model_name": "HBoxModel",
            "_view_count": null,
            "_view_module": "@jupyter-widgets/controls",
            "_view_module_version": "1.5.0",
            "_view_name": "HBoxView",
            "box_style": "",
            "children": [
              "IPY_MODEL_e04bb258c25e4f309761fb08b466a86d",
              "IPY_MODEL_4bbcc302a48147638233aa3e0512a8df",
              "IPY_MODEL_57977b5c1bdb48a68b227033162103eb"
            ],
            "layout": "IPY_MODEL_7f9ee1f789df43ce86b7591e0437c109"
          }
        },
        "e04bb258c25e4f309761fb08b466a86d": {
          "model_module": "@jupyter-widgets/controls",
          "model_name": "HTMLModel",
          "model_module_version": "1.5.0",
          "state": {
            "_dom_classes": [],
            "_model_module": "@jupyter-widgets/controls",
            "_model_module_version": "1.5.0",
            "_model_name": "HTMLModel",
            "_view_count": null,
            "_view_module": "@jupyter-widgets/controls",
            "_view_module_version": "1.5.0",
            "_view_name": "HTMLView",
            "description": "",
            "description_tooltip": null,
            "layout": "IPY_MODEL_eb4c4bba20074734b0c8017aa65d266e",
            "placeholder": "​",
            "style": "IPY_MODEL_1654defc86e54071b9e6b8504f8f6e67",
            "value": "config.json: 100%"
          }
        },
        "4bbcc302a48147638233aa3e0512a8df": {
          "model_module": "@jupyter-widgets/controls",
          "model_name": "FloatProgressModel",
          "model_module_version": "1.5.0",
          "state": {
            "_dom_classes": [],
            "_model_module": "@jupyter-widgets/controls",
            "_model_module_version": "1.5.0",
            "_model_name": "FloatProgressModel",
            "_view_count": null,
            "_view_module": "@jupyter-widgets/controls",
            "_view_module_version": "1.5.0",
            "_view_name": "ProgressView",
            "bar_style": "success",
            "description": "",
            "description_tooltip": null,
            "layout": "IPY_MODEL_c3261ab26220494ca0f33c77b30e67c7",
            "max": 779,
            "min": 0,
            "orientation": "horizontal",
            "style": "IPY_MODEL_e03420b818884b978f6172f0030ede19",
            "value": 779
          }
        },
        "57977b5c1bdb48a68b227033162103eb": {
          "model_module": "@jupyter-widgets/controls",
          "model_name": "HTMLModel",
          "model_module_version": "1.5.0",
          "state": {
            "_dom_classes": [],
            "_model_module": "@jupyter-widgets/controls",
            "_model_module_version": "1.5.0",
            "_model_name": "HTMLModel",
            "_view_count": null,
            "_view_module": "@jupyter-widgets/controls",
            "_view_module_version": "1.5.0",
            "_view_name": "HTMLView",
            "description": "",
            "description_tooltip": null,
            "layout": "IPY_MODEL_86b067a3766c4e58936c26682d19a65c",
            "placeholder": "​",
            "style": "IPY_MODEL_389576f8d5f04260ace6054986addbe5",
            "value": " 779/779 [00:00&lt;00:00, 52.2kB/s]"
          }
        },
        "7f9ee1f789df43ce86b7591e0437c109": {
          "model_module": "@jupyter-widgets/base",
          "model_name": "LayoutModel",
          "model_module_version": "1.2.0",
          "state": {
            "_model_module": "@jupyter-widgets/base",
            "_model_module_version": "1.2.0",
            "_model_name": "LayoutModel",
            "_view_count": null,
            "_view_module": "@jupyter-widgets/base",
            "_view_module_version": "1.2.0",
            "_view_name": "LayoutView",
            "align_content": null,
            "align_items": null,
            "align_self": null,
            "border": null,
            "bottom": null,
            "display": null,
            "flex": null,
            "flex_flow": null,
            "grid_area": null,
            "grid_auto_columns": null,
            "grid_auto_flow": null,
            "grid_auto_rows": null,
            "grid_column": null,
            "grid_gap": null,
            "grid_row": null,
            "grid_template_areas": null,
            "grid_template_columns": null,
            "grid_template_rows": null,
            "height": null,
            "justify_content": null,
            "justify_items": null,
            "left": null,
            "margin": null,
            "max_height": null,
            "max_width": null,
            "min_height": null,
            "min_width": null,
            "object_fit": null,
            "object_position": null,
            "order": null,
            "overflow": null,
            "overflow_x": null,
            "overflow_y": null,
            "padding": null,
            "right": null,
            "top": null,
            "visibility": null,
            "width": null
          }
        },
        "eb4c4bba20074734b0c8017aa65d266e": {
          "model_module": "@jupyter-widgets/base",
          "model_name": "LayoutModel",
          "model_module_version": "1.2.0",
          "state": {
            "_model_module": "@jupyter-widgets/base",
            "_model_module_version": "1.2.0",
            "_model_name": "LayoutModel",
            "_view_count": null,
            "_view_module": "@jupyter-widgets/base",
            "_view_module_version": "1.2.0",
            "_view_name": "LayoutView",
            "align_content": null,
            "align_items": null,
            "align_self": null,
            "border": null,
            "bottom": null,
            "display": null,
            "flex": null,
            "flex_flow": null,
            "grid_area": null,
            "grid_auto_columns": null,
            "grid_auto_flow": null,
            "grid_auto_rows": null,
            "grid_column": null,
            "grid_gap": null,
            "grid_row": null,
            "grid_template_areas": null,
            "grid_template_columns": null,
            "grid_template_rows": null,
            "height": null,
            "justify_content": null,
            "justify_items": null,
            "left": null,
            "margin": null,
            "max_height": null,
            "max_width": null,
            "min_height": null,
            "min_width": null,
            "object_fit": null,
            "object_position": null,
            "order": null,
            "overflow": null,
            "overflow_x": null,
            "overflow_y": null,
            "padding": null,
            "right": null,
            "top": null,
            "visibility": null,
            "width": null
          }
        },
        "1654defc86e54071b9e6b8504f8f6e67": {
          "model_module": "@jupyter-widgets/controls",
          "model_name": "DescriptionStyleModel",
          "model_module_version": "1.5.0",
          "state": {
            "_model_module": "@jupyter-widgets/controls",
            "_model_module_version": "1.5.0",
            "_model_name": "DescriptionStyleModel",
            "_view_count": null,
            "_view_module": "@jupyter-widgets/base",
            "_view_module_version": "1.2.0",
            "_view_name": "StyleView",
            "description_width": ""
          }
        },
        "c3261ab26220494ca0f33c77b30e67c7": {
          "model_module": "@jupyter-widgets/base",
          "model_name": "LayoutModel",
          "model_module_version": "1.2.0",
          "state": {
            "_model_module": "@jupyter-widgets/base",
            "_model_module_version": "1.2.0",
            "_model_name": "LayoutModel",
            "_view_count": null,
            "_view_module": "@jupyter-widgets/base",
            "_view_module_version": "1.2.0",
            "_view_name": "LayoutView",
            "align_content": null,
            "align_items": null,
            "align_self": null,
            "border": null,
            "bottom": null,
            "display": null,
            "flex": null,
            "flex_flow": null,
            "grid_area": null,
            "grid_auto_columns": null,
            "grid_auto_flow": null,
            "grid_auto_rows": null,
            "grid_column": null,
            "grid_gap": null,
            "grid_row": null,
            "grid_template_areas": null,
            "grid_template_columns": null,
            "grid_template_rows": null,
            "height": null,
            "justify_content": null,
            "justify_items": null,
            "left": null,
            "margin": null,
            "max_height": null,
            "max_width": null,
            "min_height": null,
            "min_width": null,
            "object_fit": null,
            "object_position": null,
            "order": null,
            "overflow": null,
            "overflow_x": null,
            "overflow_y": null,
            "padding": null,
            "right": null,
            "top": null,
            "visibility": null,
            "width": null
          }
        },
        "e03420b818884b978f6172f0030ede19": {
          "model_module": "@jupyter-widgets/controls",
          "model_name": "ProgressStyleModel",
          "model_module_version": "1.5.0",
          "state": {
            "_model_module": "@jupyter-widgets/controls",
            "_model_module_version": "1.5.0",
            "_model_name": "ProgressStyleModel",
            "_view_count": null,
            "_view_module": "@jupyter-widgets/base",
            "_view_module_version": "1.2.0",
            "_view_name": "StyleView",
            "bar_color": null,
            "description_width": ""
          }
        },
        "86b067a3766c4e58936c26682d19a65c": {
          "model_module": "@jupyter-widgets/base",
          "model_name": "LayoutModel",
          "model_module_version": "1.2.0",
          "state": {
            "_model_module": "@jupyter-widgets/base",
            "_model_module_version": "1.2.0",
            "_model_name": "LayoutModel",
            "_view_count": null,
            "_view_module": "@jupyter-widgets/base",
            "_view_module_version": "1.2.0",
            "_view_name": "LayoutView",
            "align_content": null,
            "align_items": null,
            "align_self": null,
            "border": null,
            "bottom": null,
            "display": null,
            "flex": null,
            "flex_flow": null,
            "grid_area": null,
            "grid_auto_columns": null,
            "grid_auto_flow": null,
            "grid_auto_rows": null,
            "grid_column": null,
            "grid_gap": null,
            "grid_row": null,
            "grid_template_areas": null,
            "grid_template_columns": null,
            "grid_template_rows": null,
            "height": null,
            "justify_content": null,
            "justify_items": null,
            "left": null,
            "margin": null,
            "max_height": null,
            "max_width": null,
            "min_height": null,
            "min_width": null,
            "object_fit": null,
            "object_position": null,
            "order": null,
            "overflow": null,
            "overflow_x": null,
            "overflow_y": null,
            "padding": null,
            "right": null,
            "top": null,
            "visibility": null,
            "width": null
          }
        },
        "389576f8d5f04260ace6054986addbe5": {
          "model_module": "@jupyter-widgets/controls",
          "model_name": "DescriptionStyleModel",
          "model_module_version": "1.5.0",
          "state": {
            "_model_module": "@jupyter-widgets/controls",
            "_model_module_version": "1.5.0",
            "_model_name": "DescriptionStyleModel",
            "_view_count": null,
            "_view_module": "@jupyter-widgets/base",
            "_view_module_version": "1.2.0",
            "_view_name": "StyleView",
            "description_width": ""
          }
        },
        "0c9f8a1299384f05b41c9838451b55d4": {
          "model_module": "@jupyter-widgets/controls",
          "model_name": "HBoxModel",
          "model_module_version": "1.5.0",
          "state": {
            "_dom_classes": [],
            "_model_module": "@jupyter-widgets/controls",
            "_model_module_version": "1.5.0",
            "_model_name": "HBoxModel",
            "_view_count": null,
            "_view_module": "@jupyter-widgets/controls",
            "_view_module_version": "1.5.0",
            "_view_name": "HBoxView",
            "box_style": "",
            "children": [
              "IPY_MODEL_870d4ee788f44b68a192bcec9f046af6",
              "IPY_MODEL_9b4cd34cc32d40ac9fdd0e52a586a3ea",
              "IPY_MODEL_bba620350c924188be8df1ce95d8ccf9"
            ],
            "layout": "IPY_MODEL_9a431fe307214433962ae16c1cac98af"
          }
        },
        "870d4ee788f44b68a192bcec9f046af6": {
          "model_module": "@jupyter-widgets/controls",
          "model_name": "HTMLModel",
          "model_module_version": "1.5.0",
          "state": {
            "_dom_classes": [],
            "_model_module": "@jupyter-widgets/controls",
            "_model_module_version": "1.5.0",
            "_model_name": "HTMLModel",
            "_view_count": null,
            "_view_module": "@jupyter-widgets/controls",
            "_view_module_version": "1.5.0",
            "_view_name": "HTMLView",
            "description": "",
            "description_tooltip": null,
            "layout": "IPY_MODEL_30a05a6096ef4c3486a0f3597ff275e5",
            "placeholder": "​",
            "style": "IPY_MODEL_276da034e30c4bd8a7127cb64404360d",
            "value": "pytorch_model.bin.index.json: 100%"
          }
        },
        "9b4cd34cc32d40ac9fdd0e52a586a3ea": {
          "model_module": "@jupyter-widgets/controls",
          "model_name": "FloatProgressModel",
          "model_module_version": "1.5.0",
          "state": {
            "_dom_classes": [],
            "_model_module": "@jupyter-widgets/controls",
            "_model_module_version": "1.5.0",
            "_model_name": "FloatProgressModel",
            "_view_count": null,
            "_view_module": "@jupyter-widgets/controls",
            "_view_module_version": "1.5.0",
            "_view_name": "ProgressView",
            "bar_style": "success",
            "description": "",
            "description_tooltip": null,
            "layout": "IPY_MODEL_714c89453630484dac57deef3c7528b2",
            "max": 55493,
            "min": 0,
            "orientation": "horizontal",
            "style": "IPY_MODEL_2253db2ae5d4492d865b0facd4e7c964",
            "value": 55493
          }
        },
        "bba620350c924188be8df1ce95d8ccf9": {
          "model_module": "@jupyter-widgets/controls",
          "model_name": "HTMLModel",
          "model_module_version": "1.5.0",
          "state": {
            "_dom_classes": [],
            "_model_module": "@jupyter-widgets/controls",
            "_model_module_version": "1.5.0",
            "_model_name": "HTMLModel",
            "_view_count": null,
            "_view_module": "@jupyter-widgets/controls",
            "_view_module_version": "1.5.0",
            "_view_name": "HTMLView",
            "description": "",
            "description_tooltip": null,
            "layout": "IPY_MODEL_af21216351d34538aa76d47893d2be8a",
            "placeholder": "​",
            "style": "IPY_MODEL_39acd9ef439f46b28d42d3e6a1414cda",
            "value": " 55.5k/55.5k [00:00&lt;00:00, 3.74MB/s]"
          }
        },
        "9a431fe307214433962ae16c1cac98af": {
          "model_module": "@jupyter-widgets/base",
          "model_name": "LayoutModel",
          "model_module_version": "1.2.0",
          "state": {
            "_model_module": "@jupyter-widgets/base",
            "_model_module_version": "1.2.0",
            "_model_name": "LayoutModel",
            "_view_count": null,
            "_view_module": "@jupyter-widgets/base",
            "_view_module_version": "1.2.0",
            "_view_name": "LayoutView",
            "align_content": null,
            "align_items": null,
            "align_self": null,
            "border": null,
            "bottom": null,
            "display": null,
            "flex": null,
            "flex_flow": null,
            "grid_area": null,
            "grid_auto_columns": null,
            "grid_auto_flow": null,
            "grid_auto_rows": null,
            "grid_column": null,
            "grid_gap": null,
            "grid_row": null,
            "grid_template_areas": null,
            "grid_template_columns": null,
            "grid_template_rows": null,
            "height": null,
            "justify_content": null,
            "justify_items": null,
            "left": null,
            "margin": null,
            "max_height": null,
            "max_width": null,
            "min_height": null,
            "min_width": null,
            "object_fit": null,
            "object_position": null,
            "order": null,
            "overflow": null,
            "overflow_x": null,
            "overflow_y": null,
            "padding": null,
            "right": null,
            "top": null,
            "visibility": null,
            "width": null
          }
        },
        "30a05a6096ef4c3486a0f3597ff275e5": {
          "model_module": "@jupyter-widgets/base",
          "model_name": "LayoutModel",
          "model_module_version": "1.2.0",
          "state": {
            "_model_module": "@jupyter-widgets/base",
            "_model_module_version": "1.2.0",
            "_model_name": "LayoutModel",
            "_view_count": null,
            "_view_module": "@jupyter-widgets/base",
            "_view_module_version": "1.2.0",
            "_view_name": "LayoutView",
            "align_content": null,
            "align_items": null,
            "align_self": null,
            "border": null,
            "bottom": null,
            "display": null,
            "flex": null,
            "flex_flow": null,
            "grid_area": null,
            "grid_auto_columns": null,
            "grid_auto_flow": null,
            "grid_auto_rows": null,
            "grid_column": null,
            "grid_gap": null,
            "grid_row": null,
            "grid_template_areas": null,
            "grid_template_columns": null,
            "grid_template_rows": null,
            "height": null,
            "justify_content": null,
            "justify_items": null,
            "left": null,
            "margin": null,
            "max_height": null,
            "max_width": null,
            "min_height": null,
            "min_width": null,
            "object_fit": null,
            "object_position": null,
            "order": null,
            "overflow": null,
            "overflow_x": null,
            "overflow_y": null,
            "padding": null,
            "right": null,
            "top": null,
            "visibility": null,
            "width": null
          }
        },
        "276da034e30c4bd8a7127cb64404360d": {
          "model_module": "@jupyter-widgets/controls",
          "model_name": "DescriptionStyleModel",
          "model_module_version": "1.5.0",
          "state": {
            "_model_module": "@jupyter-widgets/controls",
            "_model_module_version": "1.5.0",
            "_model_name": "DescriptionStyleModel",
            "_view_count": null,
            "_view_module": "@jupyter-widgets/base",
            "_view_module_version": "1.2.0",
            "_view_name": "StyleView",
            "description_width": ""
          }
        },
        "714c89453630484dac57deef3c7528b2": {
          "model_module": "@jupyter-widgets/base",
          "model_name": "LayoutModel",
          "model_module_version": "1.2.0",
          "state": {
            "_model_module": "@jupyter-widgets/base",
            "_model_module_version": "1.2.0",
            "_model_name": "LayoutModel",
            "_view_count": null,
            "_view_module": "@jupyter-widgets/base",
            "_view_module_version": "1.2.0",
            "_view_name": "LayoutView",
            "align_content": null,
            "align_items": null,
            "align_self": null,
            "border": null,
            "bottom": null,
            "display": null,
            "flex": null,
            "flex_flow": null,
            "grid_area": null,
            "grid_auto_columns": null,
            "grid_auto_flow": null,
            "grid_auto_rows": null,
            "grid_column": null,
            "grid_gap": null,
            "grid_row": null,
            "grid_template_areas": null,
            "grid_template_columns": null,
            "grid_template_rows": null,
            "height": null,
            "justify_content": null,
            "justify_items": null,
            "left": null,
            "margin": null,
            "max_height": null,
            "max_width": null,
            "min_height": null,
            "min_width": null,
            "object_fit": null,
            "object_position": null,
            "order": null,
            "overflow": null,
            "overflow_x": null,
            "overflow_y": null,
            "padding": null,
            "right": null,
            "top": null,
            "visibility": null,
            "width": null
          }
        },
        "2253db2ae5d4492d865b0facd4e7c964": {
          "model_module": "@jupyter-widgets/controls",
          "model_name": "ProgressStyleModel",
          "model_module_version": "1.5.0",
          "state": {
            "_model_module": "@jupyter-widgets/controls",
            "_model_module_version": "1.5.0",
            "_model_name": "ProgressStyleModel",
            "_view_count": null,
            "_view_module": "@jupyter-widgets/base",
            "_view_module_version": "1.2.0",
            "_view_name": "StyleView",
            "bar_color": null,
            "description_width": ""
          }
        },
        "af21216351d34538aa76d47893d2be8a": {
          "model_module": "@jupyter-widgets/base",
          "model_name": "LayoutModel",
          "model_module_version": "1.2.0",
          "state": {
            "_model_module": "@jupyter-widgets/base",
            "_model_module_version": "1.2.0",
            "_model_name": "LayoutModel",
            "_view_count": null,
            "_view_module": "@jupyter-widgets/base",
            "_view_module_version": "1.2.0",
            "_view_name": "LayoutView",
            "align_content": null,
            "align_items": null,
            "align_self": null,
            "border": null,
            "bottom": null,
            "display": null,
            "flex": null,
            "flex_flow": null,
            "grid_area": null,
            "grid_auto_columns": null,
            "grid_auto_flow": null,
            "grid_auto_rows": null,
            "grid_column": null,
            "grid_gap": null,
            "grid_row": null,
            "grid_template_areas": null,
            "grid_template_columns": null,
            "grid_template_rows": null,
            "height": null,
            "justify_content": null,
            "justify_items": null,
            "left": null,
            "margin": null,
            "max_height": null,
            "max_width": null,
            "min_height": null,
            "min_width": null,
            "object_fit": null,
            "object_position": null,
            "order": null,
            "overflow": null,
            "overflow_x": null,
            "overflow_y": null,
            "padding": null,
            "right": null,
            "top": null,
            "visibility": null,
            "width": null
          }
        },
        "39acd9ef439f46b28d42d3e6a1414cda": {
          "model_module": "@jupyter-widgets/controls",
          "model_name": "DescriptionStyleModel",
          "model_module_version": "1.5.0",
          "state": {
            "_model_module": "@jupyter-widgets/controls",
            "_model_module_version": "1.5.0",
            "_model_name": "DescriptionStyleModel",
            "_view_count": null,
            "_view_module": "@jupyter-widgets/base",
            "_view_module_version": "1.2.0",
            "_view_name": "StyleView",
            "description_width": ""
          }
        },
        "9414cbc483c547e1bde1d408e69fd3ca": {
          "model_module": "@jupyter-widgets/controls",
          "model_name": "HBoxModel",
          "model_module_version": "1.5.0",
          "state": {
            "_dom_classes": [],
            "_model_module": "@jupyter-widgets/controls",
            "_model_module_version": "1.5.0",
            "_model_name": "HBoxModel",
            "_view_count": null,
            "_view_module": "@jupyter-widgets/controls",
            "_view_module_version": "1.5.0",
            "_view_name": "HBoxView",
            "box_style": "",
            "children": [
              "IPY_MODEL_b4b0fff28c174d1ab16557e9019a5cff",
              "IPY_MODEL_3cbd536b9b0047dd9481e7ca6f410c8a",
              "IPY_MODEL_e8abdede0d224faf83e30549bef3456e"
            ],
            "layout": "IPY_MODEL_4d47d490d7424500ac90fa7f8c3cf636"
          }
        },
        "b4b0fff28c174d1ab16557e9019a5cff": {
          "model_module": "@jupyter-widgets/controls",
          "model_name": "HTMLModel",
          "model_module_version": "1.5.0",
          "state": {
            "_dom_classes": [],
            "_model_module": "@jupyter-widgets/controls",
            "_model_module_version": "1.5.0",
            "_model_name": "HTMLModel",
            "_view_count": null,
            "_view_module": "@jupyter-widgets/controls",
            "_view_module_version": "1.5.0",
            "_view_name": "HTMLView",
            "description": "",
            "description_tooltip": null,
            "layout": "IPY_MODEL_0670f1f53765425199fe3344226a4dcc",
            "placeholder": "​",
            "style": "IPY_MODEL_8de043ed186b44c4b8095cd69a890ae9",
            "value": "Downloading shards: 100%"
          }
        },
        "3cbd536b9b0047dd9481e7ca6f410c8a": {
          "model_module": "@jupyter-widgets/controls",
          "model_name": "FloatProgressModel",
          "model_module_version": "1.5.0",
          "state": {
            "_dom_classes": [],
            "_model_module": "@jupyter-widgets/controls",
            "_model_module_version": "1.5.0",
            "_model_name": "FloatProgressModel",
            "_view_count": null,
            "_view_module": "@jupyter-widgets/controls",
            "_view_module_version": "1.5.0",
            "_view_name": "ProgressView",
            "bar_style": "success",
            "description": "",
            "description_tooltip": null,
            "layout": "IPY_MODEL_ce870d1661f8488b9cabcb810e3d1004",
            "max": 2,
            "min": 0,
            "orientation": "horizontal",
            "style": "IPY_MODEL_1ece47022a2740d0a406373f0dbcd2fc",
            "value": 2
          }
        },
        "e8abdede0d224faf83e30549bef3456e": {
          "model_module": "@jupyter-widgets/controls",
          "model_name": "HTMLModel",
          "model_module_version": "1.5.0",
          "state": {
            "_dom_classes": [],
            "_model_module": "@jupyter-widgets/controls",
            "_model_module_version": "1.5.0",
            "_model_name": "HTMLModel",
            "_view_count": null,
            "_view_module": "@jupyter-widgets/controls",
            "_view_module_version": "1.5.0",
            "_view_name": "HTMLView",
            "description": "",
            "description_tooltip": null,
            "layout": "IPY_MODEL_563767e661cd42709974bca2799ea5cb",
            "placeholder": "​",
            "style": "IPY_MODEL_86f94e8b92a3489cba04c71958ae9ea2",
            "value": " 2/2 [01:35&lt;00:00, 41.29s/it]"
          }
        },
        "4d47d490d7424500ac90fa7f8c3cf636": {
          "model_module": "@jupyter-widgets/base",
          "model_name": "LayoutModel",
          "model_module_version": "1.2.0",
          "state": {
            "_model_module": "@jupyter-widgets/base",
            "_model_module_version": "1.2.0",
            "_model_name": "LayoutModel",
            "_view_count": null,
            "_view_module": "@jupyter-widgets/base",
            "_view_module_version": "1.2.0",
            "_view_name": "LayoutView",
            "align_content": null,
            "align_items": null,
            "align_self": null,
            "border": null,
            "bottom": null,
            "display": null,
            "flex": null,
            "flex_flow": null,
            "grid_area": null,
            "grid_auto_columns": null,
            "grid_auto_flow": null,
            "grid_auto_rows": null,
            "grid_column": null,
            "grid_gap": null,
            "grid_row": null,
            "grid_template_areas": null,
            "grid_template_columns": null,
            "grid_template_rows": null,
            "height": null,
            "justify_content": null,
            "justify_items": null,
            "left": null,
            "margin": null,
            "max_height": null,
            "max_width": null,
            "min_height": null,
            "min_width": null,
            "object_fit": null,
            "object_position": null,
            "order": null,
            "overflow": null,
            "overflow_x": null,
            "overflow_y": null,
            "padding": null,
            "right": null,
            "top": null,
            "visibility": null,
            "width": null
          }
        },
        "0670f1f53765425199fe3344226a4dcc": {
          "model_module": "@jupyter-widgets/base",
          "model_name": "LayoutModel",
          "model_module_version": "1.2.0",
          "state": {
            "_model_module": "@jupyter-widgets/base",
            "_model_module_version": "1.2.0",
            "_model_name": "LayoutModel",
            "_view_count": null,
            "_view_module": "@jupyter-widgets/base",
            "_view_module_version": "1.2.0",
            "_view_name": "LayoutView",
            "align_content": null,
            "align_items": null,
            "align_self": null,
            "border": null,
            "bottom": null,
            "display": null,
            "flex": null,
            "flex_flow": null,
            "grid_area": null,
            "grid_auto_columns": null,
            "grid_auto_flow": null,
            "grid_auto_rows": null,
            "grid_column": null,
            "grid_gap": null,
            "grid_row": null,
            "grid_template_areas": null,
            "grid_template_columns": null,
            "grid_template_rows": null,
            "height": null,
            "justify_content": null,
            "justify_items": null,
            "left": null,
            "margin": null,
            "max_height": null,
            "max_width": null,
            "min_height": null,
            "min_width": null,
            "object_fit": null,
            "object_position": null,
            "order": null,
            "overflow": null,
            "overflow_x": null,
            "overflow_y": null,
            "padding": null,
            "right": null,
            "top": null,
            "visibility": null,
            "width": null
          }
        },
        "8de043ed186b44c4b8095cd69a890ae9": {
          "model_module": "@jupyter-widgets/controls",
          "model_name": "DescriptionStyleModel",
          "model_module_version": "1.5.0",
          "state": {
            "_model_module": "@jupyter-widgets/controls",
            "_model_module_version": "1.5.0",
            "_model_name": "DescriptionStyleModel",
            "_view_count": null,
            "_view_module": "@jupyter-widgets/base",
            "_view_module_version": "1.2.0",
            "_view_name": "StyleView",
            "description_width": ""
          }
        },
        "ce870d1661f8488b9cabcb810e3d1004": {
          "model_module": "@jupyter-widgets/base",
          "model_name": "LayoutModel",
          "model_module_version": "1.2.0",
          "state": {
            "_model_module": "@jupyter-widgets/base",
            "_model_module_version": "1.2.0",
            "_model_name": "LayoutModel",
            "_view_count": null,
            "_view_module": "@jupyter-widgets/base",
            "_view_module_version": "1.2.0",
            "_view_name": "LayoutView",
            "align_content": null,
            "align_items": null,
            "align_self": null,
            "border": null,
            "bottom": null,
            "display": null,
            "flex": null,
            "flex_flow": null,
            "grid_area": null,
            "grid_auto_columns": null,
            "grid_auto_flow": null,
            "grid_auto_rows": null,
            "grid_column": null,
            "grid_gap": null,
            "grid_row": null,
            "grid_template_areas": null,
            "grid_template_columns": null,
            "grid_template_rows": null,
            "height": null,
            "justify_content": null,
            "justify_items": null,
            "left": null,
            "margin": null,
            "max_height": null,
            "max_width": null,
            "min_height": null,
            "min_width": null,
            "object_fit": null,
            "object_position": null,
            "order": null,
            "overflow": null,
            "overflow_x": null,
            "overflow_y": null,
            "padding": null,
            "right": null,
            "top": null,
            "visibility": null,
            "width": null
          }
        },
        "1ece47022a2740d0a406373f0dbcd2fc": {
          "model_module": "@jupyter-widgets/controls",
          "model_name": "ProgressStyleModel",
          "model_module_version": "1.5.0",
          "state": {
            "_model_module": "@jupyter-widgets/controls",
            "_model_module_version": "1.5.0",
            "_model_name": "ProgressStyleModel",
            "_view_count": null,
            "_view_module": "@jupyter-widgets/base",
            "_view_module_version": "1.2.0",
            "_view_name": "StyleView",
            "bar_color": null,
            "description_width": ""
          }
        },
        "563767e661cd42709974bca2799ea5cb": {
          "model_module": "@jupyter-widgets/base",
          "model_name": "LayoutModel",
          "model_module_version": "1.2.0",
          "state": {
            "_model_module": "@jupyter-widgets/base",
            "_model_module_version": "1.2.0",
            "_model_name": "LayoutModel",
            "_view_count": null,
            "_view_module": "@jupyter-widgets/base",
            "_view_module_version": "1.2.0",
            "_view_name": "LayoutView",
            "align_content": null,
            "align_items": null,
            "align_self": null,
            "border": null,
            "bottom": null,
            "display": null,
            "flex": null,
            "flex_flow": null,
            "grid_area": null,
            "grid_auto_columns": null,
            "grid_auto_flow": null,
            "grid_auto_rows": null,
            "grid_column": null,
            "grid_gap": null,
            "grid_row": null,
            "grid_template_areas": null,
            "grid_template_columns": null,
            "grid_template_rows": null,
            "height": null,
            "justify_content": null,
            "justify_items": null,
            "left": null,
            "margin": null,
            "max_height": null,
            "max_width": null,
            "min_height": null,
            "min_width": null,
            "object_fit": null,
            "object_position": null,
            "order": null,
            "overflow": null,
            "overflow_x": null,
            "overflow_y": null,
            "padding": null,
            "right": null,
            "top": null,
            "visibility": null,
            "width": null
          }
        },
        "86f94e8b92a3489cba04c71958ae9ea2": {
          "model_module": "@jupyter-widgets/controls",
          "model_name": "DescriptionStyleModel",
          "model_module_version": "1.5.0",
          "state": {
            "_model_module": "@jupyter-widgets/controls",
            "_model_module_version": "1.5.0",
            "_model_name": "DescriptionStyleModel",
            "_view_count": null,
            "_view_module": "@jupyter-widgets/base",
            "_view_module_version": "1.2.0",
            "_view_name": "StyleView",
            "description_width": ""
          }
        },
        "7fca58953369476bae4e2bd856f1d2c2": {
          "model_module": "@jupyter-widgets/controls",
          "model_name": "HBoxModel",
          "model_module_version": "1.5.0",
          "state": {
            "_dom_classes": [],
            "_model_module": "@jupyter-widgets/controls",
            "_model_module_version": "1.5.0",
            "_model_name": "HBoxModel",
            "_view_count": null,
            "_view_module": "@jupyter-widgets/controls",
            "_view_module_version": "1.5.0",
            "_view_name": "HBoxView",
            "box_style": "",
            "children": [
              "IPY_MODEL_26e52e1c5b0c4682ae9b66dd32a8430c",
              "IPY_MODEL_29e78797d5a2479a82ba3587f98bd6c6",
              "IPY_MODEL_59df157413544235bf0db1c9ecc25d63"
            ],
            "layout": "IPY_MODEL_16da9543e1a64641841bf6e9b29803ca"
          }
        },
        "26e52e1c5b0c4682ae9b66dd32a8430c": {
          "model_module": "@jupyter-widgets/controls",
          "model_name": "HTMLModel",
          "model_module_version": "1.5.0",
          "state": {
            "_dom_classes": [],
            "_model_module": "@jupyter-widgets/controls",
            "_model_module_version": "1.5.0",
            "_model_name": "HTMLModel",
            "_view_count": null,
            "_view_module": "@jupyter-widgets/controls",
            "_view_module_version": "1.5.0",
            "_view_name": "HTMLView",
            "description": "",
            "description_tooltip": null,
            "layout": "IPY_MODEL_8c1991f644ba4325903135ac2e636f83",
            "placeholder": "​",
            "style": "IPY_MODEL_4e0af0a7ea7a42dda5e13df9b62b92fe",
            "value": "pytorch_model-00001-of-00002.bin: 100%"
          }
        },
        "29e78797d5a2479a82ba3587f98bd6c6": {
          "model_module": "@jupyter-widgets/controls",
          "model_name": "FloatProgressModel",
          "model_module_version": "1.5.0",
          "state": {
            "_dom_classes": [],
            "_model_module": "@jupyter-widgets/controls",
            "_model_module_version": "1.5.0",
            "_model_name": "FloatProgressModel",
            "_view_count": null,
            "_view_module": "@jupyter-widgets/controls",
            "_view_module_version": "1.5.0",
            "_view_name": "ProgressView",
            "bar_style": "success",
            "description": "",
            "description_tooltip": null,
            "layout": "IPY_MODEL_9f83acc00f3c40c481e4d8430fbf3289",
            "max": 9976735419,
            "min": 0,
            "orientation": "horizontal",
            "style": "IPY_MODEL_a9651319b74e4e6f84e3215304f18599",
            "value": 9976735419
          }
        },
        "59df157413544235bf0db1c9ecc25d63": {
          "model_module": "@jupyter-widgets/controls",
          "model_name": "HTMLModel",
          "model_module_version": "1.5.0",
          "state": {
            "_dom_classes": [],
            "_model_module": "@jupyter-widgets/controls",
            "_model_module_version": "1.5.0",
            "_model_name": "HTMLModel",
            "_view_count": null,
            "_view_module": "@jupyter-widgets/controls",
            "_view_module_version": "1.5.0",
            "_view_name": "HTMLView",
            "description": "",
            "description_tooltip": null,
            "layout": "IPY_MODEL_6bfc2b089db94b2eaeef3400edbd98a5",
            "placeholder": "​",
            "style": "IPY_MODEL_ad5c09cdf7944553afa9c72ed23248f4",
            "value": " 9.98G/9.98G [01:22&lt;00:00, 113MB/s]"
          }
        },
        "16da9543e1a64641841bf6e9b29803ca": {
          "model_module": "@jupyter-widgets/base",
          "model_name": "LayoutModel",
          "model_module_version": "1.2.0",
          "state": {
            "_model_module": "@jupyter-widgets/base",
            "_model_module_version": "1.2.0",
            "_model_name": "LayoutModel",
            "_view_count": null,
            "_view_module": "@jupyter-widgets/base",
            "_view_module_version": "1.2.0",
            "_view_name": "LayoutView",
            "align_content": null,
            "align_items": null,
            "align_self": null,
            "border": null,
            "bottom": null,
            "display": null,
            "flex": null,
            "flex_flow": null,
            "grid_area": null,
            "grid_auto_columns": null,
            "grid_auto_flow": null,
            "grid_auto_rows": null,
            "grid_column": null,
            "grid_gap": null,
            "grid_row": null,
            "grid_template_areas": null,
            "grid_template_columns": null,
            "grid_template_rows": null,
            "height": null,
            "justify_content": null,
            "justify_items": null,
            "left": null,
            "margin": null,
            "max_height": null,
            "max_width": null,
            "min_height": null,
            "min_width": null,
            "object_fit": null,
            "object_position": null,
            "order": null,
            "overflow": null,
            "overflow_x": null,
            "overflow_y": null,
            "padding": null,
            "right": null,
            "top": null,
            "visibility": null,
            "width": null
          }
        },
        "8c1991f644ba4325903135ac2e636f83": {
          "model_module": "@jupyter-widgets/base",
          "model_name": "LayoutModel",
          "model_module_version": "1.2.0",
          "state": {
            "_model_module": "@jupyter-widgets/base",
            "_model_module_version": "1.2.0",
            "_model_name": "LayoutModel",
            "_view_count": null,
            "_view_module": "@jupyter-widgets/base",
            "_view_module_version": "1.2.0",
            "_view_name": "LayoutView",
            "align_content": null,
            "align_items": null,
            "align_self": null,
            "border": null,
            "bottom": null,
            "display": null,
            "flex": null,
            "flex_flow": null,
            "grid_area": null,
            "grid_auto_columns": null,
            "grid_auto_flow": null,
            "grid_auto_rows": null,
            "grid_column": null,
            "grid_gap": null,
            "grid_row": null,
            "grid_template_areas": null,
            "grid_template_columns": null,
            "grid_template_rows": null,
            "height": null,
            "justify_content": null,
            "justify_items": null,
            "left": null,
            "margin": null,
            "max_height": null,
            "max_width": null,
            "min_height": null,
            "min_width": null,
            "object_fit": null,
            "object_position": null,
            "order": null,
            "overflow": null,
            "overflow_x": null,
            "overflow_y": null,
            "padding": null,
            "right": null,
            "top": null,
            "visibility": null,
            "width": null
          }
        },
        "4e0af0a7ea7a42dda5e13df9b62b92fe": {
          "model_module": "@jupyter-widgets/controls",
          "model_name": "DescriptionStyleModel",
          "model_module_version": "1.5.0",
          "state": {
            "_model_module": "@jupyter-widgets/controls",
            "_model_module_version": "1.5.0",
            "_model_name": "DescriptionStyleModel",
            "_view_count": null,
            "_view_module": "@jupyter-widgets/base",
            "_view_module_version": "1.2.0",
            "_view_name": "StyleView",
            "description_width": ""
          }
        },
        "9f83acc00f3c40c481e4d8430fbf3289": {
          "model_module": "@jupyter-widgets/base",
          "model_name": "LayoutModel",
          "model_module_version": "1.2.0",
          "state": {
            "_model_module": "@jupyter-widgets/base",
            "_model_module_version": "1.2.0",
            "_model_name": "LayoutModel",
            "_view_count": null,
            "_view_module": "@jupyter-widgets/base",
            "_view_module_version": "1.2.0",
            "_view_name": "LayoutView",
            "align_content": null,
            "align_items": null,
            "align_self": null,
            "border": null,
            "bottom": null,
            "display": null,
            "flex": null,
            "flex_flow": null,
            "grid_area": null,
            "grid_auto_columns": null,
            "grid_auto_flow": null,
            "grid_auto_rows": null,
            "grid_column": null,
            "grid_gap": null,
            "grid_row": null,
            "grid_template_areas": null,
            "grid_template_columns": null,
            "grid_template_rows": null,
            "height": null,
            "justify_content": null,
            "justify_items": null,
            "left": null,
            "margin": null,
            "max_height": null,
            "max_width": null,
            "min_height": null,
            "min_width": null,
            "object_fit": null,
            "object_position": null,
            "order": null,
            "overflow": null,
            "overflow_x": null,
            "overflow_y": null,
            "padding": null,
            "right": null,
            "top": null,
            "visibility": null,
            "width": null
          }
        },
        "a9651319b74e4e6f84e3215304f18599": {
          "model_module": "@jupyter-widgets/controls",
          "model_name": "ProgressStyleModel",
          "model_module_version": "1.5.0",
          "state": {
            "_model_module": "@jupyter-widgets/controls",
            "_model_module_version": "1.5.0",
            "_model_name": "ProgressStyleModel",
            "_view_count": null,
            "_view_module": "@jupyter-widgets/base",
            "_view_module_version": "1.2.0",
            "_view_name": "StyleView",
            "bar_color": null,
            "description_width": ""
          }
        },
        "6bfc2b089db94b2eaeef3400edbd98a5": {
          "model_module": "@jupyter-widgets/base",
          "model_name": "LayoutModel",
          "model_module_version": "1.2.0",
          "state": {
            "_model_module": "@jupyter-widgets/base",
            "_model_module_version": "1.2.0",
            "_model_name": "LayoutModel",
            "_view_count": null,
            "_view_module": "@jupyter-widgets/base",
            "_view_module_version": "1.2.0",
            "_view_name": "LayoutView",
            "align_content": null,
            "align_items": null,
            "align_self": null,
            "border": null,
            "bottom": null,
            "display": null,
            "flex": null,
            "flex_flow": null,
            "grid_area": null,
            "grid_auto_columns": null,
            "grid_auto_flow": null,
            "grid_auto_rows": null,
            "grid_column": null,
            "grid_gap": null,
            "grid_row": null,
            "grid_template_areas": null,
            "grid_template_columns": null,
            "grid_template_rows": null,
            "height": null,
            "justify_content": null,
            "justify_items": null,
            "left": null,
            "margin": null,
            "max_height": null,
            "max_width": null,
            "min_height": null,
            "min_width": null,
            "object_fit": null,
            "object_position": null,
            "order": null,
            "overflow": null,
            "overflow_x": null,
            "overflow_y": null,
            "padding": null,
            "right": null,
            "top": null,
            "visibility": null,
            "width": null
          }
        },
        "ad5c09cdf7944553afa9c72ed23248f4": {
          "model_module": "@jupyter-widgets/controls",
          "model_name": "DescriptionStyleModel",
          "model_module_version": "1.5.0",
          "state": {
            "_model_module": "@jupyter-widgets/controls",
            "_model_module_version": "1.5.0",
            "_model_name": "DescriptionStyleModel",
            "_view_count": null,
            "_view_module": "@jupyter-widgets/base",
            "_view_module_version": "1.2.0",
            "_view_name": "StyleView",
            "description_width": ""
          }
        },
        "fe34ecf463054cbaa14a474c16a3c91c": {
          "model_module": "@jupyter-widgets/controls",
          "model_name": "HBoxModel",
          "model_module_version": "1.5.0",
          "state": {
            "_dom_classes": [],
            "_model_module": "@jupyter-widgets/controls",
            "_model_module_version": "1.5.0",
            "_model_name": "HBoxModel",
            "_view_count": null,
            "_view_module": "@jupyter-widgets/controls",
            "_view_module_version": "1.5.0",
            "_view_name": "HBoxView",
            "box_style": "",
            "children": [
              "IPY_MODEL_353fc9b5fc844872bbd52fab562f39fd",
              "IPY_MODEL_6053f1b5d93b4954acc76d9b948e384c",
              "IPY_MODEL_2c3e089e969448ce8a423ff56c76edf6"
            ],
            "layout": "IPY_MODEL_7d0423edea1348f19f631bd1f3a6cc35"
          }
        },
        "353fc9b5fc844872bbd52fab562f39fd": {
          "model_module": "@jupyter-widgets/controls",
          "model_name": "HTMLModel",
          "model_module_version": "1.5.0",
          "state": {
            "_dom_classes": [],
            "_model_module": "@jupyter-widgets/controls",
            "_model_module_version": "1.5.0",
            "_model_name": "HTMLModel",
            "_view_count": null,
            "_view_module": "@jupyter-widgets/controls",
            "_view_module_version": "1.5.0",
            "_view_name": "HTMLView",
            "description": "",
            "description_tooltip": null,
            "layout": "IPY_MODEL_94b115e95f27477f850d1c59777ee4d3",
            "placeholder": "​",
            "style": "IPY_MODEL_10664e0db73749e2867016b8f5b47420",
            "value": "pytorch_model-00002-of-00002.bin: 100%"
          }
        },
        "6053f1b5d93b4954acc76d9b948e384c": {
          "model_module": "@jupyter-widgets/controls",
          "model_name": "FloatProgressModel",
          "model_module_version": "1.5.0",
          "state": {
            "_dom_classes": [],
            "_model_module": "@jupyter-widgets/controls",
            "_model_module_version": "1.5.0",
            "_model_name": "FloatProgressModel",
            "_view_count": null,
            "_view_module": "@jupyter-widgets/controls",
            "_view_module_version": "1.5.0",
            "_view_name": "ProgressView",
            "bar_style": "success",
            "description": "",
            "description_tooltip": null,
            "layout": "IPY_MODEL_4238315c637a42868fc191edfd20c5c3",
            "max": 1390347055,
            "min": 0,
            "orientation": "horizontal",
            "style": "IPY_MODEL_49c534e524754d4da14d7e18ef9b5806",
            "value": 1390347055
          }
        },
        "2c3e089e969448ce8a423ff56c76edf6": {
          "model_module": "@jupyter-widgets/controls",
          "model_name": "HTMLModel",
          "model_module_version": "1.5.0",
          "state": {
            "_dom_classes": [],
            "_model_module": "@jupyter-widgets/controls",
            "_model_module_version": "1.5.0",
            "_model_name": "HTMLModel",
            "_view_count": null,
            "_view_module": "@jupyter-widgets/controls",
            "_view_module_version": "1.5.0",
            "_view_name": "HTMLView",
            "description": "",
            "description_tooltip": null,
            "layout": "IPY_MODEL_64f6b249d72941c5906709868557948a",
            "placeholder": "​",
            "style": "IPY_MODEL_a4193e70b3c9425c9ac2a95580b1e0da",
            "value": " 1.39G/1.39G [00:11&lt;00:00, 83.7MB/s]"
          }
        },
        "7d0423edea1348f19f631bd1f3a6cc35": {
          "model_module": "@jupyter-widgets/base",
          "model_name": "LayoutModel",
          "model_module_version": "1.2.0",
          "state": {
            "_model_module": "@jupyter-widgets/base",
            "_model_module_version": "1.2.0",
            "_model_name": "LayoutModel",
            "_view_count": null,
            "_view_module": "@jupyter-widgets/base",
            "_view_module_version": "1.2.0",
            "_view_name": "LayoutView",
            "align_content": null,
            "align_items": null,
            "align_self": null,
            "border": null,
            "bottom": null,
            "display": null,
            "flex": null,
            "flex_flow": null,
            "grid_area": null,
            "grid_auto_columns": null,
            "grid_auto_flow": null,
            "grid_auto_rows": null,
            "grid_column": null,
            "grid_gap": null,
            "grid_row": null,
            "grid_template_areas": null,
            "grid_template_columns": null,
            "grid_template_rows": null,
            "height": null,
            "justify_content": null,
            "justify_items": null,
            "left": null,
            "margin": null,
            "max_height": null,
            "max_width": null,
            "min_height": null,
            "min_width": null,
            "object_fit": null,
            "object_position": null,
            "order": null,
            "overflow": null,
            "overflow_x": null,
            "overflow_y": null,
            "padding": null,
            "right": null,
            "top": null,
            "visibility": null,
            "width": null
          }
        },
        "94b115e95f27477f850d1c59777ee4d3": {
          "model_module": "@jupyter-widgets/base",
          "model_name": "LayoutModel",
          "model_module_version": "1.2.0",
          "state": {
            "_model_module": "@jupyter-widgets/base",
            "_model_module_version": "1.2.0",
            "_model_name": "LayoutModel",
            "_view_count": null,
            "_view_module": "@jupyter-widgets/base",
            "_view_module_version": "1.2.0",
            "_view_name": "LayoutView",
            "align_content": null,
            "align_items": null,
            "align_self": null,
            "border": null,
            "bottom": null,
            "display": null,
            "flex": null,
            "flex_flow": null,
            "grid_area": null,
            "grid_auto_columns": null,
            "grid_auto_flow": null,
            "grid_auto_rows": null,
            "grid_column": null,
            "grid_gap": null,
            "grid_row": null,
            "grid_template_areas": null,
            "grid_template_columns": null,
            "grid_template_rows": null,
            "height": null,
            "justify_content": null,
            "justify_items": null,
            "left": null,
            "margin": null,
            "max_height": null,
            "max_width": null,
            "min_height": null,
            "min_width": null,
            "object_fit": null,
            "object_position": null,
            "order": null,
            "overflow": null,
            "overflow_x": null,
            "overflow_y": null,
            "padding": null,
            "right": null,
            "top": null,
            "visibility": null,
            "width": null
          }
        },
        "10664e0db73749e2867016b8f5b47420": {
          "model_module": "@jupyter-widgets/controls",
          "model_name": "DescriptionStyleModel",
          "model_module_version": "1.5.0",
          "state": {
            "_model_module": "@jupyter-widgets/controls",
            "_model_module_version": "1.5.0",
            "_model_name": "DescriptionStyleModel",
            "_view_count": null,
            "_view_module": "@jupyter-widgets/base",
            "_view_module_version": "1.2.0",
            "_view_name": "StyleView",
            "description_width": ""
          }
        },
        "4238315c637a42868fc191edfd20c5c3": {
          "model_module": "@jupyter-widgets/base",
          "model_name": "LayoutModel",
          "model_module_version": "1.2.0",
          "state": {
            "_model_module": "@jupyter-widgets/base",
            "_model_module_version": "1.2.0",
            "_model_name": "LayoutModel",
            "_view_count": null,
            "_view_module": "@jupyter-widgets/base",
            "_view_module_version": "1.2.0",
            "_view_name": "LayoutView",
            "align_content": null,
            "align_items": null,
            "align_self": null,
            "border": null,
            "bottom": null,
            "display": null,
            "flex": null,
            "flex_flow": null,
            "grid_area": null,
            "grid_auto_columns": null,
            "grid_auto_flow": null,
            "grid_auto_rows": null,
            "grid_column": null,
            "grid_gap": null,
            "grid_row": null,
            "grid_template_areas": null,
            "grid_template_columns": null,
            "grid_template_rows": null,
            "height": null,
            "justify_content": null,
            "justify_items": null,
            "left": null,
            "margin": null,
            "max_height": null,
            "max_width": null,
            "min_height": null,
            "min_width": null,
            "object_fit": null,
            "object_position": null,
            "order": null,
            "overflow": null,
            "overflow_x": null,
            "overflow_y": null,
            "padding": null,
            "right": null,
            "top": null,
            "visibility": null,
            "width": null
          }
        },
        "49c534e524754d4da14d7e18ef9b5806": {
          "model_module": "@jupyter-widgets/controls",
          "model_name": "ProgressStyleModel",
          "model_module_version": "1.5.0",
          "state": {
            "_model_module": "@jupyter-widgets/controls",
            "_model_module_version": "1.5.0",
            "_model_name": "ProgressStyleModel",
            "_view_count": null,
            "_view_module": "@jupyter-widgets/base",
            "_view_module_version": "1.2.0",
            "_view_name": "StyleView",
            "bar_color": null,
            "description_width": ""
          }
        },
        "64f6b249d72941c5906709868557948a": {
          "model_module": "@jupyter-widgets/base",
          "model_name": "LayoutModel",
          "model_module_version": "1.2.0",
          "state": {
            "_model_module": "@jupyter-widgets/base",
            "_model_module_version": "1.2.0",
            "_model_name": "LayoutModel",
            "_view_count": null,
            "_view_module": "@jupyter-widgets/base",
            "_view_module_version": "1.2.0",
            "_view_name": "LayoutView",
            "align_content": null,
            "align_items": null,
            "align_self": null,
            "border": null,
            "bottom": null,
            "display": null,
            "flex": null,
            "flex_flow": null,
            "grid_area": null,
            "grid_auto_columns": null,
            "grid_auto_flow": null,
            "grid_auto_rows": null,
            "grid_column": null,
            "grid_gap": null,
            "grid_row": null,
            "grid_template_areas": null,
            "grid_template_columns": null,
            "grid_template_rows": null,
            "height": null,
            "justify_content": null,
            "justify_items": null,
            "left": null,
            "margin": null,
            "max_height": null,
            "max_width": null,
            "min_height": null,
            "min_width": null,
            "object_fit": null,
            "object_position": null,
            "order": null,
            "overflow": null,
            "overflow_x": null,
            "overflow_y": null,
            "padding": null,
            "right": null,
            "top": null,
            "visibility": null,
            "width": null
          }
        },
        "a4193e70b3c9425c9ac2a95580b1e0da": {
          "model_module": "@jupyter-widgets/controls",
          "model_name": "DescriptionStyleModel",
          "model_module_version": "1.5.0",
          "state": {
            "_model_module": "@jupyter-widgets/controls",
            "_model_module_version": "1.5.0",
            "_model_name": "DescriptionStyleModel",
            "_view_count": null,
            "_view_module": "@jupyter-widgets/base",
            "_view_module_version": "1.2.0",
            "_view_name": "StyleView",
            "description_width": ""
          }
        },
        "3c9118190d3b4935b617bb95a6390952": {
          "model_module": "@jupyter-widgets/controls",
          "model_name": "HBoxModel",
          "model_module_version": "1.5.0",
          "state": {
            "_dom_classes": [],
            "_model_module": "@jupyter-widgets/controls",
            "_model_module_version": "1.5.0",
            "_model_name": "HBoxModel",
            "_view_count": null,
            "_view_module": "@jupyter-widgets/controls",
            "_view_module_version": "1.5.0",
            "_view_name": "HBoxView",
            "box_style": "",
            "children": [
              "IPY_MODEL_721fe60549a6406aaef62a449928b8b8",
              "IPY_MODEL_d8e4f72c11a44db68ae0d145622a51e4",
              "IPY_MODEL_a45f713a329a411591c31cbdf568b6f0"
            ],
            "layout": "IPY_MODEL_d153a8fb15da450abfcde04ba340cca8"
          }
        },
        "721fe60549a6406aaef62a449928b8b8": {
          "model_module": "@jupyter-widgets/controls",
          "model_name": "HTMLModel",
          "model_module_version": "1.5.0",
          "state": {
            "_dom_classes": [],
            "_model_module": "@jupyter-widgets/controls",
            "_model_module_version": "1.5.0",
            "_model_name": "HTMLModel",
            "_view_count": null,
            "_view_module": "@jupyter-widgets/controls",
            "_view_module_version": "1.5.0",
            "_view_name": "HTMLView",
            "description": "",
            "description_tooltip": null,
            "layout": "IPY_MODEL_1b4644a3628a413a9f0c9c0739dd9820",
            "placeholder": "​",
            "style": "IPY_MODEL_5717e97331184b3dad798cd9c849f61e",
            "value": "Loading checkpoint shards: 100%"
          }
        },
        "d8e4f72c11a44db68ae0d145622a51e4": {
          "model_module": "@jupyter-widgets/controls",
          "model_name": "FloatProgressModel",
          "model_module_version": "1.5.0",
          "state": {
            "_dom_classes": [],
            "_model_module": "@jupyter-widgets/controls",
            "_model_module_version": "1.5.0",
            "_model_name": "FloatProgressModel",
            "_view_count": null,
            "_view_module": "@jupyter-widgets/controls",
            "_view_module_version": "1.5.0",
            "_view_name": "ProgressView",
            "bar_style": "success",
            "description": "",
            "description_tooltip": null,
            "layout": "IPY_MODEL_48c0461d3f8d419781fcd3a973434a4f",
            "max": 2,
            "min": 0,
            "orientation": "horizontal",
            "style": "IPY_MODEL_dbcede4d86d242ec8c4a27c2cbc13cf4",
            "value": 2
          }
        },
        "a45f713a329a411591c31cbdf568b6f0": {
          "model_module": "@jupyter-widgets/controls",
          "model_name": "HTMLModel",
          "model_module_version": "1.5.0",
          "state": {
            "_dom_classes": [],
            "_model_module": "@jupyter-widgets/controls",
            "_model_module_version": "1.5.0",
            "_model_name": "HTMLModel",
            "_view_count": null,
            "_view_module": "@jupyter-widgets/controls",
            "_view_module_version": "1.5.0",
            "_view_name": "HTMLView",
            "description": "",
            "description_tooltip": null,
            "layout": "IPY_MODEL_9b053a6058f9459d9dba9f1ec4e72b2e",
            "placeholder": "​",
            "style": "IPY_MODEL_57b4d745cb614f74829e1baced11188d",
            "value": " 2/2 [00:00&lt;00:00,  2.61it/s]"
          }
        },
        "d153a8fb15da450abfcde04ba340cca8": {
          "model_module": "@jupyter-widgets/base",
          "model_name": "LayoutModel",
          "model_module_version": "1.2.0",
          "state": {
            "_model_module": "@jupyter-widgets/base",
            "_model_module_version": "1.2.0",
            "_model_name": "LayoutModel",
            "_view_count": null,
            "_view_module": "@jupyter-widgets/base",
            "_view_module_version": "1.2.0",
            "_view_name": "LayoutView",
            "align_content": null,
            "align_items": null,
            "align_self": null,
            "border": null,
            "bottom": null,
            "display": null,
            "flex": null,
            "flex_flow": null,
            "grid_area": null,
            "grid_auto_columns": null,
            "grid_auto_flow": null,
            "grid_auto_rows": null,
            "grid_column": null,
            "grid_gap": null,
            "grid_row": null,
            "grid_template_areas": null,
            "grid_template_columns": null,
            "grid_template_rows": null,
            "height": null,
            "justify_content": null,
            "justify_items": null,
            "left": null,
            "margin": null,
            "max_height": null,
            "max_width": null,
            "min_height": null,
            "min_width": null,
            "object_fit": null,
            "object_position": null,
            "order": null,
            "overflow": null,
            "overflow_x": null,
            "overflow_y": null,
            "padding": null,
            "right": null,
            "top": null,
            "visibility": null,
            "width": null
          }
        },
        "1b4644a3628a413a9f0c9c0739dd9820": {
          "model_module": "@jupyter-widgets/base",
          "model_name": "LayoutModel",
          "model_module_version": "1.2.0",
          "state": {
            "_model_module": "@jupyter-widgets/base",
            "_model_module_version": "1.2.0",
            "_model_name": "LayoutModel",
            "_view_count": null,
            "_view_module": "@jupyter-widgets/base",
            "_view_module_version": "1.2.0",
            "_view_name": "LayoutView",
            "align_content": null,
            "align_items": null,
            "align_self": null,
            "border": null,
            "bottom": null,
            "display": null,
            "flex": null,
            "flex_flow": null,
            "grid_area": null,
            "grid_auto_columns": null,
            "grid_auto_flow": null,
            "grid_auto_rows": null,
            "grid_column": null,
            "grid_gap": null,
            "grid_row": null,
            "grid_template_areas": null,
            "grid_template_columns": null,
            "grid_template_rows": null,
            "height": null,
            "justify_content": null,
            "justify_items": null,
            "left": null,
            "margin": null,
            "max_height": null,
            "max_width": null,
            "min_height": null,
            "min_width": null,
            "object_fit": null,
            "object_position": null,
            "order": null,
            "overflow": null,
            "overflow_x": null,
            "overflow_y": null,
            "padding": null,
            "right": null,
            "top": null,
            "visibility": null,
            "width": null
          }
        },
        "5717e97331184b3dad798cd9c849f61e": {
          "model_module": "@jupyter-widgets/controls",
          "model_name": "DescriptionStyleModel",
          "model_module_version": "1.5.0",
          "state": {
            "_model_module": "@jupyter-widgets/controls",
            "_model_module_version": "1.5.0",
            "_model_name": "DescriptionStyleModel",
            "_view_count": null,
            "_view_module": "@jupyter-widgets/base",
            "_view_module_version": "1.2.0",
            "_view_name": "StyleView",
            "description_width": ""
          }
        },
        "48c0461d3f8d419781fcd3a973434a4f": {
          "model_module": "@jupyter-widgets/base",
          "model_name": "LayoutModel",
          "model_module_version": "1.2.0",
          "state": {
            "_model_module": "@jupyter-widgets/base",
            "_model_module_version": "1.2.0",
            "_model_name": "LayoutModel",
            "_view_count": null,
            "_view_module": "@jupyter-widgets/base",
            "_view_module_version": "1.2.0",
            "_view_name": "LayoutView",
            "align_content": null,
            "align_items": null,
            "align_self": null,
            "border": null,
            "bottom": null,
            "display": null,
            "flex": null,
            "flex_flow": null,
            "grid_area": null,
            "grid_auto_columns": null,
            "grid_auto_flow": null,
            "grid_auto_rows": null,
            "grid_column": null,
            "grid_gap": null,
            "grid_row": null,
            "grid_template_areas": null,
            "grid_template_columns": null,
            "grid_template_rows": null,
            "height": null,
            "justify_content": null,
            "justify_items": null,
            "left": null,
            "margin": null,
            "max_height": null,
            "max_width": null,
            "min_height": null,
            "min_width": null,
            "object_fit": null,
            "object_position": null,
            "order": null,
            "overflow": null,
            "overflow_x": null,
            "overflow_y": null,
            "padding": null,
            "right": null,
            "top": null,
            "visibility": null,
            "width": null
          }
        },
        "dbcede4d86d242ec8c4a27c2cbc13cf4": {
          "model_module": "@jupyter-widgets/controls",
          "model_name": "ProgressStyleModel",
          "model_module_version": "1.5.0",
          "state": {
            "_model_module": "@jupyter-widgets/controls",
            "_model_module_version": "1.5.0",
            "_model_name": "ProgressStyleModel",
            "_view_count": null,
            "_view_module": "@jupyter-widgets/base",
            "_view_module_version": "1.2.0",
            "_view_name": "StyleView",
            "bar_color": null,
            "description_width": ""
          }
        },
        "9b053a6058f9459d9dba9f1ec4e72b2e": {
          "model_module": "@jupyter-widgets/base",
          "model_name": "LayoutModel",
          "model_module_version": "1.2.0",
          "state": {
            "_model_module": "@jupyter-widgets/base",
            "_model_module_version": "1.2.0",
            "_model_name": "LayoutModel",
            "_view_count": null,
            "_view_module": "@jupyter-widgets/base",
            "_view_module_version": "1.2.0",
            "_view_name": "LayoutView",
            "align_content": null,
            "align_items": null,
            "align_self": null,
            "border": null,
            "bottom": null,
            "display": null,
            "flex": null,
            "flex_flow": null,
            "grid_area": null,
            "grid_auto_columns": null,
            "grid_auto_flow": null,
            "grid_auto_rows": null,
            "grid_column": null,
            "grid_gap": null,
            "grid_row": null,
            "grid_template_areas": null,
            "grid_template_columns": null,
            "grid_template_rows": null,
            "height": null,
            "justify_content": null,
            "justify_items": null,
            "left": null,
            "margin": null,
            "max_height": null,
            "max_width": null,
            "min_height": null,
            "min_width": null,
            "object_fit": null,
            "object_position": null,
            "order": null,
            "overflow": null,
            "overflow_x": null,
            "overflow_y": null,
            "padding": null,
            "right": null,
            "top": null,
            "visibility": null,
            "width": null
          }
        },
        "57b4d745cb614f74829e1baced11188d": {
          "model_module": "@jupyter-widgets/controls",
          "model_name": "DescriptionStyleModel",
          "model_module_version": "1.5.0",
          "state": {
            "_model_module": "@jupyter-widgets/controls",
            "_model_module_version": "1.5.0",
            "_model_name": "DescriptionStyleModel",
            "_view_count": null,
            "_view_module": "@jupyter-widgets/base",
            "_view_module_version": "1.2.0",
            "_view_name": "StyleView",
            "description_width": ""
          }
        },
        "74bde2573c86457eb117f775fb10e714": {
          "model_module": "@jupyter-widgets/controls",
          "model_name": "HBoxModel",
          "model_module_version": "1.5.0",
          "state": {
            "_dom_classes": [],
            "_model_module": "@jupyter-widgets/controls",
            "_model_module_version": "1.5.0",
            "_model_name": "HBoxModel",
            "_view_count": null,
            "_view_module": "@jupyter-widgets/controls",
            "_view_module_version": "1.5.0",
            "_view_name": "HBoxView",
            "box_style": "",
            "children": [
              "IPY_MODEL_f9907018085442e0a0b0591e1c026b23",
              "IPY_MODEL_d9bf68087d574e969f3d139d41b6f008",
              "IPY_MODEL_23b3ae1fadda4e68926eed7aa5680d19"
            ],
            "layout": "IPY_MODEL_95e827ec796545dc91fd6e7350c758ee"
          }
        },
        "f9907018085442e0a0b0591e1c026b23": {
          "model_module": "@jupyter-widgets/controls",
          "model_name": "HTMLModel",
          "model_module_version": "1.5.0",
          "state": {
            "_dom_classes": [],
            "_model_module": "@jupyter-widgets/controls",
            "_model_module_version": "1.5.0",
            "_model_name": "HTMLModel",
            "_view_count": null,
            "_view_module": "@jupyter-widgets/controls",
            "_view_module_version": "1.5.0",
            "_view_name": "HTMLView",
            "description": "",
            "description_tooltip": null,
            "layout": "IPY_MODEL_4632b43b9fe7494fbc970c7510d511eb",
            "placeholder": "​",
            "style": "IPY_MODEL_8e2129c3a13647b6bc6aaa5dce864153",
            "value": "Downloading builder script: 100%"
          }
        },
        "d9bf68087d574e969f3d139d41b6f008": {
          "model_module": "@jupyter-widgets/controls",
          "model_name": "FloatProgressModel",
          "model_module_version": "1.5.0",
          "state": {
            "_dom_classes": [],
            "_model_module": "@jupyter-widgets/controls",
            "_model_module_version": "1.5.0",
            "_model_name": "FloatProgressModel",
            "_view_count": null,
            "_view_module": "@jupyter-widgets/controls",
            "_view_module_version": "1.5.0",
            "_view_name": "ProgressView",
            "bar_style": "success",
            "description": "",
            "description_tooltip": null,
            "layout": "IPY_MODEL_259cf2779a514a6781d3ad0af8969899",
            "max": 4203,
            "min": 0,
            "orientation": "horizontal",
            "style": "IPY_MODEL_575d1999d95942908de33e9adf5f21cf",
            "value": 4203
          }
        },
        "23b3ae1fadda4e68926eed7aa5680d19": {
          "model_module": "@jupyter-widgets/controls",
          "model_name": "HTMLModel",
          "model_module_version": "1.5.0",
          "state": {
            "_dom_classes": [],
            "_model_module": "@jupyter-widgets/controls",
            "_model_module_version": "1.5.0",
            "_model_name": "HTMLModel",
            "_view_count": null,
            "_view_module": "@jupyter-widgets/controls",
            "_view_module_version": "1.5.0",
            "_view_name": "HTMLView",
            "description": "",
            "description_tooltip": null,
            "layout": "IPY_MODEL_18be7f45c41e4a56a0a0f8f925904f76",
            "placeholder": "​",
            "style": "IPY_MODEL_c361abf0f2f9467e97c82f2fc46cf22f",
            "value": " 4.20k/4.20k [00:00&lt;00:00, 355kB/s]"
          }
        },
        "95e827ec796545dc91fd6e7350c758ee": {
          "model_module": "@jupyter-widgets/base",
          "model_name": "LayoutModel",
          "model_module_version": "1.2.0",
          "state": {
            "_model_module": "@jupyter-widgets/base",
            "_model_module_version": "1.2.0",
            "_model_name": "LayoutModel",
            "_view_count": null,
            "_view_module": "@jupyter-widgets/base",
            "_view_module_version": "1.2.0",
            "_view_name": "LayoutView",
            "align_content": null,
            "align_items": null,
            "align_self": null,
            "border": null,
            "bottom": null,
            "display": null,
            "flex": null,
            "flex_flow": null,
            "grid_area": null,
            "grid_auto_columns": null,
            "grid_auto_flow": null,
            "grid_auto_rows": null,
            "grid_column": null,
            "grid_gap": null,
            "grid_row": null,
            "grid_template_areas": null,
            "grid_template_columns": null,
            "grid_template_rows": null,
            "height": null,
            "justify_content": null,
            "justify_items": null,
            "left": null,
            "margin": null,
            "max_height": null,
            "max_width": null,
            "min_height": null,
            "min_width": null,
            "object_fit": null,
            "object_position": null,
            "order": null,
            "overflow": null,
            "overflow_x": null,
            "overflow_y": null,
            "padding": null,
            "right": null,
            "top": null,
            "visibility": null,
            "width": null
          }
        },
        "4632b43b9fe7494fbc970c7510d511eb": {
          "model_module": "@jupyter-widgets/base",
          "model_name": "LayoutModel",
          "model_module_version": "1.2.0",
          "state": {
            "_model_module": "@jupyter-widgets/base",
            "_model_module_version": "1.2.0",
            "_model_name": "LayoutModel",
            "_view_count": null,
            "_view_module": "@jupyter-widgets/base",
            "_view_module_version": "1.2.0",
            "_view_name": "LayoutView",
            "align_content": null,
            "align_items": null,
            "align_self": null,
            "border": null,
            "bottom": null,
            "display": null,
            "flex": null,
            "flex_flow": null,
            "grid_area": null,
            "grid_auto_columns": null,
            "grid_auto_flow": null,
            "grid_auto_rows": null,
            "grid_column": null,
            "grid_gap": null,
            "grid_row": null,
            "grid_template_areas": null,
            "grid_template_columns": null,
            "grid_template_rows": null,
            "height": null,
            "justify_content": null,
            "justify_items": null,
            "left": null,
            "margin": null,
            "max_height": null,
            "max_width": null,
            "min_height": null,
            "min_width": null,
            "object_fit": null,
            "object_position": null,
            "order": null,
            "overflow": null,
            "overflow_x": null,
            "overflow_y": null,
            "padding": null,
            "right": null,
            "top": null,
            "visibility": null,
            "width": null
          }
        },
        "8e2129c3a13647b6bc6aaa5dce864153": {
          "model_module": "@jupyter-widgets/controls",
          "model_name": "DescriptionStyleModel",
          "model_module_version": "1.5.0",
          "state": {
            "_model_module": "@jupyter-widgets/controls",
            "_model_module_version": "1.5.0",
            "_model_name": "DescriptionStyleModel",
            "_view_count": null,
            "_view_module": "@jupyter-widgets/base",
            "_view_module_version": "1.2.0",
            "_view_name": "StyleView",
            "description_width": ""
          }
        },
        "259cf2779a514a6781d3ad0af8969899": {
          "model_module": "@jupyter-widgets/base",
          "model_name": "LayoutModel",
          "model_module_version": "1.2.0",
          "state": {
            "_model_module": "@jupyter-widgets/base",
            "_model_module_version": "1.2.0",
            "_model_name": "LayoutModel",
            "_view_count": null,
            "_view_module": "@jupyter-widgets/base",
            "_view_module_version": "1.2.0",
            "_view_name": "LayoutView",
            "align_content": null,
            "align_items": null,
            "align_self": null,
            "border": null,
            "bottom": null,
            "display": null,
            "flex": null,
            "flex_flow": null,
            "grid_area": null,
            "grid_auto_columns": null,
            "grid_auto_flow": null,
            "grid_auto_rows": null,
            "grid_column": null,
            "grid_gap": null,
            "grid_row": null,
            "grid_template_areas": null,
            "grid_template_columns": null,
            "grid_template_rows": null,
            "height": null,
            "justify_content": null,
            "justify_items": null,
            "left": null,
            "margin": null,
            "max_height": null,
            "max_width": null,
            "min_height": null,
            "min_width": null,
            "object_fit": null,
            "object_position": null,
            "order": null,
            "overflow": null,
            "overflow_x": null,
            "overflow_y": null,
            "padding": null,
            "right": null,
            "top": null,
            "visibility": null,
            "width": null
          }
        },
        "575d1999d95942908de33e9adf5f21cf": {
          "model_module": "@jupyter-widgets/controls",
          "model_name": "ProgressStyleModel",
          "model_module_version": "1.5.0",
          "state": {
            "_model_module": "@jupyter-widgets/controls",
            "_model_module_version": "1.5.0",
            "_model_name": "ProgressStyleModel",
            "_view_count": null,
            "_view_module": "@jupyter-widgets/base",
            "_view_module_version": "1.2.0",
            "_view_name": "StyleView",
            "bar_color": null,
            "description_width": ""
          }
        },
        "18be7f45c41e4a56a0a0f8f925904f76": {
          "model_module": "@jupyter-widgets/base",
          "model_name": "LayoutModel",
          "model_module_version": "1.2.0",
          "state": {
            "_model_module": "@jupyter-widgets/base",
            "_model_module_version": "1.2.0",
            "_model_name": "LayoutModel",
            "_view_count": null,
            "_view_module": "@jupyter-widgets/base",
            "_view_module_version": "1.2.0",
            "_view_name": "LayoutView",
            "align_content": null,
            "align_items": null,
            "align_self": null,
            "border": null,
            "bottom": null,
            "display": null,
            "flex": null,
            "flex_flow": null,
            "grid_area": null,
            "grid_auto_columns": null,
            "grid_auto_flow": null,
            "grid_auto_rows": null,
            "grid_column": null,
            "grid_gap": null,
            "grid_row": null,
            "grid_template_areas": null,
            "grid_template_columns": null,
            "grid_template_rows": null,
            "height": null,
            "justify_content": null,
            "justify_items": null,
            "left": null,
            "margin": null,
            "max_height": null,
            "max_width": null,
            "min_height": null,
            "min_width": null,
            "object_fit": null,
            "object_position": null,
            "order": null,
            "overflow": null,
            "overflow_x": null,
            "overflow_y": null,
            "padding": null,
            "right": null,
            "top": null,
            "visibility": null,
            "width": null
          }
        },
        "c361abf0f2f9467e97c82f2fc46cf22f": {
          "model_module": "@jupyter-widgets/controls",
          "model_name": "DescriptionStyleModel",
          "model_module_version": "1.5.0",
          "state": {
            "_model_module": "@jupyter-widgets/controls",
            "_model_module_version": "1.5.0",
            "_model_name": "DescriptionStyleModel",
            "_view_count": null,
            "_view_module": "@jupyter-widgets/base",
            "_view_module_version": "1.2.0",
            "_view_name": "StyleView",
            "description_width": ""
          }
        },
        "9c7eefa772814c0d94b1cdebd8e42c32": {
          "model_module": "@jupyter-widgets/controls",
          "model_name": "HBoxModel",
          "model_module_version": "1.5.0",
          "state": {
            "_dom_classes": [],
            "_model_module": "@jupyter-widgets/controls",
            "_model_module_version": "1.5.0",
            "_model_name": "HBoxModel",
            "_view_count": null,
            "_view_module": "@jupyter-widgets/controls",
            "_view_module_version": "1.5.0",
            "_view_name": "HBoxView",
            "box_style": "",
            "children": [
              "IPY_MODEL_0fd1cd86c5344932a7d68b7da4e89c4d",
              "IPY_MODEL_cc36752274be4f88b5ea15029a717755",
              "IPY_MODEL_2543169c369647dba087013c3b1f3fa2"
            ],
            "layout": "IPY_MODEL_641726821c2e40c3b5c260f4185223f7"
          }
        },
        "0fd1cd86c5344932a7d68b7da4e89c4d": {
          "model_module": "@jupyter-widgets/controls",
          "model_name": "HTMLModel",
          "model_module_version": "1.5.0",
          "state": {
            "_dom_classes": [],
            "_model_module": "@jupyter-widgets/controls",
            "_model_module_version": "1.5.0",
            "_model_name": "HTMLModel",
            "_view_count": null,
            "_view_module": "@jupyter-widgets/controls",
            "_view_module_version": "1.5.0",
            "_view_name": "HTMLView",
            "description": "",
            "description_tooltip": null,
            "layout": "IPY_MODEL_8553cc615aa1408bbe8eaeaa5f1ab9d5",
            "placeholder": "​",
            "style": "IPY_MODEL_cbc139ab6f3249a4ba53cd53ba3d7fdf",
            "value": "tokenizer_config.json: 100%"
          }
        },
        "cc36752274be4f88b5ea15029a717755": {
          "model_module": "@jupyter-widgets/controls",
          "model_name": "FloatProgressModel",
          "model_module_version": "1.5.0",
          "state": {
            "_dom_classes": [],
            "_model_module": "@jupyter-widgets/controls",
            "_model_module_version": "1.5.0",
            "_model_name": "FloatProgressModel",
            "_view_count": null,
            "_view_module": "@jupyter-widgets/controls",
            "_view_module_version": "1.5.0",
            "_view_name": "ProgressView",
            "bar_style": "success",
            "description": "",
            "description_tooltip": null,
            "layout": "IPY_MODEL_7d3cfe2c696c4a19a0427792b8449112",
            "max": 95,
            "min": 0,
            "orientation": "horizontal",
            "style": "IPY_MODEL_3a60bbf5a7df428e9e30dba35209008f",
            "value": 95
          }
        },
        "2543169c369647dba087013c3b1f3fa2": {
          "model_module": "@jupyter-widgets/controls",
          "model_name": "HTMLModel",
          "model_module_version": "1.5.0",
          "state": {
            "_dom_classes": [],
            "_model_module": "@jupyter-widgets/controls",
            "_model_module_version": "1.5.0",
            "_model_name": "HTMLModel",
            "_view_count": null,
            "_view_module": "@jupyter-widgets/controls",
            "_view_module_version": "1.5.0",
            "_view_name": "HTMLView",
            "description": "",
            "description_tooltip": null,
            "layout": "IPY_MODEL_ce9487c70b4646c69ea6c5e36a544c0f",
            "placeholder": "​",
            "style": "IPY_MODEL_3964a7c9c762407aba7a8dd41556cc69",
            "value": " 95.0/95.0 [00:00&lt;00:00, 1.17kB/s]"
          }
        },
        "641726821c2e40c3b5c260f4185223f7": {
          "model_module": "@jupyter-widgets/base",
          "model_name": "LayoutModel",
          "model_module_version": "1.2.0",
          "state": {
            "_model_module": "@jupyter-widgets/base",
            "_model_module_version": "1.2.0",
            "_model_name": "LayoutModel",
            "_view_count": null,
            "_view_module": "@jupyter-widgets/base",
            "_view_module_version": "1.2.0",
            "_view_name": "LayoutView",
            "align_content": null,
            "align_items": null,
            "align_self": null,
            "border": null,
            "bottom": null,
            "display": null,
            "flex": null,
            "flex_flow": null,
            "grid_area": null,
            "grid_auto_columns": null,
            "grid_auto_flow": null,
            "grid_auto_rows": null,
            "grid_column": null,
            "grid_gap": null,
            "grid_row": null,
            "grid_template_areas": null,
            "grid_template_columns": null,
            "grid_template_rows": null,
            "height": null,
            "justify_content": null,
            "justify_items": null,
            "left": null,
            "margin": null,
            "max_height": null,
            "max_width": null,
            "min_height": null,
            "min_width": null,
            "object_fit": null,
            "object_position": null,
            "order": null,
            "overflow": null,
            "overflow_x": null,
            "overflow_y": null,
            "padding": null,
            "right": null,
            "top": null,
            "visibility": null,
            "width": null
          }
        },
        "8553cc615aa1408bbe8eaeaa5f1ab9d5": {
          "model_module": "@jupyter-widgets/base",
          "model_name": "LayoutModel",
          "model_module_version": "1.2.0",
          "state": {
            "_model_module": "@jupyter-widgets/base",
            "_model_module_version": "1.2.0",
            "_model_name": "LayoutModel",
            "_view_count": null,
            "_view_module": "@jupyter-widgets/base",
            "_view_module_version": "1.2.0",
            "_view_name": "LayoutView",
            "align_content": null,
            "align_items": null,
            "align_self": null,
            "border": null,
            "bottom": null,
            "display": null,
            "flex": null,
            "flex_flow": null,
            "grid_area": null,
            "grid_auto_columns": null,
            "grid_auto_flow": null,
            "grid_auto_rows": null,
            "grid_column": null,
            "grid_gap": null,
            "grid_row": null,
            "grid_template_areas": null,
            "grid_template_columns": null,
            "grid_template_rows": null,
            "height": null,
            "justify_content": null,
            "justify_items": null,
            "left": null,
            "margin": null,
            "max_height": null,
            "max_width": null,
            "min_height": null,
            "min_width": null,
            "object_fit": null,
            "object_position": null,
            "order": null,
            "overflow": null,
            "overflow_x": null,
            "overflow_y": null,
            "padding": null,
            "right": null,
            "top": null,
            "visibility": null,
            "width": null
          }
        },
        "cbc139ab6f3249a4ba53cd53ba3d7fdf": {
          "model_module": "@jupyter-widgets/controls",
          "model_name": "DescriptionStyleModel",
          "model_module_version": "1.5.0",
          "state": {
            "_model_module": "@jupyter-widgets/controls",
            "_model_module_version": "1.5.0",
            "_model_name": "DescriptionStyleModel",
            "_view_count": null,
            "_view_module": "@jupyter-widgets/base",
            "_view_module_version": "1.2.0",
            "_view_name": "StyleView",
            "description_width": ""
          }
        },
        "7d3cfe2c696c4a19a0427792b8449112": {
          "model_module": "@jupyter-widgets/base",
          "model_name": "LayoutModel",
          "model_module_version": "1.2.0",
          "state": {
            "_model_module": "@jupyter-widgets/base",
            "_model_module_version": "1.2.0",
            "_model_name": "LayoutModel",
            "_view_count": null,
            "_view_module": "@jupyter-widgets/base",
            "_view_module_version": "1.2.0",
            "_view_name": "LayoutView",
            "align_content": null,
            "align_items": null,
            "align_self": null,
            "border": null,
            "bottom": null,
            "display": null,
            "flex": null,
            "flex_flow": null,
            "grid_area": null,
            "grid_auto_columns": null,
            "grid_auto_flow": null,
            "grid_auto_rows": null,
            "grid_column": null,
            "grid_gap": null,
            "grid_row": null,
            "grid_template_areas": null,
            "grid_template_columns": null,
            "grid_template_rows": null,
            "height": null,
            "justify_content": null,
            "justify_items": null,
            "left": null,
            "margin": null,
            "max_height": null,
            "max_width": null,
            "min_height": null,
            "min_width": null,
            "object_fit": null,
            "object_position": null,
            "order": null,
            "overflow": null,
            "overflow_x": null,
            "overflow_y": null,
            "padding": null,
            "right": null,
            "top": null,
            "visibility": null,
            "width": null
          }
        },
        "3a60bbf5a7df428e9e30dba35209008f": {
          "model_module": "@jupyter-widgets/controls",
          "model_name": "ProgressStyleModel",
          "model_module_version": "1.5.0",
          "state": {
            "_model_module": "@jupyter-widgets/controls",
            "_model_module_version": "1.5.0",
            "_model_name": "ProgressStyleModel",
            "_view_count": null,
            "_view_module": "@jupyter-widgets/base",
            "_view_module_version": "1.2.0",
            "_view_name": "StyleView",
            "bar_color": null,
            "description_width": ""
          }
        },
        "ce9487c70b4646c69ea6c5e36a544c0f": {
          "model_module": "@jupyter-widgets/base",
          "model_name": "LayoutModel",
          "model_module_version": "1.2.0",
          "state": {
            "_model_module": "@jupyter-widgets/base",
            "_model_module_version": "1.2.0",
            "_model_name": "LayoutModel",
            "_view_count": null,
            "_view_module": "@jupyter-widgets/base",
            "_view_module_version": "1.2.0",
            "_view_name": "LayoutView",
            "align_content": null,
            "align_items": null,
            "align_self": null,
            "border": null,
            "bottom": null,
            "display": null,
            "flex": null,
            "flex_flow": null,
            "grid_area": null,
            "grid_auto_columns": null,
            "grid_auto_flow": null,
            "grid_auto_rows": null,
            "grid_column": null,
            "grid_gap": null,
            "grid_row": null,
            "grid_template_areas": null,
            "grid_template_columns": null,
            "grid_template_rows": null,
            "height": null,
            "justify_content": null,
            "justify_items": null,
            "left": null,
            "margin": null,
            "max_height": null,
            "max_width": null,
            "min_height": null,
            "min_width": null,
            "object_fit": null,
            "object_position": null,
            "order": null,
            "overflow": null,
            "overflow_x": null,
            "overflow_y": null,
            "padding": null,
            "right": null,
            "top": null,
            "visibility": null,
            "width": null
          }
        },
        "3964a7c9c762407aba7a8dd41556cc69": {
          "model_module": "@jupyter-widgets/controls",
          "model_name": "DescriptionStyleModel",
          "model_module_version": "1.5.0",
          "state": {
            "_model_module": "@jupyter-widgets/controls",
            "_model_module_version": "1.5.0",
            "_model_name": "DescriptionStyleModel",
            "_view_count": null,
            "_view_module": "@jupyter-widgets/base",
            "_view_module_version": "1.2.0",
            "_view_name": "StyleView",
            "description_width": ""
          }
        },
        "01f986b1b58a407ba8baa75cc1af20b9": {
          "model_module": "@jupyter-widgets/controls",
          "model_name": "HBoxModel",
          "model_module_version": "1.5.0",
          "state": {
            "_dom_classes": [],
            "_model_module": "@jupyter-widgets/controls",
            "_model_module_version": "1.5.0",
            "_model_name": "HBoxModel",
            "_view_count": null,
            "_view_module": "@jupyter-widgets/controls",
            "_view_module_version": "1.5.0",
            "_view_name": "HBoxView",
            "box_style": "",
            "children": [
              "IPY_MODEL_a537f269af08414dbdf1d0a41cd40658",
              "IPY_MODEL_da24fac9c6c341d6ae3136e96f219707",
              "IPY_MODEL_3e4e436d275d4edba6b792d2e8090bf9"
            ],
            "layout": "IPY_MODEL_92ef0c609b08409fa229cd3beffa6b4d"
          }
        },
        "a537f269af08414dbdf1d0a41cd40658": {
          "model_module": "@jupyter-widgets/controls",
          "model_name": "HTMLModel",
          "model_module_version": "1.5.0",
          "state": {
            "_dom_classes": [],
            "_model_module": "@jupyter-widgets/controls",
            "_model_module_version": "1.5.0",
            "_model_name": "HTMLModel",
            "_view_count": null,
            "_view_module": "@jupyter-widgets/controls",
            "_view_module_version": "1.5.0",
            "_view_name": "HTMLView",
            "description": "",
            "description_tooltip": null,
            "layout": "IPY_MODEL_09897e70d01f46d3aaff5665501d68e7",
            "placeholder": "​",
            "style": "IPY_MODEL_7188dccc3fe64b1c8ed07dbb2b441d92",
            "value": "vocab.txt: 100%"
          }
        },
        "da24fac9c6c341d6ae3136e96f219707": {
          "model_module": "@jupyter-widgets/controls",
          "model_name": "FloatProgressModel",
          "model_module_version": "1.5.0",
          "state": {
            "_dom_classes": [],
            "_model_module": "@jupyter-widgets/controls",
            "_model_module_version": "1.5.0",
            "_model_name": "FloatProgressModel",
            "_view_count": null,
            "_view_module": "@jupyter-widgets/controls",
            "_view_module_version": "1.5.0",
            "_view_name": "ProgressView",
            "bar_style": "success",
            "description": "",
            "description_tooltip": null,
            "layout": "IPY_MODEL_cdb8d90707c8487bab2525054c2c4040",
            "max": 93,
            "min": 0,
            "orientation": "horizontal",
            "style": "IPY_MODEL_4df224e075864ac5bb482ba2d51da077",
            "value": 93
          }
        },
        "3e4e436d275d4edba6b792d2e8090bf9": {
          "model_module": "@jupyter-widgets/controls",
          "model_name": "HTMLModel",
          "model_module_version": "1.5.0",
          "state": {
            "_dom_classes": [],
            "_model_module": "@jupyter-widgets/controls",
            "_model_module_version": "1.5.0",
            "_model_name": "HTMLModel",
            "_view_count": null,
            "_view_module": "@jupyter-widgets/controls",
            "_view_module_version": "1.5.0",
            "_view_name": "HTMLView",
            "description": "",
            "description_tooltip": null,
            "layout": "IPY_MODEL_ada5dda78cf648f98a9b7720852eb837",
            "placeholder": "​",
            "style": "IPY_MODEL_f2987b1ba2ee479d808483c15bb43988",
            "value": " 93.0/93.0 [00:00&lt;00:00, 650B/s]"
          }
        },
        "92ef0c609b08409fa229cd3beffa6b4d": {
          "model_module": "@jupyter-widgets/base",
          "model_name": "LayoutModel",
          "model_module_version": "1.2.0",
          "state": {
            "_model_module": "@jupyter-widgets/base",
            "_model_module_version": "1.2.0",
            "_model_name": "LayoutModel",
            "_view_count": null,
            "_view_module": "@jupyter-widgets/base",
            "_view_module_version": "1.2.0",
            "_view_name": "LayoutView",
            "align_content": null,
            "align_items": null,
            "align_self": null,
            "border": null,
            "bottom": null,
            "display": null,
            "flex": null,
            "flex_flow": null,
            "grid_area": null,
            "grid_auto_columns": null,
            "grid_auto_flow": null,
            "grid_auto_rows": null,
            "grid_column": null,
            "grid_gap": null,
            "grid_row": null,
            "grid_template_areas": null,
            "grid_template_columns": null,
            "grid_template_rows": null,
            "height": null,
            "justify_content": null,
            "justify_items": null,
            "left": null,
            "margin": null,
            "max_height": null,
            "max_width": null,
            "min_height": null,
            "min_width": null,
            "object_fit": null,
            "object_position": null,
            "order": null,
            "overflow": null,
            "overflow_x": null,
            "overflow_y": null,
            "padding": null,
            "right": null,
            "top": null,
            "visibility": null,
            "width": null
          }
        },
        "09897e70d01f46d3aaff5665501d68e7": {
          "model_module": "@jupyter-widgets/base",
          "model_name": "LayoutModel",
          "model_module_version": "1.2.0",
          "state": {
            "_model_module": "@jupyter-widgets/base",
            "_model_module_version": "1.2.0",
            "_model_name": "LayoutModel",
            "_view_count": null,
            "_view_module": "@jupyter-widgets/base",
            "_view_module_version": "1.2.0",
            "_view_name": "LayoutView",
            "align_content": null,
            "align_items": null,
            "align_self": null,
            "border": null,
            "bottom": null,
            "display": null,
            "flex": null,
            "flex_flow": null,
            "grid_area": null,
            "grid_auto_columns": null,
            "grid_auto_flow": null,
            "grid_auto_rows": null,
            "grid_column": null,
            "grid_gap": null,
            "grid_row": null,
            "grid_template_areas": null,
            "grid_template_columns": null,
            "grid_template_rows": null,
            "height": null,
            "justify_content": null,
            "justify_items": null,
            "left": null,
            "margin": null,
            "max_height": null,
            "max_width": null,
            "min_height": null,
            "min_width": null,
            "object_fit": null,
            "object_position": null,
            "order": null,
            "overflow": null,
            "overflow_x": null,
            "overflow_y": null,
            "padding": null,
            "right": null,
            "top": null,
            "visibility": null,
            "width": null
          }
        },
        "7188dccc3fe64b1c8ed07dbb2b441d92": {
          "model_module": "@jupyter-widgets/controls",
          "model_name": "DescriptionStyleModel",
          "model_module_version": "1.5.0",
          "state": {
            "_model_module": "@jupyter-widgets/controls",
            "_model_module_version": "1.5.0",
            "_model_name": "DescriptionStyleModel",
            "_view_count": null,
            "_view_module": "@jupyter-widgets/base",
            "_view_module_version": "1.2.0",
            "_view_name": "StyleView",
            "description_width": ""
          }
        },
        "cdb8d90707c8487bab2525054c2c4040": {
          "model_module": "@jupyter-widgets/base",
          "model_name": "LayoutModel",
          "model_module_version": "1.2.0",
          "state": {
            "_model_module": "@jupyter-widgets/base",
            "_model_module_version": "1.2.0",
            "_model_name": "LayoutModel",
            "_view_count": null,
            "_view_module": "@jupyter-widgets/base",
            "_view_module_version": "1.2.0",
            "_view_name": "LayoutView",
            "align_content": null,
            "align_items": null,
            "align_self": null,
            "border": null,
            "bottom": null,
            "display": null,
            "flex": null,
            "flex_flow": null,
            "grid_area": null,
            "grid_auto_columns": null,
            "grid_auto_flow": null,
            "grid_auto_rows": null,
            "grid_column": null,
            "grid_gap": null,
            "grid_row": null,
            "grid_template_areas": null,
            "grid_template_columns": null,
            "grid_template_rows": null,
            "height": null,
            "justify_content": null,
            "justify_items": null,
            "left": null,
            "margin": null,
            "max_height": null,
            "max_width": null,
            "min_height": null,
            "min_width": null,
            "object_fit": null,
            "object_position": null,
            "order": null,
            "overflow": null,
            "overflow_x": null,
            "overflow_y": null,
            "padding": null,
            "right": null,
            "top": null,
            "visibility": null,
            "width": null
          }
        },
        "4df224e075864ac5bb482ba2d51da077": {
          "model_module": "@jupyter-widgets/controls",
          "model_name": "ProgressStyleModel",
          "model_module_version": "1.5.0",
          "state": {
            "_model_module": "@jupyter-widgets/controls",
            "_model_module_version": "1.5.0",
            "_model_name": "ProgressStyleModel",
            "_view_count": null,
            "_view_module": "@jupyter-widgets/base",
            "_view_module_version": "1.2.0",
            "_view_name": "StyleView",
            "bar_color": null,
            "description_width": ""
          }
        },
        "ada5dda78cf648f98a9b7720852eb837": {
          "model_module": "@jupyter-widgets/base",
          "model_name": "LayoutModel",
          "model_module_version": "1.2.0",
          "state": {
            "_model_module": "@jupyter-widgets/base",
            "_model_module_version": "1.2.0",
            "_model_name": "LayoutModel",
            "_view_count": null,
            "_view_module": "@jupyter-widgets/base",
            "_view_module_version": "1.2.0",
            "_view_name": "LayoutView",
            "align_content": null,
            "align_items": null,
            "align_self": null,
            "border": null,
            "bottom": null,
            "display": null,
            "flex": null,
            "flex_flow": null,
            "grid_area": null,
            "grid_auto_columns": null,
            "grid_auto_flow": null,
            "grid_auto_rows": null,
            "grid_column": null,
            "grid_gap": null,
            "grid_row": null,
            "grid_template_areas": null,
            "grid_template_columns": null,
            "grid_template_rows": null,
            "height": null,
            "justify_content": null,
            "justify_items": null,
            "left": null,
            "margin": null,
            "max_height": null,
            "max_width": null,
            "min_height": null,
            "min_width": null,
            "object_fit": null,
            "object_position": null,
            "order": null,
            "overflow": null,
            "overflow_x": null,
            "overflow_y": null,
            "padding": null,
            "right": null,
            "top": null,
            "visibility": null,
            "width": null
          }
        },
        "f2987b1ba2ee479d808483c15bb43988": {
          "model_module": "@jupyter-widgets/controls",
          "model_name": "DescriptionStyleModel",
          "model_module_version": "1.5.0",
          "state": {
            "_model_module": "@jupyter-widgets/controls",
            "_model_module_version": "1.5.0",
            "_model_name": "DescriptionStyleModel",
            "_view_count": null,
            "_view_module": "@jupyter-widgets/base",
            "_view_module_version": "1.2.0",
            "_view_name": "StyleView",
            "description_width": ""
          }
        },
        "b772e3ee8c4847ba897faea4fe4b3bdf": {
          "model_module": "@jupyter-widgets/controls",
          "model_name": "HBoxModel",
          "model_module_version": "1.5.0",
          "state": {
            "_dom_classes": [],
            "_model_module": "@jupyter-widgets/controls",
            "_model_module_version": "1.5.0",
            "_model_name": "HBoxModel",
            "_view_count": null,
            "_view_module": "@jupyter-widgets/controls",
            "_view_module_version": "1.5.0",
            "_view_name": "HBoxView",
            "box_style": "",
            "children": [
              "IPY_MODEL_97da354c44cc4ce4b95af09de4be7fac",
              "IPY_MODEL_05aa498de88349ddb8bb7f78ffb7a20b",
              "IPY_MODEL_f169a40c39de414fb3a82e89f3c0fe17"
            ],
            "layout": "IPY_MODEL_ddbd7cf1f73c40d7ab50b93055c8c48e"
          }
        },
        "97da354c44cc4ce4b95af09de4be7fac": {
          "model_module": "@jupyter-widgets/controls",
          "model_name": "HTMLModel",
          "model_module_version": "1.5.0",
          "state": {
            "_dom_classes": [],
            "_model_module": "@jupyter-widgets/controls",
            "_model_module_version": "1.5.0",
            "_model_name": "HTMLModel",
            "_view_count": null,
            "_view_module": "@jupyter-widgets/controls",
            "_view_module_version": "1.5.0",
            "_view_name": "HTMLView",
            "description": "",
            "description_tooltip": null,
            "layout": "IPY_MODEL_e355a162c64e47e5851514306f46f725",
            "placeholder": "​",
            "style": "IPY_MODEL_cdfb4696696c476b9b09209f564d39b6",
            "value": "special_tokens_map.json: 100%"
          }
        },
        "05aa498de88349ddb8bb7f78ffb7a20b": {
          "model_module": "@jupyter-widgets/controls",
          "model_name": "FloatProgressModel",
          "model_module_version": "1.5.0",
          "state": {
            "_dom_classes": [],
            "_model_module": "@jupyter-widgets/controls",
            "_model_module_version": "1.5.0",
            "_model_name": "FloatProgressModel",
            "_view_count": null,
            "_view_module": "@jupyter-widgets/controls",
            "_view_module_version": "1.5.0",
            "_view_name": "ProgressView",
            "bar_style": "success",
            "description": "",
            "description_tooltip": null,
            "layout": "IPY_MODEL_76afb53068264ac0b2c87252c50a6b6c",
            "max": 125,
            "min": 0,
            "orientation": "horizontal",
            "style": "IPY_MODEL_2f51966b17224eba9dd9d7ae88be8e14",
            "value": 125
          }
        },
        "f169a40c39de414fb3a82e89f3c0fe17": {
          "model_module": "@jupyter-widgets/controls",
          "model_name": "HTMLModel",
          "model_module_version": "1.5.0",
          "state": {
            "_dom_classes": [],
            "_model_module": "@jupyter-widgets/controls",
            "_model_module_version": "1.5.0",
            "_model_name": "HTMLModel",
            "_view_count": null,
            "_view_module": "@jupyter-widgets/controls",
            "_view_module_version": "1.5.0",
            "_view_name": "HTMLView",
            "description": "",
            "description_tooltip": null,
            "layout": "IPY_MODEL_20c774c177f74603928945e4095edac3",
            "placeholder": "​",
            "style": "IPY_MODEL_b0a1fbb1679d48a8a171b838511fd89f",
            "value": " 125/125 [00:00&lt;00:00, 2.10kB/s]"
          }
        },
        "ddbd7cf1f73c40d7ab50b93055c8c48e": {
          "model_module": "@jupyter-widgets/base",
          "model_name": "LayoutModel",
          "model_module_version": "1.2.0",
          "state": {
            "_model_module": "@jupyter-widgets/base",
            "_model_module_version": "1.2.0",
            "_model_name": "LayoutModel",
            "_view_count": null,
            "_view_module": "@jupyter-widgets/base",
            "_view_module_version": "1.2.0",
            "_view_name": "LayoutView",
            "align_content": null,
            "align_items": null,
            "align_self": null,
            "border": null,
            "bottom": null,
            "display": null,
            "flex": null,
            "flex_flow": null,
            "grid_area": null,
            "grid_auto_columns": null,
            "grid_auto_flow": null,
            "grid_auto_rows": null,
            "grid_column": null,
            "grid_gap": null,
            "grid_row": null,
            "grid_template_areas": null,
            "grid_template_columns": null,
            "grid_template_rows": null,
            "height": null,
            "justify_content": null,
            "justify_items": null,
            "left": null,
            "margin": null,
            "max_height": null,
            "max_width": null,
            "min_height": null,
            "min_width": null,
            "object_fit": null,
            "object_position": null,
            "order": null,
            "overflow": null,
            "overflow_x": null,
            "overflow_y": null,
            "padding": null,
            "right": null,
            "top": null,
            "visibility": null,
            "width": null
          }
        },
        "e355a162c64e47e5851514306f46f725": {
          "model_module": "@jupyter-widgets/base",
          "model_name": "LayoutModel",
          "model_module_version": "1.2.0",
          "state": {
            "_model_module": "@jupyter-widgets/base",
            "_model_module_version": "1.2.0",
            "_model_name": "LayoutModel",
            "_view_count": null,
            "_view_module": "@jupyter-widgets/base",
            "_view_module_version": "1.2.0",
            "_view_name": "LayoutView",
            "align_content": null,
            "align_items": null,
            "align_self": null,
            "border": null,
            "bottom": null,
            "display": null,
            "flex": null,
            "flex_flow": null,
            "grid_area": null,
            "grid_auto_columns": null,
            "grid_auto_flow": null,
            "grid_auto_rows": null,
            "grid_column": null,
            "grid_gap": null,
            "grid_row": null,
            "grid_template_areas": null,
            "grid_template_columns": null,
            "grid_template_rows": null,
            "height": null,
            "justify_content": null,
            "justify_items": null,
            "left": null,
            "margin": null,
            "max_height": null,
            "max_width": null,
            "min_height": null,
            "min_width": null,
            "object_fit": null,
            "object_position": null,
            "order": null,
            "overflow": null,
            "overflow_x": null,
            "overflow_y": null,
            "padding": null,
            "right": null,
            "top": null,
            "visibility": null,
            "width": null
          }
        },
        "cdfb4696696c476b9b09209f564d39b6": {
          "model_module": "@jupyter-widgets/controls",
          "model_name": "DescriptionStyleModel",
          "model_module_version": "1.5.0",
          "state": {
            "_model_module": "@jupyter-widgets/controls",
            "_model_module_version": "1.5.0",
            "_model_name": "DescriptionStyleModel",
            "_view_count": null,
            "_view_module": "@jupyter-widgets/base",
            "_view_module_version": "1.2.0",
            "_view_name": "StyleView",
            "description_width": ""
          }
        },
        "76afb53068264ac0b2c87252c50a6b6c": {
          "model_module": "@jupyter-widgets/base",
          "model_name": "LayoutModel",
          "model_module_version": "1.2.0",
          "state": {
            "_model_module": "@jupyter-widgets/base",
            "_model_module_version": "1.2.0",
            "_model_name": "LayoutModel",
            "_view_count": null,
            "_view_module": "@jupyter-widgets/base",
            "_view_module_version": "1.2.0",
            "_view_name": "LayoutView",
            "align_content": null,
            "align_items": null,
            "align_self": null,
            "border": null,
            "bottom": null,
            "display": null,
            "flex": null,
            "flex_flow": null,
            "grid_area": null,
            "grid_auto_columns": null,
            "grid_auto_flow": null,
            "grid_auto_rows": null,
            "grid_column": null,
            "grid_gap": null,
            "grid_row": null,
            "grid_template_areas": null,
            "grid_template_columns": null,
            "grid_template_rows": null,
            "height": null,
            "justify_content": null,
            "justify_items": null,
            "left": null,
            "margin": null,
            "max_height": null,
            "max_width": null,
            "min_height": null,
            "min_width": null,
            "object_fit": null,
            "object_position": null,
            "order": null,
            "overflow": null,
            "overflow_x": null,
            "overflow_y": null,
            "padding": null,
            "right": null,
            "top": null,
            "visibility": null,
            "width": null
          }
        },
        "2f51966b17224eba9dd9d7ae88be8e14": {
          "model_module": "@jupyter-widgets/controls",
          "model_name": "ProgressStyleModel",
          "model_module_version": "1.5.0",
          "state": {
            "_model_module": "@jupyter-widgets/controls",
            "_model_module_version": "1.5.0",
            "_model_name": "ProgressStyleModel",
            "_view_count": null,
            "_view_module": "@jupyter-widgets/base",
            "_view_module_version": "1.2.0",
            "_view_name": "StyleView",
            "bar_color": null,
            "description_width": ""
          }
        },
        "20c774c177f74603928945e4095edac3": {
          "model_module": "@jupyter-widgets/base",
          "model_name": "LayoutModel",
          "model_module_version": "1.2.0",
          "state": {
            "_model_module": "@jupyter-widgets/base",
            "_model_module_version": "1.2.0",
            "_model_name": "LayoutModel",
            "_view_count": null,
            "_view_module": "@jupyter-widgets/base",
            "_view_module_version": "1.2.0",
            "_view_name": "LayoutView",
            "align_content": null,
            "align_items": null,
            "align_self": null,
            "border": null,
            "bottom": null,
            "display": null,
            "flex": null,
            "flex_flow": null,
            "grid_area": null,
            "grid_auto_columns": null,
            "grid_auto_flow": null,
            "grid_auto_rows": null,
            "grid_column": null,
            "grid_gap": null,
            "grid_row": null,
            "grid_template_areas": null,
            "grid_template_columns": null,
            "grid_template_rows": null,
            "height": null,
            "justify_content": null,
            "justify_items": null,
            "left": null,
            "margin": null,
            "max_height": null,
            "max_width": null,
            "min_height": null,
            "min_width": null,
            "object_fit": null,
            "object_position": null,
            "order": null,
            "overflow": null,
            "overflow_x": null,
            "overflow_y": null,
            "padding": null,
            "right": null,
            "top": null,
            "visibility": null,
            "width": null
          }
        },
        "b0a1fbb1679d48a8a171b838511fd89f": {
          "model_module": "@jupyter-widgets/controls",
          "model_name": "DescriptionStyleModel",
          "model_module_version": "1.5.0",
          "state": {
            "_model_module": "@jupyter-widgets/controls",
            "_model_module_version": "1.5.0",
            "_model_name": "DescriptionStyleModel",
            "_view_count": null,
            "_view_module": "@jupyter-widgets/base",
            "_view_module_version": "1.2.0",
            "_view_name": "StyleView",
            "description_width": ""
          }
        },
        "c0c8cad50200467192b825db2af4a70c": {
          "model_module": "@jupyter-widgets/controls",
          "model_name": "HBoxModel",
          "model_module_version": "1.5.0",
          "state": {
            "_dom_classes": [],
            "_model_module": "@jupyter-widgets/controls",
            "_model_module_version": "1.5.0",
            "_model_name": "HBoxModel",
            "_view_count": null,
            "_view_module": "@jupyter-widgets/controls",
            "_view_module_version": "1.5.0",
            "_view_name": "HBoxView",
            "box_style": "",
            "children": [
              "IPY_MODEL_fdd82e782e1a461f89fb73fe8b977e4d",
              "IPY_MODEL_0ea28c92d30d4cecbe2055d7d3142774",
              "IPY_MODEL_86ea1454d74442c3b1540ce5d954c7f7"
            ],
            "layout": "IPY_MODEL_0e535805a1f34aaca1014b574edc8651"
          }
        },
        "fdd82e782e1a461f89fb73fe8b977e4d": {
          "model_module": "@jupyter-widgets/controls",
          "model_name": "HTMLModel",
          "model_module_version": "1.5.0",
          "state": {
            "_dom_classes": [],
            "_model_module": "@jupyter-widgets/controls",
            "_model_module_version": "1.5.0",
            "_model_name": "HTMLModel",
            "_view_count": null,
            "_view_module": "@jupyter-widgets/controls",
            "_view_module_version": "1.5.0",
            "_view_name": "HTMLView",
            "description": "",
            "description_tooltip": null,
            "layout": "IPY_MODEL_59dcc50aa123411a953b29ecdfb29c9e",
            "placeholder": "​",
            "style": "IPY_MODEL_4b4225e9c5774b2ca120ea28734699e6",
            "value": "config.json: 100%"
          }
        },
        "0ea28c92d30d4cecbe2055d7d3142774": {
          "model_module": "@jupyter-widgets/controls",
          "model_name": "FloatProgressModel",
          "model_module_version": "1.5.0",
          "state": {
            "_dom_classes": [],
            "_model_module": "@jupyter-widgets/controls",
            "_model_module_version": "1.5.0",
            "_model_name": "FloatProgressModel",
            "_view_count": null,
            "_view_module": "@jupyter-widgets/controls",
            "_view_module_version": "1.5.0",
            "_view_name": "ProgressView",
            "bar_style": "success",
            "description": "",
            "description_tooltip": null,
            "layout": "IPY_MODEL_741156d69d9a4a1e83c3d4c5350702ee",
            "max": 722,
            "min": 0,
            "orientation": "horizontal",
            "style": "IPY_MODEL_931a4d8fa1834b928059d57b05405da5",
            "value": 722
          }
        },
        "86ea1454d74442c3b1540ce5d954c7f7": {
          "model_module": "@jupyter-widgets/controls",
          "model_name": "HTMLModel",
          "model_module_version": "1.5.0",
          "state": {
            "_dom_classes": [],
            "_model_module": "@jupyter-widgets/controls",
            "_model_module_version": "1.5.0",
            "_model_name": "HTMLModel",
            "_view_count": null,
            "_view_module": "@jupyter-widgets/controls",
            "_view_module_version": "1.5.0",
            "_view_name": "HTMLView",
            "description": "",
            "description_tooltip": null,
            "layout": "IPY_MODEL_53706201159f4749aacfe812e30c5d10",
            "placeholder": "​",
            "style": "IPY_MODEL_1babc086b67f47ea9beff72673784d63",
            "value": " 722/722 [00:00&lt;00:00, 10.2kB/s]"
          }
        },
        "0e535805a1f34aaca1014b574edc8651": {
          "model_module": "@jupyter-widgets/base",
          "model_name": "LayoutModel",
          "model_module_version": "1.2.0",
          "state": {
            "_model_module": "@jupyter-widgets/base",
            "_model_module_version": "1.2.0",
            "_model_name": "LayoutModel",
            "_view_count": null,
            "_view_module": "@jupyter-widgets/base",
            "_view_module_version": "1.2.0",
            "_view_name": "LayoutView",
            "align_content": null,
            "align_items": null,
            "align_self": null,
            "border": null,
            "bottom": null,
            "display": null,
            "flex": null,
            "flex_flow": null,
            "grid_area": null,
            "grid_auto_columns": null,
            "grid_auto_flow": null,
            "grid_auto_rows": null,
            "grid_column": null,
            "grid_gap": null,
            "grid_row": null,
            "grid_template_areas": null,
            "grid_template_columns": null,
            "grid_template_rows": null,
            "height": null,
            "justify_content": null,
            "justify_items": null,
            "left": null,
            "margin": null,
            "max_height": null,
            "max_width": null,
            "min_height": null,
            "min_width": null,
            "object_fit": null,
            "object_position": null,
            "order": null,
            "overflow": null,
            "overflow_x": null,
            "overflow_y": null,
            "padding": null,
            "right": null,
            "top": null,
            "visibility": null,
            "width": null
          }
        },
        "59dcc50aa123411a953b29ecdfb29c9e": {
          "model_module": "@jupyter-widgets/base",
          "model_name": "LayoutModel",
          "model_module_version": "1.2.0",
          "state": {
            "_model_module": "@jupyter-widgets/base",
            "_model_module_version": "1.2.0",
            "_model_name": "LayoutModel",
            "_view_count": null,
            "_view_module": "@jupyter-widgets/base",
            "_view_module_version": "1.2.0",
            "_view_name": "LayoutView",
            "align_content": null,
            "align_items": null,
            "align_self": null,
            "border": null,
            "bottom": null,
            "display": null,
            "flex": null,
            "flex_flow": null,
            "grid_area": null,
            "grid_auto_columns": null,
            "grid_auto_flow": null,
            "grid_auto_rows": null,
            "grid_column": null,
            "grid_gap": null,
            "grid_row": null,
            "grid_template_areas": null,
            "grid_template_columns": null,
            "grid_template_rows": null,
            "height": null,
            "justify_content": null,
            "justify_items": null,
            "left": null,
            "margin": null,
            "max_height": null,
            "max_width": null,
            "min_height": null,
            "min_width": null,
            "object_fit": null,
            "object_position": null,
            "order": null,
            "overflow": null,
            "overflow_x": null,
            "overflow_y": null,
            "padding": null,
            "right": null,
            "top": null,
            "visibility": null,
            "width": null
          }
        },
        "4b4225e9c5774b2ca120ea28734699e6": {
          "model_module": "@jupyter-widgets/controls",
          "model_name": "DescriptionStyleModel",
          "model_module_version": "1.5.0",
          "state": {
            "_model_module": "@jupyter-widgets/controls",
            "_model_module_version": "1.5.0",
            "_model_name": "DescriptionStyleModel",
            "_view_count": null,
            "_view_module": "@jupyter-widgets/base",
            "_view_module_version": "1.2.0",
            "_view_name": "StyleView",
            "description_width": ""
          }
        },
        "741156d69d9a4a1e83c3d4c5350702ee": {
          "model_module": "@jupyter-widgets/base",
          "model_name": "LayoutModel",
          "model_module_version": "1.2.0",
          "state": {
            "_model_module": "@jupyter-widgets/base",
            "_model_module_version": "1.2.0",
            "_model_name": "LayoutModel",
            "_view_count": null,
            "_view_module": "@jupyter-widgets/base",
            "_view_module_version": "1.2.0",
            "_view_name": "LayoutView",
            "align_content": null,
            "align_items": null,
            "align_self": null,
            "border": null,
            "bottom": null,
            "display": null,
            "flex": null,
            "flex_flow": null,
            "grid_area": null,
            "grid_auto_columns": null,
            "grid_auto_flow": null,
            "grid_auto_rows": null,
            "grid_column": null,
            "grid_gap": null,
            "grid_row": null,
            "grid_template_areas": null,
            "grid_template_columns": null,
            "grid_template_rows": null,
            "height": null,
            "justify_content": null,
            "justify_items": null,
            "left": null,
            "margin": null,
            "max_height": null,
            "max_width": null,
            "min_height": null,
            "min_width": null,
            "object_fit": null,
            "object_position": null,
            "order": null,
            "overflow": null,
            "overflow_x": null,
            "overflow_y": null,
            "padding": null,
            "right": null,
            "top": null,
            "visibility": null,
            "width": null
          }
        },
        "931a4d8fa1834b928059d57b05405da5": {
          "model_module": "@jupyter-widgets/controls",
          "model_name": "ProgressStyleModel",
          "model_module_version": "1.5.0",
          "state": {
            "_model_module": "@jupyter-widgets/controls",
            "_model_module_version": "1.5.0",
            "_model_name": "ProgressStyleModel",
            "_view_count": null,
            "_view_module": "@jupyter-widgets/base",
            "_view_module_version": "1.2.0",
            "_view_name": "StyleView",
            "bar_color": null,
            "description_width": ""
          }
        },
        "53706201159f4749aacfe812e30c5d10": {
          "model_module": "@jupyter-widgets/base",
          "model_name": "LayoutModel",
          "model_module_version": "1.2.0",
          "state": {
            "_model_module": "@jupyter-widgets/base",
            "_model_module_version": "1.2.0",
            "_model_name": "LayoutModel",
            "_view_count": null,
            "_view_module": "@jupyter-widgets/base",
            "_view_module_version": "1.2.0",
            "_view_name": "LayoutView",
            "align_content": null,
            "align_items": null,
            "align_self": null,
            "border": null,
            "bottom": null,
            "display": null,
            "flex": null,
            "flex_flow": null,
            "grid_area": null,
            "grid_auto_columns": null,
            "grid_auto_flow": null,
            "grid_auto_rows": null,
            "grid_column": null,
            "grid_gap": null,
            "grid_row": null,
            "grid_template_areas": null,
            "grid_template_columns": null,
            "grid_template_rows": null,
            "height": null,
            "justify_content": null,
            "justify_items": null,
            "left": null,
            "margin": null,
            "max_height": null,
            "max_width": null,
            "min_height": null,
            "min_width": null,
            "object_fit": null,
            "object_position": null,
            "order": null,
            "overflow": null,
            "overflow_x": null,
            "overflow_y": null,
            "padding": null,
            "right": null,
            "top": null,
            "visibility": null,
            "width": null
          }
        },
        "1babc086b67f47ea9beff72673784d63": {
          "model_module": "@jupyter-widgets/controls",
          "model_name": "DescriptionStyleModel",
          "model_module_version": "1.5.0",
          "state": {
            "_model_module": "@jupyter-widgets/controls",
            "_model_module_version": "1.5.0",
            "_model_name": "DescriptionStyleModel",
            "_view_count": null,
            "_view_module": "@jupyter-widgets/base",
            "_view_module_version": "1.2.0",
            "_view_name": "StyleView",
            "description_width": ""
          }
        },
        "3e93989b2299437abfc01a7c23aecdb8": {
          "model_module": "@jupyter-widgets/controls",
          "model_name": "HBoxModel",
          "model_module_version": "1.5.0",
          "state": {
            "_dom_classes": [],
            "_model_module": "@jupyter-widgets/controls",
            "_model_module_version": "1.5.0",
            "_model_name": "HBoxModel",
            "_view_count": null,
            "_view_module": "@jupyter-widgets/controls",
            "_view_module_version": "1.5.0",
            "_view_name": "HBoxView",
            "box_style": "",
            "children": [
              "IPY_MODEL_53e449e71b68464d923f28d3f712bef2",
              "IPY_MODEL_20710483fb9f425cafcca0f6fbfce464",
              "IPY_MODEL_71b884ea9a07453c8d522c9ef19e1725"
            ],
            "layout": "IPY_MODEL_e024fb01fe664dd6b9ee1c2bd551340d"
          }
        },
        "53e449e71b68464d923f28d3f712bef2": {
          "model_module": "@jupyter-widgets/controls",
          "model_name": "HTMLModel",
          "model_module_version": "1.5.0",
          "state": {
            "_dom_classes": [],
            "_model_module": "@jupyter-widgets/controls",
            "_model_module_version": "1.5.0",
            "_model_name": "HTMLModel",
            "_view_count": null,
            "_view_module": "@jupyter-widgets/controls",
            "_view_module_version": "1.5.0",
            "_view_name": "HTMLView",
            "description": "",
            "description_tooltip": null,
            "layout": "IPY_MODEL_85917f38624544c78c148abe67ac1e51",
            "placeholder": "​",
            "style": "IPY_MODEL_197d3748f2ff4048862a681101627fba",
            "value": "model.safetensors: 100%"
          }
        },
        "20710483fb9f425cafcca0f6fbfce464": {
          "model_module": "@jupyter-widgets/controls",
          "model_name": "FloatProgressModel",
          "model_module_version": "1.5.0",
          "state": {
            "_dom_classes": [],
            "_model_module": "@jupyter-widgets/controls",
            "_model_module_version": "1.5.0",
            "_model_name": "FloatProgressModel",
            "_view_count": null,
            "_view_module": "@jupyter-widgets/controls",
            "_view_module_version": "1.5.0",
            "_view_name": "ProgressView",
            "bar_style": "success",
            "description": "",
            "description_tooltip": null,
            "layout": "IPY_MODEL_b0938753c0ab4bc2b4481f9c6324ca90",
            "max": 1817061136,
            "min": 0,
            "orientation": "horizontal",
            "style": "IPY_MODEL_e41cfe4f5ae54ec1b94f69e8c4c99f81",
            "value": 1817061136
          }
        },
        "71b884ea9a07453c8d522c9ef19e1725": {
          "model_module": "@jupyter-widgets/controls",
          "model_name": "HTMLModel",
          "model_module_version": "1.5.0",
          "state": {
            "_dom_classes": [],
            "_model_module": "@jupyter-widgets/controls",
            "_model_module_version": "1.5.0",
            "_model_name": "HTMLModel",
            "_view_count": null,
            "_view_module": "@jupyter-widgets/controls",
            "_view_module_version": "1.5.0",
            "_view_name": "HTMLView",
            "description": "",
            "description_tooltip": null,
            "layout": "IPY_MODEL_07db942bac554280b725979a01d08792",
            "placeholder": "​",
            "style": "IPY_MODEL_44f71fb6ba2249d1b976cc14b7c328e1",
            "value": " 1.82G/1.82G [00:27&lt;00:00, 66.0MB/s]"
          }
        },
        "e024fb01fe664dd6b9ee1c2bd551340d": {
          "model_module": "@jupyter-widgets/base",
          "model_name": "LayoutModel",
          "model_module_version": "1.2.0",
          "state": {
            "_model_module": "@jupyter-widgets/base",
            "_model_module_version": "1.2.0",
            "_model_name": "LayoutModel",
            "_view_count": null,
            "_view_module": "@jupyter-widgets/base",
            "_view_module_version": "1.2.0",
            "_view_name": "LayoutView",
            "align_content": null,
            "align_items": null,
            "align_self": null,
            "border": null,
            "bottom": null,
            "display": null,
            "flex": null,
            "flex_flow": null,
            "grid_area": null,
            "grid_auto_columns": null,
            "grid_auto_flow": null,
            "grid_auto_rows": null,
            "grid_column": null,
            "grid_gap": null,
            "grid_row": null,
            "grid_template_areas": null,
            "grid_template_columns": null,
            "grid_template_rows": null,
            "height": null,
            "justify_content": null,
            "justify_items": null,
            "left": null,
            "margin": null,
            "max_height": null,
            "max_width": null,
            "min_height": null,
            "min_width": null,
            "object_fit": null,
            "object_position": null,
            "order": null,
            "overflow": null,
            "overflow_x": null,
            "overflow_y": null,
            "padding": null,
            "right": null,
            "top": null,
            "visibility": null,
            "width": null
          }
        },
        "85917f38624544c78c148abe67ac1e51": {
          "model_module": "@jupyter-widgets/base",
          "model_name": "LayoutModel",
          "model_module_version": "1.2.0",
          "state": {
            "_model_module": "@jupyter-widgets/base",
            "_model_module_version": "1.2.0",
            "_model_name": "LayoutModel",
            "_view_count": null,
            "_view_module": "@jupyter-widgets/base",
            "_view_module_version": "1.2.0",
            "_view_name": "LayoutView",
            "align_content": null,
            "align_items": null,
            "align_self": null,
            "border": null,
            "bottom": null,
            "display": null,
            "flex": null,
            "flex_flow": null,
            "grid_area": null,
            "grid_auto_columns": null,
            "grid_auto_flow": null,
            "grid_auto_rows": null,
            "grid_column": null,
            "grid_gap": null,
            "grid_row": null,
            "grid_template_areas": null,
            "grid_template_columns": null,
            "grid_template_rows": null,
            "height": null,
            "justify_content": null,
            "justify_items": null,
            "left": null,
            "margin": null,
            "max_height": null,
            "max_width": null,
            "min_height": null,
            "min_width": null,
            "object_fit": null,
            "object_position": null,
            "order": null,
            "overflow": null,
            "overflow_x": null,
            "overflow_y": null,
            "padding": null,
            "right": null,
            "top": null,
            "visibility": null,
            "width": null
          }
        },
        "197d3748f2ff4048862a681101627fba": {
          "model_module": "@jupyter-widgets/controls",
          "model_name": "DescriptionStyleModel",
          "model_module_version": "1.5.0",
          "state": {
            "_model_module": "@jupyter-widgets/controls",
            "_model_module_version": "1.5.0",
            "_model_name": "DescriptionStyleModel",
            "_view_count": null,
            "_view_module": "@jupyter-widgets/base",
            "_view_module_version": "1.2.0",
            "_view_name": "StyleView",
            "description_width": ""
          }
        },
        "b0938753c0ab4bc2b4481f9c6324ca90": {
          "model_module": "@jupyter-widgets/base",
          "model_name": "LayoutModel",
          "model_module_version": "1.2.0",
          "state": {
            "_model_module": "@jupyter-widgets/base",
            "_model_module_version": "1.2.0",
            "_model_name": "LayoutModel",
            "_view_count": null,
            "_view_module": "@jupyter-widgets/base",
            "_view_module_version": "1.2.0",
            "_view_name": "LayoutView",
            "align_content": null,
            "align_items": null,
            "align_self": null,
            "border": null,
            "bottom": null,
            "display": null,
            "flex": null,
            "flex_flow": null,
            "grid_area": null,
            "grid_auto_columns": null,
            "grid_auto_flow": null,
            "grid_auto_rows": null,
            "grid_column": null,
            "grid_gap": null,
            "grid_row": null,
            "grid_template_areas": null,
            "grid_template_columns": null,
            "grid_template_rows": null,
            "height": null,
            "justify_content": null,
            "justify_items": null,
            "left": null,
            "margin": null,
            "max_height": null,
            "max_width": null,
            "min_height": null,
            "min_width": null,
            "object_fit": null,
            "object_position": null,
            "order": null,
            "overflow": null,
            "overflow_x": null,
            "overflow_y": null,
            "padding": null,
            "right": null,
            "top": null,
            "visibility": null,
            "width": null
          }
        },
        "e41cfe4f5ae54ec1b94f69e8c4c99f81": {
          "model_module": "@jupyter-widgets/controls",
          "model_name": "ProgressStyleModel",
          "model_module_version": "1.5.0",
          "state": {
            "_model_module": "@jupyter-widgets/controls",
            "_model_module_version": "1.5.0",
            "_model_name": "ProgressStyleModel",
            "_view_count": null,
            "_view_module": "@jupyter-widgets/base",
            "_view_module_version": "1.2.0",
            "_view_name": "StyleView",
            "bar_color": null,
            "description_width": ""
          }
        },
        "07db942bac554280b725979a01d08792": {
          "model_module": "@jupyter-widgets/base",
          "model_name": "LayoutModel",
          "model_module_version": "1.2.0",
          "state": {
            "_model_module": "@jupyter-widgets/base",
            "_model_module_version": "1.2.0",
            "_model_name": "LayoutModel",
            "_view_count": null,
            "_view_module": "@jupyter-widgets/base",
            "_view_module_version": "1.2.0",
            "_view_name": "LayoutView",
            "align_content": null,
            "align_items": null,
            "align_self": null,
            "border": null,
            "bottom": null,
            "display": null,
            "flex": null,
            "flex_flow": null,
            "grid_area": null,
            "grid_auto_columns": null,
            "grid_auto_flow": null,
            "grid_auto_rows": null,
            "grid_column": null,
            "grid_gap": null,
            "grid_row": null,
            "grid_template_areas": null,
            "grid_template_columns": null,
            "grid_template_rows": null,
            "height": null,
            "justify_content": null,
            "justify_items": null,
            "left": null,
            "margin": null,
            "max_height": null,
            "max_width": null,
            "min_height": null,
            "min_width": null,
            "object_fit": null,
            "object_position": null,
            "order": null,
            "overflow": null,
            "overflow_x": null,
            "overflow_y": null,
            "padding": null,
            "right": null,
            "top": null,
            "visibility": null,
            "width": null
          }
        },
        "44f71fb6ba2249d1b976cc14b7c328e1": {
          "model_module": "@jupyter-widgets/controls",
          "model_name": "DescriptionStyleModel",
          "model_module_version": "1.5.0",
          "state": {
            "_model_module": "@jupyter-widgets/controls",
            "_model_module_version": "1.5.0",
            "_model_name": "DescriptionStyleModel",
            "_view_count": null,
            "_view_module": "@jupyter-widgets/base",
            "_view_module_version": "1.2.0",
            "_view_name": "StyleView",
            "description_width": ""
          }
        },
        "db4576f305764d6593e8a24a59a77a1e": {
          "model_module": "@jupyter-widgets/controls",
          "model_name": "HBoxModel",
          "model_module_version": "1.5.0",
          "state": {
            "_dom_classes": [],
            "_model_module": "@jupyter-widgets/controls",
            "_model_module_version": "1.5.0",
            "_model_name": "HBoxModel",
            "_view_count": null,
            "_view_module": "@jupyter-widgets/controls",
            "_view_module_version": "1.5.0",
            "_view_name": "HBoxView",
            "box_style": "",
            "children": [
              "IPY_MODEL_17c7fef1c7284293973271d6686bde93",
              "IPY_MODEL_3090ba498f6546c0a7a36a3bebdea477",
              "IPY_MODEL_6a6640a52a144813a02e7b77cfdd7adf"
            ],
            "layout": "IPY_MODEL_4141cc67457b4cf8bf22c45134a7c250"
          }
        },
        "17c7fef1c7284293973271d6686bde93": {
          "model_module": "@jupyter-widgets/controls",
          "model_name": "HTMLModel",
          "model_module_version": "1.5.0",
          "state": {
            "_dom_classes": [],
            "_model_module": "@jupyter-widgets/controls",
            "_model_module_version": "1.5.0",
            "_model_name": "HTMLModel",
            "_view_count": null,
            "_view_module": "@jupyter-widgets/controls",
            "_view_module_version": "1.5.0",
            "_view_name": "HTMLView",
            "description": "",
            "description_tooltip": null,
            "layout": "IPY_MODEL_6da8a84681f94033a18d3bd9cdd108bf",
            "placeholder": "​",
            "style": "IPY_MODEL_8043a081ccc6482e8d5123cd5c084620",
            "value": "generation_config.json: 100%"
          }
        },
        "3090ba498f6546c0a7a36a3bebdea477": {
          "model_module": "@jupyter-widgets/controls",
          "model_name": "FloatProgressModel",
          "model_module_version": "1.5.0",
          "state": {
            "_dom_classes": [],
            "_model_module": "@jupyter-widgets/controls",
            "_model_module_version": "1.5.0",
            "_model_name": "FloatProgressModel",
            "_view_count": null,
            "_view_module": "@jupyter-widgets/controls",
            "_view_module_version": "1.5.0",
            "_view_name": "ProgressView",
            "bar_style": "success",
            "description": "",
            "description_tooltip": null,
            "layout": "IPY_MODEL_84a609bad51b47efbe988bda12be86c5",
            "max": 133,
            "min": 0,
            "orientation": "horizontal",
            "style": "IPY_MODEL_d58c657332724ebca7c27a4cb5e9be00",
            "value": 133
          }
        },
        "6a6640a52a144813a02e7b77cfdd7adf": {
          "model_module": "@jupyter-widgets/controls",
          "model_name": "HTMLModel",
          "model_module_version": "1.5.0",
          "state": {
            "_dom_classes": [],
            "_model_module": "@jupyter-widgets/controls",
            "_model_module_version": "1.5.0",
            "_model_name": "HTMLModel",
            "_view_count": null,
            "_view_module": "@jupyter-widgets/controls",
            "_view_module_version": "1.5.0",
            "_view_name": "HTMLView",
            "description": "",
            "description_tooltip": null,
            "layout": "IPY_MODEL_294af594e7184f8b8ba067aa884dfc34",
            "placeholder": "​",
            "style": "IPY_MODEL_fc87a83a7cc242bdb5ed49de351d7532",
            "value": " 133/133 [00:00&lt;00:00, 2.16kB/s]"
          }
        },
        "4141cc67457b4cf8bf22c45134a7c250": {
          "model_module": "@jupyter-widgets/base",
          "model_name": "LayoutModel",
          "model_module_version": "1.2.0",
          "state": {
            "_model_module": "@jupyter-widgets/base",
            "_model_module_version": "1.2.0",
            "_model_name": "LayoutModel",
            "_view_count": null,
            "_view_module": "@jupyter-widgets/base",
            "_view_module_version": "1.2.0",
            "_view_name": "LayoutView",
            "align_content": null,
            "align_items": null,
            "align_self": null,
            "border": null,
            "bottom": null,
            "display": null,
            "flex": null,
            "flex_flow": null,
            "grid_area": null,
            "grid_auto_columns": null,
            "grid_auto_flow": null,
            "grid_auto_rows": null,
            "grid_column": null,
            "grid_gap": null,
            "grid_row": null,
            "grid_template_areas": null,
            "grid_template_columns": null,
            "grid_template_rows": null,
            "height": null,
            "justify_content": null,
            "justify_items": null,
            "left": null,
            "margin": null,
            "max_height": null,
            "max_width": null,
            "min_height": null,
            "min_width": null,
            "object_fit": null,
            "object_position": null,
            "order": null,
            "overflow": null,
            "overflow_x": null,
            "overflow_y": null,
            "padding": null,
            "right": null,
            "top": null,
            "visibility": null,
            "width": null
          }
        },
        "6da8a84681f94033a18d3bd9cdd108bf": {
          "model_module": "@jupyter-widgets/base",
          "model_name": "LayoutModel",
          "model_module_version": "1.2.0",
          "state": {
            "_model_module": "@jupyter-widgets/base",
            "_model_module_version": "1.2.0",
            "_model_name": "LayoutModel",
            "_view_count": null,
            "_view_module": "@jupyter-widgets/base",
            "_view_module_version": "1.2.0",
            "_view_name": "LayoutView",
            "align_content": null,
            "align_items": null,
            "align_self": null,
            "border": null,
            "bottom": null,
            "display": null,
            "flex": null,
            "flex_flow": null,
            "grid_area": null,
            "grid_auto_columns": null,
            "grid_auto_flow": null,
            "grid_auto_rows": null,
            "grid_column": null,
            "grid_gap": null,
            "grid_row": null,
            "grid_template_areas": null,
            "grid_template_columns": null,
            "grid_template_rows": null,
            "height": null,
            "justify_content": null,
            "justify_items": null,
            "left": null,
            "margin": null,
            "max_height": null,
            "max_width": null,
            "min_height": null,
            "min_width": null,
            "object_fit": null,
            "object_position": null,
            "order": null,
            "overflow": null,
            "overflow_x": null,
            "overflow_y": null,
            "padding": null,
            "right": null,
            "top": null,
            "visibility": null,
            "width": null
          }
        },
        "8043a081ccc6482e8d5123cd5c084620": {
          "model_module": "@jupyter-widgets/controls",
          "model_name": "DescriptionStyleModel",
          "model_module_version": "1.5.0",
          "state": {
            "_model_module": "@jupyter-widgets/controls",
            "_model_module_version": "1.5.0",
            "_model_name": "DescriptionStyleModel",
            "_view_count": null,
            "_view_module": "@jupyter-widgets/base",
            "_view_module_version": "1.2.0",
            "_view_name": "StyleView",
            "description_width": ""
          }
        },
        "84a609bad51b47efbe988bda12be86c5": {
          "model_module": "@jupyter-widgets/base",
          "model_name": "LayoutModel",
          "model_module_version": "1.2.0",
          "state": {
            "_model_module": "@jupyter-widgets/base",
            "_model_module_version": "1.2.0",
            "_model_name": "LayoutModel",
            "_view_count": null,
            "_view_module": "@jupyter-widgets/base",
            "_view_module_version": "1.2.0",
            "_view_name": "LayoutView",
            "align_content": null,
            "align_items": null,
            "align_self": null,
            "border": null,
            "bottom": null,
            "display": null,
            "flex": null,
            "flex_flow": null,
            "grid_area": null,
            "grid_auto_columns": null,
            "grid_auto_flow": null,
            "grid_auto_rows": null,
            "grid_column": null,
            "grid_gap": null,
            "grid_row": null,
            "grid_template_areas": null,
            "grid_template_columns": null,
            "grid_template_rows": null,
            "height": null,
            "justify_content": null,
            "justify_items": null,
            "left": null,
            "margin": null,
            "max_height": null,
            "max_width": null,
            "min_height": null,
            "min_width": null,
            "object_fit": null,
            "object_position": null,
            "order": null,
            "overflow": null,
            "overflow_x": null,
            "overflow_y": null,
            "padding": null,
            "right": null,
            "top": null,
            "visibility": null,
            "width": null
          }
        },
        "d58c657332724ebca7c27a4cb5e9be00": {
          "model_module": "@jupyter-widgets/controls",
          "model_name": "ProgressStyleModel",
          "model_module_version": "1.5.0",
          "state": {
            "_model_module": "@jupyter-widgets/controls",
            "_model_module_version": "1.5.0",
            "_model_name": "ProgressStyleModel",
            "_view_count": null,
            "_view_module": "@jupyter-widgets/base",
            "_view_module_version": "1.2.0",
            "_view_name": "StyleView",
            "bar_color": null,
            "description_width": ""
          }
        },
        "294af594e7184f8b8ba067aa884dfc34": {
          "model_module": "@jupyter-widgets/base",
          "model_name": "LayoutModel",
          "model_module_version": "1.2.0",
          "state": {
            "_model_module": "@jupyter-widgets/base",
            "_model_module_version": "1.2.0",
            "_model_name": "LayoutModel",
            "_view_count": null,
            "_view_module": "@jupyter-widgets/base",
            "_view_module_version": "1.2.0",
            "_view_name": "LayoutView",
            "align_content": null,
            "align_items": null,
            "align_self": null,
            "border": null,
            "bottom": null,
            "display": null,
            "flex": null,
            "flex_flow": null,
            "grid_area": null,
            "grid_auto_columns": null,
            "grid_auto_flow": null,
            "grid_auto_rows": null,
            "grid_column": null,
            "grid_gap": null,
            "grid_row": null,
            "grid_template_areas": null,
            "grid_template_columns": null,
            "grid_template_rows": null,
            "height": null,
            "justify_content": null,
            "justify_items": null,
            "left": null,
            "margin": null,
            "max_height": null,
            "max_width": null,
            "min_height": null,
            "min_width": null,
            "object_fit": null,
            "object_position": null,
            "order": null,
            "overflow": null,
            "overflow_x": null,
            "overflow_y": null,
            "padding": null,
            "right": null,
            "top": null,
            "visibility": null,
            "width": null
          }
        },
        "fc87a83a7cc242bdb5ed49de351d7532": {
          "model_module": "@jupyter-widgets/controls",
          "model_name": "DescriptionStyleModel",
          "model_module_version": "1.5.0",
          "state": {
            "_model_module": "@jupyter-widgets/controls",
            "_model_module_version": "1.5.0",
            "_model_name": "DescriptionStyleModel",
            "_view_count": null,
            "_view_module": "@jupyter-widgets/base",
            "_view_module_version": "1.2.0",
            "_view_name": "StyleView",
            "description_width": ""
          }
        },
        "a5b4b52ea11d4ab6878e92f009f742d1": {
          "model_module": "@jupyter-widgets/controls",
          "model_name": "HBoxModel",
          "model_module_version": "1.5.0",
          "state": {
            "_dom_classes": [],
            "_model_module": "@jupyter-widgets/controls",
            "_model_module_version": "1.5.0",
            "_model_name": "HBoxModel",
            "_view_count": null,
            "_view_module": "@jupyter-widgets/controls",
            "_view_module_version": "1.5.0",
            "_view_name": "HBoxView",
            "box_style": "",
            "children": [
              "IPY_MODEL_683a860232484adda21d338b41e222f6",
              "IPY_MODEL_0371e55d87294183a97f2002b973f45f",
              "IPY_MODEL_852ee3354dca47e292fcbab4a747d98a"
            ],
            "layout": "IPY_MODEL_d4d851c4c942455a8e33d1ea610aaf51"
          }
        },
        "683a860232484adda21d338b41e222f6": {
          "model_module": "@jupyter-widgets/controls",
          "model_name": "HTMLModel",
          "model_module_version": "1.5.0",
          "state": {
            "_dom_classes": [],
            "_model_module": "@jupyter-widgets/controls",
            "_model_module_version": "1.5.0",
            "_model_name": "HTMLModel",
            "_view_count": null,
            "_view_module": "@jupyter-widgets/controls",
            "_view_module_version": "1.5.0",
            "_view_name": "HTMLView",
            "description": "",
            "description_tooltip": null,
            "layout": "IPY_MODEL_43e742c77e834019bd2ba3b00381e01a",
            "placeholder": "​",
            "style": "IPY_MODEL_d09a557ef67e44d8b7f39760e2c71f4b",
            "value": "tokenizer_config.json: 100%"
          }
        },
        "0371e55d87294183a97f2002b973f45f": {
          "model_module": "@jupyter-widgets/controls",
          "model_name": "FloatProgressModel",
          "model_module_version": "1.5.0",
          "state": {
            "_dom_classes": [],
            "_model_module": "@jupyter-widgets/controls",
            "_model_module_version": "1.5.0",
            "_model_name": "FloatProgressModel",
            "_view_count": null,
            "_view_module": "@jupyter-widgets/controls",
            "_view_module_version": "1.5.0",
            "_view_name": "ProgressView",
            "bar_style": "success",
            "description": "",
            "description_tooltip": null,
            "layout": "IPY_MODEL_59cea722308f4c3e87c7362d2eae800b",
            "max": 25318,
            "min": 0,
            "orientation": "horizontal",
            "style": "IPY_MODEL_a462bde184cd41229edf04f5599e4218",
            "value": 25318
          }
        },
        "852ee3354dca47e292fcbab4a747d98a": {
          "model_module": "@jupyter-widgets/controls",
          "model_name": "HTMLModel",
          "model_module_version": "1.5.0",
          "state": {
            "_dom_classes": [],
            "_model_module": "@jupyter-widgets/controls",
            "_model_module_version": "1.5.0",
            "_model_name": "HTMLModel",
            "_view_count": null,
            "_view_module": "@jupyter-widgets/controls",
            "_view_module_version": "1.5.0",
            "_view_name": "HTMLView",
            "description": "",
            "description_tooltip": null,
            "layout": "IPY_MODEL_d235c7cd299747c7a5550ca8e3c1b5a8",
            "placeholder": "​",
            "style": "IPY_MODEL_c6b7fc99f08a49e1a81454dd8f1aaf0a",
            "value": " 25.3k/25.3k [00:00&lt;00:00, 1.88MB/s]"
          }
        },
        "d4d851c4c942455a8e33d1ea610aaf51": {
          "model_module": "@jupyter-widgets/base",
          "model_name": "LayoutModel",
          "model_module_version": "1.2.0",
          "state": {
            "_model_module": "@jupyter-widgets/base",
            "_model_module_version": "1.2.0",
            "_model_name": "LayoutModel",
            "_view_count": null,
            "_view_module": "@jupyter-widgets/base",
            "_view_module_version": "1.2.0",
            "_view_name": "LayoutView",
            "align_content": null,
            "align_items": null,
            "align_self": null,
            "border": null,
            "bottom": null,
            "display": null,
            "flex": null,
            "flex_flow": null,
            "grid_area": null,
            "grid_auto_columns": null,
            "grid_auto_flow": null,
            "grid_auto_rows": null,
            "grid_column": null,
            "grid_gap": null,
            "grid_row": null,
            "grid_template_areas": null,
            "grid_template_columns": null,
            "grid_template_rows": null,
            "height": null,
            "justify_content": null,
            "justify_items": null,
            "left": null,
            "margin": null,
            "max_height": null,
            "max_width": null,
            "min_height": null,
            "min_width": null,
            "object_fit": null,
            "object_position": null,
            "order": null,
            "overflow": null,
            "overflow_x": null,
            "overflow_y": null,
            "padding": null,
            "right": null,
            "top": null,
            "visibility": null,
            "width": null
          }
        },
        "43e742c77e834019bd2ba3b00381e01a": {
          "model_module": "@jupyter-widgets/base",
          "model_name": "LayoutModel",
          "model_module_version": "1.2.0",
          "state": {
            "_model_module": "@jupyter-widgets/base",
            "_model_module_version": "1.2.0",
            "_model_name": "LayoutModel",
            "_view_count": null,
            "_view_module": "@jupyter-widgets/base",
            "_view_module_version": "1.2.0",
            "_view_name": "LayoutView",
            "align_content": null,
            "align_items": null,
            "align_self": null,
            "border": null,
            "bottom": null,
            "display": null,
            "flex": null,
            "flex_flow": null,
            "grid_area": null,
            "grid_auto_columns": null,
            "grid_auto_flow": null,
            "grid_auto_rows": null,
            "grid_column": null,
            "grid_gap": null,
            "grid_row": null,
            "grid_template_areas": null,
            "grid_template_columns": null,
            "grid_template_rows": null,
            "height": null,
            "justify_content": null,
            "justify_items": null,
            "left": null,
            "margin": null,
            "max_height": null,
            "max_width": null,
            "min_height": null,
            "min_width": null,
            "object_fit": null,
            "object_position": null,
            "order": null,
            "overflow": null,
            "overflow_x": null,
            "overflow_y": null,
            "padding": null,
            "right": null,
            "top": null,
            "visibility": null,
            "width": null
          }
        },
        "d09a557ef67e44d8b7f39760e2c71f4b": {
          "model_module": "@jupyter-widgets/controls",
          "model_name": "DescriptionStyleModel",
          "model_module_version": "1.5.0",
          "state": {
            "_model_module": "@jupyter-widgets/controls",
            "_model_module_version": "1.5.0",
            "_model_name": "DescriptionStyleModel",
            "_view_count": null,
            "_view_module": "@jupyter-widgets/base",
            "_view_module_version": "1.2.0",
            "_view_name": "StyleView",
            "description_width": ""
          }
        },
        "59cea722308f4c3e87c7362d2eae800b": {
          "model_module": "@jupyter-widgets/base",
          "model_name": "LayoutModel",
          "model_module_version": "1.2.0",
          "state": {
            "_model_module": "@jupyter-widgets/base",
            "_model_module_version": "1.2.0",
            "_model_name": "LayoutModel",
            "_view_count": null,
            "_view_module": "@jupyter-widgets/base",
            "_view_module_version": "1.2.0",
            "_view_name": "LayoutView",
            "align_content": null,
            "align_items": null,
            "align_self": null,
            "border": null,
            "bottom": null,
            "display": null,
            "flex": null,
            "flex_flow": null,
            "grid_area": null,
            "grid_auto_columns": null,
            "grid_auto_flow": null,
            "grid_auto_rows": null,
            "grid_column": null,
            "grid_gap": null,
            "grid_row": null,
            "grid_template_areas": null,
            "grid_template_columns": null,
            "grid_template_rows": null,
            "height": null,
            "justify_content": null,
            "justify_items": null,
            "left": null,
            "margin": null,
            "max_height": null,
            "max_width": null,
            "min_height": null,
            "min_width": null,
            "object_fit": null,
            "object_position": null,
            "order": null,
            "overflow": null,
            "overflow_x": null,
            "overflow_y": null,
            "padding": null,
            "right": null,
            "top": null,
            "visibility": null,
            "width": null
          }
        },
        "a462bde184cd41229edf04f5599e4218": {
          "model_module": "@jupyter-widgets/controls",
          "model_name": "ProgressStyleModel",
          "model_module_version": "1.5.0",
          "state": {
            "_model_module": "@jupyter-widgets/controls",
            "_model_module_version": "1.5.0",
            "_model_name": "ProgressStyleModel",
            "_view_count": null,
            "_view_module": "@jupyter-widgets/base",
            "_view_module_version": "1.2.0",
            "_view_name": "StyleView",
            "bar_color": null,
            "description_width": ""
          }
        },
        "d235c7cd299747c7a5550ca8e3c1b5a8": {
          "model_module": "@jupyter-widgets/base",
          "model_name": "LayoutModel",
          "model_module_version": "1.2.0",
          "state": {
            "_model_module": "@jupyter-widgets/base",
            "_model_module_version": "1.2.0",
            "_model_name": "LayoutModel",
            "_view_count": null,
            "_view_module": "@jupyter-widgets/base",
            "_view_module_version": "1.2.0",
            "_view_name": "LayoutView",
            "align_content": null,
            "align_items": null,
            "align_self": null,
            "border": null,
            "bottom": null,
            "display": null,
            "flex": null,
            "flex_flow": null,
            "grid_area": null,
            "grid_auto_columns": null,
            "grid_auto_flow": null,
            "grid_auto_rows": null,
            "grid_column": null,
            "grid_gap": null,
            "grid_row": null,
            "grid_template_areas": null,
            "grid_template_columns": null,
            "grid_template_rows": null,
            "height": null,
            "justify_content": null,
            "justify_items": null,
            "left": null,
            "margin": null,
            "max_height": null,
            "max_width": null,
            "min_height": null,
            "min_width": null,
            "object_fit": null,
            "object_position": null,
            "order": null,
            "overflow": null,
            "overflow_x": null,
            "overflow_y": null,
            "padding": null,
            "right": null,
            "top": null,
            "visibility": null,
            "width": null
          }
        },
        "c6b7fc99f08a49e1a81454dd8f1aaf0a": {
          "model_module": "@jupyter-widgets/controls",
          "model_name": "DescriptionStyleModel",
          "model_module_version": "1.5.0",
          "state": {
            "_model_module": "@jupyter-widgets/controls",
            "_model_module_version": "1.5.0",
            "_model_name": "DescriptionStyleModel",
            "_view_count": null,
            "_view_module": "@jupyter-widgets/base",
            "_view_module_version": "1.2.0",
            "_view_name": "StyleView",
            "description_width": ""
          }
        },
        "36698dfc3899413ea749ace946fb9643": {
          "model_module": "@jupyter-widgets/controls",
          "model_name": "HBoxModel",
          "model_module_version": "1.5.0",
          "state": {
            "_dom_classes": [],
            "_model_module": "@jupyter-widgets/controls",
            "_model_module_version": "1.5.0",
            "_model_name": "HBoxModel",
            "_view_count": null,
            "_view_module": "@jupyter-widgets/controls",
            "_view_module_version": "1.5.0",
            "_view_name": "HBoxView",
            "box_style": "",
            "children": [
              "IPY_MODEL_31ebaeecbb7847a49ef763aea90e3e11",
              "IPY_MODEL_b38d50691d2e421db9004019f499b1da",
              "IPY_MODEL_b5a77800ad3a443ba79630d6d31781ce"
            ],
            "layout": "IPY_MODEL_ade5f9888a2540ccaf6b347c887070cc"
          }
        },
        "31ebaeecbb7847a49ef763aea90e3e11": {
          "model_module": "@jupyter-widgets/controls",
          "model_name": "HTMLModel",
          "model_module_version": "1.5.0",
          "state": {
            "_dom_classes": [],
            "_model_module": "@jupyter-widgets/controls",
            "_model_module_version": "1.5.0",
            "_model_name": "HTMLModel",
            "_view_count": null,
            "_view_module": "@jupyter-widgets/controls",
            "_view_module_version": "1.5.0",
            "_view_name": "HTMLView",
            "description": "",
            "description_tooltip": null,
            "layout": "IPY_MODEL_f49cd6458bbc43138fdc2c7451b7e4bd",
            "placeholder": "​",
            "style": "IPY_MODEL_dd1163f8644d46dd9c22ae5415fd5b17",
            "value": "added_tokens.json: 100%"
          }
        },
        "b38d50691d2e421db9004019f499b1da": {
          "model_module": "@jupyter-widgets/controls",
          "model_name": "FloatProgressModel",
          "model_module_version": "1.5.0",
          "state": {
            "_dom_classes": [],
            "_model_module": "@jupyter-widgets/controls",
            "_model_module_version": "1.5.0",
            "_model_name": "FloatProgressModel",
            "_view_count": null,
            "_view_module": "@jupyter-widgets/controls",
            "_view_module_version": "1.5.0",
            "_view_name": "ProgressView",
            "bar_style": "success",
            "description": "",
            "description_tooltip": null,
            "layout": "IPY_MODEL_a3d2ac7c9abe40cbae77ce6f3e493f27",
            "max": 3018,
            "min": 0,
            "orientation": "horizontal",
            "style": "IPY_MODEL_7d89c90663154bc19b475c3708d4d347",
            "value": 3018
          }
        },
        "b5a77800ad3a443ba79630d6d31781ce": {
          "model_module": "@jupyter-widgets/controls",
          "model_name": "HTMLModel",
          "model_module_version": "1.5.0",
          "state": {
            "_dom_classes": [],
            "_model_module": "@jupyter-widgets/controls",
            "_model_module_version": "1.5.0",
            "_model_name": "HTMLModel",
            "_view_count": null,
            "_view_module": "@jupyter-widgets/controls",
            "_view_module_version": "1.5.0",
            "_view_name": "HTMLView",
            "description": "",
            "description_tooltip": null,
            "layout": "IPY_MODEL_a60e5ea110e8446491f591c57d3d6a57",
            "placeholder": "​",
            "style": "IPY_MODEL_6bb3e051d9cf47fcb7864df19c27efc3",
            "value": " 3.02k/3.02k [00:00&lt;00:00, 252kB/s]"
          }
        },
        "ade5f9888a2540ccaf6b347c887070cc": {
          "model_module": "@jupyter-widgets/base",
          "model_name": "LayoutModel",
          "model_module_version": "1.2.0",
          "state": {
            "_model_module": "@jupyter-widgets/base",
            "_model_module_version": "1.2.0",
            "_model_name": "LayoutModel",
            "_view_count": null,
            "_view_module": "@jupyter-widgets/base",
            "_view_module_version": "1.2.0",
            "_view_name": "LayoutView",
            "align_content": null,
            "align_items": null,
            "align_self": null,
            "border": null,
            "bottom": null,
            "display": null,
            "flex": null,
            "flex_flow": null,
            "grid_area": null,
            "grid_auto_columns": null,
            "grid_auto_flow": null,
            "grid_auto_rows": null,
            "grid_column": null,
            "grid_gap": null,
            "grid_row": null,
            "grid_template_areas": null,
            "grid_template_columns": null,
            "grid_template_rows": null,
            "height": null,
            "justify_content": null,
            "justify_items": null,
            "left": null,
            "margin": null,
            "max_height": null,
            "max_width": null,
            "min_height": null,
            "min_width": null,
            "object_fit": null,
            "object_position": null,
            "order": null,
            "overflow": null,
            "overflow_x": null,
            "overflow_y": null,
            "padding": null,
            "right": null,
            "top": null,
            "visibility": null,
            "width": null
          }
        },
        "f49cd6458bbc43138fdc2c7451b7e4bd": {
          "model_module": "@jupyter-widgets/base",
          "model_name": "LayoutModel",
          "model_module_version": "1.2.0",
          "state": {
            "_model_module": "@jupyter-widgets/base",
            "_model_module_version": "1.2.0",
            "_model_name": "LayoutModel",
            "_view_count": null,
            "_view_module": "@jupyter-widgets/base",
            "_view_module_version": "1.2.0",
            "_view_name": "LayoutView",
            "align_content": null,
            "align_items": null,
            "align_self": null,
            "border": null,
            "bottom": null,
            "display": null,
            "flex": null,
            "flex_flow": null,
            "grid_area": null,
            "grid_auto_columns": null,
            "grid_auto_flow": null,
            "grid_auto_rows": null,
            "grid_column": null,
            "grid_gap": null,
            "grid_row": null,
            "grid_template_areas": null,
            "grid_template_columns": null,
            "grid_template_rows": null,
            "height": null,
            "justify_content": null,
            "justify_items": null,
            "left": null,
            "margin": null,
            "max_height": null,
            "max_width": null,
            "min_height": null,
            "min_width": null,
            "object_fit": null,
            "object_position": null,
            "order": null,
            "overflow": null,
            "overflow_x": null,
            "overflow_y": null,
            "padding": null,
            "right": null,
            "top": null,
            "visibility": null,
            "width": null
          }
        },
        "dd1163f8644d46dd9c22ae5415fd5b17": {
          "model_module": "@jupyter-widgets/controls",
          "model_name": "DescriptionStyleModel",
          "model_module_version": "1.5.0",
          "state": {
            "_model_module": "@jupyter-widgets/controls",
            "_model_module_version": "1.5.0",
            "_model_name": "DescriptionStyleModel",
            "_view_count": null,
            "_view_module": "@jupyter-widgets/base",
            "_view_module_version": "1.2.0",
            "_view_name": "StyleView",
            "description_width": ""
          }
        },
        "a3d2ac7c9abe40cbae77ce6f3e493f27": {
          "model_module": "@jupyter-widgets/base",
          "model_name": "LayoutModel",
          "model_module_version": "1.2.0",
          "state": {
            "_model_module": "@jupyter-widgets/base",
            "_model_module_version": "1.2.0",
            "_model_name": "LayoutModel",
            "_view_count": null,
            "_view_module": "@jupyter-widgets/base",
            "_view_module_version": "1.2.0",
            "_view_name": "LayoutView",
            "align_content": null,
            "align_items": null,
            "align_self": null,
            "border": null,
            "bottom": null,
            "display": null,
            "flex": null,
            "flex_flow": null,
            "grid_area": null,
            "grid_auto_columns": null,
            "grid_auto_flow": null,
            "grid_auto_rows": null,
            "grid_column": null,
            "grid_gap": null,
            "grid_row": null,
            "grid_template_areas": null,
            "grid_template_columns": null,
            "grid_template_rows": null,
            "height": null,
            "justify_content": null,
            "justify_items": null,
            "left": null,
            "margin": null,
            "max_height": null,
            "max_width": null,
            "min_height": null,
            "min_width": null,
            "object_fit": null,
            "object_position": null,
            "order": null,
            "overflow": null,
            "overflow_x": null,
            "overflow_y": null,
            "padding": null,
            "right": null,
            "top": null,
            "visibility": null,
            "width": null
          }
        },
        "7d89c90663154bc19b475c3708d4d347": {
          "model_module": "@jupyter-widgets/controls",
          "model_name": "ProgressStyleModel",
          "model_module_version": "1.5.0",
          "state": {
            "_model_module": "@jupyter-widgets/controls",
            "_model_module_version": "1.5.0",
            "_model_name": "ProgressStyleModel",
            "_view_count": null,
            "_view_module": "@jupyter-widgets/base",
            "_view_module_version": "1.2.0",
            "_view_name": "StyleView",
            "bar_color": null,
            "description_width": ""
          }
        },
        "a60e5ea110e8446491f591c57d3d6a57": {
          "model_module": "@jupyter-widgets/base",
          "model_name": "LayoutModel",
          "model_module_version": "1.2.0",
          "state": {
            "_model_module": "@jupyter-widgets/base",
            "_model_module_version": "1.2.0",
            "_model_name": "LayoutModel",
            "_view_count": null,
            "_view_module": "@jupyter-widgets/base",
            "_view_module_version": "1.2.0",
            "_view_name": "LayoutView",
            "align_content": null,
            "align_items": null,
            "align_self": null,
            "border": null,
            "bottom": null,
            "display": null,
            "flex": null,
            "flex_flow": null,
            "grid_area": null,
            "grid_auto_columns": null,
            "grid_auto_flow": null,
            "grid_auto_rows": null,
            "grid_column": null,
            "grid_gap": null,
            "grid_row": null,
            "grid_template_areas": null,
            "grid_template_columns": null,
            "grid_template_rows": null,
            "height": null,
            "justify_content": null,
            "justify_items": null,
            "left": null,
            "margin": null,
            "max_height": null,
            "max_width": null,
            "min_height": null,
            "min_width": null,
            "object_fit": null,
            "object_position": null,
            "order": null,
            "overflow": null,
            "overflow_x": null,
            "overflow_y": null,
            "padding": null,
            "right": null,
            "top": null,
            "visibility": null,
            "width": null
          }
        },
        "6bb3e051d9cf47fcb7864df19c27efc3": {
          "model_module": "@jupyter-widgets/controls",
          "model_name": "DescriptionStyleModel",
          "model_module_version": "1.5.0",
          "state": {
            "_model_module": "@jupyter-widgets/controls",
            "_model_module_version": "1.5.0",
            "_model_name": "DescriptionStyleModel",
            "_view_count": null,
            "_view_module": "@jupyter-widgets/base",
            "_view_module_version": "1.2.0",
            "_view_name": "StyleView",
            "description_width": ""
          }
        },
        "f7d636f73665415a8ccc94aadc7b5c4f": {
          "model_module": "@jupyter-widgets/controls",
          "model_name": "HBoxModel",
          "model_module_version": "1.5.0",
          "state": {
            "_dom_classes": [],
            "_model_module": "@jupyter-widgets/controls",
            "_model_module_version": "1.5.0",
            "_model_name": "HBoxModel",
            "_view_count": null,
            "_view_module": "@jupyter-widgets/controls",
            "_view_module_version": "1.5.0",
            "_view_name": "HBoxView",
            "box_style": "",
            "children": [
              "IPY_MODEL_7dddfd93147a491096cff7bcdd0a3c10",
              "IPY_MODEL_faed09bfeab746fe9ec03baa3d0ecf27",
              "IPY_MODEL_b18f855c23f549898bd5877a55f2b1ef"
            ],
            "layout": "IPY_MODEL_ff4ddab9b02f490f82870b989977154d"
          }
        },
        "7dddfd93147a491096cff7bcdd0a3c10": {
          "model_module": "@jupyter-widgets/controls",
          "model_name": "HTMLModel",
          "model_module_version": "1.5.0",
          "state": {
            "_dom_classes": [],
            "_model_module": "@jupyter-widgets/controls",
            "_model_module_version": "1.5.0",
            "_model_name": "HTMLModel",
            "_view_count": null,
            "_view_module": "@jupyter-widgets/controls",
            "_view_module_version": "1.5.0",
            "_view_name": "HTMLView",
            "description": "",
            "description_tooltip": null,
            "layout": "IPY_MODEL_4a8f1412e7bf4ba7bfe3141abf5dc6af",
            "placeholder": "​",
            "style": "IPY_MODEL_9382867b69ee4da18825600d2772d7e8",
            "value": "special_tokens_map.json: 100%"
          }
        },
        "faed09bfeab746fe9ec03baa3d0ecf27": {
          "model_module": "@jupyter-widgets/controls",
          "model_name": "FloatProgressModel",
          "model_module_version": "1.5.0",
          "state": {
            "_dom_classes": [],
            "_model_module": "@jupyter-widgets/controls",
            "_model_module_version": "1.5.0",
            "_model_name": "FloatProgressModel",
            "_view_count": null,
            "_view_module": "@jupyter-widgets/controls",
            "_view_module_version": "1.5.0",
            "_view_name": "ProgressView",
            "bar_style": "success",
            "description": "",
            "description_tooltip": null,
            "layout": "IPY_MODEL_cf4e197d38cf4bd2b77b7db06481a39b",
            "max": 2976,
            "min": 0,
            "orientation": "horizontal",
            "style": "IPY_MODEL_856d68beaea947e6b972834205b924e9",
            "value": 2976
          }
        },
        "b18f855c23f549898bd5877a55f2b1ef": {
          "model_module": "@jupyter-widgets/controls",
          "model_name": "HTMLModel",
          "model_module_version": "1.5.0",
          "state": {
            "_dom_classes": [],
            "_model_module": "@jupyter-widgets/controls",
            "_model_module_version": "1.5.0",
            "_model_name": "HTMLModel",
            "_view_count": null,
            "_view_module": "@jupyter-widgets/controls",
            "_view_module_version": "1.5.0",
            "_view_name": "HTMLView",
            "description": "",
            "description_tooltip": null,
            "layout": "IPY_MODEL_40b4127c6e254413a2370d54aa25b698",
            "placeholder": "​",
            "style": "IPY_MODEL_1eebc106152241a986ecfa060e7e3abc",
            "value": " 2.98k/2.98k [00:00&lt;00:00, 239kB/s]"
          }
        },
        "ff4ddab9b02f490f82870b989977154d": {
          "model_module": "@jupyter-widgets/base",
          "model_name": "LayoutModel",
          "model_module_version": "1.2.0",
          "state": {
            "_model_module": "@jupyter-widgets/base",
            "_model_module_version": "1.2.0",
            "_model_name": "LayoutModel",
            "_view_count": null,
            "_view_module": "@jupyter-widgets/base",
            "_view_module_version": "1.2.0",
            "_view_name": "LayoutView",
            "align_content": null,
            "align_items": null,
            "align_self": null,
            "border": null,
            "bottom": null,
            "display": null,
            "flex": null,
            "flex_flow": null,
            "grid_area": null,
            "grid_auto_columns": null,
            "grid_auto_flow": null,
            "grid_auto_rows": null,
            "grid_column": null,
            "grid_gap": null,
            "grid_row": null,
            "grid_template_areas": null,
            "grid_template_columns": null,
            "grid_template_rows": null,
            "height": null,
            "justify_content": null,
            "justify_items": null,
            "left": null,
            "margin": null,
            "max_height": null,
            "max_width": null,
            "min_height": null,
            "min_width": null,
            "object_fit": null,
            "object_position": null,
            "order": null,
            "overflow": null,
            "overflow_x": null,
            "overflow_y": null,
            "padding": null,
            "right": null,
            "top": null,
            "visibility": null,
            "width": null
          }
        },
        "4a8f1412e7bf4ba7bfe3141abf5dc6af": {
          "model_module": "@jupyter-widgets/base",
          "model_name": "LayoutModel",
          "model_module_version": "1.2.0",
          "state": {
            "_model_module": "@jupyter-widgets/base",
            "_model_module_version": "1.2.0",
            "_model_name": "LayoutModel",
            "_view_count": null,
            "_view_module": "@jupyter-widgets/base",
            "_view_module_version": "1.2.0",
            "_view_name": "LayoutView",
            "align_content": null,
            "align_items": null,
            "align_self": null,
            "border": null,
            "bottom": null,
            "display": null,
            "flex": null,
            "flex_flow": null,
            "grid_area": null,
            "grid_auto_columns": null,
            "grid_auto_flow": null,
            "grid_auto_rows": null,
            "grid_column": null,
            "grid_gap": null,
            "grid_row": null,
            "grid_template_areas": null,
            "grid_template_columns": null,
            "grid_template_rows": null,
            "height": null,
            "justify_content": null,
            "justify_items": null,
            "left": null,
            "margin": null,
            "max_height": null,
            "max_width": null,
            "min_height": null,
            "min_width": null,
            "object_fit": null,
            "object_position": null,
            "order": null,
            "overflow": null,
            "overflow_x": null,
            "overflow_y": null,
            "padding": null,
            "right": null,
            "top": null,
            "visibility": null,
            "width": null
          }
        },
        "9382867b69ee4da18825600d2772d7e8": {
          "model_module": "@jupyter-widgets/controls",
          "model_name": "DescriptionStyleModel",
          "model_module_version": "1.5.0",
          "state": {
            "_model_module": "@jupyter-widgets/controls",
            "_model_module_version": "1.5.0",
            "_model_name": "DescriptionStyleModel",
            "_view_count": null,
            "_view_module": "@jupyter-widgets/base",
            "_view_module_version": "1.2.0",
            "_view_name": "StyleView",
            "description_width": ""
          }
        },
        "cf4e197d38cf4bd2b77b7db06481a39b": {
          "model_module": "@jupyter-widgets/base",
          "model_name": "LayoutModel",
          "model_module_version": "1.2.0",
          "state": {
            "_model_module": "@jupyter-widgets/base",
            "_model_module_version": "1.2.0",
            "_model_name": "LayoutModel",
            "_view_count": null,
            "_view_module": "@jupyter-widgets/base",
            "_view_module_version": "1.2.0",
            "_view_name": "LayoutView",
            "align_content": null,
            "align_items": null,
            "align_self": null,
            "border": null,
            "bottom": null,
            "display": null,
            "flex": null,
            "flex_flow": null,
            "grid_area": null,
            "grid_auto_columns": null,
            "grid_auto_flow": null,
            "grid_auto_rows": null,
            "grid_column": null,
            "grid_gap": null,
            "grid_row": null,
            "grid_template_areas": null,
            "grid_template_columns": null,
            "grid_template_rows": null,
            "height": null,
            "justify_content": null,
            "justify_items": null,
            "left": null,
            "margin": null,
            "max_height": null,
            "max_width": null,
            "min_height": null,
            "min_width": null,
            "object_fit": null,
            "object_position": null,
            "order": null,
            "overflow": null,
            "overflow_x": null,
            "overflow_y": null,
            "padding": null,
            "right": null,
            "top": null,
            "visibility": null,
            "width": null
          }
        },
        "856d68beaea947e6b972834205b924e9": {
          "model_module": "@jupyter-widgets/controls",
          "model_name": "ProgressStyleModel",
          "model_module_version": "1.5.0",
          "state": {
            "_model_module": "@jupyter-widgets/controls",
            "_model_module_version": "1.5.0",
            "_model_name": "ProgressStyleModel",
            "_view_count": null,
            "_view_module": "@jupyter-widgets/base",
            "_view_module_version": "1.2.0",
            "_view_name": "StyleView",
            "bar_color": null,
            "description_width": ""
          }
        },
        "40b4127c6e254413a2370d54aa25b698": {
          "model_module": "@jupyter-widgets/base",
          "model_name": "LayoutModel",
          "model_module_version": "1.2.0",
          "state": {
            "_model_module": "@jupyter-widgets/base",
            "_model_module_version": "1.2.0",
            "_model_name": "LayoutModel",
            "_view_count": null,
            "_view_module": "@jupyter-widgets/base",
            "_view_module_version": "1.2.0",
            "_view_name": "LayoutView",
            "align_content": null,
            "align_items": null,
            "align_self": null,
            "border": null,
            "bottom": null,
            "display": null,
            "flex": null,
            "flex_flow": null,
            "grid_area": null,
            "grid_auto_columns": null,
            "grid_auto_flow": null,
            "grid_auto_rows": null,
            "grid_column": null,
            "grid_gap": null,
            "grid_row": null,
            "grid_template_areas": null,
            "grid_template_columns": null,
            "grid_template_rows": null,
            "height": null,
            "justify_content": null,
            "justify_items": null,
            "left": null,
            "margin": null,
            "max_height": null,
            "max_width": null,
            "min_height": null,
            "min_width": null,
            "object_fit": null,
            "object_position": null,
            "order": null,
            "overflow": null,
            "overflow_x": null,
            "overflow_y": null,
            "padding": null,
            "right": null,
            "top": null,
            "visibility": null,
            "width": null
          }
        },
        "1eebc106152241a986ecfa060e7e3abc": {
          "model_module": "@jupyter-widgets/controls",
          "model_name": "DescriptionStyleModel",
          "model_module_version": "1.5.0",
          "state": {
            "_model_module": "@jupyter-widgets/controls",
            "_model_module_version": "1.5.0",
            "_model_name": "DescriptionStyleModel",
            "_view_count": null,
            "_view_module": "@jupyter-widgets/base",
            "_view_module_version": "1.2.0",
            "_view_name": "StyleView",
            "description_width": ""
          }
        }
      }
    },
    "accelerator": "GPU"
  },
  "cells": [
    {
      "cell_type": "markdown",
      "metadata": {
        "id": "view-in-github",
        "colab_type": "text"
      },
      "source": [
        "<a href=\"https://colab.research.google.com/github/pranay8297/llm/blob/main/esm/prot_gpt.ipynb\" target=\"_parent\"><img src=\"https://colab.research.google.com/assets/colab-badge.svg\" alt=\"Open In Colab\"/></a>"
      ]
    },
    {
      "cell_type": "code",
      "execution_count": null,
      "metadata": {
        "id": "v3DJoN2tTk42",
        "collapsed": true
      },
      "outputs": [],
      "source": [
        "! pip install transformers evaluate datasets requests pandas sklearn\n",
        "! pip install datasets\n",
        "! pip install evaluate"
      ]
    },
    {
      "cell_type": "code",
      "source": [
        "import torch\n",
        "from huggingface_hub import notebook_login\n",
        "\n",
        "torch.manual_seed(42)\n",
        "if torch.cuda.is_available():\n",
        "    torch.cuda.manual_seed(42)\n",
        "\n",
        "notebook_login()"
      ],
      "metadata": {
        "colab": {
          "base_uri": "https://localhost:8080/",
          "height": 331,
          "referenced_widgets": [
            "4b167579f4f74fb685b9a5f53f4181b5",
            "3117b98164624917be947036ae439c5f",
            "5f9dc1884f284c3081c422f3efb7f338",
            "a16e85f7049b47198385c9a64e86b7a6",
            "b0ea229cf8e145c39f06371c8ed694a1",
            "1908120e2e5a44e6949af3dc04e0d428",
            "ad804e7ace014398a459580fb4d38caf",
            "1ed516f459b94ab391b46a166f857678",
            "82acadce934f483784677273b79dcf54",
            "00df1d94f029469e91b7fe6fdaaa5748",
            "2529dc80320b4ebab5c96943456a19db",
            "05f56b3beb5348c7811633e0da9933be",
            "80f9cbf3e6374215b89872033ea8c117",
            "b924117b6b9a4e21b89ed7e25f626c94",
            "4fdaab1acbee4562a8c650729b93e046",
            "d3c4fbb058de4aa29221e80e721d2fcd",
            "a18e3f5573664c36b62c6f7f13c61a20"
          ]
        },
        "id": "vyD1rc52Elyn",
        "outputId": "f07c8d87-37d0-4bf0-c773-7a2be8ae67ba"
      },
      "execution_count": 1,
      "outputs": [
        {
          "output_type": "display_data",
          "data": {
            "text/plain": [
              "VBox(children=(HTML(value='<center> <img\\nsrc=https://huggingface.co/front/assets/huggingface_logo-noborder.sv…"
            ],
            "application/vnd.jupyter.widget-view+json": {
              "version_major": 2,
              "version_minor": 0,
              "model_id": "4b167579f4f74fb685b9a5f53f4181b5"
            }
          },
          "metadata": {}
        }
      ]
    },
    {
      "cell_type": "markdown",
      "source": [
        "# Playground - 1"
      ],
      "metadata": {
        "id": "_K1abCY5l_W3"
      }
    },
    {
      "cell_type": "code",
      "source": [
        "!apt install git-lfs"
      ],
      "metadata": {
        "colab": {
          "base_uri": "https://localhost:8080/"
        },
        "id": "YOQCHxohTrga",
        "outputId": "fd276dfd-f2c1-490e-ecd6-ba4717c6a938"
      },
      "execution_count": 1,
      "outputs": [
        {
          "output_type": "stream",
          "name": "stdout",
          "text": [
            "Reading package lists... Done\n",
            "Building dependency tree... Done\n",
            "Reading state information... Done\n",
            "git-lfs is already the newest version (3.0.2-1ubuntu0.2).\n",
            "0 upgraded, 0 newly installed, 0 to remove and 49 not upgraded.\n"
          ]
        }
      ]
    },
    {
      "cell_type": "code",
      "source": [
        "model_checkpoint = \"facebook/esm2_t30_150M_UR50D\""
      ],
      "metadata": {
        "id": "UGwIQBxNUhJ3"
      },
      "execution_count": 2,
      "outputs": []
    },
    {
      "cell_type": "code",
      "source": [
        "from transformers import AutoModelForSequenceClassification, TrainingArguments, Trainer\n",
        "\n",
        "model_checkpoint = \"facebook/esm2_t36_3B_UR50D\"\n",
        "train_labels = 100; test_labels = 20\n",
        "num_labels = 120  # Add 1 since 0 can be a label\n",
        "hf_model = AutoModelForSequenceClassification.from_pretrained(model_checkpoint, num_labels=num_labels)"
      ],
      "metadata": {
        "colab": {
          "base_uri": "https://localhost:8080/",
          "height": 372,
          "referenced_widgets": [
            "c2f1d8a27c5b434597f11181bc312205",
            "e04bb258c25e4f309761fb08b466a86d",
            "4bbcc302a48147638233aa3e0512a8df",
            "57977b5c1bdb48a68b227033162103eb",
            "7f9ee1f789df43ce86b7591e0437c109",
            "eb4c4bba20074734b0c8017aa65d266e",
            "1654defc86e54071b9e6b8504f8f6e67",
            "c3261ab26220494ca0f33c77b30e67c7",
            "e03420b818884b978f6172f0030ede19",
            "86b067a3766c4e58936c26682d19a65c",
            "389576f8d5f04260ace6054986addbe5",
            "0c9f8a1299384f05b41c9838451b55d4",
            "870d4ee788f44b68a192bcec9f046af6",
            "9b4cd34cc32d40ac9fdd0e52a586a3ea",
            "bba620350c924188be8df1ce95d8ccf9",
            "9a431fe307214433962ae16c1cac98af",
            "30a05a6096ef4c3486a0f3597ff275e5",
            "276da034e30c4bd8a7127cb64404360d",
            "714c89453630484dac57deef3c7528b2",
            "2253db2ae5d4492d865b0facd4e7c964",
            "af21216351d34538aa76d47893d2be8a",
            "39acd9ef439f46b28d42d3e6a1414cda",
            "9414cbc483c547e1bde1d408e69fd3ca",
            "b4b0fff28c174d1ab16557e9019a5cff",
            "3cbd536b9b0047dd9481e7ca6f410c8a",
            "e8abdede0d224faf83e30549bef3456e",
            "4d47d490d7424500ac90fa7f8c3cf636",
            "0670f1f53765425199fe3344226a4dcc",
            "8de043ed186b44c4b8095cd69a890ae9",
            "ce870d1661f8488b9cabcb810e3d1004",
            "1ece47022a2740d0a406373f0dbcd2fc",
            "563767e661cd42709974bca2799ea5cb",
            "86f94e8b92a3489cba04c71958ae9ea2",
            "7fca58953369476bae4e2bd856f1d2c2",
            "26e52e1c5b0c4682ae9b66dd32a8430c",
            "29e78797d5a2479a82ba3587f98bd6c6",
            "59df157413544235bf0db1c9ecc25d63",
            "16da9543e1a64641841bf6e9b29803ca",
            "8c1991f644ba4325903135ac2e636f83",
            "4e0af0a7ea7a42dda5e13df9b62b92fe",
            "9f83acc00f3c40c481e4d8430fbf3289",
            "a9651319b74e4e6f84e3215304f18599",
            "6bfc2b089db94b2eaeef3400edbd98a5",
            "ad5c09cdf7944553afa9c72ed23248f4",
            "fe34ecf463054cbaa14a474c16a3c91c",
            "353fc9b5fc844872bbd52fab562f39fd",
            "6053f1b5d93b4954acc76d9b948e384c",
            "2c3e089e969448ce8a423ff56c76edf6",
            "7d0423edea1348f19f631bd1f3a6cc35",
            "94b115e95f27477f850d1c59777ee4d3",
            "10664e0db73749e2867016b8f5b47420",
            "4238315c637a42868fc191edfd20c5c3",
            "49c534e524754d4da14d7e18ef9b5806",
            "64f6b249d72941c5906709868557948a",
            "a4193e70b3c9425c9ac2a95580b1e0da",
            "3c9118190d3b4935b617bb95a6390952",
            "721fe60549a6406aaef62a449928b8b8",
            "d8e4f72c11a44db68ae0d145622a51e4",
            "a45f713a329a411591c31cbdf568b6f0",
            "d153a8fb15da450abfcde04ba340cca8",
            "1b4644a3628a413a9f0c9c0739dd9820",
            "5717e97331184b3dad798cd9c849f61e",
            "48c0461d3f8d419781fcd3a973434a4f",
            "dbcede4d86d242ec8c4a27c2cbc13cf4",
            "9b053a6058f9459d9dba9f1ec4e72b2e",
            "57b4d745cb614f74829e1baced11188d"
          ]
        },
        "id": "pcEKc5BeUqAD",
        "outputId": "07b7dfca-6542-4e4c-c73a-6afa8400a710"
      },
      "execution_count": 3,
      "outputs": [
        {
          "output_type": "stream",
          "name": "stderr",
          "text": [
            "/usr/local/lib/python3.10/dist-packages/huggingface_hub/utils/_token.py:89: UserWarning: \n",
            "The secret `HF_TOKEN` does not exist in your Colab secrets.\n",
            "To authenticate with the Hugging Face Hub, create a token in your settings tab (https://huggingface.co/settings/tokens), set it as secret in your Google Colab and restart your session.\n",
            "You will be able to reuse this secret in all of your notebooks.\n",
            "Please note that authentication is recommended but still optional to access public models or datasets.\n",
            "  warnings.warn(\n"
          ]
        },
        {
          "output_type": "display_data",
          "data": {
            "text/plain": [
              "config.json:   0%|          | 0.00/779 [00:00<?, ?B/s]"
            ],
            "application/vnd.jupyter.widget-view+json": {
              "version_major": 2,
              "version_minor": 0,
              "model_id": "c2f1d8a27c5b434597f11181bc312205"
            }
          },
          "metadata": {}
        },
        {
          "output_type": "display_data",
          "data": {
            "text/plain": [
              "pytorch_model.bin.index.json:   0%|          | 0.00/55.5k [00:00<?, ?B/s]"
            ],
            "application/vnd.jupyter.widget-view+json": {
              "version_major": 2,
              "version_minor": 0,
              "model_id": "0c9f8a1299384f05b41c9838451b55d4"
            }
          },
          "metadata": {}
        },
        {
          "output_type": "display_data",
          "data": {
            "text/plain": [
              "Downloading shards:   0%|          | 0/2 [00:00<?, ?it/s]"
            ],
            "application/vnd.jupyter.widget-view+json": {
              "version_major": 2,
              "version_minor": 0,
              "model_id": "9414cbc483c547e1bde1d408e69fd3ca"
            }
          },
          "metadata": {}
        },
        {
          "output_type": "display_data",
          "data": {
            "text/plain": [
              "pytorch_model-00001-of-00002.bin:   0%|          | 0.00/9.98G [00:00<?, ?B/s]"
            ],
            "application/vnd.jupyter.widget-view+json": {
              "version_major": 2,
              "version_minor": 0,
              "model_id": "7fca58953369476bae4e2bd856f1d2c2"
            }
          },
          "metadata": {}
        },
        {
          "output_type": "display_data",
          "data": {
            "text/plain": [
              "pytorch_model-00002-of-00002.bin:   0%|          | 0.00/1.39G [00:00<?, ?B/s]"
            ],
            "application/vnd.jupyter.widget-view+json": {
              "version_major": 2,
              "version_minor": 0,
              "model_id": "fe34ecf463054cbaa14a474c16a3c91c"
            }
          },
          "metadata": {}
        },
        {
          "output_type": "display_data",
          "data": {
            "text/plain": [
              "Loading checkpoint shards:   0%|          | 0/2 [00:00<?, ?it/s]"
            ],
            "application/vnd.jupyter.widget-view+json": {
              "version_major": 2,
              "version_minor": 0,
              "model_id": "3c9118190d3b4935b617bb95a6390952"
            }
          },
          "metadata": {}
        },
        {
          "output_type": "stream",
          "name": "stderr",
          "text": [
            "Some weights of EsmForSequenceClassification were not initialized from the model checkpoint at facebook/esm2_t36_3B_UR50D and are newly initialized: ['classifier.dense.bias', 'classifier.dense.weight', 'classifier.out_proj.bias', 'classifier.out_proj.weight']\n",
            "You should probably TRAIN this model on a down-stream task to be able to use it for predictions and inference.\n"
          ]
        }
      ]
    },
    {
      "cell_type": "code",
      "source": [
        "hf_model.esm.encoder.layer[0].attention.self.attention_head_size"
      ],
      "metadata": {
        "colab": {
          "base_uri": "https://localhost:8080/"
        },
        "id": "rXP4pBIs6vrw",
        "outputId": "94d3a7de-95f8-41b4-83f1-16b9ec64b138"
      },
      "execution_count": 4,
      "outputs": [
        {
          "output_type": "execute_result",
          "data": {
            "text/plain": [
              "64"
            ]
          },
          "metadata": {},
          "execution_count": 4
        }
      ]
    },
    {
      "cell_type": "code",
      "source": [
        "model_sd = model.state_dict()\n",
        "for k, v in model_sd.items(): break"
      ],
      "metadata": {
        "colab": {
          "base_uri": "https://localhost:8080/",
          "height": 162
        },
        "id": "1ztx2igjpmkm",
        "outputId": "e1fdf982-e50a-4b69-e505-62d4468f29af"
      },
      "execution_count": 5,
      "outputs": [
        {
          "output_type": "error",
          "ename": "NameError",
          "evalue": "name 'model' is not defined",
          "traceback": [
            "\u001b[0;31m---------------------------------------------------------------------------\u001b[0m",
            "\u001b[0;31mNameError\u001b[0m                                 Traceback (most recent call last)",
            "\u001b[0;32m<ipython-input-5-9bd8645ddd93>\u001b[0m in \u001b[0;36m<cell line: 1>\u001b[0;34m()\u001b[0m\n\u001b[0;32m----> 1\u001b[0;31m \u001b[0mmodel_sd\u001b[0m \u001b[0;34m=\u001b[0m \u001b[0mmodel\u001b[0m\u001b[0;34m.\u001b[0m\u001b[0mstate_dict\u001b[0m\u001b[0;34m(\u001b[0m\u001b[0;34m)\u001b[0m\u001b[0;34m\u001b[0m\u001b[0;34m\u001b[0m\u001b[0m\n\u001b[0m\u001b[1;32m      2\u001b[0m \u001b[0;32mfor\u001b[0m \u001b[0mk\u001b[0m\u001b[0;34m,\u001b[0m \u001b[0mv\u001b[0m \u001b[0;32min\u001b[0m \u001b[0mmodel_sd\u001b[0m\u001b[0;34m.\u001b[0m\u001b[0mitems\u001b[0m\u001b[0;34m(\u001b[0m\u001b[0;34m)\u001b[0m\u001b[0;34m:\u001b[0m \u001b[0;32mbreak\u001b[0m\u001b[0;34m\u001b[0m\u001b[0;34m\u001b[0m\u001b[0m\n",
            "\u001b[0;31mNameError\u001b[0m: name 'model' is not defined"
          ]
        }
      ]
    },
    {
      "cell_type": "code",
      "source": [
        "model = ESM.load_pretrained(model_type = 'esm2_t30_150M_UR50D')"
      ],
      "metadata": {
        "id": "aLyH6dMTvdMd"
      },
      "execution_count": null,
      "outputs": []
    },
    {
      "cell_type": "code",
      "source": [
        "config = ESM.get_pretrained_config(\"esm2_t30_150M_UR50D\")\n",
        "model = ESM(config)"
      ],
      "metadata": {
        "id": "TO-Z6kH9yzXx"
      },
      "execution_count": null,
      "outputs": []
    },
    {
      "cell_type": "code",
      "source": [
        "with torch.no_grad():\n",
        "    model.esm.final_layer.bias.zero_()\n",
        "model.esm.final_layer.bias.requires_grad = False"
      ],
      "metadata": {
        "id": "TSXVt4NKAjXY"
      },
      "execution_count": null,
      "outputs": []
    },
    {
      "cell_type": "markdown",
      "source": [
        "# Data Shit"
      ],
      "metadata": {
        "id": "YH9JZxpwoP9l"
      }
    },
    {
      "cell_type": "code",
      "source": [
        "# Load Data\n",
        "import requests\n",
        "\n",
        "query_url =\"https://rest.uniprot.org/uniprotkb/stream?compressed=true&fields=accession%2Csequence%2Ccc_subcellular_location&format=tsv&query=%28%28organism_id%3A9606%29%20AND%20%28reviewed%3Atrue%29%20AND%20%28length%3A%5B80%20TO%20500%5D%29%29\"\n",
        "uniprot_request = requests.get(query_url)\n",
        "\n",
        "from io import BytesIO\n",
        "import pandas\n",
        "\n",
        "bio = BytesIO(uniprot_request.content)\n",
        "\n",
        "df = pandas.read_csv(bio, compression='gzip', sep='\\t')\n",
        "df.head()\n",
        "\n",
        "df = df.dropna()\n",
        "cytosolic = df['Subcellular location [CC]'].str.contains(\"Cytosol\") | df['Subcellular location [CC]'].str.contains(\"Cytoplasm\")\n",
        "membrane = df['Subcellular location [CC]'].str.contains(\"Membrane\") | df['Subcellular location [CC]'].str.contains(\"Cell membrane\")\n",
        "cytosolic_df = df[cytosolic & ~membrane]\n",
        "cytosolic_df.head()\n",
        "\n",
        "membrane_df = df[membrane & ~cytosolic]\n",
        "membrane_df.head()\n",
        "\n",
        "cytosolic_sequences = cytosolic_df[\"Sequence\"].tolist()\n",
        "cytosolic_labels = [0 for protein in cytosolic_sequences]\n",
        "membrane_sequences = membrane_df[\"Sequence\"].tolist()\n",
        "membrane_labels = [1 for protein in membrane_sequences]\n",
        "sequences = cytosolic_sequences + membrane_sequences\n",
        "labels = cytosolic_labels + membrane_labels\n",
        "\n",
        "# Quick check to make sure we got it right\n",
        "assert len(sequences) == len(labels)"
      ],
      "metadata": {
        "id": "Mytsmh9dmrjB"
      },
      "execution_count": 4,
      "outputs": []
    },
    {
      "cell_type": "code",
      "source": [
        "model_checkpoint = 'facebook/esm2_t30_150M_UR50D'\n",
        "from sklearn.model_selection import train_test_split\n",
        "\n",
        "train_sequences, test_sequences, train_labels, test_labels = train_test_split(sequences, labels, test_size=0.25, shuffle=True)\n",
        "from transformers import AutoTokenizer\n",
        "esm_tokenizer = AutoTokenizer.from_pretrained(model_checkpoint, padding = 'max_length', max_length = 1026)"
      ],
      "metadata": {
        "colab": {
          "base_uri": "https://localhost:8080/"
        },
        "id": "u6FhU60enwco",
        "outputId": "97259d07-c30f-4d61-b427-32bbeb2810c9"
      },
      "execution_count": 5,
      "outputs": [
        {
          "output_type": "stream",
          "name": "stderr",
          "text": [
            "/usr/local/lib/python3.10/dist-packages/transformers/tokenization_utils_base.py:1601: FutureWarning: `clean_up_tokenization_spaces` was not set. It will be set to `True` by default. This behavior will be depracted in transformers v4.45, and will be then set to `False` by default. For more details check this issue: https://github.com/huggingface/transformers/issues/31884\n",
            "  warnings.warn(\n"
          ]
        }
      ]
    },
    {
      "cell_type": "code",
      "source": [
        "train_sequences = train_sequences[:10]"
      ],
      "metadata": {
        "id": "KTCk8I-O4NEB"
      },
      "execution_count": 6,
      "outputs": []
    },
    {
      "cell_type": "code",
      "source": [
        "# tokenizer(train_sequences[0])\n",
        "\n",
        "from datasets import Dataset\n",
        "\n",
        "train_tokenized = esm_tokenizer(train_sequences)\n",
        "test_tokenized = esm_tokenizer(test_sequences)\n",
        "\n",
        "padded_train_tokenized = esm_tokenizer.pad(train_tokenized, padding = 'max_length', max_length = 1026)\n",
        "padded_test_tokenized = esm_tokenizer.pad(test_tokenized, padding = 'max_length', max_length = 1026)\n",
        "\n",
        "padded_train_dataset = Dataset.from_dict(padded_train_tokenized)\n",
        "padded_train_dataset = padded_train_dataset.add_column(\"labels\", train_labels[:10])\n",
        "\n",
        "padded_test_dataset = Dataset.from_dict(padded_test_tokenized)\n",
        "padded_test_dataset = padded_test_dataset.add_column(\"labels\", test_labels)\n",
        "print(len(padded_train_dataset[0]['input_ids']), len(padded_train_dataset[1]['input_ids']), len(padded_test_dataset[0]['input_ids']), len(padded_test_dataset[1]['input_ids']))"
      ],
      "metadata": {
        "colab": {
          "base_uri": "https://localhost:8080/"
        },
        "id": "S0W8V1PGU-mH",
        "outputId": "c0276bc8-94fe-4a2d-c533-52c403814ea3"
      },
      "execution_count": 7,
      "outputs": [
        {
          "output_type": "stream",
          "name": "stdout",
          "text": [
            "1026 1026 1026 1026\n"
          ]
        }
      ]
    },
    {
      "cell_type": "code",
      "source": [
        "from transformers import AutoModelForSequenceClassification, TrainingArguments, Trainer\n",
        "\n",
        "num_labels = max(train_labels + test_labels) + 1  # Add 1 since 0 can be a label\n",
        "hf_model = AutoModelForSequenceClassification.from_pretrained(model_checkpoint, num_labels=num_labels)\n",
        "\n",
        "model_name = model_checkpoint.split(\"/\")[-1]\n",
        "batch_size = 8\n",
        "\n",
        "args = TrainingArguments(\n",
        "    f\"{model_name}-finetuned-localization\",\n",
        "    evaluation_strategy = \"epoch\",\n",
        "    save_strategy = \"epoch\",\n",
        "    learning_rate=2e-5,\n",
        "    per_device_train_batch_size=batch_size,\n",
        "    per_device_eval_batch_size=batch_size,\n",
        "    num_train_epochs=3,\n",
        "    weight_decay=0.01,\n",
        "    load_best_model_at_end=True,\n",
        "    metric_for_best_model=\"accuracy\",\n",
        "    push_to_hub=True,\n",
        ")\n",
        "\n",
        "from evaluate import load\n",
        "import numpy as np\n",
        "\n",
        "metric = load(\"accuracy\")\n",
        "\n",
        "def compute_metrics(eval_pred):\n",
        "    predictions, labels = eval_pred\n",
        "    predictions = np.argmax(predictions, axis=1)\n",
        "    return metric.compute(predictions=predictions, references=labels)\n",
        "\n",
        "from torch.utils.data import DataLoader\n",
        "class MyTrainer(Trainer):\n",
        "\n",
        "    def get_train_dataloader(self, batch_size = 2):\n",
        "        if self.train_dataset is None:\n",
        "            raise ValueError(\"Trainer: training requires a train_dataset.\")\n",
        "        train_sampler = self._get_train_sampler()\n",
        "\n",
        "        return DataLoader(\n",
        "            self.train_dataset,\n",
        "            batch_size=batch_size,\n",
        "            sampler=train_sampler,\n",
        "            collate_fn=self.data_collator,\n",
        "            drop_last=self.args.dataloader_drop_last,\n",
        "        )\n",
        "\n",
        "trainer = MyTrainer(\n",
        "    hf_model,\n",
        "    args,\n",
        "    train_dataset = padded_train_dataset,\n",
        "    eval_dataset = padded_test_dataset,\n",
        "    tokenizer = esm_tokenizer,\n",
        "    compute_metrics=compute_metrics,\n",
        ")\n",
        "\n",
        "train_dl = trainer.get_train_dataloader(2)\n",
        "batch = next(iter(train_dl))"
      ],
      "metadata": {
        "colab": {
          "base_uri": "https://localhost:8080/",
          "height": 0,
          "referenced_widgets": [
            "74bde2573c86457eb117f775fb10e714",
            "f9907018085442e0a0b0591e1c026b23",
            "d9bf68087d574e969f3d139d41b6f008",
            "23b3ae1fadda4e68926eed7aa5680d19",
            "95e827ec796545dc91fd6e7350c758ee",
            "4632b43b9fe7494fbc970c7510d511eb",
            "8e2129c3a13647b6bc6aaa5dce864153",
            "259cf2779a514a6781d3ad0af8969899",
            "575d1999d95942908de33e9adf5f21cf",
            "18be7f45c41e4a56a0a0f8f925904f76",
            "c361abf0f2f9467e97c82f2fc46cf22f"
          ]
        },
        "id": "ecPZBwkiqocr",
        "outputId": "8cdf2e4a-377d-4578-ae86-44ff25e8b7e2"
      },
      "execution_count": 8,
      "outputs": [
        {
          "output_type": "stream",
          "name": "stderr",
          "text": [
            "Some weights of EsmForSequenceClassification were not initialized from the model checkpoint at facebook/esm2_t30_150M_UR50D and are newly initialized: ['classifier.dense.bias', 'classifier.dense.weight', 'classifier.out_proj.bias', 'classifier.out_proj.weight']\n",
            "You should probably TRAIN this model on a down-stream task to be able to use it for predictions and inference.\n",
            "/usr/local/lib/python3.10/dist-packages/transformers/training_args.py:1525: FutureWarning: `evaluation_strategy` is deprecated and will be removed in version 4.46 of 🤗 Transformers. Use `eval_strategy` instead\n",
            "  warnings.warn(\n"
          ]
        },
        {
          "output_type": "display_data",
          "data": {
            "text/plain": [
              "Downloading builder script:   0%|          | 0.00/4.20k [00:00<?, ?B/s]"
            ],
            "application/vnd.jupyter.widget-view+json": {
              "version_major": 2,
              "version_minor": 0,
              "model_id": "74bde2573c86457eb117f775fb10e714"
            }
          },
          "metadata": {}
        }
      ]
    },
    {
      "cell_type": "markdown",
      "source": [
        "# Playground - 2"
      ],
      "metadata": {
        "id": "N66aKBO9mC41"
      }
    },
    {
      "cell_type": "code",
      "source": [
        "import math\n",
        "import torch\n",
        "\n",
        "from torch import nn\n",
        "from torch.nn import functional as F\n",
        "from dataclasses import dataclass\n",
        "from einops import rearrange, repeat\n",
        "from transformers import AutoTokenizer\n",
        "\n",
        "PFGPT_VOCAB_SIZE = 384\n",
        "PFGPT_HF_MODEL_PATH = 'lamm-mit/ProteinForceGPT'\n",
        "\n",
        "@dataclass\n",
        "class LoRAConfig:\n",
        "    lora_r: int = 8\n",
        "    lora_alpha: int = 16\n",
        "    lora_dropout: int = 0.05\n",
        "    lora_query: bool = True\n",
        "    lora_key: bool = False\n",
        "    lora_value: bool = True\n",
        "    lora_projection: bool = False\n",
        "    lora_mlp: bool = False\n",
        "    lora_head: bool = False\n",
        "\n",
        "class LoRALinear(nn.Linear):\n",
        "    def __init__(self, nin, nout, lora_config):\n",
        "        super().__init__(nin, nout)\n",
        "        std_dev = 1 / torch.sqrt(torch.tensor(lora_config.lora_r).float())\n",
        "        self.lora_A = torch.nn.Parameter(torch.randn(nin, lora_config.lora_r) * std_dev)\n",
        "        self.lora_B = torch.nn.Parameter(torch.zeros(lora_config.lora_r, nout))\n",
        "        self.alpha = lora_config.lora_alpha\n",
        "\n",
        "    def forward(self, x):\n",
        "        lora_x = self.alpha * (x @ self.lora_A @ self.lora_B)\n",
        "        x = super().forward(x)\n",
        "        return x + lora_x\n",
        "\n",
        "def get_tokenizer():\n",
        "    tokenizer = AutoTokenizer.from_pretrained(PFGPT_HF_MODEL_PATH, trust_remote_code=True)\n",
        "    tokenizer.pad_token = tokenizer.eos_token\n",
        "    return tokenizer\n",
        "\n",
        "def rotate_half(x):\n",
        "    x1, x2 = x.chunk(2, dim=-1)\n",
        "    return torch.cat((-x2, x1), dim=-1)\n",
        "\n",
        "def apply_rotary_pos_emb(x, cos, sin):\n",
        "    cos = cos[:, :, : x.shape[-2], :]\n",
        "    sin = sin[:, :, : x.shape[-2], :]\n",
        "\n",
        "    return (x * cos) + (rotate_half(x) * sin)\n",
        "\n",
        "class RotaryEmbedding(torch.nn.Module):\n",
        "    \"\"\"\n",
        "    Rotary position embeddings based on those in\n",
        "    [RoFormer](https://huggingface.co/docs/transformers/model_doc/roformer). Query and keys are transformed by rotation\n",
        "    matrices which depend on their relative positions.\n",
        "    \"\"\"\n",
        "\n",
        "    def __init__(self, dim: int):\n",
        "        super().__init__()\n",
        "        # Generate and save the inverse frequency buffer (non trainable)\n",
        "        inv_freq = 1.0 / (10000 ** (torch.arange(0, dim, 2, dtype=torch.int64).float() / dim))\n",
        "        inv_freq = inv_freq\n",
        "        self.register_buffer(\"inv_freq\", inv_freq)\n",
        "\n",
        "        self._seq_len_cached = None\n",
        "        self._cos_cached = None\n",
        "        self._sin_cached = None\n",
        "\n",
        "    def _update_cos_sin_tables(self, x, seq_dimension=2):\n",
        "        seq_len = x.shape[seq_dimension]\n",
        "\n",
        "        # Reset the tables if the sequence length has changed,\n",
        "        # or if we're on a new device (possibly due to tracing for instance)\n",
        "        if seq_len != self._seq_len_cached or self._cos_cached.device != x.device:\n",
        "            self._seq_len_cached = seq_len\n",
        "            t = torch.arange(x.shape[seq_dimension], device=x.device).type_as(self.inv_freq)\n",
        "            freqs = torch.outer(t, self.inv_freq)\n",
        "            emb = torch.cat((freqs, freqs), dim=-1).to(x.device)\n",
        "\n",
        "            self._cos_cached = emb.cos()[None, None, :, :]\n",
        "            self._sin_cached = emb.sin()[None, None, :, :]\n",
        "\n",
        "        return self._cos_cached, self._sin_cached\n",
        "\n",
        "    def forward(self, q: torch.Tensor, k: torch.Tensor) -> tuple[torch.Tensor, torch.Tensor]:\n",
        "        self._cos_cached, self._sin_cached = self._update_cos_sin_tables(k, seq_dimension=-2)\n",
        "\n",
        "        return (\n",
        "            apply_rotary_pos_emb(q, self._cos_cached, self._sin_cached),\n",
        "            apply_rotary_pos_emb(k, self._cos_cached, self._sin_cached)\n",
        "        )\n",
        "\n",
        "class ESMEmbeddings(nn.Module):\n",
        "\n",
        "    def __init__(self, config):\n",
        "        super().__init__()\n",
        "        self.config = config\n",
        "        self.word_embeddings = nn.Embedding(config.vocab_size, config.n_embd)\n",
        "        self.position_embeddings = nn.Embedding(config.block_size, config.n_embd)\n",
        "\n",
        "    def post_model_init(self):\n",
        "        # Merge both the tokenizer vocabs - Battle of Tokenizers\n",
        "        # That is create a new word embedding of pf_gpts vocab size and configs n_embd\n",
        "        # Get pf GPT Tokenizer\n",
        "        pfgpt_tokenizer = AutoTokenizer.from_pretrained(PFGPT_HF_MODEL_PATH, trust_remote_code=True)\n",
        "        pfgpt_tokenizer.pad_token = pfgpt_tokenizer.eos_token\n",
        "        pfgpt_vocab = pfgpt_tokenizer.get_vocab()\n",
        "\n",
        "        # Get ESM Tokenizer\n",
        "        esm_tokenizer = AutoTokenizer.from_pretrained(self.config.pre_trained_model_name, padding='max_length', max_length=1026)\n",
        "        esm_vocab = esm_tokenizer.get_vocab()\n",
        "        new_word_embeddings = nn.Embedding(PFGPT_VOCAB_SIZE, self.config.n_embd)\n",
        "        torch.nn.init.normal_(new_word_embeddings.weight, std = 0.1263)\n",
        "\n",
        "        # Find all the common keys tokens between esm tokenizer and pf_gpt tokenizer\n",
        "        pfgpt_keys = set(pfgpt_vocab.keys())\n",
        "        esm_keys = set(esm_vocab.keys())\n",
        "        common_keys = list(pfgpt_keys.intersection(esm_keys))\n",
        "\n",
        "        # now, copy a particular tokens embedding from ems_embedding to the new embedding that we create here\n",
        "        with torch.no_grad():\n",
        "            indices = []\n",
        "            for key in common_keys:\n",
        "                esm_embd_index = esm_tokenizer.convert_tokens_to_ids(key)\n",
        "                pfg_embd_index = pfgpt_tokenizer.convert_tokens_to_ids(key)\n",
        "                indices.append(pfg_embd_index)\n",
        "                new_word_embeddings.weight[pfg_embd_index] = self.word_embeddings.weight[esm_embd_index]\n",
        "\n",
        "            # Check for embedding equivalance\n",
        "            assert torch.equal(new_word_embeddings.weight[pfgpt_tokenizer.convert_tokens_to_ids(common_keys)],\n",
        "                               self.word_embeddings.weight[esm_tokenizer.convert_tokens_to_ids(common_keys)])\n",
        "\n",
        "        # Create a mask for all the indecis we have copied pretrained embeddings\n",
        "        # and turn requires_grad off to those embeddings that we have copied - This is\n",
        "        # not possible, so instead we store the indecis and zero out the grads before optim.step()\n",
        "        # hence we do not update these embeddings\n",
        "        self.indices = indices\n",
        "\n",
        "        with torch.no_grad():\n",
        "            self.word_embeddings = new_word_embeddings\n",
        "        self.word_embeddings.requires_grad_(True)\n",
        "\n",
        "    def forward(self, x, attention_mask = None):\n",
        "        token_embs = self.word_embeddings(x)\n",
        "        # Not required as we are use rotary embeddings - Hence we do not require absolute position embeddings\n",
        "        # position_embs = self.esm.embeddings.position_embeddings(torch.arange(0, x.shape[1], 1, dtype = torch.long))\n",
        "        if attention_mask is not None:\n",
        "            token_embs = (token_embs * attention_mask.unsqueeze(-1)).to(token_embs.dtype)\n",
        "        return token_embs\n",
        "\n",
        "@dataclass\n",
        "class ESMConfig():\n",
        "    block_size: int = 1024\n",
        "    vocab_size: int = 50257\n",
        "    n_layer: int = 12\n",
        "    n_head: int = 12\n",
        "    n_embd: int = 768\n",
        "    hidden_size: int = 4096 # 4 * block_size\n",
        "    dropout: float = 0.0\n",
        "    pre_trained_model_name: str = ''\n",
        "\n",
        "class ESMIntermediateLayer(nn.Module):\n",
        "    def __init__(self, nin, nout, lora_config, dropout = 0.0, ):\n",
        "        super().__init__()\n",
        "\n",
        "        self.dense = nn.Linear(nin, nout) if not lora_config.lora_mlp else LoRALinear(nin, nout, lora_config)\n",
        "        self.act = nn.GELU(approximate = 'tanh')\n",
        "\n",
        "    def forward(self, x):\n",
        "        return self.act(self.dense(x))\n",
        "\n",
        "class ESMOutLayer(nn.Module):\n",
        "    def __init__(self, nin, nout, lora_config, dropout = 0.0, inside_attention = False):\n",
        "        super().__init__()\n",
        "\n",
        "        # 2 places used - 1. inisde the attention block  and inside the MLP\n",
        "        # if used inside attention and lora_config.lora_projection is true then dense is a LoRALInear\n",
        "        # elif used in mlp and lora_config.lora_mlp is true then dens is a LoRALinear again\n",
        "        # else its a Linear\n",
        "\n",
        "        if inside_attention == True and lora_config.lora_projection:\n",
        "            self.dense = LoRALinear(nin, nout, lora_config)\n",
        "        elif inside_attention == False and lora_config.lora_mlp:\n",
        "            self.dense = LoRALinear(nin, nout, lora_config)\n",
        "        else:\n",
        "            self.dense = nn.Linear(nin, nout)\n",
        "\n",
        "        self.dropout = nn.Dropout(dropout)\n",
        "\n",
        "    def forward(self, x, attn_scores):\n",
        "        x = self.dense(x)\n",
        "        x = self.dropout(x)\n",
        "        x = x + attn_scores\n",
        "        return x\n",
        "\n",
        "class ESMSelfAttn(nn.Module): # Verified\n",
        "\n",
        "    def __init__(self, config, lora_config):\n",
        "        super().__init__()\n",
        "\n",
        "        assert config.n_embd % config.n_head == 0\n",
        "\n",
        "        self.query = nn.Linear(config.n_embd, config.n_embd) if not lora_config.lora_query else LoRALinear(config.n_embd, config.n_embd, lora_config)\n",
        "        self.key = nn.Linear(config.n_embd, config.n_embd) if not lora_config.lora_key else LoRALinear(config.n_embd, config.n_embd, lora_config)\n",
        "        self.value = nn.Linear(config.n_embd, config.n_embd) if not lora_config.lora_value else LoRALinear(config.n_embd, config.n_embd, lora_config)\n",
        "        self.n_head = config.n_head\n",
        "\n",
        "        attention_head_size = config.n_embd//config.n_head\n",
        "\n",
        "        # Add a rotary embeddings here\n",
        "        self.rotary_embeddings = RotaryEmbedding(dim = attention_head_size)\n",
        "\n",
        "    def forward(self, x, attention_mask):\n",
        "\n",
        "        # x -> (b, s, e) -> (b s, h, e/h)\n",
        "        k, q, v = self.key(x), self.query(x), self.value(x)\n",
        "\n",
        "        k = rearrange(k, 'b s (h e) -> b h s e', h = self.n_head)\n",
        "        q = rearrange(q, 'b s (h e) -> b h s e', h = self.n_head)\n",
        "        v = rearrange(v, 'b s (h e) -> b h s e', h = self.n_head)\n",
        "\n",
        "        # Add rotary embeddings here for k and q tensors\n",
        "        q, k = self.rotary_embeddings(q, k)\n",
        "\n",
        "        # Attention claculation - # TODO: make is_casual true in case of finetuning - Very important\n",
        "        y = F.scaled_dot_product_attention(q, k, v, attn_mask = attention_mask, is_causal = False) # flash attention\n",
        "        y = rearrange(y, 'b h s e -> b s (h e)', h = self.n_head)\n",
        "        return y\n",
        "\n",
        "class ESMAttn(nn.Module): # Verified\n",
        "\n",
        "    def __init__(self, config, lora_config):\n",
        "        super().__init__() # No activation function at this level\n",
        "        self.self = ESMSelfAttn(config, lora_config)\n",
        "        self.output = ESMOutLayer(config.n_embd, config.n_embd, lora_config, dropout = getattr(config, 'dropout', 0.), inside_attention = True)\n",
        "        self.LayerNorm = nn.LayerNorm(config.n_embd)\n",
        "\n",
        "    def forward(self, x, attention_mask):\n",
        "        inter_x = self.LayerNorm(x)\n",
        "        attn = self.self(inter_x, attention_mask)\n",
        "        out = self.output(attn, x)\n",
        "        return out\n",
        "\n",
        "class ESMLayers(nn.Module): # Both Init and Forward Verified - Done and Dusted\n",
        "\n",
        "    def __init__(self, config, lora_config):\n",
        "        super().__init__()\n",
        "        self.attention = ESMAttn(config, lora_config)\n",
        "        self.intermediate = ESMIntermediateLayer(config.n_embd, config.hidden_size, lora_config) #\n",
        "        self.output = ESMOutLayer(config.hidden_size, config.n_embd, lora_config) #\n",
        "        self.LayerNorm = nn.LayerNorm(config.n_embd)\n",
        "\n",
        "    def forward(self, x, attention_mask):\n",
        "        attention_op = self.attention(x, attention_mask)\n",
        "        attention_op_ln = self.LayerNorm(attention_op) # This will keep the activations in check - Lets see\n",
        "        inter = self.intermediate(attention_op_ln)\n",
        "        out = self.output(inter, attention_op)\n",
        "        return out\n",
        "\n",
        "class ESMEncoder(nn.Module):\n",
        "\n",
        "    def __init__(self, config, lora_config):\n",
        "        super().__init__()\n",
        "\n",
        "        # No activation functions here as well\n",
        "\n",
        "        self.layer = nn.ModuleList([ESMLayers(config, lora_config) for _ in range(config.n_layer)])\n",
        "        self.emb_layer_norm_after = nn.LayerNorm(config.n_embd)\n",
        "\n",
        "    def forward(self, x, attention_mask = None):\n",
        "\n",
        "        for layer in self.layer:\n",
        "            x = layer(x, attention_mask)\n",
        "\n",
        "        return self.emb_layer_norm_after(x)\n",
        "\n",
        "class ESM(nn.Module):\n",
        "\n",
        "    def __init__(self, config, lora_config):\n",
        "\n",
        "        super().__init__()\n",
        "        self.config = config\n",
        "        self.esm = nn.ModuleDict(dict(\n",
        "            embeddings = ESMEmbeddings(config),\n",
        "            encoder = ESMEncoder(config, lora_config), # Done, forward - here\n",
        "            final_layer = nn.Linear(config.n_embd, config.vocab_size) if not lora_config.lora_head else\n",
        "                              LoRALinear(config.n_embd, config.vocab_size, lora_config)\n",
        "        ))\n",
        "        self.esm.final_layer.weight = self.esm.embeddings.word_embeddings.weight\n",
        "\n",
        "        # Final Layer bias initializtion\n",
        "        torch.nn.init.zeros_(self.esm.final_layer.bias) # Set the bias to 0\n",
        "        # Finally one small thing is to decide weather to add an intermediate layer or not? - Thats a future discussion\n",
        "\n",
        "    @classmethod\n",
        "    def get_pretrained_config(cls, model_type = 'esm2_t33_650M_UR50D'):\n",
        "\n",
        "        '''\n",
        "        name                n_layers    n_params\n",
        "        esm2_t48_15B_UR50D\t48\t        15B\n",
        "        esm2_t36_3B_UR50D\t36\t        3B\n",
        "        esm2_t33_650M_UR50D\t33\t        650M\n",
        "        esm2_t30_150M_UR50D\t30\t        150M\n",
        "        esm2_t12_35M_UR50D\t12\t        35M\n",
        "        esm2_t6_8M_UR50D\n",
        "        '''\n",
        "\n",
        "        assert model_type in {'esm2_t36_3B_UR50D', 'esm2_t33_650M_UR50D', 'esm2_t30_150M_UR50D'}\n",
        "\n",
        "        config_args = {\n",
        "            'esm2_t36_3B_UR50D': dict(n_layer=36, n_head = 40, n_embd=2560, hidden_size=10240), # 3B params\n",
        "            'esm2_t33_650M_UR50D': dict(n_layer=33, n_head = 20, n_embd=1280, hidden_size=5120), # 650M params\n",
        "            'esm2_t30_150M_UR50D': dict(n_layer=30, n_head = 20, n_embd=640, hidden_size=2560), # 150M params\n",
        "        }[model_type]\n",
        "\n",
        "        config_args['vocab_size'] = 33 # always 33 for ESM Models\n",
        "        config_args['block_size'] = 1026 # Always constant for ESM Models\n",
        "        config_args['pre_trained_model_name'] = f\"facebook/{model_type}\"\n",
        "\n",
        "        config = ESMConfig(**config_args)\n",
        "        return config\n",
        "\n",
        "    @classmethod\n",
        "    def from_pretrained(cls, lora_config, model_type = 'esm2_t33_650M_UR50D', embedding_post_init = True):\n",
        "\n",
        "        config = cls.get_pretrained_config(model_type)\n",
        "        print(\"loading weights from pretrained gpt: %s\" % model_type)\n",
        "\n",
        "        # create a from-scratch initialized minGPT model\n",
        "        model = cls(config, lora_config)\n",
        "        sd = model.state_dict()\n",
        "        sd_keys = sd.keys()\n",
        "        sd_keys = [k for k in sd_keys if not k.endswith('.attn.bias')] # discard this mask / buffer, not a param\n",
        "\n",
        "        # init a huggingface/transformers model\n",
        "        from transformers import AutoModelForSequenceClassification\n",
        "        num_labels = 33\n",
        "        model_hf = AutoModelForSequenceClassification.from_pretrained(config.pre_trained_model_name, num_labels = num_labels)\n",
        "        sd_hf = model_hf.state_dict()\n",
        "\n",
        "        # copy while ensuring all of the parameters are aligned and match in names and shapes\n",
        "        sd_keys_hf = sd_hf.keys()\n",
        "        sd_keys_hf = [k for k in sd_keys_hf if not k.endswith('.attn.masked_bias')] # ignore these, just a buffer\n",
        "        sd_keys_hf = [k for k in sd_keys_hf if not k.endswith('.attn.bias')] # same, just the mask (buffer)\n",
        "        sd_keys_hf = [k for k in sd_keys_hf if 'inv_freq' not in k]\n",
        "        sd_keys_hf = [k for k in sd_keys_hf if 'classifier' not in k]\n",
        "\n",
        "        ignore_keys = ['esm.contact_head.regression.weight', 'esm.contact_head.regression.bias']\n",
        "        for k in sd_keys_hf:\n",
        "\n",
        "            if k in ignore_keys: continue\n",
        "\n",
        "            # vanilla copy over the other parameters\n",
        "            try: assert sd_hf[k].shape == sd[k].shape\n",
        "            except Exception as e:\n",
        "              print(k)\n",
        "              print(f\"Mismatch in the shape of tensor while loading weights - Key: {k}, expected shape: {sd_hf[k].shape}, actual shape: {sd[k].shape if k in sd else k}\")\n",
        "\n",
        "            with torch.no_grad():\n",
        "                sd[k].copy_(sd_hf[k])\n",
        "\n",
        "        # Set the final layers bias as 0 so that it does not affect weight tying scheme\n",
        "        with torch.no_grad():\n",
        "            model.esm.final_layer.bias.zero_()\n",
        "\n",
        "        # Freeze the model\n",
        "        for name, param in model.named_parameters():\n",
        "            if 'lora_' not in name:\n",
        "                param.requires_grad = False\n",
        "\n",
        "        if embedding_post_init:\n",
        "            model.esm.embeddings.post_model_init()\n",
        "            del model.esm.final_layer\n",
        "\n",
        "            #IMP: Here we are assuming that embeddings will never have LoRA attached to it, hence we are going with Linear\n",
        "            model.esm.final_layer = nn.Linear(config.n_embd, model.esm.embeddings.word_embeddings.weight.shape[0])\n",
        "\n",
        "            model.esm.final_layer.weight = model.esm.embeddings.word_embeddings.weight\n",
        "\n",
        "        return model\n",
        "\n",
        "    def get_extended_attn_mask(self, attention_mask, input_shape):\n",
        "\n",
        "        if attention_mask == None: return None\n",
        "        b, s = attention_mask.shape\n",
        "        # Make the attention mask braodcastable for [batch_size, n_heads, seq_len, seq_len]\n",
        "        attention_mask = attention_mask[:, None, None, :]\n",
        "\n",
        "        # Now make sure that it has negetive infinity for all the padded tokens and\n",
        "        # 0 for all attention tokens as we add this mask to attention scores\n",
        "        attn_mask = attention_mask.to(torch.float32)\n",
        "        attn_mask = (1 - attn_mask) * (torch.finfo(torch.float32).min)\n",
        "        attn_mask = attn_mask.expand(b, 1, s, s)\n",
        "        return attn_mask\n",
        "\n",
        "    def forward(self, x, y = None, attention_mask = None, output_encoder_states = True):\n",
        "\n",
        "        # Calculate Embeddings\n",
        "        x = self.esm.embeddings(x, attention_mask) # TODO: Verify the new embeddings function without doing post init and after doing post model init - Ideally both should stay the same\n",
        "\n",
        "        # compute attention_mask for attention scores\n",
        "        extended_attention_mask = self.get_extended_attn_mask(attention_mask, x.shape)\n",
        "\n",
        "        #Do the forward pass\n",
        "        x = self.esm.encoder(x, attention_mask = extended_attention_mask)\n",
        "        logits = self.esm.final_layer(x)\n",
        "        output = {'logits': logits}\n",
        "\n",
        "        if output_encoder_states:\n",
        "            output['encoder_output'] = x\n",
        "        if y is not None:\n",
        "            # Calculate loss and send it in output\n",
        "            outputs = logits.view(-1, logits.size(-1))  # (bs*seq_len, 384)\n",
        "            targets = y.view(-1)  # (bs*seq_len)\n",
        "\n",
        "            # Flatten the attention mask\n",
        "            attention_mask = attention_mask.view(-1)  # (bs*seq_len)\n",
        "\n",
        "            # Calculate cross entropy loss\n",
        "            loss = F.cross_entropy(outputs, targets, reduction='none')\n",
        "\n",
        "            # Apply the mask to the loss\n",
        "            masked_loss = loss * attention_mask\n",
        "\n",
        "            # Calculate the mean loss over the actual tokens (excluding padding)\n",
        "            total_loss = masked_loss.sum()\n",
        "            num_tokens = attention_mask.sum()\n",
        "\n",
        "            actual_loss = total_loss / num_tokens\n",
        "            output['loss'] = actual_loss\n",
        "\n",
        "        return output"
      ],
      "metadata": {
        "id": "9gU8IVUjmDfd"
      },
      "execution_count": 2,
      "outputs": []
    },
    {
      "cell_type": "markdown",
      "source": [
        "# Verification of the model equivalence - Done\n",
        "\n",
        "The encoder outputs are verified                                                    "
      ],
      "metadata": {
        "id": "f5IA6CH4eCAa"
      }
    },
    {
      "cell_type": "code",
      "source": [
        "device = torch.device('cuda' if torch.cuda.is_available() else 'cpu')"
      ],
      "metadata": {
        "id": "xgjQkM5qcHUT"
      },
      "execution_count": 8,
      "outputs": []
    },
    {
      "cell_type": "code",
      "source": [
        "from transformers import AutoModelForSequenceClassification, TrainingArguments, Trainer\n",
        "hf_model = AutoModelForSequenceClassification.from_pretrained(model_checkpoint, num_labels=num_labels).to(device)"
      ],
      "metadata": {
        "colab": {
          "base_uri": "https://localhost:8080/"
        },
        "id": "z6VqCxI6xslX",
        "outputId": "56bc50a4-7e41-444f-c72d-75bf81bbeb7a"
      },
      "execution_count": 9,
      "outputs": [
        {
          "output_type": "stream",
          "name": "stderr",
          "text": [
            "Some weights of EsmForSequenceClassification were not initialized from the model checkpoint at facebook/esm2_t30_150M_UR50D and are newly initialized: ['classifier.dense.bias', 'classifier.dense.weight', 'classifier.out_proj.bias', 'classifier.out_proj.weight']\n",
            "You should probably TRAIN this model on a down-stream task to be able to use it for predictions and inference.\n"
          ]
        }
      ]
    },
    {
      "cell_type": "code",
      "source": [
        "# hf_model.esm.encoder.layer = nn.ModuleList([hf_model.esm.encoder.layer[0]])\n",
        "# model.esm.encoder.layer = nn.ModuleList([model.esm.encoder.layer[0]])"
      ],
      "metadata": {
        "id": "p1bnKieHYmRt"
      },
      "execution_count": 105,
      "outputs": []
    },
    {
      "cell_type": "code",
      "source": [
        "sequences = train_sequences[:2]\n",
        "hf_batch = esm_tokenizer(sequences)\n",
        "hf_batch = esm_tokenizer.pad(hf_batch, padding = 'max_length', max_length = 1026)\n",
        "hf_batch['input_ids'] = torch.tensor(hf_batch['input_ids'], dtype = torch.long)\n",
        "hf_batch['attention_mask'] = torch.tensor(hf_batch['attention_mask'], dtype = torch.int)"
      ],
      "metadata": {
        "id": "R_FIcPXi6AD8"
      },
      "execution_count": 53,
      "outputs": []
    },
    {
      "cell_type": "code",
      "source": [
        "# Get the batch for my model\n",
        "tokenizer = get_tokenizer()\n",
        "batch = tokenizer(sequences)\n",
        "batch = tokenizer.pad(batch, padding = 'max_length', max_length = 1026)\n",
        "batch['input_ids'] = torch.tensor(batch['input_ids'], dtype = torch.long)\n",
        "batch['attention_mask'] = torch.tensor(batch['attention_mask'], dtype = torch.int)"
      ],
      "metadata": {
        "id": "31B_vRqW6k6d"
      },
      "execution_count": 54,
      "outputs": []
    },
    {
      "cell_type": "code",
      "source": [
        "hf_model = hf_model.to(device)\n",
        "hf_model = hf_model.eval()\n",
        "hf_model.esm.embeddings.token_dropout = False"
      ],
      "metadata": {
        "id": "EdcfJyRTcUMs"
      },
      "execution_count": 55,
      "outputs": []
    },
    {
      "cell_type": "code",
      "source": [
        "# remove <cls> token at the front\n",
        "hf_batch['input_ids'] = hf_batch['input_ids'][:, 1:]\n",
        "hf_batch['attention_mask'] = hf_batch['attention_mask'][:, 1:]\n",
        "batch['input_ids'] = batch['input_ids'][:, :-1]\n",
        "batch['attention_mask'] = batch['attention_mask'][:, :-1]"
      ],
      "metadata": {
        "id": "-wSc3AAt91wv"
      },
      "execution_count": 56,
      "outputs": []
    },
    {
      "cell_type": "code",
      "source": [
        "hf_batch['input_ids'].shape, hf_batch['attention_mask'].shape"
      ],
      "metadata": {
        "colab": {
          "base_uri": "https://localhost:8080/"
        },
        "id": "hbviZq3S-cO0",
        "outputId": "b33661ca-bd41-4f13-c15a-1c5051a0d87c"
      },
      "execution_count": 57,
      "outputs": [
        {
          "output_type": "execute_result",
          "data": {
            "text/plain": [
              "(torch.Size([2, 1025]), torch.Size([2, 1025]))"
            ]
          },
          "metadata": {},
          "execution_count": 57
        }
      ]
    },
    {
      "cell_type": "code",
      "source": [
        "embs = hf_model.esm.embeddings(hf_batch['input_ids'], attention_mask = hf_batch['attention_mask'])\n",
        "extended_attn_mask = hf_model.esm.get_extended_attention_mask(hf_batch[\"attention_mask\"], hf_batch['input_ids'].shape).to(device)\n",
        "\n",
        "embs.shape, extended_attn_mask.shape"
      ],
      "metadata": {
        "colab": {
          "base_uri": "https://localhost:8080/"
        },
        "id": "CGxFQa51uTMs",
        "outputId": "2015f07e-445f-44c6-bee8-c7f51dfa836b"
      },
      "execution_count": 58,
      "outputs": [
        {
          "output_type": "execute_result",
          "data": {
            "text/plain": [
              "(torch.Size([2, 1025, 640]), torch.Size([2, 1, 1, 1025]))"
            ]
          },
          "metadata": {},
          "execution_count": 58
        }
      ]
    },
    {
      "cell_type": "code",
      "source": [
        "hf_encoder_output = hf_model.esm.encoder(embs, extended_attn_mask)"
      ],
      "metadata": {
        "id": "W7gvd4txwk03"
      },
      "execution_count": 59,
      "outputs": []
    },
    {
      "cell_type": "code",
      "source": [
        "hf_encoder_output.last_hidden_state.shape"
      ],
      "metadata": {
        "colab": {
          "base_uri": "https://localhost:8080/"
        },
        "id": "vyNVME290I6s",
        "outputId": "62b0ff57-40eb-4ad8-de36-cda1cb5ff650"
      },
      "execution_count": 60,
      "outputs": [
        {
          "output_type": "execute_result",
          "data": {
            "text/plain": [
              "torch.Size([2, 1025, 640])"
            ]
          },
          "metadata": {},
          "execution_count": 60
        }
      ]
    },
    {
      "cell_type": "code",
      "source": [
        "# out = model(batch['input_ids'].cpu(), batch['attention_mask'].cpu())\n",
        "x = model.esm.embeddings(batch['input_ids'].cpu(), batch['attention_mask'].cpu()) # Verified\n",
        "# compute attention_mask for attention scores\n",
        "attention_mask = model.get_extended_attn_mask(batch['attention_mask'].cpu(), x.shape)\n",
        "x.shape, attention_mask.shape"
      ],
      "metadata": {
        "colab": {
          "base_uri": "https://localhost:8080/"
        },
        "id": "MhwCEZO96DJ2",
        "outputId": "e8568b57-8a5e-49d3-ae7e-198aac727f44"
      },
      "execution_count": 61,
      "outputs": [
        {
          "output_type": "execute_result",
          "data": {
            "text/plain": [
              "(torch.Size([2, 1025, 640]), torch.Size([2, 1, 1025, 1025]))"
            ]
          },
          "metadata": {},
          "execution_count": 61
        }
      ]
    },
    {
      "cell_type": "code",
      "source": [
        "encoder_output = model.esm.encoder(x, attention_mask)\n",
        "encoder_output.shape"
      ],
      "metadata": {
        "colab": {
          "base_uri": "https://localhost:8080/"
        },
        "id": "GcbH9CK5-ifP",
        "outputId": "1369d21e-17a6-43d6-f5d5-12d198aa5e3b"
      },
      "execution_count": 63,
      "outputs": [
        {
          "output_type": "execute_result",
          "data": {
            "text/plain": [
              "torch.Size([2, 1025, 640])"
            ]
          },
          "metadata": {},
          "execution_count": 63
        }
      ]
    },
    {
      "cell_type": "code",
      "source": [
        "diff = hf_encoder_output.last_hidden_state.cpu().detach().abs() - encoder_output.detach().abs()"
      ],
      "metadata": {
        "id": "ZcjNNqiEAoB9"
      },
      "execution_count": 64,
      "outputs": []
    },
    {
      "cell_type": "code",
      "source": [
        "diff.mean(), diff.std()"
      ],
      "metadata": {
        "colab": {
          "base_uri": "https://localhost:8080/"
        },
        "id": "KgDPkIPFAxZ0",
        "outputId": "d527111f-3d9a-4d70-e7dd-f61b47124ec0"
      },
      "execution_count": 65,
      "outputs": [
        {
          "output_type": "execute_result",
          "data": {
            "text/plain": [
              "(tensor(-0.0004), tensor(0.0181))"
            ]
          },
          "metadata": {},
          "execution_count": 65
        }
      ]
    },
    {
      "cell_type": "code",
      "source": [
        "# Operating at an error rate of 5% at 150M parameter model\n",
        "diff.std()/hf_encoder_output.last_hidden_state.cpu().detach().std()"
      ],
      "metadata": {
        "colab": {
          "base_uri": "https://localhost:8080/"
        },
        "id": "ONc3m4VJBnEt",
        "outputId": "21b0b059-f1df-435b-9e52-dfd86f3c9299"
      },
      "execution_count": 68,
      "outputs": [
        {
          "output_type": "execute_result",
          "data": {
            "text/plain": [
              "tensor(0.0538)"
            ]
          },
          "metadata": {},
          "execution_count": 68
        }
      ]
    },
    {
      "cell_type": "code",
      "source": [
        "diff.mean()/hf_encoder_output.last_hidden_state.cpu().detach().abs().mean()"
      ],
      "metadata": {
        "colab": {
          "base_uri": "https://localhost:8080/"
        },
        "id": "j8LVAvhT6l1I",
        "outputId": "44db42c8-717e-4eb5-eb0e-5a06e409807b"
      },
      "execution_count": 20,
      "outputs": [
        {
          "output_type": "execute_result",
          "data": {
            "text/plain": [
              "tensor(-0.0005)"
            ]
          },
          "metadata": {},
          "execution_count": 20
        }
      ]
    },
    {
      "cell_type": "code",
      "source": [
        "embs = hf_model.esm.embeddings(hf_batch['input_ids'], attention_mask = hf_batch['attention_mask'])\n",
        "extended_attn_mask = hf_model.esm.get_extended_attention_mask(hf_batch[\"attention_mask\"], hf_batch['input_ids'].shape).to(device)\n",
        "\n",
        "print(embs.shape, extended_attn_mask.shape)\n",
        "hf_output = hf_model.esm.encoder.layer[0].attention.LayerNorm(embs)\n",
        "hf_output_1 = hf_model.esm.encoder.layer[0].attention.self(hf_output, extended_attn_mask)"
      ],
      "metadata": {
        "colab": {
          "base_uri": "https://localhost:8080/"
        },
        "id": "BtfD5T8n-fKc",
        "outputId": "b97a3b5c-1b75-4832-c7dd-cdc6e7b992be"
      },
      "execution_count": 46,
      "outputs": [
        {
          "output_type": "stream",
          "name": "stdout",
          "text": [
            "torch.Size([2, 1025, 640]) torch.Size([2, 1, 1, 1025])\n"
          ]
        }
      ]
    },
    {
      "cell_type": "code",
      "source": [
        "x = model.esm.embeddings(batch['input_ids'].cpu(), batch['attention_mask'].cpu()) # Verified\n",
        "# compute attention_mask for attention scores\n",
        "attention_mask = model.get_extended_attn_mask(batch['attention_mask'].cpu(), x.shape)\n",
        "\n",
        "diff = (embs.detach().abs() - x.detach().abs())\n",
        "print(x.shape, attention_mask.shape, diff.mean(), diff.std())\n",
        "\n",
        "output = model.esm.encoder.layer[0].attention.LayerNorm(x)\n",
        "output_1 = model.esm.encoder.layer[0].attention.self(output, attention_mask)"
      ],
      "metadata": {
        "colab": {
          "base_uri": "https://localhost:8080/"
        },
        "id": "_CQ6I_w6DNig",
        "outputId": "95e770a2-87a9-43d3-eaf6-0d606cdced8a"
      },
      "execution_count": 51,
      "outputs": [
        {
          "output_type": "stream",
          "name": "stdout",
          "text": [
            "torch.Size([2, 1025, 640]) torch.Size([2, 1, 1025, 1025]) tensor(4.0795e-05) tensor(0.0054)\n"
          ]
        }
      ]
    },
    {
      "cell_type": "code",
      "source": [
        "diff = hf_output_1[0].detach().abs() - output_1.detach().abs()\n",
        "diff.mean(), diff.std()"
      ],
      "metadata": {
        "colab": {
          "base_uri": "https://localhost:8080/"
        },
        "id": "fguKNeGuEgji",
        "outputId": "474070c4-cca4-4d66-e624-c7ed31cf26f1"
      },
      "execution_count": 52,
      "outputs": [
        {
          "output_type": "execute_result",
          "data": {
            "text/plain": [
              "(tensor(0.0002), tensor(0.0035))"
            ]
          },
          "metadata": {},
          "execution_count": 52
        }
      ]
    },
    {
      "cell_type": "code",
      "source": [],
      "metadata": {
        "colab": {
          "base_uri": "https://localhost:8080/"
        },
        "id": "ffrfDtAeEiVO",
        "outputId": "eaff44e9-2dbb-4883-c161-88f8b19734af"
      },
      "execution_count": 23,
      "outputs": [
        {
          "output_type": "execute_result",
          "data": {
            "text/plain": [
              "torch.Size([2, 1026, 33])"
            ]
          },
          "metadata": {},
          "execution_count": 23
        }
      ]
    },
    {
      "cell_type": "code",
      "source": [],
      "metadata": {
        "id": "TPJZXSkaEoZw"
      },
      "execution_count": null,
      "outputs": []
    },
    {
      "cell_type": "markdown",
      "source": [
        "# Battle of Tokenizers"
      ],
      "metadata": {
        "id": "54SsKIXlIhY_"
      }
    },
    {
      "cell_type": "code",
      "source": [
        "model_checkpoint = 'facebook/esm2_t30_150M_UR50D'\n",
        "\n",
        "from transformers import AutoTokenizer\n",
        "esm_tokenizer = AutoTokenizer.from_pretrained(model_checkpoint, padding='max_length', max_length=1026)"
      ],
      "metadata": {
        "colab": {
          "base_uri": "https://localhost:8080/",
          "height": 0,
          "referenced_widgets": [
            "9c7eefa772814c0d94b1cdebd8e42c32",
            "0fd1cd86c5344932a7d68b7da4e89c4d",
            "cc36752274be4f88b5ea15029a717755",
            "2543169c369647dba087013c3b1f3fa2",
            "641726821c2e40c3b5c260f4185223f7",
            "8553cc615aa1408bbe8eaeaa5f1ab9d5",
            "cbc139ab6f3249a4ba53cd53ba3d7fdf",
            "7d3cfe2c696c4a19a0427792b8449112",
            "3a60bbf5a7df428e9e30dba35209008f",
            "ce9487c70b4646c69ea6c5e36a544c0f",
            "3964a7c9c762407aba7a8dd41556cc69",
            "01f986b1b58a407ba8baa75cc1af20b9",
            "a537f269af08414dbdf1d0a41cd40658",
            "da24fac9c6c341d6ae3136e96f219707",
            "3e4e436d275d4edba6b792d2e8090bf9",
            "92ef0c609b08409fa229cd3beffa6b4d",
            "09897e70d01f46d3aaff5665501d68e7",
            "7188dccc3fe64b1c8ed07dbb2b441d92",
            "cdb8d90707c8487bab2525054c2c4040",
            "4df224e075864ac5bb482ba2d51da077",
            "ada5dda78cf648f98a9b7720852eb837",
            "f2987b1ba2ee479d808483c15bb43988",
            "b772e3ee8c4847ba897faea4fe4b3bdf",
            "97da354c44cc4ce4b95af09de4be7fac",
            "05aa498de88349ddb8bb7f78ffb7a20b",
            "f169a40c39de414fb3a82e89f3c0fe17",
            "ddbd7cf1f73c40d7ab50b93055c8c48e",
            "e355a162c64e47e5851514306f46f725",
            "cdfb4696696c476b9b09209f564d39b6",
            "76afb53068264ac0b2c87252c50a6b6c",
            "2f51966b17224eba9dd9d7ae88be8e14",
            "20c774c177f74603928945e4095edac3",
            "b0a1fbb1679d48a8a171b838511fd89f"
          ]
        },
        "id": "NaMYw3qFIiFV",
        "outputId": "e2da9c98-0aba-4026-f459-72d285746327"
      },
      "execution_count": 1,
      "outputs": [
        {
          "output_type": "stream",
          "name": "stderr",
          "text": [
            "/usr/local/lib/python3.10/dist-packages/huggingface_hub/utils/_token.py:89: UserWarning: \n",
            "The secret `HF_TOKEN` does not exist in your Colab secrets.\n",
            "To authenticate with the Hugging Face Hub, create a token in your settings tab (https://huggingface.co/settings/tokens), set it as secret in your Google Colab and restart your session.\n",
            "You will be able to reuse this secret in all of your notebooks.\n",
            "Please note that authentication is recommended but still optional to access public models or datasets.\n",
            "  warnings.warn(\n"
          ]
        },
        {
          "output_type": "display_data",
          "data": {
            "text/plain": [
              "tokenizer_config.json:   0%|          | 0.00/95.0 [00:00<?, ?B/s]"
            ],
            "application/vnd.jupyter.widget-view+json": {
              "version_major": 2,
              "version_minor": 0,
              "model_id": "9c7eefa772814c0d94b1cdebd8e42c32"
            }
          },
          "metadata": {}
        },
        {
          "output_type": "display_data",
          "data": {
            "text/plain": [
              "vocab.txt:   0%|          | 0.00/93.0 [00:00<?, ?B/s]"
            ],
            "application/vnd.jupyter.widget-view+json": {
              "version_major": 2,
              "version_minor": 0,
              "model_id": "01f986b1b58a407ba8baa75cc1af20b9"
            }
          },
          "metadata": {}
        },
        {
          "output_type": "display_data",
          "data": {
            "text/plain": [
              "special_tokens_map.json:   0%|          | 0.00/125 [00:00<?, ?B/s]"
            ],
            "application/vnd.jupyter.widget-view+json": {
              "version_major": 2,
              "version_minor": 0,
              "model_id": "b772e3ee8c4847ba897faea4fe4b3bdf"
            }
          },
          "metadata": {}
        },
        {
          "output_type": "stream",
          "name": "stderr",
          "text": [
            "/usr/local/lib/python3.10/dist-packages/transformers/tokenization_utils_base.py:1601: FutureWarning: `clean_up_tokenization_spaces` was not set. It will be set to `True` by default. This behavior will be depracted in transformers v4.45, and will be then set to `False` by default. For more details check this issue: https://github.com/huggingface/transformers/issues/31884\n",
            "  warnings.warn(\n"
          ]
        }
      ]
    },
    {
      "cell_type": "code",
      "source": [
        "from transformers import AutoModelForCausalLM, AutoTokenizer\n",
        "\n",
        "ForceGPT_model_name='lamm-mit/ProteinForceGPT'\n",
        "\n",
        "pfg_tokenizer = AutoTokenizer.from_pretrained(ForceGPT_model_name, trust_remote_code=True)\n",
        "pfg_tokenizer.pad_token = pfg_tokenizer.eos_token"
      ],
      "metadata": {
        "id": "Ol0bqVGRdU1t"
      },
      "execution_count": 3,
      "outputs": []
    },
    {
      "cell_type": "code",
      "source": [
        "# Lets load PFGPT\n",
        "from transformers import AutoModelForCausalLM, AutoTokenizer\n",
        "import torch\n",
        "device = torch.device('cuda' if torch.cuda.is_available() else 'cpu')\n",
        "\n",
        "ForceGPT_model_name='lamm-mit/ProteinForceGPT'\n",
        "\n",
        "tokenizer = AutoTokenizer.from_pretrained(ForceGPT_model_name, trust_remote_code=True)\n",
        "tokenizer.pad_token = tokenizer.eos_token\n",
        "\n",
        "# model = AutoModelForCausalLM.from_pretrained(\n",
        "#     ForceGPT_model_name,\n",
        "#     trust_remote_code=True\n",
        "# ).to(device)\n",
        "\n",
        "# model.config.use_cache = False"
      ],
      "metadata": {
        "colab": {
          "base_uri": "https://localhost:8080/",
          "height": 0,
          "referenced_widgets": [
            "c0c8cad50200467192b825db2af4a70c",
            "fdd82e782e1a461f89fb73fe8b977e4d",
            "0ea28c92d30d4cecbe2055d7d3142774",
            "86ea1454d74442c3b1540ce5d954c7f7",
            "0e535805a1f34aaca1014b574edc8651",
            "59dcc50aa123411a953b29ecdfb29c9e",
            "4b4225e9c5774b2ca120ea28734699e6",
            "741156d69d9a4a1e83c3d4c5350702ee",
            "931a4d8fa1834b928059d57b05405da5",
            "53706201159f4749aacfe812e30c5d10",
            "1babc086b67f47ea9beff72673784d63",
            "3e93989b2299437abfc01a7c23aecdb8",
            "53e449e71b68464d923f28d3f712bef2",
            "20710483fb9f425cafcca0f6fbfce464",
            "71b884ea9a07453c8d522c9ef19e1725",
            "e024fb01fe664dd6b9ee1c2bd551340d",
            "85917f38624544c78c148abe67ac1e51",
            "197d3748f2ff4048862a681101627fba",
            "b0938753c0ab4bc2b4481f9c6324ca90",
            "e41cfe4f5ae54ec1b94f69e8c4c99f81",
            "07db942bac554280b725979a01d08792",
            "44f71fb6ba2249d1b976cc14b7c328e1",
            "db4576f305764d6593e8a24a59a77a1e",
            "17c7fef1c7284293973271d6686bde93",
            "3090ba498f6546c0a7a36a3bebdea477",
            "6a6640a52a144813a02e7b77cfdd7adf",
            "4141cc67457b4cf8bf22c45134a7c250",
            "6da8a84681f94033a18d3bd9cdd108bf",
            "8043a081ccc6482e8d5123cd5c084620",
            "84a609bad51b47efbe988bda12be86c5",
            "d58c657332724ebca7c27a4cb5e9be00",
            "294af594e7184f8b8ba067aa884dfc34",
            "fc87a83a7cc242bdb5ed49de351d7532"
          ]
        },
        "id": "i8jyj4vCUKCJ",
        "outputId": "2dfe9ce9-fe5d-4436-f588-584451802933"
      },
      "execution_count": 4,
      "outputs": [
        {
          "output_type": "display_data",
          "data": {
            "text/plain": [
              "config.json:   0%|          | 0.00/722 [00:00<?, ?B/s]"
            ],
            "application/vnd.jupyter.widget-view+json": {
              "version_major": 2,
              "version_minor": 0,
              "model_id": "c0c8cad50200467192b825db2af4a70c"
            }
          },
          "metadata": {}
        },
        {
          "output_type": "display_data",
          "data": {
            "text/plain": [
              "model.safetensors:   0%|          | 0.00/1.82G [00:00<?, ?B/s]"
            ],
            "application/vnd.jupyter.widget-view+json": {
              "version_major": 2,
              "version_minor": 0,
              "model_id": "3e93989b2299437abfc01a7c23aecdb8"
            }
          },
          "metadata": {}
        },
        {
          "output_type": "display_data",
          "data": {
            "text/plain": [
              "generation_config.json:   0%|          | 0.00/133 [00:00<?, ?B/s]"
            ],
            "application/vnd.jupyter.widget-view+json": {
              "version_major": 2,
              "version_minor": 0,
              "model_id": "db4576f305764d6593e8a24a59a77a1e"
            }
          },
          "metadata": {}
        }
      ]
    },
    {
      "cell_type": "code",
      "source": [
        "pfgpt_vocab = tokenizer.get_vocab()\n",
        "esm_vocab = esm_tokenizer.get_vocab()"
      ],
      "metadata": {
        "id": "FvxC7lnDjK3t"
      },
      "execution_count": 5,
      "outputs": []
    },
    {
      "cell_type": "code",
      "source": [
        "pfgpt_keys = set(pfgpt_vocab.keys())\n",
        "esm_keys = set(esm_vocab)"
      ],
      "metadata": {
        "id": "80hDRuMOj2_t"
      },
      "execution_count": 6,
      "outputs": []
    },
    {
      "cell_type": "code",
      "source": [
        "common_keys = pfgpt_keys.intersection(esm_keys)"
      ],
      "metadata": {
        "id": "im5UmnMBj-tZ"
      },
      "execution_count": 7,
      "outputs": []
    },
    {
      "cell_type": "code",
      "source": [
        "import torch.nn as nn\n",
        "emb_1 = nn.Embedding(33, 10)\n",
        "emb_2 = nn.Embedding(384, 10)"
      ],
      "metadata": {
        "id": "QTlFyOkJkAaQ"
      },
      "execution_count": 15,
      "outputs": []
    },
    {
      "cell_type": "code",
      "source": [
        "common_keys = list(common_keys)"
      ],
      "metadata": {
        "id": "8WcdlHNJlc56"
      },
      "execution_count": 9,
      "outputs": []
    },
    {
      "cell_type": "code",
      "source": [
        "len(common_keys)"
      ],
      "metadata": {
        "colab": {
          "base_uri": "https://localhost:8080/"
        },
        "id": "bN_W1tvSlqxu",
        "outputId": "1aaa0274-1228-4509-ce94-c7aa21ed9fe6"
      },
      "execution_count": 10,
      "outputs": [
        {
          "output_type": "execute_result",
          "data": {
            "text/plain": [
              "28"
            ]
          },
          "metadata": {},
          "execution_count": 10
        }
      ]
    },
    {
      "cell_type": "code",
      "source": [
        "esm_tokenizer.convert_tokens_to_ids(common_keys[0]), tokenizer.convert_tokens_to_ids(common_keys[0])"
      ],
      "metadata": {
        "colab": {
          "base_uri": "https://localhost:8080/"
        },
        "id": "GWD1w-NzllKs",
        "outputId": "0195c276-76eb-4563-b103-aeec79889600"
      },
      "execution_count": 11,
      "outputs": [
        {
          "output_type": "execute_result",
          "data": {
            "text/plain": [
              "(23, 70)"
            ]
          },
          "metadata": {},
          "execution_count": 11
        }
      ]
    },
    {
      "cell_type": "code",
      "source": [
        "from copy import deepcopy\n",
        "emb2_orig = deepcopy(emb_2)"
      ],
      "metadata": {
        "id": "A1BMJ3r9mrwK"
      },
      "execution_count": 16,
      "outputs": []
    },
    {
      "cell_type": "code",
      "source": [
        "esm_tokenizer.convert_tokens_to_ids(common_keys)"
      ],
      "metadata": {
        "colab": {
          "base_uri": "https://localhost:8080/"
        },
        "id": "K8vWhlZKn5cP",
        "outputId": "12e35504-555d-406e-e765-c1d73e968776"
      },
      "execution_count": 19,
      "outputs": [
        {
          "output_type": "execute_result",
          "data": {
            "text/plain": [
              "[23,\n",
              " 17,\n",
              " 8,\n",
              " 13,\n",
              " 16,\n",
              " 15,\n",
              " 14,\n",
              " 20,\n",
              " 11,\n",
              " 5,\n",
              " 7,\n",
              " 27,\n",
              " 6,\n",
              " 30,\n",
              " 18,\n",
              " 12,\n",
              " 4,\n",
              " 25,\n",
              " 24,\n",
              " 26,\n",
              " 9,\n",
              " 3,\n",
              " 28,\n",
              " 22,\n",
              " 29,\n",
              " 10,\n",
              " 19,\n",
              " 21]"
            ]
          },
          "metadata": {},
          "execution_count": 19
        }
      ]
    },
    {
      "cell_type": "code",
      "source": [
        "with torch.no_grad():\n",
        "  indecis = []\n",
        "  for key in common_keys:\n",
        "      esm_embd_index = esm_tokenizer.convert_tokens_to_ids(key)\n",
        "      pfg_embd_index = tokenizer.convert_tokens_to_ids(key)\n",
        "      indecis.append(pfg_embd_index)\n",
        "      emb_2.weight[pfg_embd_index] = emb_1.weight[esm_embd_index]"
      ],
      "metadata": {
        "id": "-aUxmWqaldv8"
      },
      "execution_count": 17,
      "outputs": []
    },
    {
      "cell_type": "code",
      "source": [
        "torch.equal( emb2_orig.weight[indecis], emb_2.weight[indecis])"
      ],
      "metadata": {
        "colab": {
          "base_uri": "https://localhost:8080/"
        },
        "id": "Rex19lr7moRD",
        "outputId": "ba0d4df6-4eb2-40c8-bc5e-fd45077b80db"
      },
      "execution_count": 24,
      "outputs": [
        {
          "output_type": "execute_result",
          "data": {
            "text/plain": [
              "False"
            ]
          },
          "metadata": {},
          "execution_count": 24
        }
      ]
    },
    {
      "cell_type": "code",
      "source": [
        "torch.equal(emb_2.weight[tokenizer.convert_tokens_to_ids(common_keys)], emb_1.weight[esm_tokenizer.convert_tokens_to_ids(common_keys)])"
      ],
      "metadata": {
        "colab": {
          "base_uri": "https://localhost:8080/"
        },
        "id": "jsnXWtGGm2Rn",
        "outputId": "73f99d07-1474-42c0-8c48-580e9c5052c2"
      },
      "execution_count": 23,
      "outputs": [
        {
          "output_type": "execute_result",
          "data": {
            "text/plain": [
              "True"
            ]
          },
          "metadata": {},
          "execution_count": 23
        }
      ]
    },
    {
      "cell_type": "code",
      "source": [
        "mask = torch.zeros(384)\n",
        "mask[indecis] = True\n",
        "# emb_2.weight[indecis].requires_grad_(False)"
      ],
      "metadata": {
        "id": "C6W51bN_o0Qf"
      },
      "execution_count": 28,
      "outputs": []
    },
    {
      "cell_type": "markdown",
      "source": [
        "# Playing with PFGPT"
      ],
      "metadata": {
        "id": "3qeJdYnbLwSH"
      }
    },
    {
      "cell_type": "code",
      "source": [
        "from transformers import AutoModelForCausalLM, AutoTokenizer\n",
        "\n",
        "ForceGPT_model_name = 'lamm-mit/ProteinForceGPT'\n",
        "\n",
        "tokenizer = AutoTokenizer.from_pretrained(ForceGPT_model_name, trust_remote_code=True)\n",
        "tokenizer.pad_token = tokenizer.eos_token\n",
        "\n",
        "model = AutoModelForCausalLM.from_pretrained(\n",
        "    ForceGPT_model_name,\n",
        "    trust_remote_code=True\n",
        ").to(device)\n",
        "\n",
        "model.config.use_cache = False"
      ],
      "metadata": {
        "id": "mldK158EsLbA"
      },
      "execution_count": 77,
      "outputs": []
    },
    {
      "cell_type": "code",
      "source": [
        "model"
      ],
      "metadata": {
        "colab": {
          "base_uri": "https://localhost:8080/"
        },
        "id": "J42Do38RL2fV",
        "outputId": "6c0c607b-6ba0-4613-ad37-e1293e6f153d"
      },
      "execution_count": 78,
      "outputs": [
        {
          "output_type": "execute_result",
          "data": {
            "text/plain": [
              "GPTNeoXForCausalLM(\n",
              "  (gpt_neox): GPTNeoXModel(\n",
              "    (embed_in): Embedding(384, 1024)\n",
              "    (emb_dropout): Dropout(p=0.0, inplace=False)\n",
              "    (layers): ModuleList(\n",
              "      (0-35): 36 x GPTNeoXLayer(\n",
              "        (input_layernorm): LayerNorm((1024,), eps=1e-05, elementwise_affine=True)\n",
              "        (post_attention_layernorm): LayerNorm((1024,), eps=1e-05, elementwise_affine=True)\n",
              "        (post_attention_dropout): Dropout(p=0.0, inplace=False)\n",
              "        (post_mlp_dropout): Dropout(p=0.0, inplace=False)\n",
              "        (attention): GPTNeoXSdpaAttention(\n",
              "          (rotary_emb): GPTNeoXRotaryEmbedding()\n",
              "          (query_key_value): Linear(in_features=1024, out_features=3072, bias=True)\n",
              "          (dense): Linear(in_features=1024, out_features=1024, bias=True)\n",
              "          (attention_dropout): Dropout(p=0.0, inplace=False)\n",
              "        )\n",
              "        (mlp): GPTNeoXMLP(\n",
              "          (dense_h_to_4h): Linear(in_features=1024, out_features=4096, bias=True)\n",
              "          (dense_4h_to_h): Linear(in_features=4096, out_features=1024, bias=True)\n",
              "          (act): GELUActivation()\n",
              "        )\n",
              "      )\n",
              "    )\n",
              "    (final_layer_norm): LayerNorm((1024,), eps=1e-05, elementwise_affine=True)\n",
              "  )\n",
              "  (embed_out): Linear(in_features=1024, out_features=384, bias=False)\n",
              ")"
            ]
          },
          "metadata": {},
          "execution_count": 78
        }
      ]
    },
    {
      "cell_type": "code",
      "source": [],
      "metadata": {
        "id": "jDjs7ARmMA7Y"
      },
      "execution_count": null,
      "outputs": []
    },
    {
      "cell_type": "markdown",
      "source": [
        "# Building the DS"
      ],
      "metadata": {
        "id": "KwAcw2nPhw-2"
      }
    },
    {
      "cell_type": "code",
      "source": [
        "from datasets import load_dataset\n",
        "from sklearn.model_selection import train_test_split\n",
        "from torch.utils.data import Dataset, DataLoader\n",
        "\n",
        "ds = load_dataset(\"lamm-mit/GPTProteinPretrained\")\n",
        "tokenizer = get_tokenizer()\n",
        "\n",
        "class ProtDS(Dataset):\n",
        "    def __init__(self, sequences, max_len = 1026):\n",
        "\n",
        "        self.sequences = sequences # list object\n",
        "        self.max_len = max_len\n",
        "        self.eos_token = '</s>' # PFGPT's eos token - End of sequence\n",
        "\n",
        "    def __len__(self):\n",
        "        return len(self.sequences)\n",
        "\n",
        "    def __getitem__(self, idx):\n",
        "        seq = self.sequences[idx]\n",
        "        if len(seq) >= self.max_len - 1:\n",
        "            seq = seq[:self.max_len - 1]\n",
        "\n",
        "        label = seq[1:] + self.eos_token\n",
        "\n",
        "        return seq, label\n",
        "\n",
        "def seq_collate_fn(data):\n",
        "    # data is a list of tuples\n",
        "    x, y = zip(*data)\n",
        "    train_tokenized = tokenizer(x)\n",
        "    labels_tokenized = tokenizer(y)\n",
        "\n",
        "    padded_train_tokenized = tokenizer.pad(train_tokenized, padding = 'max_length', max_length = 1026)\n",
        "    padded_labels_tokenized = tokenizer.pad(labels_tokenized, padding = 'max_length', max_length = 1026)\n",
        "    padded_train_tokenized['labels'] = padded_labels_tokenized['input_ids']\n",
        "\n",
        "    for k, v in padded_train_tokenized.items():\n",
        "        try:\n",
        "            padded_train_tokenized[k] = torch.tensor(v, dtype = torch.long)\n",
        "        except:\n",
        "            breakpoint()\n",
        "\n",
        "    return padded_train_tokenized\n",
        "\n"
      ],
      "metadata": {
        "colab": {
          "base_uri": "https://localhost:8080/"
        },
        "id": "1LE0lvnrh4bk",
        "outputId": "609275df-4d24-4045-9de5-d2fa0a2f1ddc"
      },
      "execution_count": 3,
      "outputs": [
        {
          "output_type": "stream",
          "name": "stderr",
          "text": [
            "/usr/local/lib/python3.10/dist-packages/huggingface_hub/utils/_token.py:89: UserWarning: \n",
            "The secret `HF_TOKEN` does not exist in your Colab secrets.\n",
            "To authenticate with the Hugging Face Hub, create a token in your settings tab (https://huggingface.co/settings/tokens), set it as secret in your Google Colab and restart your session.\n",
            "You will be able to reuse this secret in all of your notebooks.\n",
            "Please note that authentication is recommended but still optional to access public models or datasets.\n",
            "  warnings.warn(\n"
          ]
        }
      ]
    },
    {
      "cell_type": "markdown",
      "source": [
        "# Full Models Forward Pass"
      ],
      "metadata": {
        "id": "UGKQmVuYbkfn"
      }
    },
    {
      "cell_type": "code",
      "source": [
        "train_dl = DataLoader(train_ds, batch_size= 2, collate_fn = seq_collate_fn)\n",
        "batch = next(iter(train_dl))"
      ],
      "metadata": {
        "id": "8R4vfKF5k-yS"
      },
      "execution_count": 63,
      "outputs": []
    },
    {
      "cell_type": "code",
      "source": [
        "for k, v in batch.items():\n",
        "    batch[k] = torch.tensor(v, dtype = torch.long)"
      ],
      "metadata": {
        "id": "tz_UDe4Ayy0n"
      },
      "execution_count": 53,
      "outputs": []
    },
    {
      "cell_type": "code",
      "source": [
        "batch['input_ids'][:, :20], batch['labels'][:, :20]"
      ],
      "metadata": {
        "colab": {
          "base_uri": "https://localhost:8080/"
        },
        "id": "cEfIuOEi6YYt",
        "outputId": "00559427-0484-435b-db44-01d94d391bc3"
      },
      "execution_count": 70,
      "outputs": [
        {
          "output_type": "execute_result",
          "data": {
            "text/plain": [
              "(tensor([[ 86, 104, 116, 120, 104, 113, 102, 104,  63,  80,  78,  87,  79,  90,\n",
              "           85,  90,  79,  74,  85,  68],\n",
              "         [ 86, 104, 116, 120, 104, 113, 102, 104,  63,  80,  78,  81,  73,  75,\n",
              "           76,  72,  92,  83,  71,  72]]),\n",
              " tensor([[104, 116, 120, 104, 113, 102, 104,  63,  80,  78,  87,  79,  90,  85,\n",
              "           90,  79,  74,  85,  68,  79],\n",
              "         [104, 116, 120, 104, 113, 102, 104,  63,  80,  78,  81,  73,  75,  76,\n",
              "           72,  92,  83,  71,  72,  74]]))"
            ]
          },
          "metadata": {},
          "execution_count": 70
        }
      ]
    },
    {
      "cell_type": "code",
      "source": [
        "batch['attention_mask']"
      ],
      "metadata": {
        "colab": {
          "base_uri": "https://localhost:8080/"
        },
        "id": "LjYKr0Kb67xY",
        "outputId": "33f115b9-aed9-457d-e1df-058b9d328384"
      },
      "execution_count": 67,
      "outputs": [
        {
          "output_type": "execute_result",
          "data": {
            "text/plain": [
              "tensor([[1, 1, 1,  ..., 0, 0, 0],\n",
              "        [1, 1, 1,  ..., 0, 0, 0]])"
            ]
          },
          "metadata": {},
          "execution_count": 67
        }
      ]
    },
    {
      "cell_type": "code",
      "source": [
        "tokenizer = get_tokenizer()\n",
        "model = ESM.from_pretrained(\"esm2_t30_150M_UR50D\") # load the pretrained frozen model\n",
        "print('Models created')\n",
        "# print(model"
      ],
      "metadata": {
        "colab": {
          "base_uri": "https://localhost:8080/"
        },
        "id": "pFRBHUn07i8a",
        "outputId": "6560fb5e-33c3-416a-c678-e8e09a80b3d7"
      },
      "execution_count": 115,
      "outputs": [
        {
          "output_type": "stream",
          "name": "stdout",
          "text": [
            "loading weights from pretrained gpt: esm2_t30_150M_UR50D\n"
          ]
        },
        {
          "output_type": "stream",
          "name": "stderr",
          "text": [
            "Some weights of EsmForSequenceClassification were not initialized from the model checkpoint at facebook/esm2_t30_150M_UR50D and are newly initialized: ['classifier.dense.bias', 'classifier.dense.weight', 'classifier.out_proj.bias', 'classifier.out_proj.weight']\n",
            "You should probably TRAIN this model on a down-stream task to be able to use it for predictions and inference.\n"
          ]
        },
        {
          "output_type": "stream",
          "name": "stdout",
          "text": [
            "Models created\n"
          ]
        }
      ]
    },
    {
      "cell_type": "code",
      "source": [
        "out = model(batch['input_ids'], y = batch['labels'], attention_mask = batch['attention_mask'])"
      ],
      "metadata": {
        "id": "L-SX6MusNn8D"
      },
      "execution_count": 116,
      "outputs": []
    },
    {
      "cell_type": "code",
      "source": [
        "out.keys(), out['loss']"
      ],
      "metadata": {
        "colab": {
          "base_uri": "https://localhost:8080/"
        },
        "id": "9X61c7wYN8Ym",
        "outputId": "f1a2dbb7-ca55-468c-f7a5-cf9e3773e34d"
      },
      "execution_count": 118,
      "outputs": [
        {
          "output_type": "execute_result",
          "data": {
            "text/plain": [
              "(dict_keys(['logits', 'encoder_output', 'loss']),\n",
              " tensor(6.5117, grad_fn=<DivBackward0>))"
            ]
          },
          "metadata": {},
          "execution_count": 118
        }
      ]
    },
    {
      "cell_type": "code",
      "source": [
        "out['loss'].backward()"
      ],
      "metadata": {
        "id": "X_2JFrWgV0cV"
      },
      "execution_count": 121,
      "outputs": []
    },
    {
      "cell_type": "code",
      "source": [
        "model.esm.embeddings.word_embeddings.weight.grad"
      ],
      "metadata": {
        "colab": {
          "base_uri": "https://localhost:8080/"
        },
        "id": "Ul1qpqQwYGBD",
        "outputId": "1f83036c-32b4-4379-9c39-10d64227e3e2"
      },
      "execution_count": 124,
      "outputs": [
        {
          "output_type": "execute_result",
          "data": {
            "text/plain": [
              "tensor([[ 2.5076e-04, -6.7168e-04,  1.1258e-04,  ..., -1.3667e-04,\n",
              "         -8.8862e-05,  7.6055e-05],\n",
              "        [-1.0316e-03,  3.5895e-04, -4.8191e-04,  ...,  6.3798e-04,\n",
              "         -5.2104e-04,  6.7750e-04],\n",
              "        [ 8.3470e-05, -5.6658e-04, -6.2378e-05,  ..., -1.4281e-04,\n",
              "         -3.4456e-04,  8.1855e-05],\n",
              "        ...,\n",
              "        [ 3.3991e-04, -9.5196e-04,  5.7768e-04,  ..., -4.9824e-04,\n",
              "          1.1677e-04,  1.2066e-04],\n",
              "        [ 2.1030e-04, -3.7372e-04,  1.2371e-04,  ..., -1.5023e-04,\n",
              "          2.4959e-05, -3.2917e-05],\n",
              "        [ 1.7095e-04, -3.1254e-04,  5.4279e-05,  ..., -9.9283e-05,\n",
              "         -3.6376e-05,  8.5545e-05]])"
            ]
          },
          "metadata": {},
          "execution_count": 124
        }
      ]
    },
    {
      "cell_type": "code",
      "source": [
        "model.esm.embeddings.word_embeddings.weight.shape"
      ],
      "metadata": {
        "colab": {
          "base_uri": "https://localhost:8080/"
        },
        "id": "l2lj6cMQZjg1",
        "outputId": "d95cb90a-3901-4c26-8a40-a248aa27b092"
      },
      "execution_count": 126,
      "outputs": [
        {
          "output_type": "execute_result",
          "data": {
            "text/plain": [
              "torch.Size([384, 640])"
            ]
          },
          "metadata": {},
          "execution_count": 126
        }
      ]
    },
    {
      "cell_type": "code",
      "source": [
        "mask = torch.ones(384, dtype=torch.float32)\n",
        "mask[model.esm.embeddings.indices] = 0.\n",
        "\n",
        "mask.shape"
      ],
      "metadata": {
        "colab": {
          "base_uri": "https://localhost:8080/"
        },
        "id": "BsNlz1NIZYgg",
        "outputId": "8888302f-338f-4c80-9f9d-1850056eccf7"
      },
      "execution_count": 128,
      "outputs": [
        {
          "output_type": "execute_result",
          "data": {
            "text/plain": [
              "torch.Size([384])"
            ]
          },
          "metadata": {},
          "execution_count": 128
        }
      ]
    },
    {
      "cell_type": "code",
      "source": [
        "model.esm.embeddings.word_embeddings.weight.grad = model.esm.embeddings.word_embeddings.weight.grad * mask[:, None]"
      ],
      "metadata": {
        "id": "d3LKUEUdZe1B"
      },
      "execution_count": 129,
      "outputs": []
    },
    {
      "cell_type": "code",
      "source": [
        "model.esm.embeddings.word_embeddings.weight.grad[model.esm.embeddings.indices]"
      ],
      "metadata": {
        "colab": {
          "base_uri": "https://localhost:8080/"
        },
        "id": "n7BzT5KwZ3U9",
        "outputId": "f185982e-0144-4fb4-a5c2-3fbec171e91c"
      },
      "execution_count": 131,
      "outputs": [
        {
          "output_type": "execute_result",
          "data": {
            "text/plain": [
              "tensor([[-0., 0., -0.,  ..., 0., -0., -0.],\n",
              "        [-0., 0., -0.,  ..., 0., 0., -0.],\n",
              "        [0., -0., 0.,  ..., -0., -0., 0.],\n",
              "        ...,\n",
              "        [0., -0., -0.,  ..., -0., -0., 0.],\n",
              "        [-0., 0., -0.,  ..., 0., -0., -0.],\n",
              "        [0., -0., 0.,  ..., -0., 0., 0.]])"
            ]
          },
          "metadata": {},
          "execution_count": 131
        }
      ]
    },
    {
      "cell_type": "markdown",
      "source": [
        "# LoRA"
      ],
      "metadata": {
        "id": "szAQ6WsJbqTv"
      }
    },
    {
      "cell_type": "code",
      "source": [
        "import math\n",
        "import torch\n",
        "\n",
        "from torch import nn\n",
        "from torch.nn import functional as F\n",
        "from dataclasses import dataclass\n",
        "from einops import rearrange, repeat\n",
        "from transformers import AutoTokenizer\n",
        "\n",
        "PFGPT_VOCAB_SIZE = 384\n",
        "PFGPT_HF_MODEL_PATH = 'lamm-mit/ProteinForceGPT'"
      ],
      "metadata": {
        "id": "NmrobsXRszl4"
      },
      "execution_count": 11,
      "outputs": []
    },
    {
      "cell_type": "code",
      "source": [
        "\n"
      ],
      "metadata": {
        "id": "PlOqu9wwZ4l1"
      },
      "execution_count": 12,
      "outputs": []
    },
    {
      "cell_type": "code",
      "source": [
        "@dataclass\n",
        "class LoRAConfig:\n",
        "    lora_r: int = 8\n",
        "    lora_alpha: int = 16\n",
        "    lora_dropout: int = 0.05\n",
        "    lora_query: bool = True\n",
        "    lora_key: bool = False\n",
        "    lora_value: bool = True\n",
        "    lora_projection: bool = False\n",
        "    lora_mlp: bool = False\n",
        "    lora_head: bool = False\n",
        "\n",
        "class LoRALinear(nn.Linear):\n",
        "    def __init__(self, nin, nout, lora_config):\n",
        "        super().__init__(nin, nout)\n",
        "        std_dev = 1 / torch.sqrt(torch.tensor(lora_config.lora_r).float())\n",
        "        self.lora_A = torch.nn.Parameter(torch.randn(nin, lora_config.lora_r) * std_dev)\n",
        "        self.lora_B = torch.nn.Parameter(torch.zeros(lora_config.lora_r, nout))\n",
        "        self.alpha = lora_config.lora_alpha\n",
        "\n",
        "    def forward(self, x):\n",
        "        lora_x = self.alpha * (x @ self.lora_A @ self.lora_B)\n",
        "        x = super().forward(x)\n",
        "        return x + lora_x\n",
        "\n",
        "def get_tokenizer():\n",
        "    tokenizer = AutoTokenizer.from_pretrained(PFGPT_HF_MODEL_PATH, trust_remote_code=True)\n",
        "    tokenizer.pad_token = tokenizer.eos_token\n",
        "    return tokenizer\n",
        "\n",
        "def rotate_half(x):\n",
        "    x1, x2 = x.chunk(2, dim=-1)\n",
        "    return torch.cat((-x2, x1), dim=-1)\n",
        "\n",
        "def apply_rotary_pos_emb(x, cos, sin):\n",
        "    cos = cos[:, :, : x.shape[-2], :]\n",
        "    sin = sin[:, :, : x.shape[-2], :]\n",
        "\n",
        "    return (x * cos) + (rotate_half(x) * sin)\n",
        "\n",
        "class RotaryEmbedding(torch.nn.Module):\n",
        "    \"\"\"\n",
        "    Rotary position embeddings based on those in\n",
        "    [RoFormer](https://huggingface.co/docs/transformers/model_doc/roformer). Query and keys are transformed by rotation\n",
        "    matrices which depend on their relative positions.\n",
        "    \"\"\"\n",
        "\n",
        "    def __init__(self, dim: int):\n",
        "        super().__init__()\n",
        "        # Generate and save the inverse frequency buffer (non trainable)\n",
        "        inv_freq = 1.0 / (10000 ** (torch.arange(0, dim, 2, dtype=torch.int64).float() / dim))\n",
        "        inv_freq = inv_freq\n",
        "        self.register_buffer(\"inv_freq\", inv_freq)\n",
        "\n",
        "        self._seq_len_cached = None\n",
        "        self._cos_cached = None\n",
        "        self._sin_cached = None\n",
        "\n",
        "    def _update_cos_sin_tables(self, x, seq_dimension=2):\n",
        "        seq_len = x.shape[seq_dimension]\n",
        "\n",
        "        # Reset the tables if the sequence length has changed,\n",
        "        # or if we're on a new device (possibly due to tracing for instance)\n",
        "        if seq_len != self._seq_len_cached or self._cos_cached.device != x.device:\n",
        "            self._seq_len_cached = seq_len\n",
        "            t = torch.arange(x.shape[seq_dimension], device=x.device).type_as(self.inv_freq)\n",
        "            freqs = torch.outer(t, self.inv_freq)\n",
        "            emb = torch.cat((freqs, freqs), dim=-1).to(x.device)\n",
        "\n",
        "            self._cos_cached = emb.cos()[None, None, :, :]\n",
        "            self._sin_cached = emb.sin()[None, None, :, :]\n",
        "\n",
        "        return self._cos_cached, self._sin_cached\n",
        "\n",
        "    def forward(self, q: torch.Tensor, k: torch.Tensor) -> tuple[torch.Tensor, torch.Tensor]:\n",
        "        self._cos_cached, self._sin_cached = self._update_cos_sin_tables(k, seq_dimension=-2)\n",
        "\n",
        "        return (\n",
        "            apply_rotary_pos_emb(q, self._cos_cached, self._sin_cached),\n",
        "            apply_rotary_pos_emb(k, self._cos_cached, self._sin_cached)\n",
        "        )\n",
        "\n",
        "class ESMEmbeddings(nn.Module):\n",
        "\n",
        "    def __init__(self, config):\n",
        "        super().__init__()\n",
        "        self.config = config\n",
        "        self.word_embeddings = nn.Embedding(config.vocab_size, config.n_embd)\n",
        "        self.position_embeddings = nn.Embedding(config.block_size, config.n_embd)\n",
        "\n",
        "    def post_model_init(self):\n",
        "        # Merge both the tokenizer vocabs - Battle of Tokenizers\n",
        "        # That is create a new word embedding of pf_gpts vocab size and configs n_embd\n",
        "        # Get pf GPT Tokenizer\n",
        "        pfgpt_tokenizer = AutoTokenizer.from_pretrained(PFGPT_HF_MODEL_PATH, trust_remote_code=True)\n",
        "        pfgpt_tokenizer.pad_token = pfgpt_tokenizer.eos_token\n",
        "        pfgpt_vocab = pfgpt_tokenizer.get_vocab()\n",
        "\n",
        "        # Get ESM Tokenizer\n",
        "        esm_tokenizer = AutoTokenizer.from_pretrained(self.config.pre_trained_model_name, padding='max_length', max_length=1026)\n",
        "        esm_vocab = esm_tokenizer.get_vocab()\n",
        "        new_word_embeddings = nn.Embedding(PFGPT_VOCAB_SIZE, self.config.n_embd)\n",
        "        torch.nn.init.normal_(new_word_embeddings.weight, std = 0.1263)\n",
        "\n",
        "        # Find all the common keys tokens between esm tokenizer and pf_gpt tokenizer\n",
        "        pfgpt_keys = set(pfgpt_vocab.keys())\n",
        "        esm_keys = set(esm_vocab.keys())\n",
        "        common_keys = list(pfgpt_keys.intersection(esm_keys))\n",
        "\n",
        "        # now, copy a particular tokens embedding from ems_embedding to the new embedding that we create here\n",
        "        with torch.no_grad():\n",
        "            indices = []\n",
        "            for key in common_keys:\n",
        "                esm_embd_index = esm_tokenizer.convert_tokens_to_ids(key)\n",
        "                pfg_embd_index = pfgpt_tokenizer.convert_tokens_to_ids(key)\n",
        "                indices.append(pfg_embd_index)\n",
        "                new_word_embeddings.weight[pfg_embd_index] = self.word_embeddings.weight[esm_embd_index]\n",
        "\n",
        "            # Check for embedding equivalance\n",
        "            assert torch.equal(new_word_embeddings.weight[pfgpt_tokenizer.convert_tokens_to_ids(common_keys)],\n",
        "                               self.word_embeddings.weight[esm_tokenizer.convert_tokens_to_ids(common_keys)])\n",
        "\n",
        "        # Create a mask for all the indecis we have copied pretrained embeddings\n",
        "        # and turn requires_grad off to those embeddings that we have copied - This is\n",
        "        # not possible, so instead we store the indecis and zero out the grads before optim.step()\n",
        "        # hence we do not update these embeddings\n",
        "        self.indices = indices\n",
        "\n",
        "        with torch.no_grad():\n",
        "            self.word_embeddings = new_word_embeddings\n",
        "        self.word_embeddings.requires_grad_(True)\n",
        "\n",
        "    def forward(self, x, attention_mask = None):\n",
        "        token_embs = self.word_embeddings(x)\n",
        "        # Not required as we are use rotary embeddings - Hence we do not require absolute position embeddings\n",
        "        # position_embs = self.esm.embeddings.position_embeddings(torch.arange(0, x.shape[1], 1, dtype = torch.long))\n",
        "        if attention_mask is not None:\n",
        "            token_embs = (token_embs * attention_mask.unsqueeze(-1)).to(token_embs.dtype)\n",
        "        return token_embs\n",
        "\n",
        "@dataclass\n",
        "class ESMConfig():\n",
        "    block_size: int = 1024\n",
        "    vocab_size: int = 50257\n",
        "    n_layer: int = 12\n",
        "    n_head: int = 12\n",
        "    n_embd: int = 768\n",
        "    hidden_size: int = 4096 # 4 * block_size\n",
        "    dropout: float = 0.0\n",
        "    pre_trained_model_name: str = ''\n",
        "\n",
        "class ESMIntermediateLayer(nn.Module):\n",
        "    def __init__(self, nin, nout, lora_config, dropout = 0.0, ):\n",
        "        super().__init__()\n",
        "\n",
        "        self.dense = nn.Linear(nin, nout) if not lora_config.lora_mlp else LoRALinear(nin, nout, lora_config)\n",
        "        self.act = nn.GELU(approximate = 'tanh')\n",
        "\n",
        "    def forward(self, x):\n",
        "        return self.act(self.dense(x))\n",
        "\n",
        "class ESMOutLayer(nn.Module):\n",
        "    def __init__(self, nin, nout, lora_config, dropout = 0.0, inside_attention = False):\n",
        "        super().__init__()\n",
        "\n",
        "        # 2 places used - 1. inisde the attention block  and inside the MLP\n",
        "        # if used inside attention and lora_config.lora_projection is true then dense is a LoRALInear\n",
        "        # elif used in mlp and lora_config.lora_mlp is true then dens is a LoRALinear again\n",
        "        # else its a Linear\n",
        "\n",
        "        if inside_attention == True and lora_config.lora_projection:\n",
        "            self.dens = LoRALinear(nin, nout, lora_config)\n",
        "        elif inside_attention == False and lora_config.lora_mlp:\n",
        "            self.dens = LoRALinear(nin, nout, lora_config)\n",
        "        else:\n",
        "            self.dense = nn.Linear(nin, nout)\n",
        "\n",
        "        self.dropout = nn.Dropout(dropout)\n",
        "\n",
        "    def forward(self, x, attn_scores):\n",
        "        x = self.dense(x)\n",
        "        x = self.dropout(x)\n",
        "        x = x + attn_scores\n",
        "        return x\n",
        "\n",
        "class ESMSelfAttn(nn.Module): # Verified\n",
        "\n",
        "    def __init__(self, config, lora_config):\n",
        "        super().__init__()\n",
        "\n",
        "        assert config.n_embd % config.n_head == 0\n",
        "\n",
        "        self.query = nn.Linear(config.n_embd, config.n_embd) if not lora_config.lora_query else LoRALinear(config.n_embd, config.n_embd, lora_config)\n",
        "        self.key = nn.Linear(config.n_embd, config.n_embd) if not lora_config.lora_key else LoRALinear(config.n_embd, config.n_embd, lora_config)\n",
        "        self.value = nn.Linear(config.n_embd, config.n_embd) if not lora_config.lora_value else LoRALinear(config.n_embd, config.n_embd, lora_config)\n",
        "        self.n_head = config.n_head\n",
        "\n",
        "        attention_head_size = config.n_embd//config.n_head\n",
        "\n",
        "        # Add a rotary embeddings here\n",
        "        self.rotary_embeddings = RotaryEmbedding(dim = attention_head_size)\n",
        "\n",
        "    def forward(self, x, attention_mask):\n",
        "\n",
        "        # x -> (b, s, e) -> (b s, h, e/h)\n",
        "        k, q, v = self.key(x), self.query(x), self.value(x)\n",
        "\n",
        "        k = rearrange(k, 'b s (h e) -> b h s e', h = self.n_head)\n",
        "        q = rearrange(q, 'b s (h e) -> b h s e', h = self.n_head)\n",
        "        v = rearrange(v, 'b s (h e) -> b h s e', h = self.n_head)\n",
        "\n",
        "        # Add rotary embeddings here for k and q tensors\n",
        "        q, k = self.rotary_embeddings(q, k)\n",
        "\n",
        "        # Attention claculation - # TODO: make is_casual true in case of finetuning - Very important\n",
        "        y = F.scaled_dot_product_attention(q, k, v, attn_mask = attention_mask, is_causal = True) # flash attention\n",
        "        y = rearrange(y, 'b h s e -> b s (h e)', h = self.n_head)\n",
        "        return y\n",
        "\n",
        "class ESMAttn(nn.Module): # Verified\n",
        "\n",
        "    def __init__(self, config, lora_config):\n",
        "        super().__init__() # No activation function at this level\n",
        "        self.self = ESMSelfAttn(config, lora_config)\n",
        "        self.output = ESMOutLayer(config.n_embd, config.n_embd, lora_config, dropout = getattr(config, 'dropout', 0.), inside_attention = True)\n",
        "        self.LayerNorm = nn.LayerNorm(config.n_embd)\n",
        "\n",
        "    def forward(self, x, attention_mask):\n",
        "        inter_x = self.LayerNorm(x)\n",
        "        attn = self.self(inter_x, attention_mask)\n",
        "        out = self.output(attn, x)\n",
        "        return out\n",
        "\n",
        "class ESMLayers(nn.Module): # Both Init and Forward Verified - Done and Dusted\n",
        "\n",
        "    def __init__(self, config, lora_config):\n",
        "        super().__init__()\n",
        "        self.attention = ESMAttn(config, lora_config)\n",
        "        self.intermediate = ESMIntermediateLayer(config.n_embd, config.hidden_size, lora_config) #\n",
        "        self.output = ESMOutLayer(config.hidden_size, config.n_embd, lora_config) #\n",
        "        self.LayerNorm = nn.LayerNorm(config.n_embd)\n",
        "\n",
        "    def forward(self, x, attention_mask):\n",
        "        attention_op = self.attention(x, attention_mask)\n",
        "        attention_op_ln = self.LayerNorm(attention_op) # This will keep the activations in check - Lets see\n",
        "        inter = self.intermediate(attention_op_ln)\n",
        "        out = self.output(inter, attention_op)\n",
        "        return out\n",
        "\n",
        "class ESMEncoder(nn.Module):\n",
        "\n",
        "    def __init__(self, config, lora_config):\n",
        "        super().__init__()\n",
        "\n",
        "        # No activation functions here as well\n",
        "\n",
        "        self.layer = nn.ModuleList([ESMLayers(config, lora_config) for _ in range(config.n_layer)])\n",
        "        self.emb_layer_norm_after = nn.LayerNorm(config.n_embd)\n",
        "\n",
        "    def forward(self, x, attention_mask = None):\n",
        "\n",
        "        for layer in self.layer:\n",
        "            x = layer(x, attention_mask)\n",
        "\n",
        "        return self.emb_layer_norm_after(x)\n",
        "\n",
        "class ESM(nn.Module):\n",
        "\n",
        "    def __init__(self, config, lora_config):\n",
        "\n",
        "        super().__init__()\n",
        "        self.config = config\n",
        "        self.esm = nn.ModuleDict(dict(\n",
        "            embeddings = ESMEmbeddings(config),\n",
        "            encoder = ESMEncoder(config, lora_config), # Done, forward - here\n",
        "            final_layer = nn.Linear(config.n_embd, config.vocab_size) if not lora_config.lora_head else\n",
        "                              LoRALinear(config.n_embd, config.vocab_size, lora_config)\n",
        "        ))\n",
        "        self.esm.final_layer.weight = self.esm.embeddings.word_embeddings.weight\n",
        "\n",
        "        # Final Layer bias initializtion\n",
        "        torch.nn.init.zeros_(self.esm.final_layer.bias) # Set the bias to 0\n",
        "        # Finally one small thing is to decide weather to add an intermediate layer or not? - Thats a future discussion\n",
        "\n",
        "    @classmethod\n",
        "    def get_pretrained_config(cls, model_type = 'esm2_t33_650M_UR50D'):\n",
        "\n",
        "        '''\n",
        "        name                n_layers    n_params\n",
        "        esm2_t48_15B_UR50D\t48\t        15B\n",
        "        esm2_t36_3B_UR50D\t36\t        3B\n",
        "        esm2_t33_650M_UR50D\t33\t        650M\n",
        "        esm2_t30_150M_UR50D\t30\t        150M\n",
        "        esm2_t12_35M_UR50D\t12\t        35M\n",
        "        esm2_t6_8M_UR50D\n",
        "        '''\n",
        "\n",
        "        assert model_type in {'esm2_t36_3B_UR50D', 'esm2_t33_650M_UR50D', 'esm2_t30_150M_UR50D'}\n",
        "\n",
        "        config_args = {\n",
        "            'esm2_t36_3B_UR50D': dict(n_layer=36, n_head = 40, n_embd=2560, hidden_size=10240), # 3B params\n",
        "            'esm2_t33_650M_UR50D': dict(n_layer=33, n_head = 20, n_embd=1280, hidden_size=5120), # 650M params\n",
        "            'esm2_t30_150M_UR50D': dict(n_layer=30, n_head = 20, n_embd=640, hidden_size=2560), # 150M params\n",
        "        }[model_type]\n",
        "\n",
        "        config_args['vocab_size'] = 33 # always 33 for ESM Models\n",
        "        config_args['block_size'] = 1026 # Always constant for ESM Models\n",
        "        config_args['pre_trained_model_name'] = f\"facebook/{model_type}\"\n",
        "\n",
        "        config = ESMConfig(**config_args)\n",
        "        return config\n",
        "\n",
        "    @classmethod\n",
        "    def from_pretrained(cls, lora_config, model_type = 'esm2_t33_650M_UR50D', embedding_post_init = True):\n",
        "\n",
        "        config = cls.get_pretrained_config(model_type)\n",
        "        print(\"loading weights from pretrained gpt: %s\" % model_type)\n",
        "\n",
        "        # create a from-scratch initialized minGPT model\n",
        "        model = cls(config, lora_config)\n",
        "        sd = model.state_dict()\n",
        "        sd_keys = sd.keys()\n",
        "        sd_keys = [k for k in sd_keys if not k.endswith('.attn.bias')] # discard this mask / buffer, not a param\n",
        "\n",
        "        # init a huggingface/transformers model\n",
        "        from transformers import AutoModelForSequenceClassification\n",
        "        num_labels = 33\n",
        "        model_hf = AutoModelForSequenceClassification.from_pretrained(config.pre_trained_model_name, num_labels = num_labels)\n",
        "        sd_hf = model_hf.state_dict()\n",
        "\n",
        "        # copy while ensuring all of the parameters are aligned and match in names and shapes\n",
        "        sd_keys_hf = sd_hf.keys()\n",
        "        sd_keys_hf = [k for k in sd_keys_hf if not k.endswith('.attn.masked_bias')] # ignore these, just a buffer\n",
        "        sd_keys_hf = [k for k in sd_keys_hf if not k.endswith('.attn.bias')] # same, just the mask (buffer)\n",
        "        sd_keys_hf = [k for k in sd_keys_hf if 'inv_freq' not in k]\n",
        "        sd_keys_hf = [k for k in sd_keys_hf if 'classifier' not in k]\n",
        "\n",
        "        ignore_keys = ['esm.contact_head.regression.weight', 'esm.contact_head.regression.bias']\n",
        "        for k in sd_keys_hf:\n",
        "\n",
        "            if k in ignore_keys: continue\n",
        "\n",
        "            # vanilla copy over the other parameters\n",
        "            try: assert sd_hf[k].shape == sd[k].shape\n",
        "            except Exception as e:\n",
        "              print(k)\n",
        "              print(f\"Mismatch in the shape of tensor while loading weights - Key: {k}, expected shape: {sd_hf[k].shape}, actual shape: {sd[k].shape if k in sd else k}\")\n",
        "\n",
        "            with torch.no_grad():\n",
        "                sd[k].copy_(sd_hf[k])\n",
        "\n",
        "        # Set the final layers bias as 0 so that it does not affect weight tying scheme\n",
        "        with torch.no_grad():\n",
        "            model.esm.final_layer.bias.zero_()\n",
        "\n",
        "        # Freeze the model\n",
        "        for name, param in model.named_parameters():\n",
        "            if 'lora_' not in name:\n",
        "                param.requires_grad = False\n",
        "\n",
        "        if embedding_post_init:\n",
        "            model.esm.embeddings.post_model_init()\n",
        "            del model.esm.final_layer\n",
        "\n",
        "            #IMP: Here we are assuming that embeddings will never have LoRA attached to it, hence we are going with Linear\n",
        "            model.esm.final_layer = nn.Linear(config.n_embd, model.esm.embeddings.word_embeddings.weight.shape[0])\n",
        "\n",
        "            model.esm.final_layer.weight = model.esm.embeddings.word_embeddings.weight\n",
        "\n",
        "        return model\n",
        "\n",
        "    def get_extended_attn_mask(self, attention_mask, input_shape):\n",
        "\n",
        "        if attention_mask == None: return None\n",
        "        b, s = attention_mask.shape\n",
        "        # Make the attention mask braodcastable for [batch_size, n_heads, seq_len, seq_len]\n",
        "        attention_mask = attention_mask[:, None, None, :]\n",
        "\n",
        "        # Now make sure that it has negetive infinity for all the padded tokens and\n",
        "        # 0 for all attention tokens as we add this mask to attention scores\n",
        "        attn_mask = attention_mask.to(torch.float32)\n",
        "        attn_mask = (1 - attn_mask) * (torch.finfo(torch.float32).min)\n",
        "        attn_mask = attn_mask.expand(b, 1, s, s)\n",
        "        return attn_mask\n",
        "\n",
        "    def forward(self, x, y = None, attention_mask = None, output_encoder_states = True):\n",
        "\n",
        "        # Calculate Embeddings\n",
        "        x = self.esm.embeddings(x, attention_mask) # TODO: Verify the new embeddings function without doing post init and after doing post model init - Ideally both should stay the same\n",
        "\n",
        "        # compute attention_mask for attention scores\n",
        "        extended_attention_mask = self.get_extended_attn_mask(attention_mask, x.shape)\n",
        "\n",
        "        #Do the forward pass\n",
        "        x = self.esm.encoder(x, attention_mask = extended_attention_mask)\n",
        "        logits = self.esm.final_layer(x)\n",
        "        output = {'logits': logits}\n",
        "\n",
        "        if output_encoder_states:\n",
        "            output['encoder_output'] = x\n",
        "        if y is not None:\n",
        "            # Calculate loss and send it in output\n",
        "            outputs = logits.view(-1, logits.size(-1))  # (bs*seq_len, 384)\n",
        "            targets = y.view(-1)  # (bs*seq_len)\n",
        "\n",
        "            # Flatten the attention mask\n",
        "            attention_mask = attention_mask.view(-1)  # (bs*seq_len)\n",
        "\n",
        "            # Calculate cross entropy loss\n",
        "            loss = F.cross_entropy(outputs, targets, reduction='none')\n",
        "\n",
        "            # Apply the mask to the loss\n",
        "            masked_loss = loss * attention_mask\n",
        "\n",
        "            # Calculate the mean loss over the actual tokens (excluding padding)\n",
        "            total_loss = masked_loss.sum()\n",
        "            num_tokens = attention_mask.sum()\n",
        "\n",
        "            actual_loss = total_loss / num_tokens\n",
        "            output['loss'] = actual_loss\n",
        "\n",
        "        return output\n"
      ],
      "metadata": {
        "id": "CuBYhtqMXbFd"
      },
      "execution_count": 13,
      "outputs": []
    },
    {
      "cell_type": "code",
      "source": [
        "# config = ESM.get_pretrained_config('esm2_t30_150M_UR50D')\n",
        "lora_config = LoRAConfig()\n",
        "model = ESM.from_pretrained(lora_config, 'esm2_t30_150M_UR50D')"
      ],
      "metadata": {
        "colab": {
          "base_uri": "https://localhost:8080/",
          "height": 0,
          "referenced_widgets": [
            "a5b4b52ea11d4ab6878e92f009f742d1",
            "683a860232484adda21d338b41e222f6",
            "0371e55d87294183a97f2002b973f45f",
            "852ee3354dca47e292fcbab4a747d98a",
            "d4d851c4c942455a8e33d1ea610aaf51",
            "43e742c77e834019bd2ba3b00381e01a",
            "d09a557ef67e44d8b7f39760e2c71f4b",
            "59cea722308f4c3e87c7362d2eae800b",
            "a462bde184cd41229edf04f5599e4218",
            "d235c7cd299747c7a5550ca8e3c1b5a8",
            "c6b7fc99f08a49e1a81454dd8f1aaf0a",
            "36698dfc3899413ea749ace946fb9643",
            "31ebaeecbb7847a49ef763aea90e3e11",
            "b38d50691d2e421db9004019f499b1da",
            "b5a77800ad3a443ba79630d6d31781ce",
            "ade5f9888a2540ccaf6b347c887070cc",
            "f49cd6458bbc43138fdc2c7451b7e4bd",
            "dd1163f8644d46dd9c22ae5415fd5b17",
            "a3d2ac7c9abe40cbae77ce6f3e493f27",
            "7d89c90663154bc19b475c3708d4d347",
            "a60e5ea110e8446491f591c57d3d6a57",
            "6bb3e051d9cf47fcb7864df19c27efc3",
            "f7d636f73665415a8ccc94aadc7b5c4f",
            "7dddfd93147a491096cff7bcdd0a3c10",
            "faed09bfeab746fe9ec03baa3d0ecf27",
            "b18f855c23f549898bd5877a55f2b1ef",
            "ff4ddab9b02f490f82870b989977154d",
            "4a8f1412e7bf4ba7bfe3141abf5dc6af",
            "9382867b69ee4da18825600d2772d7e8",
            "cf4e197d38cf4bd2b77b7db06481a39b",
            "856d68beaea947e6b972834205b924e9",
            "40b4127c6e254413a2370d54aa25b698",
            "1eebc106152241a986ecfa060e7e3abc"
          ]
        },
        "id": "0Xngybci0x24",
        "outputId": "6474a0f4-b6fc-4d9a-d74e-8903727643ef"
      },
      "execution_count": 14,
      "outputs": [
        {
          "output_type": "stream",
          "name": "stdout",
          "text": [
            "loading weights from pretrained gpt: esm2_t30_150M_UR50D\n"
          ]
        },
        {
          "output_type": "stream",
          "name": "stderr",
          "text": [
            "Some weights of EsmForSequenceClassification were not initialized from the model checkpoint at facebook/esm2_t30_150M_UR50D and are newly initialized: ['classifier.dense.bias', 'classifier.dense.weight', 'classifier.out_proj.bias', 'classifier.out_proj.weight']\n",
            "You should probably TRAIN this model on a down-stream task to be able to use it for predictions and inference.\n"
          ]
        },
        {
          "output_type": "display_data",
          "data": {
            "text/plain": [
              "tokenizer_config.json:   0%|          | 0.00/25.3k [00:00<?, ?B/s]"
            ],
            "application/vnd.jupyter.widget-view+json": {
              "version_major": 2,
              "version_minor": 0,
              "model_id": "a5b4b52ea11d4ab6878e92f009f742d1"
            }
          },
          "metadata": {}
        },
        {
          "output_type": "display_data",
          "data": {
            "text/plain": [
              "added_tokens.json:   0%|          | 0.00/3.02k [00:00<?, ?B/s]"
            ],
            "application/vnd.jupyter.widget-view+json": {
              "version_major": 2,
              "version_minor": 0,
              "model_id": "36698dfc3899413ea749ace946fb9643"
            }
          },
          "metadata": {}
        },
        {
          "output_type": "display_data",
          "data": {
            "text/plain": [
              "special_tokens_map.json:   0%|          | 0.00/2.98k [00:00<?, ?B/s]"
            ],
            "application/vnd.jupyter.widget-view+json": {
              "version_major": 2,
              "version_minor": 0,
              "model_id": "f7d636f73665415a8ccc94aadc7b5c4f"
            }
          },
          "metadata": {}
        },
        {
          "output_type": "stream",
          "name": "stderr",
          "text": [
            "/usr/local/lib/python3.10/dist-packages/transformers/tokenization_utils_base.py:1601: FutureWarning: `clean_up_tokenization_spaces` was not set. It will be set to `True` by default. This behavior will be depracted in transformers v4.45, and will be then set to `False` by default. For more details check this issue: https://github.com/huggingface/transformers/issues/31884\n",
            "  warnings.warn(\n"
          ]
        }
      ]
    },
    {
      "cell_type": "code",
      "source": [
        "model"
      ],
      "metadata": {
        "colab": {
          "base_uri": "https://localhost:8080/"
        },
        "id": "P-MdkSA92DOk",
        "outputId": "c1012e63-fc77-4631-c0c2-76659faabf62"
      },
      "execution_count": 15,
      "outputs": [
        {
          "output_type": "execute_result",
          "data": {
            "text/plain": [
              "ESM(\n",
              "  (esm): ModuleDict(\n",
              "    (embeddings): ESMEmbeddings(\n",
              "      (word_embeddings): Embedding(384, 640)\n",
              "      (position_embeddings): Embedding(1026, 640)\n",
              "    )\n",
              "    (encoder): ESMEncoder(\n",
              "      (layer): ModuleList(\n",
              "        (0-29): 30 x ESMLayers(\n",
              "          (attention): ESMAttn(\n",
              "            (self): ESMSelfAttn(\n",
              "              (query): LoRALinear(in_features=640, out_features=640, bias=True)\n",
              "              (key): Linear(in_features=640, out_features=640, bias=True)\n",
              "              (value): LoRALinear(in_features=640, out_features=640, bias=True)\n",
              "              (rotary_embeddings): RotaryEmbedding()\n",
              "            )\n",
              "            (output): ESMOutLayer(\n",
              "              (dense): Linear(in_features=640, out_features=640, bias=True)\n",
              "              (dropout): Dropout(p=0.0, inplace=False)\n",
              "            )\n",
              "            (LayerNorm): LayerNorm((640,), eps=1e-05, elementwise_affine=True)\n",
              "          )\n",
              "          (intermediate): ESMIntermediateLayer(\n",
              "            (dense): Linear(in_features=640, out_features=2560, bias=True)\n",
              "            (act): GELU(approximate='tanh')\n",
              "          )\n",
              "          (output): ESMOutLayer(\n",
              "            (dense): Linear(in_features=2560, out_features=640, bias=True)\n",
              "            (dropout): Dropout(p=0.0, inplace=False)\n",
              "          )\n",
              "          (LayerNorm): LayerNorm((640,), eps=1e-05, elementwise_affine=True)\n",
              "        )\n",
              "      )\n",
              "      (emb_layer_norm_after): LayerNorm((640,), eps=1e-05, elementwise_affine=True)\n",
              "    )\n",
              "    (final_layer): Linear(in_features=640, out_features=384, bias=True)\n",
              "  )\n",
              ")"
            ]
          },
          "metadata": {},
          "execution_count": 15
        }
      ]
    },
    {
      "cell_type": "code",
      "source": [
        "# LoRA Verification\n",
        "layer = LoRALinear(640, 640, lora_config)\n",
        "lin = nn.Linear(640, 640)\n",
        "layer.weight = lin.weight\n",
        "layer.bias = lin.bias\n",
        "\n",
        "data = torch.randn(2, 10, 640)\n",
        "out = layer(data)\n",
        "out1 = lin(data)\n",
        "assert torch.equal(out, out1)"
      ],
      "metadata": {
        "id": "UEIZ1sIa2avd"
      },
      "execution_count": 16,
      "outputs": []
    },
    {
      "cell_type": "markdown",
      "source": [
        "# Training"
      ],
      "metadata": {
        "id": "ycrl_LMbB8kV"
      }
    },
    {
      "cell_type": "code",
      "source": [
        "# https://github.com/karpathy/build-nanogpt/blob/master/train_gpt2.py\n",
        "\n",
        "# Read and incorprate"
      ],
      "metadata": {
        "id": "_644D376Ergm"
      },
      "execution_count": null,
      "outputs": []
    },
    {
      "cell_type": "code",
      "source": [
        "model = ESM.from_pretrained(LoRAConfig(lora_r = 32, lora_key = True, lora_mlp = True, lora_projection = True, lora_alpha = 16), 'esm2_t30_150M_UR50D')\n",
        "device = torch.device('cuda' if torch.cuda.is_available() else 'cpu')\n",
        "model = model.to(device)"
      ],
      "metadata": {
        "id": "ubcB5KEMe6vS"
      },
      "execution_count": null,
      "outputs": []
    },
    {
      "cell_type": "code",
      "source": [
        "# Training\n",
        "\n",
        "from torch.optim import AdamW\n",
        "\n",
        "sequences = ds['train']['text']\n",
        "train_seqs, valid_seqs = train_test_split(sequences, test_size = 0.05, shuffle = True)\n",
        "train_ds, valid_ds = ProtDS(train_seqs), ProtDS(valid_seqs)\n",
        "\n",
        "tokens_for_grad_update = 10000\n",
        "epochs = 2\n",
        "batch_size = 8\n",
        "grad_accum_steps = 10\n",
        "\n",
        "train_dl = DataLoader(train_ds, batch_size= batch_size, collate_fn = seq_collate_fn)\n",
        "valid_dl = DataLoader(valid_ds, batch_size= batch_size, collate_fn = seq_collate_fn)\n",
        "iterations = epochs * len(train_dl) + 5\n",
        "\n",
        "opt = AdamW(model.parameters(), lr = 3e-04, betas = (0.9, 0.95), eps = 1e-05)\n",
        "lr_scheduler = torch.optim.lr_scheduler.OneCycleLR(opt, max_lr = 6e-04, total_steps = iterations, final_div_factor=10.0)\n",
        "\n",
        "steps_processed_after_gradstep = 0\n",
        "loss = None\n",
        "losses = []\n",
        "for i in range(epochs):\n",
        "    for iter, batch in enumerate(train_dl):\n",
        "\n",
        "        outputs = model(batch['input_ids'].to(device), y = batch['labels'].to(device), attention_mask = batch['attention_mask'].to(device))\n",
        "\n",
        "        losses.append(outputs['loss'].item())\n",
        "\n",
        "        outputs['loss'] = outputs['loss']/grad_accum_steps\n",
        "        outputs['loss'].backward()\n",
        "        steps_processed_after_gradstep += 1\n",
        "\n",
        "        if steps_processed_after_gradstep == grad_accum_steps:\n",
        "            # Do a backward pass and optimizer step\n",
        "            norm = torch.nn.utils.clip_grad_norm_(model.parameters(), 1.0)\n",
        "            opt.step()\n",
        "            lr_scheduler.step()\n",
        "\n",
        "            steps_processed_after_gradstep = 0\n",
        "            print(f\"Train Loss: {losses[-1]}\")\n",
        "\n",
        "\n",
        "    with torch.no_grad():\n",
        "        # Do a validation pass for 20 epochs and calculate loss\n",
        "        vl_loss = None\n",
        "        for vl_batch in valid_dl:\n",
        "            outputs = model(vl_batch['input_ids'].to(device), y = vl_batch['labels'].to(device), attention_mask = vl_batch['attention_mask'].to(device))\n",
        "\n",
        "            if vl_loss is not None: vl_loss += outputs['loss']\n",
        "            else: vl_loss = outputs['loss']\n",
        "        print(f'Validation Loss: {vl_loss.item()//len(valid_dl)}')"
      ],
      "metadata": {
        "id": "anyhNPYiCm3a"
      },
      "execution_count": null,
      "outputs": []
    },
    {
      "cell_type": "code",
      "source": [
        "torch.save(model, './model_finetune_v1.pt')"
      ],
      "metadata": {
        "id": "xBp1KRZhGM3e"
      },
      "execution_count": 6,
      "outputs": []
    },
    {
      "cell_type": "code",
      "source": [
        "len(losses)"
      ],
      "metadata": {
        "colab": {
          "base_uri": "https://localhost:8080/"
        },
        "id": "oltSQ4yxv5MP",
        "outputId": "4cc71720-ea1b-4cc2-a464-325344be2b09"
      },
      "execution_count": 7,
      "outputs": [
        {
          "output_type": "execute_result",
          "data": {
            "text/plain": [
              "1154"
            ]
          },
          "metadata": {},
          "execution_count": 7
        }
      ]
    },
    {
      "cell_type": "code",
      "source": [
        "import json\n",
        "with open('losses.json', 'w') as f:\n",
        "    json.dump(losses, f)"
      ],
      "metadata": {
        "id": "PphjGjyTv6eN"
      },
      "execution_count": 10,
      "outputs": []
    },
    {
      "cell_type": "code",
      "source": [
        "import numpy as np\n",
        "vl_losses = []\n",
        "total_iters = len(valid_dl)\n",
        "with torch.no_grad():\n",
        "    # Do a validation pass for 20 epochs and calculate loss\n",
        "    for ite, vl_batch in enumerate(valid_dl):\n",
        "        outputs = model(vl_batch['input_ids'].to(device), y = vl_batch['labels'].to(device), attention_mask = vl_batch['attention_mask'].to(device))\n",
        "        vl_losses.append(outputs['loss'].item())\n",
        "        progress = ((ite + 1) / total_iters) * 100\n",
        "        print(f\"\\rProgress: {progress:.2f}%, loss: {vl_losses[-1]:.6f}\", end='')\n",
        "\n",
        "    print(f'Validation Loss: {np.mean(vl_losses)}')"
      ],
      "metadata": {
        "id": "FeIAb2YdwDyY"
      },
      "execution_count": null,
      "outputs": []
    },
    {
      "cell_type": "code",
      "source": [
        "print(f'Validation Loss: {np.mean(vl_losses)}')"
      ],
      "metadata": {
        "colab": {
          "base_uri": "https://localhost:8080/"
        },
        "id": "z6e3NMUR0yCO",
        "outputId": "f0266ad1-4324-440f-b396-56a7135c2a0d"
      },
      "execution_count": 14,
      "outputs": [
        {
          "output_type": "stream",
          "name": "stdout",
          "text": [
            "Validation Loss: 0.0027819751310439694\n"
          ]
        }
      ]
    },
    {
      "cell_type": "code",
      "source": [
        "with open('vl_losses.json', 'w') as f:\n",
        "    json.dump(vl_losses, f)"
      ],
      "metadata": {
        "id": "DrLQZBhUxLEO"
      },
      "execution_count": 16,
      "outputs": []
    },
    {
      "cell_type": "code",
      "source": [],
      "metadata": {
        "id": "dmSf7qN9xzQU"
      },
      "execution_count": null,
      "outputs": []
    }
  ]
}